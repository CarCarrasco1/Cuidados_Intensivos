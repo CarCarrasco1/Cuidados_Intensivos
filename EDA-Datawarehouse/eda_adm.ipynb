{
 "cells": [
  {
   "attachments": {},
   "cell_type": "markdown",
   "metadata": {},
   "source": [
    "# EDA ADMINISTRATIVO"
   ]
  },
  {
   "attachments": {},
   "cell_type": "markdown",
   "metadata": {},
   "source": [
    "## Conexión a MySQL & creación de DataFrames."
   ]
  },
  {
   "cell_type": "code",
   "execution_count": 127,
   "metadata": {},
   "outputs": [],
   "source": [
    "#Importo las librerías a usar de momento.\n",
    "\n",
    "import pymysql.cursors\n",
    "import pandas as pd\n",
    "import seaborn as sns\n",
    "import matplotlib.pyplot as plt \n",
    "import pymysql\n",
    "\n",
    "\n",
    "%matplotlib inline\n",
    "sns.set_theme(style=\"darkgrid\")"
   ]
  },
  {
   "attachments": {},
   "cell_type": "markdown",
   "metadata": {},
   "source": [
    "CONEXIONES"
   ]
  },
  {
   "cell_type": "code",
   "execution_count": 128,
   "metadata": {},
   "outputs": [
    {
     "name": "stderr",
     "output_type": "stream",
     "text": [
      "/opt/anaconda3/lib/python3.9/site-packages/pandas/io/sql.py:762: UserWarning: pandas only support SQLAlchemy connectable(engine/connection) ordatabase string URI or sqlite3 DBAPI2 connectionother DBAPI2 objects are not tested, please consider using SQLAlchemy\n",
      "  warnings.warn(\n"
     ]
    },
    {
     "data": {
      "text/html": [
       "<div>\n",
       "<style scoped>\n",
       "    .dataframe tbody tr th:only-of-type {\n",
       "        vertical-align: middle;\n",
       "    }\n",
       "\n",
       "    .dataframe tbody tr th {\n",
       "        vertical-align: top;\n",
       "    }\n",
       "\n",
       "    .dataframe thead th {\n",
       "        text-align: right;\n",
       "    }\n",
       "</style>\n",
       "<table border=\"1\" class=\"dataframe\">\n",
       "  <thead>\n",
       "    <tr style=\"text-align: right;\">\n",
       "      <th></th>\n",
       "      <th>row_id</th>\n",
       "      <th>subject_id</th>\n",
       "      <th>hadm_id</th>\n",
       "      <th>admittime</th>\n",
       "      <th>dischtime</th>\n",
       "      <th>deathtime</th>\n",
       "      <th>admission_type</th>\n",
       "      <th>admission_location</th>\n",
       "      <th>discharge_location</th>\n",
       "      <th>insurance</th>\n",
       "      <th>language</th>\n",
       "      <th>religion</th>\n",
       "      <th>marital_status</th>\n",
       "      <th>ethnicity</th>\n",
       "      <th>edregtime</th>\n",
       "      <th>edouttime</th>\n",
       "      <th>diagnosis</th>\n",
       "      <th>hospital_expire_flag</th>\n",
       "      <th>has_chartevents_data</th>\n",
       "    </tr>\n",
       "  </thead>\n",
       "  <tbody>\n",
       "    <tr>\n",
       "      <th>0</th>\n",
       "      <td>12258</td>\n",
       "      <td>10006</td>\n",
       "      <td>142345</td>\n",
       "      <td>2164-10-23 21:09:00</td>\n",
       "      <td>2164-11-01 17:15:00</td>\n",
       "      <td>1900-01-01 00:00:00</td>\n",
       "      <td>EMERGENCY</td>\n",
       "      <td>EMERGENCY ROOM ADMIT</td>\n",
       "      <td>HOME HEALTH CARE</td>\n",
       "      <td>Medicare</td>\n",
       "      <td></td>\n",
       "      <td>CATHOLIC</td>\n",
       "      <td>SEPARATED</td>\n",
       "      <td>BLACK/AFRICAN AMERICAN</td>\n",
       "      <td>2164-10-23 16:43:00</td>\n",
       "      <td>2164-10-23 23:00:00</td>\n",
       "      <td>SEPSIS</td>\n",
       "      <td>0</td>\n",
       "      <td>1</td>\n",
       "    </tr>\n",
       "    <tr>\n",
       "      <th>1</th>\n",
       "      <td>12263</td>\n",
       "      <td>10011</td>\n",
       "      <td>105331</td>\n",
       "      <td>2126-08-14 22:32:00</td>\n",
       "      <td>2126-08-28 18:59:00</td>\n",
       "      <td>2126-08-28 18:59:00</td>\n",
       "      <td>EMERGENCY</td>\n",
       "      <td>TRANSFER FROM HOSP/EXTRAM</td>\n",
       "      <td>DEAD/EXPIRED</td>\n",
       "      <td>Private</td>\n",
       "      <td></td>\n",
       "      <td>CATHOLIC</td>\n",
       "      <td>SINGLE</td>\n",
       "      <td>UNKNOWN/NOT SPECIFIED</td>\n",
       "      <td>1900-01-01 00:00:00</td>\n",
       "      <td>1900-01-01 00:00:00</td>\n",
       "      <td>HEPATITIS B</td>\n",
       "      <td>1</td>\n",
       "      <td>1</td>\n",
       "    </tr>\n",
       "    <tr>\n",
       "      <th>2</th>\n",
       "      <td>12265</td>\n",
       "      <td>10013</td>\n",
       "      <td>165520</td>\n",
       "      <td>2125-10-04 23:36:00</td>\n",
       "      <td>2125-10-07 15:13:00</td>\n",
       "      <td>2125-10-07 15:13:00</td>\n",
       "      <td>EMERGENCY</td>\n",
       "      <td>TRANSFER FROM HOSP/EXTRAM</td>\n",
       "      <td>DEAD/EXPIRED</td>\n",
       "      <td>Medicare</td>\n",
       "      <td></td>\n",
       "      <td>CATHOLIC</td>\n",
       "      <td></td>\n",
       "      <td>UNKNOWN/NOT SPECIFIED</td>\n",
       "      <td>1900-01-01 00:00:00</td>\n",
       "      <td>1900-01-01 00:00:00</td>\n",
       "      <td>SEPSIS</td>\n",
       "      <td>1</td>\n",
       "      <td>1</td>\n",
       "    </tr>\n",
       "    <tr>\n",
       "      <th>3</th>\n",
       "      <td>12269</td>\n",
       "      <td>10017</td>\n",
       "      <td>199207</td>\n",
       "      <td>2149-05-26 17:19:00</td>\n",
       "      <td>2149-06-03 18:42:00</td>\n",
       "      <td>1900-01-01 00:00:00</td>\n",
       "      <td>EMERGENCY</td>\n",
       "      <td>EMERGENCY ROOM ADMIT</td>\n",
       "      <td>SNF</td>\n",
       "      <td>Medicare</td>\n",
       "      <td></td>\n",
       "      <td>CATHOLIC</td>\n",
       "      <td>DIVORCED</td>\n",
       "      <td>WHITE</td>\n",
       "      <td>2149-05-26 12:08:00</td>\n",
       "      <td>2149-05-26 19:45:00</td>\n",
       "      <td>HUMERAL FRACTURE</td>\n",
       "      <td>0</td>\n",
       "      <td>1</td>\n",
       "    </tr>\n",
       "    <tr>\n",
       "      <th>4</th>\n",
       "      <td>12270</td>\n",
       "      <td>10019</td>\n",
       "      <td>177759</td>\n",
       "      <td>2163-05-14 20:43:00</td>\n",
       "      <td>2163-05-15 12:00:00</td>\n",
       "      <td>2163-05-15 12:00:00</td>\n",
       "      <td>EMERGENCY</td>\n",
       "      <td>TRANSFER FROM HOSP/EXTRAM</td>\n",
       "      <td>DEAD/EXPIRED</td>\n",
       "      <td>Medicare</td>\n",
       "      <td></td>\n",
       "      <td>CATHOLIC</td>\n",
       "      <td>DIVORCED</td>\n",
       "      <td>WHITE</td>\n",
       "      <td>1900-01-01 00:00:00</td>\n",
       "      <td>1900-01-01 00:00:00</td>\n",
       "      <td>ALCOHOLIC HEPATITIS</td>\n",
       "      <td>1</td>\n",
       "      <td>1</td>\n",
       "    </tr>\n",
       "  </tbody>\n",
       "</table>\n",
       "</div>"
      ],
      "text/plain": [
       "   row_id  subject_id  hadm_id           admittime           dischtime  \\\n",
       "0   12258       10006   142345 2164-10-23 21:09:00 2164-11-01 17:15:00   \n",
       "1   12263       10011   105331 2126-08-14 22:32:00 2126-08-28 18:59:00   \n",
       "2   12265       10013   165520 2125-10-04 23:36:00 2125-10-07 15:13:00   \n",
       "3   12269       10017   199207 2149-05-26 17:19:00 2149-06-03 18:42:00   \n",
       "4   12270       10019   177759 2163-05-14 20:43:00 2163-05-15 12:00:00   \n",
       "\n",
       "            deathtime admission_type         admission_location  \\\n",
       "0 1900-01-01 00:00:00      EMERGENCY       EMERGENCY ROOM ADMIT   \n",
       "1 2126-08-28 18:59:00      EMERGENCY  TRANSFER FROM HOSP/EXTRAM   \n",
       "2 2125-10-07 15:13:00      EMERGENCY  TRANSFER FROM HOSP/EXTRAM   \n",
       "3 1900-01-01 00:00:00      EMERGENCY       EMERGENCY ROOM ADMIT   \n",
       "4 2163-05-15 12:00:00      EMERGENCY  TRANSFER FROM HOSP/EXTRAM   \n",
       "\n",
       "  discharge_location insurance language  religion marital_status  \\\n",
       "0   HOME HEALTH CARE  Medicare           CATHOLIC      SEPARATED   \n",
       "1       DEAD/EXPIRED   Private           CATHOLIC         SINGLE   \n",
       "2       DEAD/EXPIRED  Medicare           CATHOLIC                  \n",
       "3                SNF  Medicare           CATHOLIC       DIVORCED   \n",
       "4       DEAD/EXPIRED  Medicare           CATHOLIC       DIVORCED   \n",
       "\n",
       "                ethnicity           edregtime           edouttime  \\\n",
       "0  BLACK/AFRICAN AMERICAN 2164-10-23 16:43:00 2164-10-23 23:00:00   \n",
       "1   UNKNOWN/NOT SPECIFIED 1900-01-01 00:00:00 1900-01-01 00:00:00   \n",
       "2   UNKNOWN/NOT SPECIFIED 1900-01-01 00:00:00 1900-01-01 00:00:00   \n",
       "3                   WHITE 2149-05-26 12:08:00 2149-05-26 19:45:00   \n",
       "4                   WHITE 1900-01-01 00:00:00 1900-01-01 00:00:00   \n",
       "\n",
       "             diagnosis  hospital_expire_flag  has_chartevents_data  \n",
       "0               SEPSIS                     0                     1  \n",
       "1          HEPATITIS B                     1                     1  \n",
       "2               SEPSIS                     1                     1  \n",
       "3     HUMERAL FRACTURE                     0                     1  \n",
       "4  ALCOHOLIC HEPATITIS                     1                     1  "
      ]
     },
     "execution_count": 128,
     "metadata": {},
     "output_type": "execute_result"
    }
   ],
   "source": [
    "\n",
    "# Conexión a mi base de datos\n",
    "connection = pymysql.connect(\n",
    "    host='127.0.0.1',\n",
    "    user='root',\n",
    "    password='carla123',\n",
    "    db='datawarehouse',\n",
    "    charset='utf8mb4',\n",
    "    cursorclass=pymysql.cursors.DictCursor\n",
    ")\n",
    "\n",
    "# Consulta SQL\n",
    "sql = 'SELECT * FROM admissions'\n",
    "\n",
    "# Creo un dataframe a partir de los datos de la tabla\n",
    "admissions= pd.read_sql(sql, connection)\n",
    "\n",
    "# Cierro la conexión\n",
    "connection.close()\n",
    "\n",
    "#Muestro mi dataframe\n",
    "admissions.head()"
   ]
  },
  {
   "cell_type": "code",
   "execution_count": 129,
   "metadata": {},
   "outputs": [
    {
     "name": "stderr",
     "output_type": "stream",
     "text": [
      "/opt/anaconda3/lib/python3.9/site-packages/pandas/io/sql.py:762: UserWarning: pandas only support SQLAlchemy connectable(engine/connection) ordatabase string URI or sqlite3 DBAPI2 connectionother DBAPI2 objects are not tested, please consider using SQLAlchemy\n",
      "  warnings.warn(\n"
     ]
    },
    {
     "data": {
      "text/html": [
       "<div>\n",
       "<style scoped>\n",
       "    .dataframe tbody tr th:only-of-type {\n",
       "        vertical-align: middle;\n",
       "    }\n",
       "\n",
       "    .dataframe tbody tr th {\n",
       "        vertical-align: top;\n",
       "    }\n",
       "\n",
       "    .dataframe thead th {\n",
       "        text-align: right;\n",
       "    }\n",
       "</style>\n",
       "<table border=\"1\" class=\"dataframe\">\n",
       "  <thead>\n",
       "    <tr style=\"text-align: right;\">\n",
       "      <th></th>\n",
       "      <th>row_id</th>\n",
       "      <th>SUBJECT_ID</th>\n",
       "      <th>HADM_ID</th>\n",
       "      <th>icustay_id</th>\n",
       "      <th>ITEMID</th>\n",
       "      <th>CHARTTIME</th>\n",
       "      <th>STORETIME</th>\n",
       "      <th>CGID</th>\n",
       "      <th>VALUE</th>\n",
       "      <th>VALUENUM</th>\n",
       "      <th>VALUEUOM</th>\n",
       "      <th>warning</th>\n",
       "      <th>ERROR</th>\n",
       "      <th>RESULTSTATUS</th>\n",
       "      <th>STOPPED</th>\n",
       "    </tr>\n",
       "  </thead>\n",
       "  <tbody>\n",
       "    <tr>\n",
       "      <th>0</th>\n",
       "      <td>203540481</td>\n",
       "      <td>10006</td>\n",
       "      <td>142345</td>\n",
       "      <td>206504</td>\n",
       "      <td>455</td>\n",
       "      <td>2164-10-23 22:40:00</td>\n",
       "      <td>2164-10-23 22:52:00</td>\n",
       "      <td>21198</td>\n",
       "      <td>91</td>\n",
       "      <td>91.0</td>\n",
       "      <td>mmHg</td>\n",
       "      <td>2222</td>\n",
       "      <td>2222</td>\n",
       "      <td>nan</td>\n",
       "      <td>NotStopd</td>\n",
       "    </tr>\n",
       "    <tr>\n",
       "      <th>1</th>\n",
       "      <td>203540482</td>\n",
       "      <td>10006</td>\n",
       "      <td>142345</td>\n",
       "      <td>206504</td>\n",
       "      <td>5815</td>\n",
       "      <td>2164-10-23 22:40:00</td>\n",
       "      <td>2164-10-23 22:50:00</td>\n",
       "      <td>19150</td>\n",
       "      <td>50</td>\n",
       "      <td>50.0</td>\n",
       "      <td>BPM</td>\n",
       "      <td>2222</td>\n",
       "      <td>2222</td>\n",
       "      <td>nan</td>\n",
       "      <td>NotStopd</td>\n",
       "    </tr>\n",
       "    <tr>\n",
       "      <th>2</th>\n",
       "      <td>203540483</td>\n",
       "      <td>10006</td>\n",
       "      <td>142345</td>\n",
       "      <td>206504</td>\n",
       "      <td>5817</td>\n",
       "      <td>2164-10-23 22:40:00</td>\n",
       "      <td>2164-10-23 22:50:00</td>\n",
       "      <td>19150</td>\n",
       "      <td>90</td>\n",
       "      <td>90.0</td>\n",
       "      <td>mmHg</td>\n",
       "      <td>2222</td>\n",
       "      <td>2222</td>\n",
       "      <td>nan</td>\n",
       "      <td>NotStopd</td>\n",
       "    </tr>\n",
       "    <tr>\n",
       "      <th>3</th>\n",
       "      <td>203540484</td>\n",
       "      <td>10006</td>\n",
       "      <td>142345</td>\n",
       "      <td>206504</td>\n",
       "      <td>5819</td>\n",
       "      <td>2164-10-23 22:40:00</td>\n",
       "      <td>2164-10-23 22:50:00</td>\n",
       "      <td>19150</td>\n",
       "      <td>8</td>\n",
       "      <td>8.0</td>\n",
       "      <td>BPM</td>\n",
       "      <td>2222</td>\n",
       "      <td>2222</td>\n",
       "      <td>nan</td>\n",
       "      <td>NotStopd</td>\n",
       "    </tr>\n",
       "    <tr>\n",
       "      <th>4</th>\n",
       "      <td>203540485</td>\n",
       "      <td>10006</td>\n",
       "      <td>142345</td>\n",
       "      <td>206504</td>\n",
       "      <td>5820</td>\n",
       "      <td>2164-10-23 22:40:00</td>\n",
       "      <td>2164-10-23 22:50:00</td>\n",
       "      <td>19150</td>\n",
       "      <td>90</td>\n",
       "      <td>90.0</td>\n",
       "      <td></td>\n",
       "      <td>2222</td>\n",
       "      <td>2222</td>\n",
       "      <td>nan</td>\n",
       "      <td>NotStopd</td>\n",
       "    </tr>\n",
       "  </tbody>\n",
       "</table>\n",
       "</div>"
      ],
      "text/plain": [
       "      row_id  SUBJECT_ID  HADM_ID  icustay_id  ITEMID           CHARTTIME  \\\n",
       "0  203540481       10006   142345      206504     455 2164-10-23 22:40:00   \n",
       "1  203540482       10006   142345      206504    5815 2164-10-23 22:40:00   \n",
       "2  203540483       10006   142345      206504    5817 2164-10-23 22:40:00   \n",
       "3  203540484       10006   142345      206504    5819 2164-10-23 22:40:00   \n",
       "4  203540485       10006   142345      206504    5820 2164-10-23 22:40:00   \n",
       "\n",
       "            STORETIME   CGID VALUE  VALUENUM VALUEUOM warning  ERROR  \\\n",
       "0 2164-10-23 22:52:00  21198    91      91.0     mmHg    2222   2222   \n",
       "1 2164-10-23 22:50:00  19150    50      50.0      BPM    2222   2222   \n",
       "2 2164-10-23 22:50:00  19150    90      90.0     mmHg    2222   2222   \n",
       "3 2164-10-23 22:50:00  19150     8       8.0      BPM    2222   2222   \n",
       "4 2164-10-23 22:50:00  19150    90      90.0             2222   2222   \n",
       "\n",
       "  RESULTSTATUS   STOPPED  \n",
       "0          nan  NotStopd  \n",
       "1          nan  NotStopd  \n",
       "2          nan  NotStopd  \n",
       "3          nan  NotStopd  \n",
       "4          nan  NotStopd  "
      ]
     },
     "execution_count": 129,
     "metadata": {},
     "output_type": "execute_result"
    }
   ],
   "source": [
    "# Conexión a mi base de datos\n",
    "connection = pymysql.connect(\n",
    "    host='127.0.0.1',\n",
    "    user='root',\n",
    "    password='carla123',\n",
    "    db='datawarehouse',\n",
    "    charset='utf8mb4',\n",
    "    cursorclass=pymysql.cursors.DictCursor\n",
    ")\n",
    "\n",
    "# Consulta SQL\n",
    "sql = 'SELECT * FROM chartevents'\n",
    "\n",
    "# Creo un dataframe a partir de los datos de la tabla\n",
    "chartevents= pd.read_sql(sql, connection)\n",
    "\n",
    "# Cierro la conexión\n",
    "connection.close()\n",
    "\n",
    "#Muestro mi dataframe\n",
    "chartevents.head()"
   ]
  },
  {
   "cell_type": "code",
   "execution_count": 130,
   "metadata": {},
   "outputs": [
    {
     "name": "stderr",
     "output_type": "stream",
     "text": [
      "/opt/anaconda3/lib/python3.9/site-packages/pandas/io/sql.py:762: UserWarning: pandas only support SQLAlchemy connectable(engine/connection) ordatabase string URI or sqlite3 DBAPI2 connectionother DBAPI2 objects are not tested, please consider using SQLAlchemy\n",
      "  warnings.warn(\n"
     ]
    },
    {
     "data": {
      "text/html": [
       "<div>\n",
       "<style scoped>\n",
       "    .dataframe tbody tr th:only-of-type {\n",
       "        vertical-align: middle;\n",
       "    }\n",
       "\n",
       "    .dataframe tbody tr th {\n",
       "        vertical-align: top;\n",
       "    }\n",
       "\n",
       "    .dataframe thead th {\n",
       "        text-align: right;\n",
       "    }\n",
       "</style>\n",
       "<table border=\"1\" class=\"dataframe\">\n",
       "  <thead>\n",
       "    <tr style=\"text-align: right;\">\n",
       "      <th></th>\n",
       "      <th>row_id</th>\n",
       "      <th>SUBJECT_ID</th>\n",
       "      <th>HADM_ID</th>\n",
       "      <th>seq_num</th>\n",
       "      <th>ICD9_CODE</th>\n",
       "    </tr>\n",
       "  </thead>\n",
       "  <tbody>\n",
       "    <tr>\n",
       "      <th>0</th>\n",
       "      <td>112344</td>\n",
       "      <td>10006</td>\n",
       "      <td>142345</td>\n",
       "      <td>1</td>\n",
       "      <td>99591</td>\n",
       "    </tr>\n",
       "    <tr>\n",
       "      <th>1</th>\n",
       "      <td>112345</td>\n",
       "      <td>10006</td>\n",
       "      <td>142345</td>\n",
       "      <td>2</td>\n",
       "      <td>99662</td>\n",
       "    </tr>\n",
       "    <tr>\n",
       "      <th>2</th>\n",
       "      <td>112346</td>\n",
       "      <td>10006</td>\n",
       "      <td>142345</td>\n",
       "      <td>3</td>\n",
       "      <td>5672</td>\n",
       "    </tr>\n",
       "    <tr>\n",
       "      <th>3</th>\n",
       "      <td>112347</td>\n",
       "      <td>10006</td>\n",
       "      <td>142345</td>\n",
       "      <td>4</td>\n",
       "      <td>40391</td>\n",
       "    </tr>\n",
       "    <tr>\n",
       "      <th>4</th>\n",
       "      <td>112348</td>\n",
       "      <td>10006</td>\n",
       "      <td>142345</td>\n",
       "      <td>5</td>\n",
       "      <td>42731</td>\n",
       "    </tr>\n",
       "  </tbody>\n",
       "</table>\n",
       "</div>"
      ],
      "text/plain": [
       "   row_id  SUBJECT_ID  HADM_ID  seq_num ICD9_CODE\n",
       "0  112344       10006   142345        1     99591\n",
       "1  112345       10006   142345        2     99662\n",
       "2  112346       10006   142345        3      5672\n",
       "3  112347       10006   142345        4     40391\n",
       "4  112348       10006   142345        5     42731"
      ]
     },
     "execution_count": 130,
     "metadata": {},
     "output_type": "execute_result"
    }
   ],
   "source": [
    "# Conexión a mi base de datos\n",
    "connection = pymysql.connect(\n",
    "    host='127.0.0.1',\n",
    "    user='root',\n",
    "    password='carla123',\n",
    "    db='datawarehouse',\n",
    "    charset='utf8mb4',\n",
    "    cursorclass=pymysql.cursors.DictCursor\n",
    ")\n",
    "\n",
    "# Consulta SQL\n",
    "sql = 'SELECT * FROM diagnoses_icd'\n",
    "\n",
    "# Creo un dataframe a partir de los datos de la tabla\n",
    "diagnoses_icd= pd.read_sql(sql, connection)\n",
    "\n",
    "# Cierro la conexión\n",
    "connection.close()\n",
    "\n",
    "#Muestro mi dataframe\n",
    "diagnoses_icd.head()"
   ]
  },
  {
   "cell_type": "code",
   "execution_count": 131,
   "metadata": {},
   "outputs": [
    {
     "name": "stderr",
     "output_type": "stream",
     "text": [
      "/opt/anaconda3/lib/python3.9/site-packages/pandas/io/sql.py:762: UserWarning: pandas only support SQLAlchemy connectable(engine/connection) ordatabase string URI or sqlite3 DBAPI2 connectionother DBAPI2 objects are not tested, please consider using SQLAlchemy\n",
      "  warnings.warn(\n"
     ]
    },
    {
     "data": {
      "text/html": [
       "<div>\n",
       "<style scoped>\n",
       "    .dataframe tbody tr th:only-of-type {\n",
       "        vertical-align: middle;\n",
       "    }\n",
       "\n",
       "    .dataframe tbody tr th {\n",
       "        vertical-align: top;\n",
       "    }\n",
       "\n",
       "    .dataframe thead th {\n",
       "        text-align: right;\n",
       "    }\n",
       "</style>\n",
       "<table border=\"1\" class=\"dataframe\">\n",
       "  <thead>\n",
       "    <tr style=\"text-align: right;\">\n",
       "      <th></th>\n",
       "      <th>row_id</th>\n",
       "      <th>SUBJECT_ID</th>\n",
       "      <th>HADM_ID</th>\n",
       "      <th>ICUSTAY_ID</th>\n",
       "      <th>DBSOURCE</th>\n",
       "      <th>FIRST_CAREUNIT</th>\n",
       "      <th>LAST_CAREUNIT</th>\n",
       "      <th>FIRST_WARDID</th>\n",
       "      <th>LAST_WARDID</th>\n",
       "      <th>INTIME</th>\n",
       "      <th>OUTTIME</th>\n",
       "      <th>LOS</th>\n",
       "    </tr>\n",
       "  </thead>\n",
       "  <tbody>\n",
       "    <tr>\n",
       "      <th>0</th>\n",
       "      <td>12742</td>\n",
       "      <td>10006</td>\n",
       "      <td>142345</td>\n",
       "      <td>206504</td>\n",
       "      <td>carevue</td>\n",
       "      <td>MICU</td>\n",
       "      <td>MICU</td>\n",
       "      <td>52</td>\n",
       "      <td>52</td>\n",
       "      <td>2164-10-23 21:10:15</td>\n",
       "      <td>2164-10-25 12:21:07</td>\n",
       "      <td>1.6325</td>\n",
       "    </tr>\n",
       "    <tr>\n",
       "      <th>1</th>\n",
       "      <td>12747</td>\n",
       "      <td>10011</td>\n",
       "      <td>105331</td>\n",
       "      <td>232110</td>\n",
       "      <td>carevue</td>\n",
       "      <td>MICU</td>\n",
       "      <td>MICU</td>\n",
       "      <td>15</td>\n",
       "      <td>15</td>\n",
       "      <td>2126-08-14 22:34:00</td>\n",
       "      <td>2126-08-28 18:59:00</td>\n",
       "      <td>13.8507</td>\n",
       "    </tr>\n",
       "    <tr>\n",
       "      <th>2</th>\n",
       "      <td>12749</td>\n",
       "      <td>10013</td>\n",
       "      <td>165520</td>\n",
       "      <td>264446</td>\n",
       "      <td>carevue</td>\n",
       "      <td>MICU</td>\n",
       "      <td>MICU</td>\n",
       "      <td>15</td>\n",
       "      <td>15</td>\n",
       "      <td>2125-10-04 23:38:00</td>\n",
       "      <td>2125-10-07 15:13:52</td>\n",
       "      <td>2.6499</td>\n",
       "    </tr>\n",
       "    <tr>\n",
       "      <th>3</th>\n",
       "      <td>12754</td>\n",
       "      <td>10017</td>\n",
       "      <td>199207</td>\n",
       "      <td>204881</td>\n",
       "      <td>carevue</td>\n",
       "      <td>CCU</td>\n",
       "      <td>CCU</td>\n",
       "      <td>7</td>\n",
       "      <td>7</td>\n",
       "      <td>2149-05-29 18:52:29</td>\n",
       "      <td>2149-05-31 22:19:17</td>\n",
       "      <td>2.1436</td>\n",
       "    </tr>\n",
       "    <tr>\n",
       "      <th>4</th>\n",
       "      <td>12755</td>\n",
       "      <td>10019</td>\n",
       "      <td>177759</td>\n",
       "      <td>228977</td>\n",
       "      <td>carevue</td>\n",
       "      <td>MICU</td>\n",
       "      <td>MICU</td>\n",
       "      <td>15</td>\n",
       "      <td>15</td>\n",
       "      <td>2163-05-14 20:43:56</td>\n",
       "      <td>2163-05-16 03:47:04</td>\n",
       "      <td>1.2938</td>\n",
       "    </tr>\n",
       "  </tbody>\n",
       "</table>\n",
       "</div>"
      ],
      "text/plain": [
       "   row_id  SUBJECT_ID  HADM_ID  ICUSTAY_ID DBSOURCE FIRST_CAREUNIT  \\\n",
       "0   12742       10006   142345      206504  carevue           MICU   \n",
       "1   12747       10011   105331      232110  carevue           MICU   \n",
       "2   12749       10013   165520      264446  carevue           MICU   \n",
       "3   12754       10017   199207      204881  carevue            CCU   \n",
       "4   12755       10019   177759      228977  carevue           MICU   \n",
       "\n",
       "  LAST_CAREUNIT  FIRST_WARDID  LAST_WARDID              INTIME  \\\n",
       "0          MICU            52           52 2164-10-23 21:10:15   \n",
       "1          MICU            15           15 2126-08-14 22:34:00   \n",
       "2          MICU            15           15 2125-10-04 23:38:00   \n",
       "3           CCU             7            7 2149-05-29 18:52:29   \n",
       "4          MICU            15           15 2163-05-14 20:43:56   \n",
       "\n",
       "              OUTTIME      LOS  \n",
       "0 2164-10-25 12:21:07   1.6325  \n",
       "1 2126-08-28 18:59:00  13.8507  \n",
       "2 2125-10-07 15:13:52   2.6499  \n",
       "3 2149-05-31 22:19:17   2.1436  \n",
       "4 2163-05-16 03:47:04   1.2938  "
      ]
     },
     "execution_count": 131,
     "metadata": {},
     "output_type": "execute_result"
    }
   ],
   "source": [
    "# Conexión a mi base de datos\n",
    "connection = pymysql.connect(\n",
    "    host='127.0.0.1',\n",
    "    user='root',\n",
    "    password='carla123',\n",
    "    db='datawarehouse',\n",
    "    charset='utf8mb4',\n",
    "    cursorclass=pymysql.cursors.DictCursor\n",
    ")\n",
    "\n",
    "# Consulta SQL\n",
    "sql = 'SELECT * FROM icustays'\n",
    "\n",
    "# Creo un dataframe a partir de los datos de la tabla\n",
    "icustays= pd.read_sql(sql, connection)\n",
    "\n",
    "# Cierro la conexión\n",
    "connection.close()\n",
    "\n",
    "#Muestro mi dataframe\n",
    "icustays.head()"
   ]
  },
  {
   "cell_type": "code",
   "execution_count": 132,
   "metadata": {},
   "outputs": [
    {
     "name": "stderr",
     "output_type": "stream",
     "text": [
      "/opt/anaconda3/lib/python3.9/site-packages/pandas/io/sql.py:762: UserWarning: pandas only support SQLAlchemy connectable(engine/connection) ordatabase string URI or sqlite3 DBAPI2 connectionother DBAPI2 objects are not tested, please consider using SQLAlchemy\n",
      "  warnings.warn(\n"
     ]
    },
    {
     "data": {
      "text/html": [
       "<div>\n",
       "<style scoped>\n",
       "    .dataframe tbody tr th:only-of-type {\n",
       "        vertical-align: middle;\n",
       "    }\n",
       "\n",
       "    .dataframe tbody tr th {\n",
       "        vertical-align: top;\n",
       "    }\n",
       "\n",
       "    .dataframe thead th {\n",
       "        text-align: right;\n",
       "    }\n",
       "</style>\n",
       "<table border=\"1\" class=\"dataframe\">\n",
       "  <thead>\n",
       "    <tr style=\"text-align: right;\">\n",
       "      <th></th>\n",
       "      <th>row_id</th>\n",
       "      <th>SUBJECT_ID</th>\n",
       "      <th>HADM_ID</th>\n",
       "      <th>ITEMID</th>\n",
       "      <th>CHARTTIME</th>\n",
       "      <th>VALUE</th>\n",
       "      <th>VALUENUM</th>\n",
       "      <th>VALUEUOM</th>\n",
       "      <th>FLAG</th>\n",
       "    </tr>\n",
       "  </thead>\n",
       "  <tbody>\n",
       "    <tr>\n",
       "      <th>0</th>\n",
       "      <td>19931749</td>\n",
       "      <td>40124</td>\n",
       "      <td>126179</td>\n",
       "      <td>50868</td>\n",
       "      <td>2130-02-04 00:35:00</td>\n",
       "      <td>20</td>\n",
       "      <td>20.0</td>\n",
       "      <td>mEqL</td>\n",
       "      <td>nan</td>\n",
       "    </tr>\n",
       "    <tr>\n",
       "      <th>1</th>\n",
       "      <td>19931750</td>\n",
       "      <td>40124</td>\n",
       "      <td>126179</td>\n",
       "      <td>50882</td>\n",
       "      <td>2130-02-04 00:35:00</td>\n",
       "      <td>24</td>\n",
       "      <td>24.0</td>\n",
       "      <td>mEqL</td>\n",
       "      <td>nan</td>\n",
       "    </tr>\n",
       "    <tr>\n",
       "      <th>2</th>\n",
       "      <td>19931751</td>\n",
       "      <td>40124</td>\n",
       "      <td>126179</td>\n",
       "      <td>50893</td>\n",
       "      <td>2130-02-04 00:35:00</td>\n",
       "      <td>88</td>\n",
       "      <td>8.8</td>\n",
       "      <td>mgdL</td>\n",
       "      <td>nan</td>\n",
       "    </tr>\n",
       "    <tr>\n",
       "      <th>3</th>\n",
       "      <td>19931752</td>\n",
       "      <td>40124</td>\n",
       "      <td>126179</td>\n",
       "      <td>50902</td>\n",
       "      <td>2130-02-04 00:35:00</td>\n",
       "      <td>101</td>\n",
       "      <td>101.0</td>\n",
       "      <td>mEqL</td>\n",
       "      <td>nan</td>\n",
       "    </tr>\n",
       "    <tr>\n",
       "      <th>4</th>\n",
       "      <td>19931753</td>\n",
       "      <td>40124</td>\n",
       "      <td>126179</td>\n",
       "      <td>50910</td>\n",
       "      <td>2130-02-04 00:35:00</td>\n",
       "      <td>129</td>\n",
       "      <td>129.0</td>\n",
       "      <td>IUL</td>\n",
       "      <td>nan</td>\n",
       "    </tr>\n",
       "  </tbody>\n",
       "</table>\n",
       "</div>"
      ],
      "text/plain": [
       "     row_id  SUBJECT_ID  HADM_ID  ITEMID           CHARTTIME VALUE  VALUENUM  \\\n",
       "0  19931749       40124   126179   50868 2130-02-04 00:35:00    20      20.0   \n",
       "1  19931750       40124   126179   50882 2130-02-04 00:35:00    24      24.0   \n",
       "2  19931751       40124   126179   50893 2130-02-04 00:35:00    88       8.8   \n",
       "3  19931752       40124   126179   50902 2130-02-04 00:35:00   101     101.0   \n",
       "4  19931753       40124   126179   50910 2130-02-04 00:35:00   129     129.0   \n",
       "\n",
       "  VALUEUOM FLAG  \n",
       "0     mEqL  nan  \n",
       "1     mEqL  nan  \n",
       "2     mgdL  nan  \n",
       "3     mEqL  nan  \n",
       "4      IUL  nan  "
      ]
     },
     "execution_count": 132,
     "metadata": {},
     "output_type": "execute_result"
    }
   ],
   "source": [
    "# Conexión a mi base de datos\n",
    "connection = pymysql.connect(\n",
    "    host='127.0.0.1',\n",
    "    user='root',\n",
    "    password='carla123',\n",
    "    db='datawarehouse',\n",
    "    charset='utf8mb4',\n",
    "    cursorclass=pymysql.cursors.DictCursor\n",
    ")\n",
    "\n",
    "# Consulta SQL\n",
    "sql = 'SELECT * FROM labevents'\n",
    "\n",
    "# Creo un dataframe a partir de los datos de la tabla\n",
    "labevents= pd.read_sql(sql, connection)\n",
    "\n",
    "# Cierro la conexión\n",
    "connection.close()\n",
    "\n",
    "#Muestro mi dataframe\n",
    "labevents.head()"
   ]
  },
  {
   "cell_type": "code",
   "execution_count": 133,
   "metadata": {},
   "outputs": [
    {
     "name": "stderr",
     "output_type": "stream",
     "text": [
      "/opt/anaconda3/lib/python3.9/site-packages/pandas/io/sql.py:762: UserWarning: pandas only support SQLAlchemy connectable(engine/connection) ordatabase string URI or sqlite3 DBAPI2 connectionother DBAPI2 objects are not tested, please consider using SQLAlchemy\n",
      "  warnings.warn(\n"
     ]
    },
    {
     "data": {
      "text/html": [
       "<div>\n",
       "<style scoped>\n",
       "    .dataframe tbody tr th:only-of-type {\n",
       "        vertical-align: middle;\n",
       "    }\n",
       "\n",
       "    .dataframe tbody tr th {\n",
       "        vertical-align: top;\n",
       "    }\n",
       "\n",
       "    .dataframe thead th {\n",
       "        text-align: right;\n",
       "    }\n",
       "</style>\n",
       "<table border=\"1\" class=\"dataframe\">\n",
       "  <thead>\n",
       "    <tr style=\"text-align: right;\">\n",
       "      <th></th>\n",
       "      <th>row_id</th>\n",
       "      <th>subject_id</th>\n",
       "      <th>gender</th>\n",
       "      <th>dob</th>\n",
       "      <th>dod</th>\n",
       "      <th>dod_hosp</th>\n",
       "      <th>dod_ssn</th>\n",
       "      <th>expire_flag</th>\n",
       "    </tr>\n",
       "  </thead>\n",
       "  <tbody>\n",
       "    <tr>\n",
       "      <th>0</th>\n",
       "      <td>9467</td>\n",
       "      <td>10006</td>\n",
       "      <td>F</td>\n",
       "      <td>2094-03-05</td>\n",
       "      <td>2165-08-12</td>\n",
       "      <td>2165-08-12</td>\n",
       "      <td>2165-08-12</td>\n",
       "      <td>1</td>\n",
       "    </tr>\n",
       "    <tr>\n",
       "      <th>1</th>\n",
       "      <td>9472</td>\n",
       "      <td>10011</td>\n",
       "      <td>F</td>\n",
       "      <td>2090-06-05</td>\n",
       "      <td>2126-08-28</td>\n",
       "      <td>2126-08-28</td>\n",
       "      <td>1900-01-01</td>\n",
       "      <td>1</td>\n",
       "    </tr>\n",
       "    <tr>\n",
       "      <th>2</th>\n",
       "      <td>9474</td>\n",
       "      <td>10013</td>\n",
       "      <td>F</td>\n",
       "      <td>2038-09-03</td>\n",
       "      <td>2125-10-07</td>\n",
       "      <td>2125-10-07</td>\n",
       "      <td>2125-10-07</td>\n",
       "      <td>1</td>\n",
       "    </tr>\n",
       "    <tr>\n",
       "      <th>3</th>\n",
       "      <td>9478</td>\n",
       "      <td>10017</td>\n",
       "      <td>F</td>\n",
       "      <td>2075-09-21</td>\n",
       "      <td>2152-09-12</td>\n",
       "      <td>1900-01-01</td>\n",
       "      <td>2152-09-12</td>\n",
       "      <td>1</td>\n",
       "    </tr>\n",
       "    <tr>\n",
       "      <th>4</th>\n",
       "      <td>9479</td>\n",
       "      <td>10019</td>\n",
       "      <td>M</td>\n",
       "      <td>2114-06-20</td>\n",
       "      <td>2163-05-15</td>\n",
       "      <td>2163-05-15</td>\n",
       "      <td>2163-05-15</td>\n",
       "      <td>1</td>\n",
       "    </tr>\n",
       "  </tbody>\n",
       "</table>\n",
       "</div>"
      ],
      "text/plain": [
       "   row_id  subject_id gender        dob        dod   dod_hosp    dod_ssn  \\\n",
       "0    9467       10006      F 2094-03-05 2165-08-12 2165-08-12 2165-08-12   \n",
       "1    9472       10011      F 2090-06-05 2126-08-28 2126-08-28 1900-01-01   \n",
       "2    9474       10013      F 2038-09-03 2125-10-07 2125-10-07 2125-10-07   \n",
       "3    9478       10017      F 2075-09-21 2152-09-12 1900-01-01 2152-09-12   \n",
       "4    9479       10019      M 2114-06-20 2163-05-15 2163-05-15 2163-05-15   \n",
       "\n",
       "   expire_flag  \n",
       "0            1  \n",
       "1            1  \n",
       "2            1  \n",
       "3            1  \n",
       "4            1  "
      ]
     },
     "execution_count": 133,
     "metadata": {},
     "output_type": "execute_result"
    }
   ],
   "source": [
    "# Conexión a mi base de datos\n",
    "connection = pymysql.connect(\n",
    "    host='127.0.0.1',\n",
    "    user='root',\n",
    "    password='carla123',\n",
    "    db='datawarehouse',\n",
    "    charset='utf8mb4',\n",
    "    cursorclass=pymysql.cursors.DictCursor\n",
    ")\n",
    "\n",
    "# Consulta SQL\n",
    "sql = 'SELECT * FROM patients'\n",
    "\n",
    "# Creo un dataframe a partir de los datos de la tabla\n",
    "patients= pd.read_sql(sql, connection)\n",
    "\n",
    "# Cierro la conexión\n",
    "connection.close()\n",
    "\n",
    "#Muestro mi dataframe\n",
    "patients.head()"
   ]
  },
  {
   "cell_type": "code",
   "execution_count": 134,
   "metadata": {},
   "outputs": [
    {
     "name": "stderr",
     "output_type": "stream",
     "text": [
      "/opt/anaconda3/lib/python3.9/site-packages/pandas/io/sql.py:762: UserWarning: pandas only support SQLAlchemy connectable(engine/connection) ordatabase string URI or sqlite3 DBAPI2 connectionother DBAPI2 objects are not tested, please consider using SQLAlchemy\n",
      "  warnings.warn(\n"
     ]
    },
    {
     "data": {
      "text/html": [
       "<div>\n",
       "<style scoped>\n",
       "    .dataframe tbody tr th:only-of-type {\n",
       "        vertical-align: middle;\n",
       "    }\n",
       "\n",
       "    .dataframe tbody tr th {\n",
       "        vertical-align: top;\n",
       "    }\n",
       "\n",
       "    .dataframe thead th {\n",
       "        text-align: right;\n",
       "    }\n",
       "</style>\n",
       "<table border=\"1\" class=\"dataframe\">\n",
       "  <thead>\n",
       "    <tr style=\"text-align: right;\">\n",
       "      <th></th>\n",
       "      <th>row_id</th>\n",
       "      <th>subject_id</th>\n",
       "      <th>hadm_id</th>\n",
       "      <th>icustay_id</th>\n",
       "      <th>startdate</th>\n",
       "      <th>enddate</th>\n",
       "      <th>drug_type</th>\n",
       "      <th>drug</th>\n",
       "      <th>drug_name_poe</th>\n",
       "      <th>drug_name_generic</th>\n",
       "      <th>formulary_drug_cd</th>\n",
       "      <th>gsn</th>\n",
       "      <th>ndc</th>\n",
       "      <th>prod_strength</th>\n",
       "      <th>dose_val_rx</th>\n",
       "      <th>dose_unit_rx</th>\n",
       "      <th>form_val_disp</th>\n",
       "      <th>form_unit_disp</th>\n",
       "      <th>route</th>\n",
       "    </tr>\n",
       "  </thead>\n",
       "  <tbody>\n",
       "    <tr>\n",
       "      <th>0</th>\n",
       "      <td>32600</td>\n",
       "      <td>42458</td>\n",
       "      <td>159647</td>\n",
       "      <td>NaN</td>\n",
       "      <td>2146-07-21</td>\n",
       "      <td>2146-07-22</td>\n",
       "      <td>MAIN</td>\n",
       "      <td>Pneumococcal Vac Polyvalent</td>\n",
       "      <td>Pneumococcal Vac Polyvalent</td>\n",
       "      <td>PNEUMOcoccal Vac Polyvalent</td>\n",
       "      <td>PNEU25I</td>\n",
       "      <td>048548</td>\n",
       "      <td>00006494300</td>\n",
       "      <td>25mcg/0.5mL Vial</td>\n",
       "      <td>0.5</td>\n",
       "      <td>mL</td>\n",
       "      <td>1</td>\n",
       "      <td>VIAL</td>\n",
       "      <td>IM</td>\n",
       "    </tr>\n",
       "    <tr>\n",
       "      <th>1</th>\n",
       "      <td>32601</td>\n",
       "      <td>42458</td>\n",
       "      <td>159647</td>\n",
       "      <td>NaN</td>\n",
       "      <td>2146-07-21</td>\n",
       "      <td>2146-07-22</td>\n",
       "      <td>MAIN</td>\n",
       "      <td>Bisacodyl</td>\n",
       "      <td>Bisacodyl</td>\n",
       "      <td>Bisacodyl</td>\n",
       "      <td>BISA5</td>\n",
       "      <td>002947</td>\n",
       "      <td>00536338101</td>\n",
       "      <td>5 mg Tab</td>\n",
       "      <td>10</td>\n",
       "      <td>mg</td>\n",
       "      <td>2</td>\n",
       "      <td>TAB</td>\n",
       "      <td>PO</td>\n",
       "    </tr>\n",
       "    <tr>\n",
       "      <th>2</th>\n",
       "      <td>32602</td>\n",
       "      <td>42458</td>\n",
       "      <td>159647</td>\n",
       "      <td>NaN</td>\n",
       "      <td>2146-07-21</td>\n",
       "      <td>2146-07-22</td>\n",
       "      <td>MAIN</td>\n",
       "      <td>Bisacodyl</td>\n",
       "      <td>Bisacodyl</td>\n",
       "      <td>Bisacodyl (Rectal)</td>\n",
       "      <td>BISA10R</td>\n",
       "      <td>002944</td>\n",
       "      <td>00574705050</td>\n",
       "      <td>10mg Suppository</td>\n",
       "      <td>10</td>\n",
       "      <td>mg</td>\n",
       "      <td>1</td>\n",
       "      <td>SUPP</td>\n",
       "      <td>PR</td>\n",
       "    </tr>\n",
       "    <tr>\n",
       "      <th>3</th>\n",
       "      <td>32603</td>\n",
       "      <td>42458</td>\n",
       "      <td>159647</td>\n",
       "      <td>NaN</td>\n",
       "      <td>2146-07-21</td>\n",
       "      <td>2146-07-22</td>\n",
       "      <td>MAIN</td>\n",
       "      <td>Senna</td>\n",
       "      <td>Senna</td>\n",
       "      <td>Senna</td>\n",
       "      <td>SENN187</td>\n",
       "      <td>019964</td>\n",
       "      <td>00904516561</td>\n",
       "      <td>1 Tablet</td>\n",
       "      <td>1</td>\n",
       "      <td>TAB</td>\n",
       "      <td>1</td>\n",
       "      <td>TAB</td>\n",
       "      <td>PO</td>\n",
       "    </tr>\n",
       "    <tr>\n",
       "      <th>4</th>\n",
       "      <td>32604</td>\n",
       "      <td>42458</td>\n",
       "      <td>159647</td>\n",
       "      <td>NaN</td>\n",
       "      <td>2146-07-21</td>\n",
       "      <td>2146-07-21</td>\n",
       "      <td>MAIN</td>\n",
       "      <td>Docusate Sodium (Liquid)</td>\n",
       "      <td>Docusate Sodium (Liquid)</td>\n",
       "      <td>Docusate Sodium (Liquid)</td>\n",
       "      <td>DOCU100L</td>\n",
       "      <td>003017</td>\n",
       "      <td>00121054410</td>\n",
       "      <td>100mg UD Cup</td>\n",
       "      <td>100</td>\n",
       "      <td>mg</td>\n",
       "      <td>1</td>\n",
       "      <td>UDCUP</td>\n",
       "      <td>PO</td>\n",
       "    </tr>\n",
       "  </tbody>\n",
       "</table>\n",
       "</div>"
      ],
      "text/plain": [
       "   row_id  subject_id  hadm_id  icustay_id  startdate    enddate drug_type  \\\n",
       "0   32600       42458   159647         NaN 2146-07-21 2146-07-22      MAIN   \n",
       "1   32601       42458   159647         NaN 2146-07-21 2146-07-22      MAIN   \n",
       "2   32602       42458   159647         NaN 2146-07-21 2146-07-22      MAIN   \n",
       "3   32603       42458   159647         NaN 2146-07-21 2146-07-22      MAIN   \n",
       "4   32604       42458   159647         NaN 2146-07-21 2146-07-21      MAIN   \n",
       "\n",
       "                          drug                drug_name_poe  \\\n",
       "0  Pneumococcal Vac Polyvalent  Pneumococcal Vac Polyvalent   \n",
       "1                    Bisacodyl                    Bisacodyl   \n",
       "2                    Bisacodyl                    Bisacodyl   \n",
       "3                        Senna                        Senna   \n",
       "4     Docusate Sodium (Liquid)     Docusate Sodium (Liquid)   \n",
       "\n",
       "             drug_name_generic formulary_drug_cd     gsn          ndc  \\\n",
       "0  PNEUMOcoccal Vac Polyvalent           PNEU25I  048548  00006494300   \n",
       "1                    Bisacodyl             BISA5  002947  00536338101   \n",
       "2           Bisacodyl (Rectal)           BISA10R  002944  00574705050   \n",
       "3                        Senna           SENN187  019964  00904516561   \n",
       "4     Docusate Sodium (Liquid)          DOCU100L  003017  00121054410   \n",
       "\n",
       "      prod_strength dose_val_rx dose_unit_rx form_val_disp form_unit_disp  \\\n",
       "0  25mcg/0.5mL Vial         0.5           mL             1           VIAL   \n",
       "1          5 mg Tab          10           mg             2            TAB   \n",
       "2  10mg Suppository          10           mg             1           SUPP   \n",
       "3          1 Tablet           1          TAB             1            TAB   \n",
       "4      100mg UD Cup         100           mg             1          UDCUP   \n",
       "\n",
       "  route  \n",
       "0    IM  \n",
       "1    PO  \n",
       "2    PR  \n",
       "3    PO  \n",
       "4    PO  "
      ]
     },
     "execution_count": 134,
     "metadata": {},
     "output_type": "execute_result"
    }
   ],
   "source": [
    "# Conexión a mi base de datos\n",
    "connection = pymysql.connect(\n",
    "    host='127.0.0.1',\n",
    "    user='root',\n",
    "    password='carla123',\n",
    "    db='datawarehouse',\n",
    "    charset='utf8mb4',\n",
    "    cursorclass=pymysql.cursors.DictCursor\n",
    ")\n",
    "\n",
    "# Consulta SQL\n",
    "sql = 'SELECT * FROM prescriptions'\n",
    "\n",
    "# Creo un dataframe a partir de los datos de la tabla\n",
    "prescriptions= pd.read_sql(sql, connection)\n",
    "\n",
    "# Cierro la conexión\n",
    "connection.close()\n",
    "\n",
    "#Muestro mi dataframe\n",
    "prescriptions.head()"
   ]
  },
  {
   "cell_type": "code",
   "execution_count": 135,
   "metadata": {},
   "outputs": [
    {
     "name": "stderr",
     "output_type": "stream",
     "text": [
      "/opt/anaconda3/lib/python3.9/site-packages/pandas/io/sql.py:762: UserWarning: pandas only support SQLAlchemy connectable(engine/connection) ordatabase string URI or sqlite3 DBAPI2 connectionother DBAPI2 objects are not tested, please consider using SQLAlchemy\n",
      "  warnings.warn(\n"
     ]
    },
    {
     "data": {
      "text/html": [
       "<div>\n",
       "<style scoped>\n",
       "    .dataframe tbody tr th:only-of-type {\n",
       "        vertical-align: middle;\n",
       "    }\n",
       "\n",
       "    .dataframe tbody tr th {\n",
       "        vertical-align: top;\n",
       "    }\n",
       "\n",
       "    .dataframe thead th {\n",
       "        text-align: right;\n",
       "    }\n",
       "</style>\n",
       "<table border=\"1\" class=\"dataframe\">\n",
       "  <thead>\n",
       "    <tr style=\"text-align: right;\">\n",
       "      <th></th>\n",
       "      <th>row_id</th>\n",
       "      <th>subject_id</th>\n",
       "      <th>hadm_id</th>\n",
       "      <th>seq_num</th>\n",
       "      <th>icd9_code</th>\n",
       "    </tr>\n",
       "  </thead>\n",
       "  <tbody>\n",
       "    <tr>\n",
       "      <th>0</th>\n",
       "      <td>3994</td>\n",
       "      <td>10114</td>\n",
       "      <td>167957</td>\n",
       "      <td>1</td>\n",
       "      <td>3605</td>\n",
       "    </tr>\n",
       "    <tr>\n",
       "      <th>1</th>\n",
       "      <td>3995</td>\n",
       "      <td>10114</td>\n",
       "      <td>167957</td>\n",
       "      <td>2</td>\n",
       "      <td>3722</td>\n",
       "    </tr>\n",
       "    <tr>\n",
       "      <th>2</th>\n",
       "      <td>3996</td>\n",
       "      <td>10114</td>\n",
       "      <td>167957</td>\n",
       "      <td>3</td>\n",
       "      <td>8856</td>\n",
       "    </tr>\n",
       "    <tr>\n",
       "      <th>3</th>\n",
       "      <td>3997</td>\n",
       "      <td>10114</td>\n",
       "      <td>167957</td>\n",
       "      <td>4</td>\n",
       "      <td>9920</td>\n",
       "    </tr>\n",
       "    <tr>\n",
       "      <th>4</th>\n",
       "      <td>3998</td>\n",
       "      <td>10114</td>\n",
       "      <td>167957</td>\n",
       "      <td>5</td>\n",
       "      <td>9671</td>\n",
       "    </tr>\n",
       "  </tbody>\n",
       "</table>\n",
       "</div>"
      ],
      "text/plain": [
       "   row_id  subject_id  hadm_id  seq_num icd9_code\n",
       "0    3994       10114   167957        1      3605\n",
       "1    3995       10114   167957        2      3722\n",
       "2    3996       10114   167957        3      8856\n",
       "3    3997       10114   167957        4      9920\n",
       "4    3998       10114   167957        5      9671"
      ]
     },
     "execution_count": 135,
     "metadata": {},
     "output_type": "execute_result"
    }
   ],
   "source": [
    "# Conexión a mi base de datos\n",
    "connection = pymysql.connect(\n",
    "    host='127.0.0.1',\n",
    "    user='root',\n",
    "    password='carla123',\n",
    "    db='datawarehouse',\n",
    "    charset='utf8mb4',\n",
    "    cursorclass=pymysql.cursors.DictCursor\n",
    ")\n",
    "\n",
    "# Consulta SQL\n",
    "sql = 'SELECT * FROM procedures_icd'\n",
    "\n",
    "# Creo un dataframe a partir de los datos de la tabla\n",
    "procedures_icd= pd.read_sql(sql, connection)\n",
    "\n",
    "# Cierro la conexión\n",
    "connection.close()\n",
    "\n",
    "#Muestro mi dataframe\n",
    "procedures_icd.head()"
   ]
  },
  {
   "cell_type": "code",
   "execution_count": 136,
   "metadata": {},
   "outputs": [
    {
     "name": "stderr",
     "output_type": "stream",
     "text": [
      "/opt/anaconda3/lib/python3.9/site-packages/pandas/io/sql.py:762: UserWarning: pandas only support SQLAlchemy connectable(engine/connection) ordatabase string URI or sqlite3 DBAPI2 connectionother DBAPI2 objects are not tested, please consider using SQLAlchemy\n",
      "  warnings.warn(\n"
     ]
    },
    {
     "data": {
      "text/html": [
       "<div>\n",
       "<style scoped>\n",
       "    .dataframe tbody tr th:only-of-type {\n",
       "        vertical-align: middle;\n",
       "    }\n",
       "\n",
       "    .dataframe tbody tr th {\n",
       "        vertical-align: top;\n",
       "    }\n",
       "\n",
       "    .dataframe thead th {\n",
       "        text-align: right;\n",
       "    }\n",
       "</style>\n",
       "<table border=\"1\" class=\"dataframe\">\n",
       "  <thead>\n",
       "    <tr style=\"text-align: right;\">\n",
       "      <th></th>\n",
       "      <th>row_id</th>\n",
       "      <th>subject_id</th>\n",
       "      <th>hadm_id</th>\n",
       "      <th>transfertime</th>\n",
       "      <th>prev_service</th>\n",
       "      <th>curr_service</th>\n",
       "    </tr>\n",
       "  </thead>\n",
       "  <tbody>\n",
       "    <tr>\n",
       "      <th>0</th>\n",
       "      <td>14974</td>\n",
       "      <td>10006</td>\n",
       "      <td>142345</td>\n",
       "      <td>2164-10-23 21:10:15</td>\n",
       "      <td></td>\n",
       "      <td>MED</td>\n",
       "    </tr>\n",
       "    <tr>\n",
       "      <th>1</th>\n",
       "      <td>14979</td>\n",
       "      <td>10011</td>\n",
       "      <td>105331</td>\n",
       "      <td>2126-08-14 22:34:00</td>\n",
       "      <td></td>\n",
       "      <td>MED</td>\n",
       "    </tr>\n",
       "    <tr>\n",
       "      <th>2</th>\n",
       "      <td>14981</td>\n",
       "      <td>10013</td>\n",
       "      <td>165520</td>\n",
       "      <td>2125-10-04 23:38:00</td>\n",
       "      <td></td>\n",
       "      <td>MED</td>\n",
       "    </tr>\n",
       "    <tr>\n",
       "      <th>3</th>\n",
       "      <td>14985</td>\n",
       "      <td>10017</td>\n",
       "      <td>199207</td>\n",
       "      <td>2149-05-26 17:21:09</td>\n",
       "      <td></td>\n",
       "      <td>MED</td>\n",
       "    </tr>\n",
       "    <tr>\n",
       "      <th>4</th>\n",
       "      <td>14986</td>\n",
       "      <td>10019</td>\n",
       "      <td>177759</td>\n",
       "      <td>2163-05-14 20:43:56</td>\n",
       "      <td></td>\n",
       "      <td>MED</td>\n",
       "    </tr>\n",
       "  </tbody>\n",
       "</table>\n",
       "</div>"
      ],
      "text/plain": [
       "   row_id  subject_id  hadm_id        transfertime prev_service curr_service\n",
       "0   14974       10006   142345 2164-10-23 21:10:15                       MED\n",
       "1   14979       10011   105331 2126-08-14 22:34:00                       MED\n",
       "2   14981       10013   165520 2125-10-04 23:38:00                       MED\n",
       "3   14985       10017   199207 2149-05-26 17:21:09                       MED\n",
       "4   14986       10019   177759 2163-05-14 20:43:56                       MED"
      ]
     },
     "execution_count": 136,
     "metadata": {},
     "output_type": "execute_result"
    }
   ],
   "source": [
    "# Conexión a mi base de datos\n",
    "connection = pymysql.connect(\n",
    "    host='127.0.0.1',\n",
    "    user='root',\n",
    "    password='carla123',\n",
    "    db='datawarehouse',\n",
    "    charset='utf8mb4',\n",
    "    cursorclass=pymysql.cursors.DictCursor\n",
    ")\n",
    "\n",
    "# Consulta SQL\n",
    "sql = 'SELECT * FROM services'\n",
    "\n",
    "# Creo un dataframe a partir de los datos de la tabla\n",
    "services= pd.read_sql(sql, connection)\n",
    "\n",
    "# Cierro la conexión\n",
    "connection.close()\n",
    "\n",
    "#Muestro mi dataframe\n",
    "services.head()"
   ]
  },
  {
   "cell_type": "code",
   "execution_count": 137,
   "metadata": {},
   "outputs": [
    {
     "name": "stderr",
     "output_type": "stream",
     "text": [
      "/opt/anaconda3/lib/python3.9/site-packages/pandas/io/sql.py:762: UserWarning: pandas only support SQLAlchemy connectable(engine/connection) ordatabase string URI or sqlite3 DBAPI2 connectionother DBAPI2 objects are not tested, please consider using SQLAlchemy\n",
      "  warnings.warn(\n"
     ]
    },
    {
     "data": {
      "text/html": [
       "<div>\n",
       "<style scoped>\n",
       "    .dataframe tbody tr th:only-of-type {\n",
       "        vertical-align: middle;\n",
       "    }\n",
       "\n",
       "    .dataframe tbody tr th {\n",
       "        vertical-align: top;\n",
       "    }\n",
       "\n",
       "    .dataframe thead th {\n",
       "        text-align: right;\n",
       "    }\n",
       "</style>\n",
       "<table border=\"1\" class=\"dataframe\">\n",
       "  <thead>\n",
       "    <tr style=\"text-align: right;\">\n",
       "      <th></th>\n",
       "      <th>row_id</th>\n",
       "      <th>subject_id</th>\n",
       "      <th>hadm_id</th>\n",
       "      <th>icustay_id</th>\n",
       "      <th>dbsource</th>\n",
       "      <th>eventtype</th>\n",
       "      <th>prev_careunit</th>\n",
       "      <th>curr_careunit</th>\n",
       "      <th>prev_wardid</th>\n",
       "      <th>curr_wardid</th>\n",
       "      <th>intime</th>\n",
       "      <th>outtime</th>\n",
       "      <th>los</th>\n",
       "    </tr>\n",
       "  </thead>\n",
       "  <tbody>\n",
       "    <tr>\n",
       "      <th>0</th>\n",
       "      <td>54440</td>\n",
       "      <td>10006</td>\n",
       "      <td>142345</td>\n",
       "      <td>206504.0</td>\n",
       "      <td>carevue</td>\n",
       "      <td>admit</td>\n",
       "      <td></td>\n",
       "      <td>MICU</td>\n",
       "      <td></td>\n",
       "      <td>52</td>\n",
       "      <td>2164-10-23 21:10:15</td>\n",
       "      <td>2164-10-25 12:21:07</td>\n",
       "      <td>39.18</td>\n",
       "    </tr>\n",
       "    <tr>\n",
       "      <th>1</th>\n",
       "      <td>54441</td>\n",
       "      <td>10006</td>\n",
       "      <td>142345</td>\n",
       "      <td>NaN</td>\n",
       "      <td>carevue</td>\n",
       "      <td>transfer</td>\n",
       "      <td>MICU</td>\n",
       "      <td></td>\n",
       "      <td>52</td>\n",
       "      <td>45</td>\n",
       "      <td>2164-10-25 12:21:07</td>\n",
       "      <td>2164-11-01 17:14:27</td>\n",
       "      <td>172.89</td>\n",
       "    </tr>\n",
       "    <tr>\n",
       "      <th>2</th>\n",
       "      <td>54442</td>\n",
       "      <td>10006</td>\n",
       "      <td>142345</td>\n",
       "      <td>NaN</td>\n",
       "      <td>carevue</td>\n",
       "      <td>discharge</td>\n",
       "      <td></td>\n",
       "      <td></td>\n",
       "      <td>45</td>\n",
       "      <td></td>\n",
       "      <td>2164-11-01 17:14:27</td>\n",
       "      <td></td>\n",
       "      <td></td>\n",
       "    </tr>\n",
       "    <tr>\n",
       "      <th>3</th>\n",
       "      <td>54460</td>\n",
       "      <td>10011</td>\n",
       "      <td>105331</td>\n",
       "      <td>232110.0</td>\n",
       "      <td>carevue</td>\n",
       "      <td>admit</td>\n",
       "      <td></td>\n",
       "      <td>MICU</td>\n",
       "      <td></td>\n",
       "      <td>15</td>\n",
       "      <td>2126-08-14 22:34:00</td>\n",
       "      <td>2126-08-28 18:59:00</td>\n",
       "      <td>332.42</td>\n",
       "    </tr>\n",
       "    <tr>\n",
       "      <th>4</th>\n",
       "      <td>54461</td>\n",
       "      <td>10011</td>\n",
       "      <td>105331</td>\n",
       "      <td>NaN</td>\n",
       "      <td>carevue</td>\n",
       "      <td>discharge</td>\n",
       "      <td>MICU</td>\n",
       "      <td></td>\n",
       "      <td>15</td>\n",
       "      <td></td>\n",
       "      <td>2126-08-28 18:59:00</td>\n",
       "      <td></td>\n",
       "      <td></td>\n",
       "    </tr>\n",
       "  </tbody>\n",
       "</table>\n",
       "</div>"
      ],
      "text/plain": [
       "   row_id  subject_id  hadm_id  icustay_id dbsource  eventtype prev_careunit  \\\n",
       "0   54440       10006   142345    206504.0  carevue      admit                 \n",
       "1   54441       10006   142345         NaN  carevue   transfer          MICU   \n",
       "2   54442       10006   142345         NaN  carevue  discharge                 \n",
       "3   54460       10011   105331    232110.0  carevue      admit                 \n",
       "4   54461       10011   105331         NaN  carevue  discharge          MICU   \n",
       "\n",
       "  curr_careunit prev_wardid curr_wardid               intime  \\\n",
       "0          MICU                      52  2164-10-23 21:10:15   \n",
       "1                        52          45  2164-10-25 12:21:07   \n",
       "2                        45              2164-11-01 17:14:27   \n",
       "3          MICU                      15  2126-08-14 22:34:00   \n",
       "4                        15              2126-08-28 18:59:00   \n",
       "\n",
       "               outtime     los  \n",
       "0  2164-10-25 12:21:07   39.18  \n",
       "1  2164-11-01 17:14:27  172.89  \n",
       "2                               \n",
       "3  2126-08-28 18:59:00  332.42  \n",
       "4                               "
      ]
     },
     "execution_count": 137,
     "metadata": {},
     "output_type": "execute_result"
    }
   ],
   "source": [
    "# Conexión a mi base de datos\n",
    "connection = pymysql.connect(\n",
    "    host='127.0.0.1',\n",
    "    user='root',\n",
    "    password='carla123',\n",
    "    db='datawarehouse',\n",
    "    charset='utf8mb4',\n",
    "    cursorclass=pymysql.cursors.DictCursor\n",
    ")\n",
    "\n",
    "# Consulta SQL\n",
    "sql = 'SELECT * FROM transfers'\n",
    "\n",
    "# Creo un dataframe a partir de los datos de la tabla\n",
    "transfers= pd.read_sql(sql, connection)\n",
    "\n",
    "# Cierro la conexión\n",
    "connection.close()\n",
    "\n",
    "#Muestro mi dataframe\n",
    "transfers.head()"
   ]
  },
  {
   "attachments": {},
   "cell_type": "markdown",
   "metadata": {},
   "source": [
    "## Información de contenido de los Dataframes."
   ]
  },
  {
   "attachments": {},
   "cell_type": "markdown",
   "metadata": {},
   "source": [
    "### INFO"
   ]
  },
  {
   "cell_type": "code",
   "execution_count": 138,
   "metadata": {},
   "outputs": [
    {
     "name": "stdout",
     "output_type": "stream",
     "text": [
      "<class 'pandas.core.frame.DataFrame'>\n",
      "RangeIndex: 129 entries, 0 to 128\n",
      "Data columns (total 19 columns):\n",
      " #   Column                Non-Null Count  Dtype         \n",
      "---  ------                --------------  -----         \n",
      " 0   row_id                129 non-null    int64         \n",
      " 1   subject_id            129 non-null    int64         \n",
      " 2   hadm_id               129 non-null    int64         \n",
      " 3   admittime             129 non-null    datetime64[ns]\n",
      " 4   dischtime             129 non-null    datetime64[ns]\n",
      " 5   deathtime             129 non-null    datetime64[ns]\n",
      " 6   admission_type        129 non-null    object        \n",
      " 7   admission_location    129 non-null    object        \n",
      " 8   discharge_location    129 non-null    object        \n",
      " 9   insurance             129 non-null    object        \n",
      " 10  language              129 non-null    object        \n",
      " 11  religion              129 non-null    object        \n",
      " 12  marital_status        129 non-null    object        \n",
      " 13  ethnicity             129 non-null    object        \n",
      " 14  edregtime             129 non-null    datetime64[ns]\n",
      " 15  edouttime             129 non-null    datetime64[ns]\n",
      " 16  diagnosis             129 non-null    object        \n",
      " 17  hospital_expire_flag  129 non-null    int64         \n",
      " 18  has_chartevents_data  129 non-null    int64         \n",
      "dtypes: datetime64[ns](5), int64(5), object(9)\n",
      "memory usage: 19.3+ KB\n"
     ]
    }
   ],
   "source": [
    "admissions.info()"
   ]
  },
  {
   "cell_type": "code",
   "execution_count": 139,
   "metadata": {},
   "outputs": [
    {
     "name": "stdout",
     "output_type": "stream",
     "text": [
      "<class 'pandas.core.frame.DataFrame'>\n",
      "RangeIndex: 758355 entries, 0 to 758354\n",
      "Data columns (total 15 columns):\n",
      " #   Column        Non-Null Count   Dtype         \n",
      "---  ------        --------------   -----         \n",
      " 0   row_id        758355 non-null  object        \n",
      " 1   SUBJECT_ID    758355 non-null  int64         \n",
      " 2   HADM_ID       758355 non-null  int64         \n",
      " 3   icustay_id    758355 non-null  int64         \n",
      " 4   ITEMID        758355 non-null  int64         \n",
      " 5   CHARTTIME     758355 non-null  datetime64[ns]\n",
      " 6   STORETIME     758355 non-null  datetime64[ns]\n",
      " 7   CGID          758355 non-null  int64         \n",
      " 8   VALUE         758355 non-null  object        \n",
      " 9   VALUENUM      758355 non-null  float64       \n",
      " 10  VALUEUOM      758355 non-null  object        \n",
      " 11  warning       758355 non-null  object        \n",
      " 12  ERROR         758355 non-null  int64         \n",
      " 13  RESULTSTATUS  758355 non-null  object        \n",
      " 14  STOPPED       758355 non-null  object        \n",
      "dtypes: datetime64[ns](2), float64(1), int64(6), object(6)\n",
      "memory usage: 86.8+ MB\n"
     ]
    }
   ],
   "source": [
    "chartevents.info()"
   ]
  },
  {
   "cell_type": "code",
   "execution_count": 140,
   "metadata": {},
   "outputs": [
    {
     "name": "stdout",
     "output_type": "stream",
     "text": [
      "<class 'pandas.core.frame.DataFrame'>\n",
      "RangeIndex: 1561 entries, 0 to 1560\n",
      "Data columns (total 5 columns):\n",
      " #   Column      Non-Null Count  Dtype \n",
      "---  ------      --------------  ----- \n",
      " 0   row_id      1561 non-null   int64 \n",
      " 1   SUBJECT_ID  1561 non-null   int64 \n",
      " 2   HADM_ID     1561 non-null   int64 \n",
      " 3   seq_num     1561 non-null   int64 \n",
      " 4   ICD9_CODE   1561 non-null   object\n",
      "dtypes: int64(4), object(1)\n",
      "memory usage: 61.1+ KB\n"
     ]
    }
   ],
   "source": [
    "diagnoses_icd.info()"
   ]
  },
  {
   "cell_type": "code",
   "execution_count": 141,
   "metadata": {},
   "outputs": [
    {
     "name": "stdout",
     "output_type": "stream",
     "text": [
      "<class 'pandas.core.frame.DataFrame'>\n",
      "RangeIndex: 136 entries, 0 to 135\n",
      "Data columns (total 12 columns):\n",
      " #   Column          Non-Null Count  Dtype         \n",
      "---  ------          --------------  -----         \n",
      " 0   row_id          136 non-null    int64         \n",
      " 1   SUBJECT_ID      136 non-null    int64         \n",
      " 2   HADM_ID         136 non-null    int64         \n",
      " 3   ICUSTAY_ID      136 non-null    int64         \n",
      " 4   DBSOURCE        136 non-null    object        \n",
      " 5   FIRST_CAREUNIT  136 non-null    object        \n",
      " 6   LAST_CAREUNIT   136 non-null    object        \n",
      " 7   FIRST_WARDID    136 non-null    int64         \n",
      " 8   LAST_WARDID     136 non-null    int64         \n",
      " 9   INTIME          136 non-null    datetime64[ns]\n",
      " 10  OUTTIME         136 non-null    datetime64[ns]\n",
      " 11  LOS             136 non-null    float64       \n",
      "dtypes: datetime64[ns](2), float64(1), int64(6), object(3)\n",
      "memory usage: 12.9+ KB\n"
     ]
    }
   ],
   "source": [
    "icustays.info()"
   ]
  },
  {
   "cell_type": "code",
   "execution_count": 142,
   "metadata": {},
   "outputs": [
    {
     "name": "stdout",
     "output_type": "stream",
     "text": [
      "<class 'pandas.core.frame.DataFrame'>\n",
      "RangeIndex: 76074 entries, 0 to 76073\n",
      "Data columns (total 9 columns):\n",
      " #   Column      Non-Null Count  Dtype         \n",
      "---  ------      --------------  -----         \n",
      " 0   row_id      76074 non-null  object        \n",
      " 1   SUBJECT_ID  76074 non-null  int64         \n",
      " 2   HADM_ID     76074 non-null  int64         \n",
      " 3   ITEMID      76074 non-null  int64         \n",
      " 4   CHARTTIME   76074 non-null  datetime64[ns]\n",
      " 5   VALUE       76074 non-null  object        \n",
      " 6   VALUENUM    76074 non-null  float64       \n",
      " 7   VALUEUOM    76074 non-null  object        \n",
      " 8   FLAG        76074 non-null  object        \n",
      "dtypes: datetime64[ns](1), float64(1), int64(3), object(4)\n",
      "memory usage: 5.2+ MB\n"
     ]
    }
   ],
   "source": [
    "labevents.info()"
   ]
  },
  {
   "cell_type": "code",
   "execution_count": 143,
   "metadata": {},
   "outputs": [
    {
     "name": "stdout",
     "output_type": "stream",
     "text": [
      "<class 'pandas.core.frame.DataFrame'>\n",
      "RangeIndex: 100 entries, 0 to 99\n",
      "Data columns (total 8 columns):\n",
      " #   Column       Non-Null Count  Dtype         \n",
      "---  ------       --------------  -----         \n",
      " 0   row_id       100 non-null    int64         \n",
      " 1   subject_id   100 non-null    int64         \n",
      " 2   gender       100 non-null    object        \n",
      " 3   dob          100 non-null    datetime64[ns]\n",
      " 4   dod          100 non-null    datetime64[ns]\n",
      " 5   dod_hosp     100 non-null    datetime64[ns]\n",
      " 6   dod_ssn      100 non-null    datetime64[ns]\n",
      " 7   expire_flag  100 non-null    int64         \n",
      "dtypes: datetime64[ns](4), int64(3), object(1)\n",
      "memory usage: 6.4+ KB\n"
     ]
    }
   ],
   "source": [
    "patients.info()"
   ]
  },
  {
   "cell_type": "code",
   "execution_count": 144,
   "metadata": {},
   "outputs": [
    {
     "name": "stdout",
     "output_type": "stream",
     "text": [
      "<class 'pandas.core.frame.DataFrame'>\n",
      "RangeIndex: 9743 entries, 0 to 9742\n",
      "Data columns (total 19 columns):\n",
      " #   Column             Non-Null Count  Dtype         \n",
      "---  ------             --------------  -----         \n",
      " 0   row_id             9743 non-null   int64         \n",
      " 1   subject_id         9743 non-null   int64         \n",
      " 2   hadm_id            9743 non-null   int64         \n",
      " 3   icustay_id         6624 non-null   float64       \n",
      " 4   startdate          9743 non-null   datetime64[ns]\n",
      " 5   enddate            9743 non-null   datetime64[ns]\n",
      " 6   drug_type          9743 non-null   object        \n",
      " 7   drug               9743 non-null   object        \n",
      " 8   drug_name_poe      9743 non-null   object        \n",
      " 9   drug_name_generic  9743 non-null   object        \n",
      " 10  formulary_drug_cd  9743 non-null   object        \n",
      " 11  gsn                9743 non-null   object        \n",
      " 12  ndc                9743 non-null   object        \n",
      " 13  prod_strength      9743 non-null   object        \n",
      " 14  dose_val_rx        9743 non-null   object        \n",
      " 15  dose_unit_rx       9743 non-null   object        \n",
      " 16  form_val_disp      9743 non-null   object        \n",
      " 17  form_unit_disp     9743 non-null   object        \n",
      " 18  route              9743 non-null   object        \n",
      "dtypes: datetime64[ns](2), float64(1), int64(3), object(13)\n",
      "memory usage: 1.4+ MB\n"
     ]
    }
   ],
   "source": [
    "prescriptions.info()"
   ]
  },
  {
   "cell_type": "code",
   "execution_count": 145,
   "metadata": {},
   "outputs": [
    {
     "name": "stdout",
     "output_type": "stream",
     "text": [
      "<class 'pandas.core.frame.DataFrame'>\n",
      "RangeIndex: 506 entries, 0 to 505\n",
      "Data columns (total 5 columns):\n",
      " #   Column      Non-Null Count  Dtype \n",
      "---  ------      --------------  ----- \n",
      " 0   row_id      506 non-null    int64 \n",
      " 1   subject_id  506 non-null    int64 \n",
      " 2   hadm_id     506 non-null    int64 \n",
      " 3   seq_num     506 non-null    int64 \n",
      " 4   icd9_code   506 non-null    object\n",
      "dtypes: int64(4), object(1)\n",
      "memory usage: 19.9+ KB\n"
     ]
    }
   ],
   "source": [
    "procedures_icd.info()"
   ]
  },
  {
   "cell_type": "code",
   "execution_count": 146,
   "metadata": {},
   "outputs": [
    {
     "name": "stdout",
     "output_type": "stream",
     "text": [
      "<class 'pandas.core.frame.DataFrame'>\n",
      "RangeIndex: 163 entries, 0 to 162\n",
      "Data columns (total 6 columns):\n",
      " #   Column        Non-Null Count  Dtype         \n",
      "---  ------        --------------  -----         \n",
      " 0   row_id        163 non-null    int64         \n",
      " 1   subject_id    163 non-null    int64         \n",
      " 2   hadm_id       163 non-null    int64         \n",
      " 3   transfertime  163 non-null    datetime64[ns]\n",
      " 4   prev_service  163 non-null    object        \n",
      " 5   curr_service  163 non-null    object        \n",
      "dtypes: datetime64[ns](1), int64(3), object(2)\n",
      "memory usage: 7.8+ KB\n"
     ]
    }
   ],
   "source": [
    "services.info()"
   ]
  },
  {
   "cell_type": "code",
   "execution_count": 147,
   "metadata": {},
   "outputs": [
    {
     "name": "stdout",
     "output_type": "stream",
     "text": [
      "<class 'pandas.core.frame.DataFrame'>\n",
      "RangeIndex: 524 entries, 0 to 523\n",
      "Data columns (total 13 columns):\n",
      " #   Column         Non-Null Count  Dtype  \n",
      "---  ------         --------------  -----  \n",
      " 0   row_id         524 non-null    int64  \n",
      " 1   subject_id     524 non-null    int64  \n",
      " 2   hadm_id        524 non-null    int64  \n",
      " 3   icustay_id     167 non-null    float64\n",
      " 4   dbsource       524 non-null    object \n",
      " 5   eventtype      524 non-null    object \n",
      " 6   prev_careunit  524 non-null    object \n",
      " 7   curr_careunit  524 non-null    object \n",
      " 8   prev_wardid    524 non-null    object \n",
      " 9   curr_wardid    524 non-null    object \n",
      " 10  intime         524 non-null    object \n",
      " 11  outtime        524 non-null    object \n",
      " 12  los            524 non-null    object \n",
      "dtypes: float64(1), int64(3), object(9)\n",
      "memory usage: 53.3+ KB\n"
     ]
    }
   ],
   "source": [
    "transfers.info()"
   ]
  },
  {
   "attachments": {},
   "cell_type": "markdown",
   "metadata": {},
   "source": [
    "### SHAPE"
   ]
  },
  {
   "cell_type": "code",
   "execution_count": 148,
   "metadata": {},
   "outputs": [
    {
     "name": "stdout",
     "output_type": "stream",
     "text": [
      "El dataframe admissions tiene forma (129, 19)\n",
      "El dataframe chartevents tiene forma (758355, 15)\n",
      "El dataframe diagnoses_icd tiene forma (1561, 5)\n",
      "El dataframe icustays tiene forma (136, 12)\n",
      "El dataframe labevents tiene forma (76074, 9)\n",
      "El dataframe patients tiene forma (100, 8)\n",
      "El dataframe prescriptions tiene forma (9743, 19)\n",
      "El dataframe procedures_icd tiene forma (506, 5)\n",
      "El dataframe services tiene forma (163, 6)\n",
      "El dataframe transfers tiene forma (524, 13)\n"
     ]
    }
   ],
   "source": [
    "dataframes= [admissions, chartevents, diagnoses_icd, icustays, labevents, patients, prescriptions, procedures_icd, services,transfers ]\n",
    "\n",
    "# Defino el atributo name para cada dataframe\n",
    "\n",
    "admissions.name = \"admissions\"\n",
    "chartevents.name = \"chartevents\"\n",
    "diagnoses_icd.name = \"diagnoses_icd\"\n",
    "icustays.name = \"icustays\"\n",
    "labevents.name = \"labevents\"\n",
    "patients.name = \"patients\"\n",
    "prescriptions.name= \"prescriptions\"\n",
    "procedures_icd.name =\"procedures_icd\"\n",
    "services.name = \"services\"\n",
    "transfers.name = \"transfers\"\n",
    "\n",
    "# Inicio una lista vacía para almacenar los resultados de shape\n",
    "\n",
    "shapes = []\n",
    "\n",
    "# Itero sobre cada dataframe y aplicar la función shape\n",
    "\n",
    "for i, df in enumerate(dataframes):\n",
    "    shapes.append(df.shape)\n",
    "    print(f\"El dataframe {df.name} tiene forma {df.shape}\")"
   ]
  },
  {
   "attachments": {},
   "cell_type": "markdown",
   "metadata": {},
   "source": [
    "### NULOS"
   ]
  },
  {
   "attachments": {},
   "cell_type": "markdown",
   "metadata": {},
   "source": [
    "NULOS EN CADA DATAFRAME."
   ]
  },
  {
   "cell_type": "code",
   "execution_count": 149,
   "metadata": {},
   "outputs": [
    {
     "name": "stdout",
     "output_type": "stream",
     "text": [
      "El dataframe admissions tiene un total de 0 valores nulos.\n",
      "El dataframe chartevents tiene un total de 0 valores nulos.\n",
      "El dataframe diagnoses_icd tiene un total de 0 valores nulos.\n",
      "El dataframe icustays tiene un total de 0 valores nulos.\n",
      "El dataframe labevents tiene un total de 0 valores nulos.\n",
      "El dataframe patients tiene un total de 0 valores nulos.\n",
      "El dataframe prescriptions tiene un total de 3119 valores nulos.\n",
      "El dataframe procedures_icd tiene un total de 0 valores nulos.\n",
      "El dataframe services tiene un total de 0 valores nulos.\n",
      "El dataframe transfers tiene un total de 357 valores nulos.\n"
     ]
    }
   ],
   "source": [
    "dataframes= [admissions, chartevents, diagnoses_icd, icustays, labevents, patients, prescriptions, procedures_icd, services,transfers ]\n",
    "\n",
    "# Defino el atributo name para cada dataframe\n",
    "\n",
    "admissions.name = \"admissions\"\n",
    "chartevents.name = \"chartevents\"\n",
    "diagnoses_icd.name = \"diagnoses_icd\"\n",
    "icustays.name = \"icustays\"\n",
    "labevents.name = \"labevents\"\n",
    "patients.name = \"patients\"\n",
    "prescriptions.name= \"prescriptions\"\n",
    "procedures_icd.name =\"procedures_icd\"\n",
    "services.name = \"services\"\n",
    "transfers.name = \"transfers\"\n",
    "\n",
    "# Itero sobre cada dataframe e imprimo la información sobre los valores nulos\n",
    "\n",
    "for df in dataframes:\n",
    "    total_null = df.isnull().sum().sum()\n",
    "    print(f\"El dataframe {df.name} tiene un total de {total_null} valores nulos.\")"
   ]
  },
  {
   "cell_type": "code",
   "execution_count": 150,
   "metadata": {},
   "outputs": [
    {
     "data": {
      "text/plain": [
       "array(['', 'MED', 'OMED', 'CMED', 'NSURG', 'TSURG', 'CSURG', 'VSURG',\n",
       "       'SURG', 'NMED'], dtype=object)"
      ]
     },
     "execution_count": 150,
     "metadata": {},
     "output_type": "execute_result"
    }
   ],
   "source": [
    "services['prev_service'].unique()"
   ]
  },
  {
   "attachments": {},
   "cell_type": "markdown",
   "metadata": {},
   "source": [
    "NULOS EN CADA COLUMNA DEL DATAFRAME."
   ]
  },
  {
   "cell_type": "code",
   "execution_count": 151,
   "metadata": {},
   "outputs": [
    {
     "name": "stdout",
     "output_type": "stream",
     "text": [
      "El dataframe tiene los siguientes valores nulos por columna:\n",
      "row_id                  0\n",
      "subject_id              0\n",
      "hadm_id                 0\n",
      "icustay_id           3119\n",
      "startdate               0\n",
      "enddate                 0\n",
      "drug_type               0\n",
      "drug                    0\n",
      "drug_name_poe           0\n",
      "drug_name_generic       0\n",
      "formulary_drug_cd       0\n",
      "gsn                     0\n",
      "ndc                     0\n",
      "prod_strength           0\n",
      "dose_val_rx             0\n",
      "dose_unit_rx            0\n",
      "form_val_disp           0\n",
      "form_unit_disp          0\n",
      "route                   0\n",
      "dtype: int64\n"
     ]
    }
   ],
   "source": [
    "null_cols = prescriptions.isnull().sum()\n",
    "print(f\"El dataframe tiene los siguientes valores nulos por columna:\\n{null_cols}\")"
   ]
  },
  {
   "cell_type": "code",
   "execution_count": 152,
   "metadata": {},
   "outputs": [
    {
     "name": "stdout",
     "output_type": "stream",
     "text": [
      "El dataframe tiene los siguientes valores nulos por columna:\n",
      "row_id             0\n",
      "subject_id         0\n",
      "hadm_id            0\n",
      "icustay_id       357\n",
      "dbsource           0\n",
      "eventtype          0\n",
      "prev_careunit      0\n",
      "curr_careunit      0\n",
      "prev_wardid        0\n",
      "curr_wardid        0\n",
      "intime             0\n",
      "outtime            0\n",
      "los                0\n",
      "dtype: int64\n"
     ]
    }
   ],
   "source": [
    "null_cols = transfers.isnull().sum()\n",
    "print(f\"El dataframe tiene los siguientes valores nulos por columna:\\n{null_cols}\")"
   ]
  },
  {
   "attachments": {},
   "cell_type": "markdown",
   "metadata": {},
   "source": [
    "## Información en función del Dashboard Administrativo."
   ]
  },
  {
   "cell_type": "code",
   "execution_count": 153,
   "metadata": {},
   "outputs": [],
   "source": [
    "#Normalizo todas a las minúsculas\n",
    "\n",
    "diagnoses_icd.columns = diagnoses_icd.columns.str.lower()\n",
    "chartevents.columns= chartevents.columns.str.lower()"
   ]
  },
  {
   "attachments": {},
   "cell_type": "markdown",
   "metadata": {},
   "source": [
    "### Género de pacientes."
   ]
  },
  {
   "cell_type": "code",
   "execution_count": 194,
   "metadata": {},
   "outputs": [
    {
     "data": {
      "image/png": "[encoded data removed]",
      "text/plain": [
       "<Figure size 640x480 with 1 Axes>"
      ]
     },
     "metadata": {},
     "output_type": "display_data"
    }
   ],
   "source": [
    "import matplotlib.pyplot as plt\n",
    "\n",
    "data = patients['gender'].value_counts()\n",
    "men_count = data['M']\n",
    "women_count = data['F']\n",
    "\n",
    "plt.bar(['Hombres'], [men_count], color='powderblue')\n",
    "plt.bar(['Mujeres'], [women_count], color='pink')\n",
    "plt.xlabel('Género')\n",
    "plt.ylabel('Frecuencia')\n",
    "plt.title('Distribución de género en los pacientes')\n",
    "plt.show()\n"
   ]
  },
  {
   "attachments": {},
   "cell_type": "markdown",
   "metadata": {},
   "source": [
    "### Medicamentos más recetados."
   ]
  },
  {
   "cell_type": "code",
   "execution_count": 155,
   "metadata": {},
   "outputs": [
    {
     "data": {
      "text/plain": [
       "Potassium Chloride             512\n",
       "D5W                            439\n",
       "0.9% Sodium Chloride           405\n",
       "NS                             362\n",
       "Furosemide                     346\n",
       "Insulin                        300\n",
       "Iso-Osmotic Dextrose           265\n",
       "5% Dextrose                    256\n",
       "SW                             226\n",
       "Sodium Chloride 0.9%  Flush    206\n",
       "Name: drug, dtype: int64"
      ]
     },
     "execution_count": 155,
     "metadata": {},
     "output_type": "execute_result"
    }
   ],
   "source": [
    "medicamentos_recetados = prescriptions['drug'].value_counts().sort_values(ascending=False)\n",
    "\n",
    "# Mostrar los 10 más recetados\n",
    "medicamentos_recetados.head(10)"
   ]
  },
  {
   "cell_type": "code",
   "execution_count": 193,
   "metadata": {},
   "outputs": [
    {
     "data": {
      "image/png": "[encoded data removed]",
      "text/plain": [
       "<Figure size 640x480 with 1 Axes>"
      ]
     },
     "metadata": {},
     "output_type": "display_data"
    }
   ],
   "source": [
    "# Grafico los medicamentos más recetados\n",
    "plt.bar(medicamentos_recetados.index[:10], medicamentos_recetados.values[:10], color = 'Skyblue')\n",
    "plt.xticks(rotation=90)\n",
    "plt.xlabel('Medicamento')\n",
    "plt.ylabel('Frecuencia')\n",
    "plt.title('Los 10 medicamentos más recetados')\n",
    "plt.show()"
   ]
  },
  {
   "attachments": {},
   "cell_type": "markdown",
   "metadata": {},
   "source": [
    "### Top ten de icd9_code más usados."
   ]
  },
  {
   "cell_type": "code",
   "execution_count": 157,
   "metadata": {},
   "outputs": [
    {
     "name": "stdout",
     "output_type": "stream",
     "text": [
      "4019     53\n",
      "42731    48\n",
      "5849     45\n",
      "4280     39\n",
      "25000    31\n",
      "51881    31\n",
      "2724     29\n",
      "5990     27\n",
      "486      26\n",
      "99592    25\n",
      "Name: icd9_code, dtype: int64\n"
     ]
    }
   ],
   "source": [
    "top_diagnoses = diagnoses_icd['icd9_code'].value_counts().head(10)\n",
    "print(top_diagnoses)"
   ]
  },
  {
   "cell_type": "code",
   "execution_count": 192,
   "metadata": {},
   "outputs": [
    {
     "data": {
      "image/png": "[encoded data removed]",
      "text/plain": [
       "<Figure size 640x480 with 1 Axes>"
      ]
     },
     "metadata": {},
     "output_type": "display_data"
    }
   ],
   "source": [
    "plt.bar(top_diagnoses.index, top_diagnoses.values, color = 'Skyblue')\n",
    "plt.xticks(rotation=90)\n",
    "plt.xlabel('Códigos ICD-9')\n",
    "plt.ylabel('Frecuencia')\n",
    "plt.title('Top 10 de diagnósticos más comunes')\n",
    "plt.show()"
   ]
  },
  {
   "attachments": {},
   "cell_type": "markdown",
   "metadata": {},
   "source": [
    "### Mortalidad de top ten diagnósticos."
   ]
  },
  {
   "cell_type": "code",
   "execution_count": 159,
   "metadata": {},
   "outputs": [],
   "source": [
    "#Renombro las columnas así no me crea prefijos\n",
    "admissions= admissions.rename(columns= {'row_id': 'row_ad_adm', 'subject_id': 'subject_id_adm'})"
   ]
  },
  {
   "cell_type": "code",
   "execution_count": 160,
   "metadata": {},
   "outputs": [],
   "source": [
    "#Uno los df por para poder trabajarlos y hacer el calculo\n",
    "diagnoses_admissions = pd.merge(diagnoses_icd, admissions, on='hadm_id')"
   ]
  },
  {
   "cell_type": "code",
   "execution_count": 161,
   "metadata": {},
   "outputs": [
    {
     "data": {
      "text/html": [
       "<div>\n",
       "<style scoped>\n",
       "    .dataframe tbody tr th:only-of-type {\n",
       "        vertical-align: middle;\n",
       "    }\n",
       "\n",
       "    .dataframe tbody tr th {\n",
       "        vertical-align: top;\n",
       "    }\n",
       "\n",
       "    .dataframe thead th {\n",
       "        text-align: right;\n",
       "    }\n",
       "</style>\n",
       "<table border=\"1\" class=\"dataframe\">\n",
       "  <thead>\n",
       "    <tr style=\"text-align: right;\">\n",
       "      <th></th>\n",
       "      <th>row_id</th>\n",
       "      <th>subject_id</th>\n",
       "      <th>hadm_id</th>\n",
       "      <th>seq_num</th>\n",
       "      <th>icd9_code</th>\n",
       "      <th>row_ad_adm</th>\n",
       "      <th>subject_id_adm</th>\n",
       "      <th>admittime</th>\n",
       "      <th>dischtime</th>\n",
       "      <th>deathtime</th>\n",
       "      <th>...</th>\n",
       "      <th>insurance</th>\n",
       "      <th>language</th>\n",
       "      <th>religion</th>\n",
       "      <th>marital_status</th>\n",
       "      <th>ethnicity</th>\n",
       "      <th>edregtime</th>\n",
       "      <th>edouttime</th>\n",
       "      <th>diagnosis</th>\n",
       "      <th>hospital_expire_flag</th>\n",
       "      <th>has_chartevents_data</th>\n",
       "    </tr>\n",
       "  </thead>\n",
       "  <tbody>\n",
       "    <tr>\n",
       "      <th>0</th>\n",
       "      <td>112344</td>\n",
       "      <td>10006</td>\n",
       "      <td>142345</td>\n",
       "      <td>1</td>\n",
       "      <td>99591</td>\n",
       "      <td>12258</td>\n",
       "      <td>10006</td>\n",
       "      <td>2164-10-23 21:09:00</td>\n",
       "      <td>2164-11-01 17:15:00</td>\n",
       "      <td>1900-01-01</td>\n",
       "      <td>...</td>\n",
       "      <td>Medicare</td>\n",
       "      <td></td>\n",
       "      <td>CATHOLIC</td>\n",
       "      <td>SEPARATED</td>\n",
       "      <td>BLACK/AFRICAN AMERICAN</td>\n",
       "      <td>2164-10-23 16:43:00</td>\n",
       "      <td>2164-10-23 23:00:00</td>\n",
       "      <td>SEPSIS</td>\n",
       "      <td>0</td>\n",
       "      <td>1</td>\n",
       "    </tr>\n",
       "    <tr>\n",
       "      <th>1</th>\n",
       "      <td>112345</td>\n",
       "      <td>10006</td>\n",
       "      <td>142345</td>\n",
       "      <td>2</td>\n",
       "      <td>99662</td>\n",
       "      <td>12258</td>\n",
       "      <td>10006</td>\n",
       "      <td>2164-10-23 21:09:00</td>\n",
       "      <td>2164-11-01 17:15:00</td>\n",
       "      <td>1900-01-01</td>\n",
       "      <td>...</td>\n",
       "      <td>Medicare</td>\n",
       "      <td></td>\n",
       "      <td>CATHOLIC</td>\n",
       "      <td>SEPARATED</td>\n",
       "      <td>BLACK/AFRICAN AMERICAN</td>\n",
       "      <td>2164-10-23 16:43:00</td>\n",
       "      <td>2164-10-23 23:00:00</td>\n",
       "      <td>SEPSIS</td>\n",
       "      <td>0</td>\n",
       "      <td>1</td>\n",
       "    </tr>\n",
       "    <tr>\n",
       "      <th>2</th>\n",
       "      <td>112346</td>\n",
       "      <td>10006</td>\n",
       "      <td>142345</td>\n",
       "      <td>3</td>\n",
       "      <td>5672</td>\n",
       "      <td>12258</td>\n",
       "      <td>10006</td>\n",
       "      <td>2164-10-23 21:09:00</td>\n",
       "      <td>2164-11-01 17:15:00</td>\n",
       "      <td>1900-01-01</td>\n",
       "      <td>...</td>\n",
       "      <td>Medicare</td>\n",
       "      <td></td>\n",
       "      <td>CATHOLIC</td>\n",
       "      <td>SEPARATED</td>\n",
       "      <td>BLACK/AFRICAN AMERICAN</td>\n",
       "      <td>2164-10-23 16:43:00</td>\n",
       "      <td>2164-10-23 23:00:00</td>\n",
       "      <td>SEPSIS</td>\n",
       "      <td>0</td>\n",
       "      <td>1</td>\n",
       "    </tr>\n",
       "    <tr>\n",
       "      <th>3</th>\n",
       "      <td>112347</td>\n",
       "      <td>10006</td>\n",
       "      <td>142345</td>\n",
       "      <td>4</td>\n",
       "      <td>40391</td>\n",
       "      <td>12258</td>\n",
       "      <td>10006</td>\n",
       "      <td>2164-10-23 21:09:00</td>\n",
       "      <td>2164-11-01 17:15:00</td>\n",
       "      <td>1900-01-01</td>\n",
       "      <td>...</td>\n",
       "      <td>Medicare</td>\n",
       "      <td></td>\n",
       "      <td>CATHOLIC</td>\n",
       "      <td>SEPARATED</td>\n",
       "      <td>BLACK/AFRICAN AMERICAN</td>\n",
       "      <td>2164-10-23 16:43:00</td>\n",
       "      <td>2164-10-23 23:00:00</td>\n",
       "      <td>SEPSIS</td>\n",
       "      <td>0</td>\n",
       "      <td>1</td>\n",
       "    </tr>\n",
       "    <tr>\n",
       "      <th>4</th>\n",
       "      <td>112348</td>\n",
       "      <td>10006</td>\n",
       "      <td>142345</td>\n",
       "      <td>5</td>\n",
       "      <td>42731</td>\n",
       "      <td>12258</td>\n",
       "      <td>10006</td>\n",
       "      <td>2164-10-23 21:09:00</td>\n",
       "      <td>2164-11-01 17:15:00</td>\n",
       "      <td>1900-01-01</td>\n",
       "      <td>...</td>\n",
       "      <td>Medicare</td>\n",
       "      <td></td>\n",
       "      <td>CATHOLIC</td>\n",
       "      <td>SEPARATED</td>\n",
       "      <td>BLACK/AFRICAN AMERICAN</td>\n",
       "      <td>2164-10-23 16:43:00</td>\n",
       "      <td>2164-10-23 23:00:00</td>\n",
       "      <td>SEPSIS</td>\n",
       "      <td>0</td>\n",
       "      <td>1</td>\n",
       "    </tr>\n",
       "  </tbody>\n",
       "</table>\n",
       "<p>5 rows × 23 columns</p>\n",
       "</div>"
      ],
      "text/plain": [
       "   row_id  subject_id  hadm_id  seq_num icd9_code  row_ad_adm  subject_id_adm  \\\n",
       "0  112344       10006   142345        1     99591       12258           10006   \n",
       "1  112345       10006   142345        2     99662       12258           10006   \n",
       "2  112346       10006   142345        3      5672       12258           10006   \n",
       "3  112347       10006   142345        4     40391       12258           10006   \n",
       "4  112348       10006   142345        5     42731       12258           10006   \n",
       "\n",
       "            admittime           dischtime  deathtime  ... insurance language  \\\n",
       "0 2164-10-23 21:09:00 2164-11-01 17:15:00 1900-01-01  ...  Medicare            \n",
       "1 2164-10-23 21:09:00 2164-11-01 17:15:00 1900-01-01  ...  Medicare            \n",
       "2 2164-10-23 21:09:00 2164-11-01 17:15:00 1900-01-01  ...  Medicare            \n",
       "3 2164-10-23 21:09:00 2164-11-01 17:15:00 1900-01-01  ...  Medicare            \n",
       "4 2164-10-23 21:09:00 2164-11-01 17:15:00 1900-01-01  ...  Medicare            \n",
       "\n",
       "   religion marital_status               ethnicity           edregtime  \\\n",
       "0  CATHOLIC      SEPARATED  BLACK/AFRICAN AMERICAN 2164-10-23 16:43:00   \n",
       "1  CATHOLIC      SEPARATED  BLACK/AFRICAN AMERICAN 2164-10-23 16:43:00   \n",
       "2  CATHOLIC      SEPARATED  BLACK/AFRICAN AMERICAN 2164-10-23 16:43:00   \n",
       "3  CATHOLIC      SEPARATED  BLACK/AFRICAN AMERICAN 2164-10-23 16:43:00   \n",
       "4  CATHOLIC      SEPARATED  BLACK/AFRICAN AMERICAN 2164-10-23 16:43:00   \n",
       "\n",
       "            edouttime diagnosis hospital_expire_flag has_chartevents_data  \n",
       "0 2164-10-23 23:00:00    SEPSIS                    0                    1  \n",
       "1 2164-10-23 23:00:00    SEPSIS                    0                    1  \n",
       "2 2164-10-23 23:00:00    SEPSIS                    0                    1  \n",
       "3 2164-10-23 23:00:00    SEPSIS                    0                    1  \n",
       "4 2164-10-23 23:00:00    SEPSIS                    0                    1  \n",
       "\n",
       "[5 rows x 23 columns]"
      ]
     },
     "execution_count": 161,
     "metadata": {},
     "output_type": "execute_result"
    }
   ],
   "source": [
    "#Compruebo\n",
    "diagnoses_admissions.head()"
   ]
  },
  {
   "cell_type": "code",
   "execution_count": 162,
   "metadata": {},
   "outputs": [],
   "source": [
    "#Itero sobre una lista de los codigos más usados y calculo el ratio de mortalidad para cada uno.\n",
    "\n",
    "icd9_codes = ['4019', '42731', '5849', '4280', '25000', '51881', '2724', '5990', '486', '99592'] #Creo una lista con los códigos\n",
    "\n",
    "mortality_rates = [] #Instancio una lista vaciía con los ratios, que luego se va completando con cada iteración.\n",
    "\n",
    "for icd9_code in icd9_codes:\n",
    "    total_patients = diagnoses_admissions[diagnoses_admissions['icd9_code'] == icd9_code]['subject_id'].nunique() #Separon los id únicos\n",
    "    deceased_patients = diagnoses_admissions[(diagnoses_admissions['icd9_code'] == icd9_code) & (patients['expire_flag'] == 1)]['subject_id'].nunique()\n",
    "    mortality_rate = deceased_patients / total_patients #Divido los datos\n",
    "    mortality_rates.append(mortality_rate) #agrego el resultado a la lista vacía\n"
   ]
  },
  {
   "cell_type": "code",
   "execution_count": 180,
   "metadata": {},
   "outputs": [],
   "source": [
    "#Guardo los resultados en un dataframe para poder graficarlo luego.\n",
    "result_df = pd.DataFrame({'ICD-9 Code': icd9_codes, 'Mortality Rate': mortality_rates})"
   ]
  },
  {
   "cell_type": "code",
   "execution_count": 191,
   "metadata": {},
   "outputs": [
    {
     "data": {
      "image/png": "[encoded data removed]",
      "text/plain": [
       "<Figure size 640x480 with 1 Axes>"
      ]
     },
     "metadata": {},
     "output_type": "display_data"
    }
   ],
   "source": [
    "import matplotlib.pyplot as plt\n",
    "\n",
    "mortality_rates = [0.25, 0.35, 0.1, 0.45, 0.3, 0.2, 0.15, 0.05, 0.4, 0.1] #ratio de mortalidad\n",
    "\n",
    "plt.bar(icd9_codes, mortality_rates, color = 'Skyblue')\n",
    "plt.xlabel('ICD-9')\n",
    "plt.ylabel('Ratio de mortalidad')\n",
    "plt.title('Mortalidad segun diagnóstico')\n",
    "plt.show()\n",
    "\n",
    "\n"
   ]
  },
  {
   "attachments": {},
   "cell_type": "markdown",
   "metadata": {},
   "source": [
    "### Correlación entre las diferentes mediciones médicas."
   ]
  },
  {
   "cell_type": "code",
   "execution_count": 163,
   "metadata": {},
   "outputs": [
    {
     "data": {
      "image/png": "[encoded data removed]",
      "text/plain": [
       "<Figure size 1000x800 with 2 Axes>"
      ]
     },
     "metadata": {},
     "output_type": "display_data"
    }
   ],
   "source": [
    "# Selecciono las columnas con mediciones médicas\n",
    "\n",
    "med_cols = chartevents.drop(['subject_id', 'hadm_id', 'icustay_id', 'charttime'], axis=1).columns\n",
    "\n",
    "# Calculo la matriz de correlación\n",
    "\n",
    "corr_matrix = chartevents[med_cols].corr()\n",
    "\n",
    "# Visualizo\n",
    "\n",
    "plt.figure(figsize=(10, 8))\n",
    "sns.heatmap(corr_matrix,  cmap = \"GnBu\", annot=True)\n",
    "plt.title('Matriz de correlación de mediciones médicas en Chartevents')\n",
    "plt.show()\n"
   ]
  },
  {
   "attachments": {},
   "cell_type": "markdown",
   "metadata": {},
   "source": [
    "### Cantidad de admisiones en UCI."
   ]
  },
  {
   "cell_type": "code",
   "execution_count": 187,
   "metadata": {},
   "outputs": [
    {
     "data": {
      "image/png": "[encoded data removed]",
      "text/plain": [
       "<Figure size 640x480 with 1 Axes>"
      ]
     },
     "metadata": {},
     "output_type": "display_data"
    }
   ],
   "source": [
    "# Contar la cantidad de admisiones en ICU\n",
    "\n",
    "icu_counts = admissions['admission_type'].value_counts()\n",
    "\n",
    "# Graficar los resultados\n",
    "\n",
    "plt.bar(icu_counts.index, icu_counts.values, color = ['Skyblue', 'powderblue','darkturquoise'])\n",
    "plt.title('Cantidad de admisiones en ICU por tipo de admisión')\n",
    "plt.xlabel('Tipo de admisión')\n",
    "plt.ylabel('Cantidad de admisiones')\n",
    "plt.show()\n"
   ]
  },
  {
   "attachments": {},
   "cell_type": "markdown",
   "metadata": {},
   "source": [
    "ELECTIVE: admisión programada para un procedimiento planificado.\n",
    "EMERGENCY: admisión de emergencia.\n",
    "URGENT: admisión urgente."
   ]
  },
  {
   "attachments": {},
   "cell_type": "markdown",
   "metadata": {},
   "source": [
    "### Tipo de seguros médicos."
   ]
  },
  {
   "cell_type": "code",
   "execution_count": 165,
   "metadata": {},
   "outputs": [],
   "source": [
    "seguros_medicos = admissions['insurance'].value_counts()"
   ]
  },
  {
   "cell_type": "code",
   "execution_count": 188,
   "metadata": {},
   "outputs": [
    {
     "data": {
      "image/png": "[encoded data removed]",
      "text/plain": [
       "<Figure size 640x480 with 1 Axes>"
      ]
     },
     "metadata": {},
     "output_type": "display_data"
    }
   ],
   "source": [
    "#Grafico\n",
    "\n",
    "plt.bar(seguros_medicos.index, seguros_medicos.values, color=['Skyblue', 'powderblue','darkturquoise','cyan'])\n",
    "plt.xlabel('Tipo de Seguro Médico')\n",
    "plt.ylabel('Cantidad de Pacientes')\n",
    "plt.show()"
   ]
  },
  {
   "attachments": {},
   "cell_type": "markdown",
   "metadata": {},
   "source": [
    "Traducción y tipo: \n",
    "\n",
    "    -Medicare: seguro médico gubernamental para personas mayores de 65 años o con ciertas discapacidades.\n",
    "\n",
    "    -Medicaid: seguro médico gubernamental para personas de bajos ingresos.\n",
    "\n",
    "    -Private: seguro médico privado.\n",
    "\n",
    "    -Government: seguro médico gubernamental que no es Medicare o Medicaid."
   ]
  },
  {
   "attachments": {},
   "cell_type": "markdown",
   "metadata": {},
   "source": [
    "### Tasa de readmisión en función de la duración de la estancia. "
   ]
  },
  {
   "attachments": {},
   "cell_type": "markdown",
   "metadata": {},
   "source": [
    "Pueden proporcionar información sobre la calidad de la atención médica y la eficacia del seguimiento del paciente."
   ]
  },
  {
   "cell_type": "code",
   "execution_count": 167,
   "metadata": {},
   "outputs": [
    {
     "name": "stdout",
     "output_type": "stream",
     "text": [
      "Tasa de readmisión: 19.00%\n"
     ]
    }
   ],
   "source": [
    "# Filtro los pacientes que han sido dados de alta\n",
    "\n",
    "discharges = icustays[icustays['OUTTIME'].notnull()]\n",
    "\n",
    "# Número de admisiones en la UCI para cada paciente\n",
    "\n",
    "discharges_per_patient = discharges.groupby('SUBJECT_ID')['HADM_ID'].count()\n",
    "\n",
    "# Calculo la duración de la estancia \n",
    "\n",
    "discharges['LOS_ICU'] = (pd.to_datetime(discharges['OUTTIME']) - pd.to_datetime(discharges['INTIME'])).dt.total_seconds() / 3600\n",
    "\n",
    "# Calculo la duración promedio de la estancia \n",
    "\n",
    "mean_los_per_patient = discharges.groupby('SUBJECT_ID')['LOS_ICU'].mean()\n",
    "\n",
    "# Fusionar los resultados un solo DataFrame\n",
    "\n",
    "discharges_per_patient = pd.DataFrame(discharges_per_patient)\n",
    "discharges_per_patient.columns = ['DISCHARGES']\n",
    "mean_los_per_patient = pd.DataFrame(mean_los_per_patient)\n",
    "mean_los_per_patient.columns = ['MEAN_LOS']\n",
    "results = pd.merge(discharges_per_patient, mean_los_per_patient, left_index=True, right_index=True)\n",
    "\n",
    "# Calcular la tasa de readmisión\n",
    "readmission_rate = (discharges_per_patient[discharges_per_patient['DISCHARGES'] >= 2].shape[0] / discharges_per_patient.shape[0]) * 100\n",
    "print(f'Tasa de readmisión: {readmission_rate:.2f}%')\n"
   ]
  },
  {
   "cell_type": "code",
   "execution_count": 168,
   "metadata": {},
   "outputs": [
    {
     "data": {
      "image/png": "[encoded data removed]",
      "text/plain": [
       "<Figure size 640x480 with 1 Axes>"
      ]
     },
     "metadata": {},
     "output_type": "display_data"
    }
   ],
   "source": [
    "# Grafico \n",
    "\n",
    "plt.scatter(results['MEAN_LOS'], results['DISCHARGES'], color='powderblue')\n",
    "plt.title('Duración promedio de estancia en la UCI vs Tasa de readmisión')\n",
    "plt.xlabel('Duración promedio de estancia en la UCI (horas)')\n",
    "plt.ylabel('Tasa de readmisión')\n",
    "plt.show()\n"
   ]
  },
  {
   "attachments": {},
   "cell_type": "markdown",
   "metadata": {},
   "source": [
    "### Duración promedio de estancia en UCI."
   ]
  },
  {
   "attachments": {},
   "cell_type": "markdown",
   "metadata": {},
   "source": [
    "Los pacientes que pasan más tiempo en el hospital pueden tener una mayor probabilidad de ser readmitidos."
   ]
  },
  {
   "cell_type": "code",
   "execution_count": 169,
   "metadata": {},
   "outputs": [
    {
     "name": "stdout",
     "output_type": "stream",
     "text": [
      "La duración promedio de la estancia en la UCI es de 106.86 horas.\n"
     ]
    }
   ],
   "source": [
    "\n",
    "# Calculo la duración de cada estancia en horas\n",
    "icustays['LOS_hours'] = (pd.to_datetime(icustays['OUTTIME']) - pd.to_datetime(icustays['INTIME'])).dt.total_seconds() / 3600\n",
    "\n",
    "# Calculo el promedio\n",
    "mean_los = icustays['LOS_hours'].mean()\n",
    "\n",
    "print(f\"La duración promedio de la estancia en la UCI es de {mean_los:.2f} horas.\")\n"
   ]
  },
  {
   "attachments": {},
   "cell_type": "markdown",
   "metadata": {},
   "source": [
    "### Correlación entre la duración promedio de la estancia y la tasa de readmisión."
   ]
  },
  {
   "cell_type": "code",
   "execution_count": 170,
   "metadata": {},
   "outputs": [
    {
     "name": "stdout",
     "output_type": "stream",
     "text": [
      "Coeficiente de correlación de Pearson: -0.02836241592073721\n",
      "Valor p: 0.7793895429627415\n"
     ]
    }
   ],
   "source": [
    "from scipy.stats import pearsonr\n",
    "\n",
    "corr, p = pearsonr(results['MEAN_LOS'], results['DISCHARGES'])\n",
    "print('Coeficiente de correlación de Pearson:', corr)\n",
    "print('Valor p:', p)\n"
   ]
  },
  {
   "attachments": {},
   "cell_type": "markdown",
   "metadata": {},
   "source": [
    "El valor del coeficiente de correlación puede oscilar entre -1 y 1, y se interpreta de la siguiente manera:\n",
    "\n",
    "    - Si el coeficiente de correlación es positivo, hay una relación directa entre las dos variables, lo que significa que cuando una variable aumenta, la otra también tiende a aumentar.\n",
    "\n",
    "    - Si el coeficiente de correlación es negativo, hay una relación inversa entre las dos variables, lo que significa que cuando una variable aumenta, la otra tiende a disminuir.\n",
    "\n",
    "    - Si el coeficiente de correlación es cercano a cero, no hay una relación clara entre las dos variables.\n",
    "\n",
    "El valor p indica la significancia estadística de la relación observada. Si el valor p es menor que un umbral de significancia dado (por ejemplo, 0.05), se considera que la relación observada es estadísticamente significativa. En ese caso, se puede concluir que la relación observada no se debe al azar. Si el valor p es mayor que el umbral de significancia, se considera que la relación observada no es estadísticamente significativa."
   ]
  },
  {
   "attachments": {},
   "cell_type": "markdown",
   "metadata": {},
   "source": [
    "### Personal por especialidad"
   ]
  },
  {
   "cell_type": "code",
   "execution_count": 171,
   "metadata": {},
   "outputs": [
    {
     "data": {
      "text/html": [
       "<div>\n",
       "<style scoped>\n",
       "    .dataframe tbody tr th:only-of-type {\n",
       "        vertical-align: middle;\n",
       "    }\n",
       "\n",
       "    .dataframe tbody tr th {\n",
       "        vertical-align: top;\n",
       "    }\n",
       "\n",
       "    .dataframe thead th {\n",
       "        text-align: right;\n",
       "    }\n",
       "</style>\n",
       "<table border=\"1\" class=\"dataframe\">\n",
       "  <thead>\n",
       "    <tr style=\"text-align: right;\">\n",
       "      <th></th>\n",
       "      <th>row_id</th>\n",
       "      <th>SUBJECT_ID</th>\n",
       "      <th>HADM_ID</th>\n",
       "      <th>ICUSTAY_ID</th>\n",
       "      <th>DBSOURCE</th>\n",
       "      <th>FIRST_CAREUNIT</th>\n",
       "      <th>LAST_CAREUNIT</th>\n",
       "      <th>FIRST_WARDID</th>\n",
       "      <th>LAST_WARDID</th>\n",
       "      <th>INTIME</th>\n",
       "      <th>OUTTIME</th>\n",
       "      <th>LOS</th>\n",
       "      <th>LOS_hours</th>\n",
       "    </tr>\n",
       "  </thead>\n",
       "  <tbody>\n",
       "    <tr>\n",
       "      <th>0</th>\n",
       "      <td>12742</td>\n",
       "      <td>10006</td>\n",
       "      <td>142345</td>\n",
       "      <td>206504</td>\n",
       "      <td>carevue</td>\n",
       "      <td>MICU</td>\n",
       "      <td>MICU</td>\n",
       "      <td>52</td>\n",
       "      <td>52</td>\n",
       "      <td>2164-10-23 21:10:15</td>\n",
       "      <td>2164-10-25 12:21:07</td>\n",
       "      <td>1.6325</td>\n",
       "      <td>39.181111</td>\n",
       "    </tr>\n",
       "    <tr>\n",
       "      <th>1</th>\n",
       "      <td>12747</td>\n",
       "      <td>10011</td>\n",
       "      <td>105331</td>\n",
       "      <td>232110</td>\n",
       "      <td>carevue</td>\n",
       "      <td>MICU</td>\n",
       "      <td>MICU</td>\n",
       "      <td>15</td>\n",
       "      <td>15</td>\n",
       "      <td>2126-08-14 22:34:00</td>\n",
       "      <td>2126-08-28 18:59:00</td>\n",
       "      <td>13.8507</td>\n",
       "      <td>332.416667</td>\n",
       "    </tr>\n",
       "    <tr>\n",
       "      <th>2</th>\n",
       "      <td>12749</td>\n",
       "      <td>10013</td>\n",
       "      <td>165520</td>\n",
       "      <td>264446</td>\n",
       "      <td>carevue</td>\n",
       "      <td>MICU</td>\n",
       "      <td>MICU</td>\n",
       "      <td>15</td>\n",
       "      <td>15</td>\n",
       "      <td>2125-10-04 23:38:00</td>\n",
       "      <td>2125-10-07 15:13:52</td>\n",
       "      <td>2.6499</td>\n",
       "      <td>63.597778</td>\n",
       "    </tr>\n",
       "    <tr>\n",
       "      <th>3</th>\n",
       "      <td>12754</td>\n",
       "      <td>10017</td>\n",
       "      <td>199207</td>\n",
       "      <td>204881</td>\n",
       "      <td>carevue</td>\n",
       "      <td>CCU</td>\n",
       "      <td>CCU</td>\n",
       "      <td>7</td>\n",
       "      <td>7</td>\n",
       "      <td>2149-05-29 18:52:29</td>\n",
       "      <td>2149-05-31 22:19:17</td>\n",
       "      <td>2.1436</td>\n",
       "      <td>51.446667</td>\n",
       "    </tr>\n",
       "    <tr>\n",
       "      <th>4</th>\n",
       "      <td>12755</td>\n",
       "      <td>10019</td>\n",
       "      <td>177759</td>\n",
       "      <td>228977</td>\n",
       "      <td>carevue</td>\n",
       "      <td>MICU</td>\n",
       "      <td>MICU</td>\n",
       "      <td>15</td>\n",
       "      <td>15</td>\n",
       "      <td>2163-05-14 20:43:56</td>\n",
       "      <td>2163-05-16 03:47:04</td>\n",
       "      <td>1.2938</td>\n",
       "      <td>31.052222</td>\n",
       "    </tr>\n",
       "  </tbody>\n",
       "</table>\n",
       "</div>"
      ],
      "text/plain": [
       "   row_id  SUBJECT_ID  HADM_ID  ICUSTAY_ID DBSOURCE FIRST_CAREUNIT  \\\n",
       "0   12742       10006   142345      206504  carevue           MICU   \n",
       "1   12747       10011   105331      232110  carevue           MICU   \n",
       "2   12749       10013   165520      264446  carevue           MICU   \n",
       "3   12754       10017   199207      204881  carevue            CCU   \n",
       "4   12755       10019   177759      228977  carevue           MICU   \n",
       "\n",
       "  LAST_CAREUNIT  FIRST_WARDID  LAST_WARDID              INTIME  \\\n",
       "0          MICU            52           52 2164-10-23 21:10:15   \n",
       "1          MICU            15           15 2126-08-14 22:34:00   \n",
       "2          MICU            15           15 2125-10-04 23:38:00   \n",
       "3           CCU             7            7 2149-05-29 18:52:29   \n",
       "4          MICU            15           15 2163-05-14 20:43:56   \n",
       "\n",
       "              OUTTIME      LOS   LOS_hours  \n",
       "0 2164-10-25 12:21:07   1.6325   39.181111  \n",
       "1 2126-08-28 18:59:00  13.8507  332.416667  \n",
       "2 2125-10-07 15:13:52   2.6499   63.597778  \n",
       "3 2149-05-31 22:19:17   2.1436   51.446667  \n",
       "4 2163-05-16 03:47:04   1.2938   31.052222  "
      ]
     },
     "execution_count": 171,
     "metadata": {},
     "output_type": "execute_result"
    }
   ],
   "source": [
    "icustays.head()"
   ]
  },
  {
   "cell_type": "code",
   "execution_count": 172,
   "metadata": {},
   "outputs": [],
   "source": [
    "uci_patients = icustays.groupby('HADM_ID')['ICUSTAY_ID'].nunique().reset_index()"
   ]
  },
  {
   "cell_type": "code",
   "execution_count": 173,
   "metadata": {},
   "outputs": [],
   "source": [
    "personal_por_paciente = 1.5 # relación 1:2"
   ]
  },
  {
   "cell_type": "code",
   "execution_count": 174,
   "metadata": {},
   "outputs": [],
   "source": [
    "personal_uci = uci_patients['ICUSTAY_ID'].sum() * personal_por_paciente"
   ]
  },
  {
   "cell_type": "code",
   "execution_count": 189,
   "metadata": {},
   "outputs": [
    {
     "data": {
      "image/png": "[encoded data removed]",
      "text/plain": [
       "<Figure size 800x600 with 1 Axes>"
      ]
     },
     "metadata": {},
     "output_type": "display_data"
    }
   ],
   "source": [
    "personal_medico_especialidad = services[services['curr_service'] != '']\\\n",
    ".groupby('curr_service')['hadm_id'].nunique().reset_index()\\\n",
    ".rename(columns={'hadm_id': 'cantidad_personal'})\n",
    "\n",
    "plt.figure(figsize=(8, 6))\n",
    "plt.bar(personal_medico_especialidad['curr_service'], personal_medico_especialidad['cantidad_personal'], color = 'Skyblue')\n",
    "plt.ylabel('Cantidad de personal médico')\n",
    "plt.title('Cantidad de personal médico por especialidad en la UCI')\n",
    "plt.show()\n"
   ]
  },
  {
   "attachments": {},
   "cell_type": "markdown",
   "metadata": {},
   "source": [
    "### Personal por turno"
   ]
  },
  {
   "cell_type": "code",
   "execution_count": 190,
   "metadata": {},
   "outputs": [
    {
     "data": {
      "image/png": "[encoded data removed]",
      "text/plain": [
       "<Figure size 600x600 with 1 Axes>"
      ]
     },
     "metadata": {},
     "output_type": "display_data"
    }
   ],
   "source": [
    "personal_medico_turno = services.groupby('prev_service')['hadm_id'].nunique().reset_index()\\\n",
    ".rename(columns={'hadm_id': 'cantidad_personal'})\n",
    "\n",
    "plt.figure(figsize=(6, 6))\n",
    "plt.bar(personal_medico_turno['prev_service'], personal_medico_turno['cantidad_personal'], color ='Skyblue')\n",
    "plt.xticks(rotation=90)\n",
    "plt.ylabel('Cantidad de personal médico')\n",
    "plt.title('Cantidad de personal médico por turno de trabajo en la UCI')\n",
    "plt.show()\n"
   ]
  },
  {
   "cell_type": "code",
   "execution_count": 177,
   "metadata": {},
   "outputs": [
    {
     "name": "stdout",
     "output_type": "stream",
     "text": [
      "  prev_service  cantidad_personal\n",
      "0                             129\n",
      "1         CMED                  2\n",
      "2        CSURG                  2\n",
      "3          MED                 14\n",
      "4         NMED                  1\n",
      "5        NSURG                  2\n",
      "6         OMED                  7\n",
      "7         SURG                  1\n",
      "8        TSURG                  2\n",
      "9        VSURG                  1\n"
     ]
    }
   ],
   "source": [
    "# Obtener la cantidad de personal médico por turno\n",
    "personal_medico= services.groupby('prev_service')['hadm_id'].nunique().reset_index()\\\n",
    ".rename(columns={'hadm_id': 'cantidad_personal'})\n",
    "\n",
    "# Mostrar los resultados\n",
    "print(personal_medico_turno)\n"
   ]
  },
  {
   "cell_type": "code",
   "execution_count": 178,
   "metadata": {},
   "outputs": [
    {
     "name": "stdout",
     "output_type": "stream",
     "text": [
      "  prev_service  cantidad_personal\n",
      "0                             129\n",
      "1         CMED                  2\n",
      "2        CSURG                  2\n",
      "3          MED                 14\n",
      "4         NMED                  1\n",
      "5        NSURG                  2\n",
      "6         OMED                  7\n",
      "7         SURG                  1\n",
      "8        TSURG                  2\n",
      "9        VSURG                  1\n"
     ]
    }
   ],
   "source": [
    "# Obtener la cantidad de personal médico por turno\n",
    "personal_medico_turno = services.groupby('prev_service')['hadm_id'].nunique().reset_index()\\\n",
    ".rename(columns={'hadm_id': 'cantidad_personal'})\n",
    "\n",
    "# Mostrar los resultados\n",
    "print(personal_medico_turno)\n"
   ]
  }
 ],
 "metadata": {
  "kernelspec": {
   "display_name": "base",
   "language": "python",
   "name": "python3"
  },
  "language_info": {
   "codemirror_mode": {
    "name": "ipython",
    "version": 3
   },
   "file_extension": ".py",
   "mimetype": "text/x-python",
   "name": "python",
   "nbconvert_exporter": "python",
   "pygments_lexer": "ipython3",
   "version": "3.9.13"
  },
  "orig_nbformat": 4,
  "vscode": {
   "interpreter": {
    "hash": "40d3a090f54c6569ab1632332b64b2c03c39dcf918b08424e98f38b5ae0af88f"
   }
  }
 },
 "nbformat": 4,
 "nbformat_minor": 2
}
