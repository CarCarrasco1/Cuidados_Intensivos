{
 "cells": [
  {
   "cell_type": "code",
   "execution_count": 1,
   "metadata": {},
   "outputs": [],
   "source": [
    "import pandas as pd\n",
    "import numpy as np\n",
    "import matplotlib.pyplot as plt\n",
    "import seaborn as sns"
   ]
  },
  {
   "cell_type": "code",
   "execution_count": 2,
   "metadata": {},
   "outputs": [],
   "source": [
    "# Conexión a un archivo CSV preprocesado perteneciente a la DB MIMIC-III\n",
    "# Lectura del archivo CSV en un DataFrame de Pandas\n",
    "df = pd.read_csv(r'C:\\Users\\rocio\\OneDrive\\Escritorio\\henry\\M6\\Clase 01\\mimic\\modelo.csv')"
   ]
  },
  {
   "cell_type": "code",
   "execution_count": 3,
   "metadata": {},
   "outputs": [
    {
     "data": {
      "text/html": [
       "<div>\n",
       "<style scoped>\n",
       "    .dataframe tbody tr th:only-of-type {\n",
       "        vertical-align: middle;\n",
       "    }\n",
       "\n",
       "    .dataframe tbody tr th {\n",
       "        vertical-align: top;\n",
       "    }\n",
       "\n",
       "    .dataframe thead th {\n",
       "        text-align: right;\n",
       "    }\n",
       "</style>\n",
       "<table border=\"1\" class=\"dataframe\">\n",
       "  <thead>\n",
       "    <tr style=\"text-align: right;\">\n",
       "      <th></th>\n",
       "      <th>subject_id</th>\n",
       "      <th>fecha</th>\n",
       "      <th>Arterial BP [Systolic]</th>\n",
       "      <th>Arterial Blood Pressure mean</th>\n",
       "      <th>Arterial Blood Pressure systolic</th>\n",
       "      <th>Bicarbonate</th>\n",
       "      <th>Bilirubin, Total</th>\n",
       "      <th>Creatinine</th>\n",
       "      <th>GCS Total</th>\n",
       "      <th>Heart Rate</th>\n",
       "      <th>Platelet Count</th>\n",
       "      <th>Potassium, Whole Blood</th>\n",
       "      <th>Respiratory Rate</th>\n",
       "      <th>Sodium, Whole Blood</th>\n",
       "      <th>Temperature Fahrenheit</th>\n",
       "      <th>Urea Nitrogen</th>\n",
       "      <th>Vancomycin/Random</th>\n",
       "      <th>WBC Count</th>\n",
       "      <th>pO2</th>\n",
       "    </tr>\n",
       "  </thead>\n",
       "  <tbody>\n",
       "    <tr>\n",
       "      <th>0</th>\n",
       "      <td>10006</td>\n",
       "      <td>2164-09-24</td>\n",
       "      <td>NaN</td>\n",
       "      <td>NaN</td>\n",
       "      <td>NaN</td>\n",
       "      <td>27.0</td>\n",
       "      <td>NaN</td>\n",
       "      <td>7.0</td>\n",
       "      <td>NaN</td>\n",
       "      <td>NaN</td>\n",
       "      <td>157.0</td>\n",
       "      <td>NaN</td>\n",
       "      <td>NaN</td>\n",
       "      <td>NaN</td>\n",
       "      <td>NaN</td>\n",
       "      <td>31.0</td>\n",
       "      <td>NaN</td>\n",
       "      <td>NaN</td>\n",
       "      <td>NaN</td>\n",
       "    </tr>\n",
       "    <tr>\n",
       "      <th>1</th>\n",
       "      <td>10006</td>\n",
       "      <td>2164-09-25</td>\n",
       "      <td>NaN</td>\n",
       "      <td>NaN</td>\n",
       "      <td>NaN</td>\n",
       "      <td>28.0</td>\n",
       "      <td>NaN</td>\n",
       "      <td>7.4</td>\n",
       "      <td>NaN</td>\n",
       "      <td>NaN</td>\n",
       "      <td>168.0</td>\n",
       "      <td>NaN</td>\n",
       "      <td>NaN</td>\n",
       "      <td>NaN</td>\n",
       "      <td>NaN</td>\n",
       "      <td>34.0</td>\n",
       "      <td>NaN</td>\n",
       "      <td>NaN</td>\n",
       "      <td>NaN</td>\n",
       "    </tr>\n",
       "    <tr>\n",
       "      <th>2</th>\n",
       "      <td>10006</td>\n",
       "      <td>2164-09-26</td>\n",
       "      <td>NaN</td>\n",
       "      <td>NaN</td>\n",
       "      <td>NaN</td>\n",
       "      <td>28.0</td>\n",
       "      <td>NaN</td>\n",
       "      <td>8.3</td>\n",
       "      <td>NaN</td>\n",
       "      <td>NaN</td>\n",
       "      <td>152.0</td>\n",
       "      <td>NaN</td>\n",
       "      <td>NaN</td>\n",
       "      <td>NaN</td>\n",
       "      <td>NaN</td>\n",
       "      <td>42.0</td>\n",
       "      <td>NaN</td>\n",
       "      <td>NaN</td>\n",
       "      <td>NaN</td>\n",
       "    </tr>\n",
       "    <tr>\n",
       "      <th>3</th>\n",
       "      <td>10006</td>\n",
       "      <td>2164-09-27</td>\n",
       "      <td>NaN</td>\n",
       "      <td>NaN</td>\n",
       "      <td>NaN</td>\n",
       "      <td>NaN</td>\n",
       "      <td>NaN</td>\n",
       "      <td>NaN</td>\n",
       "      <td>NaN</td>\n",
       "      <td>NaN</td>\n",
       "      <td>127.0</td>\n",
       "      <td>NaN</td>\n",
       "      <td>NaN</td>\n",
       "      <td>NaN</td>\n",
       "      <td>NaN</td>\n",
       "      <td>NaN</td>\n",
       "      <td>NaN</td>\n",
       "      <td>NaN</td>\n",
       "      <td>NaN</td>\n",
       "    </tr>\n",
       "    <tr>\n",
       "      <th>4</th>\n",
       "      <td>10006</td>\n",
       "      <td>2164-09-28</td>\n",
       "      <td>NaN</td>\n",
       "      <td>NaN</td>\n",
       "      <td>NaN</td>\n",
       "      <td>27.0</td>\n",
       "      <td>NaN</td>\n",
       "      <td>6.2</td>\n",
       "      <td>NaN</td>\n",
       "      <td>NaN</td>\n",
       "      <td>NaN</td>\n",
       "      <td>NaN</td>\n",
       "      <td>NaN</td>\n",
       "      <td>NaN</td>\n",
       "      <td>NaN</td>\n",
       "      <td>28.0</td>\n",
       "      <td>NaN</td>\n",
       "      <td>NaN</td>\n",
       "      <td>NaN</td>\n",
       "    </tr>\n",
       "  </tbody>\n",
       "</table>\n",
       "</div>"
      ],
      "text/plain": [
       "   subject_id       fecha  Arterial BP [Systolic]  \\\n",
       "0       10006  2164-09-24                     NaN   \n",
       "1       10006  2164-09-25                     NaN   \n",
       "2       10006  2164-09-26                     NaN   \n",
       "3       10006  2164-09-27                     NaN   \n",
       "4       10006  2164-09-28                     NaN   \n",
       "\n",
       "   Arterial Blood Pressure mean  Arterial Blood Pressure systolic  \\\n",
       "0                           NaN                               NaN   \n",
       "1                           NaN                               NaN   \n",
       "2                           NaN                               NaN   \n",
       "3                           NaN                               NaN   \n",
       "4                           NaN                               NaN   \n",
       "\n",
       "   Bicarbonate  Bilirubin, Total  Creatinine  GCS Total  Heart Rate  \\\n",
       "0         27.0               NaN         7.0        NaN         NaN   \n",
       "1         28.0               NaN         7.4        NaN         NaN   \n",
       "2         28.0               NaN         8.3        NaN         NaN   \n",
       "3          NaN               NaN         NaN        NaN         NaN   \n",
       "4         27.0               NaN         6.2        NaN         NaN   \n",
       "\n",
       "   Platelet Count  Potassium, Whole Blood  Respiratory Rate  \\\n",
       "0           157.0                     NaN               NaN   \n",
       "1           168.0                     NaN               NaN   \n",
       "2           152.0                     NaN               NaN   \n",
       "3           127.0                     NaN               NaN   \n",
       "4             NaN                     NaN               NaN   \n",
       "\n",
       "   Sodium, Whole Blood  Temperature Fahrenheit  Urea Nitrogen  \\\n",
       "0                  NaN                     NaN           31.0   \n",
       "1                  NaN                     NaN           34.0   \n",
       "2                  NaN                     NaN           42.0   \n",
       "3                  NaN                     NaN            NaN   \n",
       "4                  NaN                     NaN           28.0   \n",
       "\n",
       "   Vancomycin/Random  WBC Count  pO2  \n",
       "0                NaN        NaN  NaN  \n",
       "1                NaN        NaN  NaN  \n",
       "2                NaN        NaN  NaN  \n",
       "3                NaN        NaN  NaN  \n",
       "4                NaN        NaN  NaN  "
      ]
     },
     "execution_count": 3,
     "metadata": {},
     "output_type": "execute_result"
    }
   ],
   "source": [
    "df.head()"
   ]
  },
  {
   "cell_type": "code",
   "execution_count": 4,
   "metadata": {},
   "outputs": [],
   "source": [
    "# Renombra las columnas del DataFrame\n",
    "df = df.rename(columns={\n",
    "    'subject_id': 'paciente',\n",
    "    'fecha': 'fecha',\n",
    "    'Arterial BP [Systolic]': 'PAS',\n",
    "    'Arterial Blood Pressure mean': 'PAM',\n",
    "    'Arterial Blood Pressure systolic': 'sistolica',\n",
    "    'Bicarbonate': 'bicarbonato',\n",
    "    'Bilirubin, Total': 'bilirrubina',\n",
    "    'Creatinine': 'creatinina',\n",
    "    'GCS Total': 'GCS',\n",
    "    'Heart Rate': 'ritmo_cardiaco',\n",
    "    'Platelet Count': 'plaquetas',\n",
    "    'Potassium, Whole Blood': 'potasio',\n",
    "    'Whole Blood': 'sangre_total',\n",
    "    'Respiratory Rate': 'ritmo_respiratorio',\n",
    "    'Sodium, Whole Blood': 'sodio',\n",
    "    'Temperature Fahrenheit': 'temperatura_F',\n",
    "    'Urea Nitrogen': 'urea',\n",
    "    'Vancomycin/Random': 'vancomicina',\n",
    "    'WBC Count': 'glucemia',\n",
    "    'pO2': 'pO2'\n",
    "})\n"
   ]
  },
  {
   "cell_type": "code",
   "execution_count": 5,
   "metadata": {},
   "outputs": [
    {
     "data": {
      "text/html": [
       "<div>\n",
       "<style scoped>\n",
       "    .dataframe tbody tr th:only-of-type {\n",
       "        vertical-align: middle;\n",
       "    }\n",
       "\n",
       "    .dataframe tbody tr th {\n",
       "        vertical-align: top;\n",
       "    }\n",
       "\n",
       "    .dataframe thead th {\n",
       "        text-align: right;\n",
       "    }\n",
       "</style>\n",
       "<table border=\"1\" class=\"dataframe\">\n",
       "  <thead>\n",
       "    <tr style=\"text-align: right;\">\n",
       "      <th></th>\n",
       "      <th>paciente</th>\n",
       "      <th>fecha</th>\n",
       "      <th>PAS</th>\n",
       "      <th>PAM</th>\n",
       "      <th>sistolica</th>\n",
       "      <th>bicarbonato</th>\n",
       "      <th>bilirrubina</th>\n",
       "      <th>creatinina</th>\n",
       "      <th>GCS</th>\n",
       "      <th>ritmo_cardiaco</th>\n",
       "      <th>plaquetas</th>\n",
       "      <th>potasio</th>\n",
       "      <th>ritmo_respiratorio</th>\n",
       "      <th>sodio</th>\n",
       "      <th>temperatura_F</th>\n",
       "      <th>urea</th>\n",
       "      <th>vancomicina</th>\n",
       "      <th>glucemia</th>\n",
       "      <th>pO2</th>\n",
       "    </tr>\n",
       "  </thead>\n",
       "  <tbody>\n",
       "    <tr>\n",
       "      <th>0</th>\n",
       "      <td>10006</td>\n",
       "      <td>2164-09-24</td>\n",
       "      <td>NaN</td>\n",
       "      <td>NaN</td>\n",
       "      <td>NaN</td>\n",
       "      <td>27.0</td>\n",
       "      <td>NaN</td>\n",
       "      <td>7.0</td>\n",
       "      <td>NaN</td>\n",
       "      <td>NaN</td>\n",
       "      <td>157.0</td>\n",
       "      <td>NaN</td>\n",
       "      <td>NaN</td>\n",
       "      <td>NaN</td>\n",
       "      <td>NaN</td>\n",
       "      <td>31.0</td>\n",
       "      <td>NaN</td>\n",
       "      <td>NaN</td>\n",
       "      <td>NaN</td>\n",
       "    </tr>\n",
       "    <tr>\n",
       "      <th>1</th>\n",
       "      <td>10006</td>\n",
       "      <td>2164-09-25</td>\n",
       "      <td>NaN</td>\n",
       "      <td>NaN</td>\n",
       "      <td>NaN</td>\n",
       "      <td>28.0</td>\n",
       "      <td>NaN</td>\n",
       "      <td>7.4</td>\n",
       "      <td>NaN</td>\n",
       "      <td>NaN</td>\n",
       "      <td>168.0</td>\n",
       "      <td>NaN</td>\n",
       "      <td>NaN</td>\n",
       "      <td>NaN</td>\n",
       "      <td>NaN</td>\n",
       "      <td>34.0</td>\n",
       "      <td>NaN</td>\n",
       "      <td>NaN</td>\n",
       "      <td>NaN</td>\n",
       "    </tr>\n",
       "    <tr>\n",
       "      <th>2</th>\n",
       "      <td>10006</td>\n",
       "      <td>2164-09-26</td>\n",
       "      <td>NaN</td>\n",
       "      <td>NaN</td>\n",
       "      <td>NaN</td>\n",
       "      <td>28.0</td>\n",
       "      <td>NaN</td>\n",
       "      <td>8.3</td>\n",
       "      <td>NaN</td>\n",
       "      <td>NaN</td>\n",
       "      <td>152.0</td>\n",
       "      <td>NaN</td>\n",
       "      <td>NaN</td>\n",
       "      <td>NaN</td>\n",
       "      <td>NaN</td>\n",
       "      <td>42.0</td>\n",
       "      <td>NaN</td>\n",
       "      <td>NaN</td>\n",
       "      <td>NaN</td>\n",
       "    </tr>\n",
       "    <tr>\n",
       "      <th>3</th>\n",
       "      <td>10006</td>\n",
       "      <td>2164-09-27</td>\n",
       "      <td>NaN</td>\n",
       "      <td>NaN</td>\n",
       "      <td>NaN</td>\n",
       "      <td>NaN</td>\n",
       "      <td>NaN</td>\n",
       "      <td>NaN</td>\n",
       "      <td>NaN</td>\n",
       "      <td>NaN</td>\n",
       "      <td>127.0</td>\n",
       "      <td>NaN</td>\n",
       "      <td>NaN</td>\n",
       "      <td>NaN</td>\n",
       "      <td>NaN</td>\n",
       "      <td>NaN</td>\n",
       "      <td>NaN</td>\n",
       "      <td>NaN</td>\n",
       "      <td>NaN</td>\n",
       "    </tr>\n",
       "    <tr>\n",
       "      <th>4</th>\n",
       "      <td>10006</td>\n",
       "      <td>2164-09-28</td>\n",
       "      <td>NaN</td>\n",
       "      <td>NaN</td>\n",
       "      <td>NaN</td>\n",
       "      <td>27.0</td>\n",
       "      <td>NaN</td>\n",
       "      <td>6.2</td>\n",
       "      <td>NaN</td>\n",
       "      <td>NaN</td>\n",
       "      <td>NaN</td>\n",
       "      <td>NaN</td>\n",
       "      <td>NaN</td>\n",
       "      <td>NaN</td>\n",
       "      <td>NaN</td>\n",
       "      <td>28.0</td>\n",
       "      <td>NaN</td>\n",
       "      <td>NaN</td>\n",
       "      <td>NaN</td>\n",
       "    </tr>\n",
       "  </tbody>\n",
       "</table>\n",
       "</div>"
      ],
      "text/plain": [
       "   paciente       fecha  PAS  PAM  sistolica  bicarbonato  bilirrubina  \\\n",
       "0     10006  2164-09-24  NaN  NaN        NaN         27.0          NaN   \n",
       "1     10006  2164-09-25  NaN  NaN        NaN         28.0          NaN   \n",
       "2     10006  2164-09-26  NaN  NaN        NaN         28.0          NaN   \n",
       "3     10006  2164-09-27  NaN  NaN        NaN          NaN          NaN   \n",
       "4     10006  2164-09-28  NaN  NaN        NaN         27.0          NaN   \n",
       "\n",
       "   creatinina  GCS  ritmo_cardiaco  plaquetas  potasio  ritmo_respiratorio  \\\n",
       "0         7.0  NaN             NaN      157.0      NaN                 NaN   \n",
       "1         7.4  NaN             NaN      168.0      NaN                 NaN   \n",
       "2         8.3  NaN             NaN      152.0      NaN                 NaN   \n",
       "3         NaN  NaN             NaN      127.0      NaN                 NaN   \n",
       "4         6.2  NaN             NaN        NaN      NaN                 NaN   \n",
       "\n",
       "   sodio  temperatura_F  urea  vancomicina  glucemia  pO2  \n",
       "0    NaN            NaN  31.0          NaN       NaN  NaN  \n",
       "1    NaN            NaN  34.0          NaN       NaN  NaN  \n",
       "2    NaN            NaN  42.0          NaN       NaN  NaN  \n",
       "3    NaN            NaN   NaN          NaN       NaN  NaN  \n",
       "4    NaN            NaN  28.0          NaN       NaN  NaN  "
      ]
     },
     "execution_count": 5,
     "metadata": {},
     "output_type": "execute_result"
    }
   ],
   "source": [
    "#Visualizo\n",
    "df.head()"
   ]
  },
  {
   "cell_type": "code",
   "execution_count": 6,
   "metadata": {},
   "outputs": [
    {
     "name": "stdout",
     "output_type": "stream",
     "text": [
      "paciente               100\n",
      "fecha                 1649\n",
      "PAS                     80\n",
      "PAM                     58\n",
      "sistolica               73\n",
      "bicarbonato             40\n",
      "bilirrubina            116\n",
      "creatinina              92\n",
      "GCS                     14\n",
      "ritmo_cardiaco          84\n",
      "plaquetas              456\n",
      "potasio                 35\n",
      "ritmo_respiratorio      36\n",
      "sodio                   18\n",
      "temperatura_F           68\n",
      "urea                   135\n",
      "vancomicina             47\n",
      "glucemia                 1\n",
      "pO2                    182\n",
      "dtype: int64\n"
     ]
    }
   ],
   "source": [
    "#Verifico si todos los registros son unicos\n",
    "count = df.nunique()\n",
    "print(count)"
   ]
  },
  {
   "cell_type": "code",
   "execution_count": 7,
   "metadata": {},
   "outputs": [
    {
     "name": "stdout",
     "output_type": "stream",
     "text": [
      "0       13\n",
      "1       13\n",
      "2       13\n",
      "3       16\n",
      "4       14\n",
      "        ..\n",
      "1713    12\n",
      "1714    13\n",
      "1715    13\n",
      "1716    13\n",
      "1717    16\n",
      "Length: 1718, dtype: int64\n"
     ]
    }
   ],
   "source": [
    "# Cuenta la cantidad de valores nulos en cada fila del DataFrame\n",
    "null_counts = df.isnull().sum(axis=1)\n",
    "\n",
    "# Imprime los resultados\n",
    "print(null_counts)\n"
   ]
  },
  {
   "cell_type": "code",
   "execution_count": 8,
   "metadata": {},
   "outputs": [],
   "source": [
    "#Elimino aquellos registros cuyos nulos sean >60 % (ya que si tiene tantos valores faltantes no me va a servir para entrenar el modelo)\n",
    "\n",
    "# Define el umbral de valores no nulos\n",
    "threshold = len(df.columns) * 0.4\n",
    "\n",
    "# Elimina las filas que no cumplen el umbral de valores no nulos\n",
    "df = df.dropna(thresh=threshold)\n"
   ]
  },
  {
   "cell_type": "code",
   "execution_count": 9,
   "metadata": {},
   "outputs": [
    {
     "data": {
      "text/html": [
       "<div>\n",
       "<style scoped>\n",
       "    .dataframe tbody tr th:only-of-type {\n",
       "        vertical-align: middle;\n",
       "    }\n",
       "\n",
       "    .dataframe tbody tr th {\n",
       "        vertical-align: top;\n",
       "    }\n",
       "\n",
       "    .dataframe thead th {\n",
       "        text-align: right;\n",
       "    }\n",
       "</style>\n",
       "<table border=\"1\" class=\"dataframe\">\n",
       "  <thead>\n",
       "    <tr style=\"text-align: right;\">\n",
       "      <th></th>\n",
       "      <th>paciente</th>\n",
       "      <th>fecha</th>\n",
       "      <th>PAS</th>\n",
       "      <th>PAM</th>\n",
       "      <th>sistolica</th>\n",
       "      <th>bicarbonato</th>\n",
       "      <th>bilirrubina</th>\n",
       "      <th>creatinina</th>\n",
       "      <th>GCS</th>\n",
       "      <th>ritmo_cardiaco</th>\n",
       "      <th>plaquetas</th>\n",
       "      <th>potasio</th>\n",
       "      <th>ritmo_respiratorio</th>\n",
       "      <th>sodio</th>\n",
       "      <th>temperatura_F</th>\n",
       "      <th>urea</th>\n",
       "      <th>vancomicina</th>\n",
       "      <th>glucemia</th>\n",
       "      <th>pO2</th>\n",
       "    </tr>\n",
       "  </thead>\n",
       "  <tbody>\n",
       "    <tr>\n",
       "      <th>20</th>\n",
       "      <td>10006</td>\n",
       "      <td>2164-10-23</td>\n",
       "      <td>NaN</td>\n",
       "      <td>NaN</td>\n",
       "      <td>NaN</td>\n",
       "      <td>29.0</td>\n",
       "      <td>1.0</td>\n",
       "      <td>3.0</td>\n",
       "      <td>15.0</td>\n",
       "      <td>104.0</td>\n",
       "      <td>116.0</td>\n",
       "      <td>NaN</td>\n",
       "      <td>25.0</td>\n",
       "      <td>NaN</td>\n",
       "      <td>NaN</td>\n",
       "      <td>9.0</td>\n",
       "      <td>NaN</td>\n",
       "      <td>NaN</td>\n",
       "      <td>NaN</td>\n",
       "    </tr>\n",
       "    <tr>\n",
       "      <th>21</th>\n",
       "      <td>10006</td>\n",
       "      <td>2164-10-24</td>\n",
       "      <td>NaN</td>\n",
       "      <td>NaN</td>\n",
       "      <td>NaN</td>\n",
       "      <td>31.0</td>\n",
       "      <td>NaN</td>\n",
       "      <td>3.5</td>\n",
       "      <td>15.0</td>\n",
       "      <td>96.0</td>\n",
       "      <td>106.0</td>\n",
       "      <td>NaN</td>\n",
       "      <td>20.0</td>\n",
       "      <td>NaN</td>\n",
       "      <td>NaN</td>\n",
       "      <td>11.0</td>\n",
       "      <td>21.6</td>\n",
       "      <td>NaN</td>\n",
       "      <td>NaN</td>\n",
       "    </tr>\n",
       "    <tr>\n",
       "      <th>22</th>\n",
       "      <td>10006</td>\n",
       "      <td>2164-10-25</td>\n",
       "      <td>NaN</td>\n",
       "      <td>NaN</td>\n",
       "      <td>NaN</td>\n",
       "      <td>29.0</td>\n",
       "      <td>NaN</td>\n",
       "      <td>5.3</td>\n",
       "      <td>15.0</td>\n",
       "      <td>87.0</td>\n",
       "      <td>108.0</td>\n",
       "      <td>NaN</td>\n",
       "      <td>20.0</td>\n",
       "      <td>NaN</td>\n",
       "      <td>NaN</td>\n",
       "      <td>20.0</td>\n",
       "      <td>NaN</td>\n",
       "      <td>NaN</td>\n",
       "      <td>NaN</td>\n",
       "    </tr>\n",
       "    <tr>\n",
       "      <th>30</th>\n",
       "      <td>10006</td>\n",
       "      <td>2164-11-16</td>\n",
       "      <td>NaN</td>\n",
       "      <td>NaN</td>\n",
       "      <td>NaN</td>\n",
       "      <td>31.0</td>\n",
       "      <td>NaN</td>\n",
       "      <td>3.2</td>\n",
       "      <td>NaN</td>\n",
       "      <td>NaN</td>\n",
       "      <td>160.0</td>\n",
       "      <td>3.6</td>\n",
       "      <td>NaN</td>\n",
       "      <td>NaN</td>\n",
       "      <td>NaN</td>\n",
       "      <td>7.0</td>\n",
       "      <td>NaN</td>\n",
       "      <td>NaN</td>\n",
       "      <td>94.0</td>\n",
       "    </tr>\n",
       "    <tr>\n",
       "      <th>40</th>\n",
       "      <td>10006</td>\n",
       "      <td>2165-03-01</td>\n",
       "      <td>NaN</td>\n",
       "      <td>NaN</td>\n",
       "      <td>NaN</td>\n",
       "      <td>25.0</td>\n",
       "      <td>0.3</td>\n",
       "      <td>8.6</td>\n",
       "      <td>NaN</td>\n",
       "      <td>NaN</td>\n",
       "      <td>166.0</td>\n",
       "      <td>4.8</td>\n",
       "      <td>NaN</td>\n",
       "      <td>NaN</td>\n",
       "      <td>NaN</td>\n",
       "      <td>34.0</td>\n",
       "      <td>NaN</td>\n",
       "      <td>NaN</td>\n",
       "      <td>NaN</td>\n",
       "    </tr>\n",
       "  </tbody>\n",
       "</table>\n",
       "</div>"
      ],
      "text/plain": [
       "    paciente       fecha  PAS  PAM  sistolica  bicarbonato  bilirrubina  \\\n",
       "20     10006  2164-10-23  NaN  NaN        NaN         29.0          1.0   \n",
       "21     10006  2164-10-24  NaN  NaN        NaN         31.0          NaN   \n",
       "22     10006  2164-10-25  NaN  NaN        NaN         29.0          NaN   \n",
       "30     10006  2164-11-16  NaN  NaN        NaN         31.0          NaN   \n",
       "40     10006  2165-03-01  NaN  NaN        NaN         25.0          0.3   \n",
       "\n",
       "    creatinina   GCS  ritmo_cardiaco  plaquetas  potasio  ritmo_respiratorio  \\\n",
       "20         3.0  15.0           104.0      116.0      NaN                25.0   \n",
       "21         3.5  15.0            96.0      106.0      NaN                20.0   \n",
       "22         5.3  15.0            87.0      108.0      NaN                20.0   \n",
       "30         3.2   NaN             NaN      160.0      3.6                 NaN   \n",
       "40         8.6   NaN             NaN      166.0      4.8                 NaN   \n",
       "\n",
       "    sodio  temperatura_F  urea  vancomicina  glucemia   pO2  \n",
       "20    NaN            NaN   9.0          NaN       NaN   NaN  \n",
       "21    NaN            NaN  11.0         21.6       NaN   NaN  \n",
       "22    NaN            NaN  20.0          NaN       NaN   NaN  \n",
       "30    NaN            NaN   7.0          NaN       NaN  94.0  \n",
       "40    NaN            NaN  34.0          NaN       NaN   NaN  "
      ]
     },
     "execution_count": 9,
     "metadata": {},
     "output_type": "execute_result"
    }
   ],
   "source": [
    "#Corroboro\n",
    "df.head()"
   ]
  },
  {
   "cell_type": "code",
   "execution_count": 10,
   "metadata": {},
   "outputs": [
    {
     "name": "stdout",
     "output_type": "stream",
     "text": [
      "20       9\n",
      "21       9\n",
      "22      10\n",
      "30      11\n",
      "40      11\n",
      "        ..\n",
      "1708     8\n",
      "1709     8\n",
      "1710     8\n",
      "1711    11\n",
      "1712    11\n",
      "Length: 584, dtype: int64\n"
     ]
    }
   ],
   "source": [
    "# Cuenta la cantidad de valores nulos en cada fila del DataFrame\n",
    "null_counts = df.isnull().sum(axis=1)\n",
    "\n",
    "# Imprime los resultados\n",
    "print(null_counts)"
   ]
  },
  {
   "cell_type": "code",
   "execution_count": 11,
   "metadata": {},
   "outputs": [],
   "source": [
    "#Selecciono pacientes que hayan tenido como mínimo 3 mediciones de signos vitales\n",
    "\n",
    "# Agrupar por paciente y contar registros no nulos por columna de signos vitales\n",
    "counts = df.groupby('paciente').agg({'PAS': 'count',\n",
    "                                       'PAM': 'count',\n",
    "                                       'bicarbonato': 'count',\n",
    "                                       'bilirrubina': 'count',\n",
    "                                       'creatinina': 'count',\n",
    "                                       'GCS': 'count',\n",
    "                                       'ritmo_cardiaco': 'count',\n",
    "                                       'plaquetas': 'count',\n",
    "                                       'potasio': 'count',\n",
    "                                       'ritmo_respiratorio': 'count',\n",
    "                                       'sodio': 'count',\n",
    "                                       'temperatura_F': 'count',\n",
    "                                       'urea': 'count',\n",
    "                                       'glucemia': 'count',\n",
    "                                       'pO2': 'count'})\n",
    "\n",
    "# Seleccionar solamente los registros de pacientes con al menos 3 registros de signos vitales\n",
    "selected_subject_ids = counts[counts['PAS'] >= 3].index\n",
    "\n",
    "# Filtrar los datos del DataFrame original por los pacientes seleccionados\n",
    "df_selected = df[df['paciente'].isin(selected_subject_ids)]\n"
   ]
  },
  {
   "cell_type": "code",
   "execution_count": 12,
   "metadata": {},
   "outputs": [
    {
     "name": "stderr",
     "output_type": "stream",
     "text": [
      "C:\\Users\\rocio\\AppData\\Local\\Temp\\ipykernel_18824\\393412877.py:2: FutureWarning: The default value of numeric_only in DataFrame.mean is deprecated. In a future version, it will default to False. In addition, specifying 'numeric_only=None' is deprecated. Select only valid columns or specify the value of numeric_only to silence this warning.\n",
      "  df.fillna(df.mean(), inplace=True)\n",
      "C:\\Users\\rocio\\AppData\\Local\\Temp\\ipykernel_18824\\393412877.py:3: FutureWarning: The default value of numeric_only in DataFrame.mean is deprecated. In a future version, it will default to False. In addition, specifying 'numeric_only=None' is deprecated. Select only valid columns or specify the value of numeric_only to silence this warning.\n",
      "  df.fillna(value=df.mean(), inplace=True)\n"
     ]
    }
   ],
   "source": [
    "#Reemplazo los nulos y NaN que quedaron por la media de cada columna\n",
    "df.fillna(df.mean(), inplace=True)\n",
    "df.fillna(value=df.mean(), inplace=True)\n"
   ]
  },
  {
   "cell_type": "code",
   "execution_count": 13,
   "metadata": {},
   "outputs": [
    {
     "name": "stdout",
     "output_type": "stream",
     "text": [
      "20      0\n",
      "21      0\n",
      "22      0\n",
      "30      0\n",
      "40      0\n",
      "       ..\n",
      "1708    0\n",
      "1709    0\n",
      "1710    0\n",
      "1711    0\n",
      "1712    0\n",
      "Length: 584, dtype: int64\n"
     ]
    }
   ],
   "source": [
    "# Cuenta la cantidad de valores nulos en cada fila del DataFrame\n",
    "null_counts = df.isnull().sum(axis=1)\n",
    "\n",
    "# Imprime los resultados\n",
    "print(null_counts)\n"
   ]
  },
  {
   "cell_type": "code",
   "execution_count": 14,
   "metadata": {},
   "outputs": [
    {
     "data": {
      "text/html": [
       "<div>\n",
       "<style scoped>\n",
       "    .dataframe tbody tr th:only-of-type {\n",
       "        vertical-align: middle;\n",
       "    }\n",
       "\n",
       "    .dataframe tbody tr th {\n",
       "        vertical-align: top;\n",
       "    }\n",
       "\n",
       "    .dataframe thead th {\n",
       "        text-align: right;\n",
       "    }\n",
       "</style>\n",
       "<table border=\"1\" class=\"dataframe\">\n",
       "  <thead>\n",
       "    <tr style=\"text-align: right;\">\n",
       "      <th></th>\n",
       "      <th>paciente</th>\n",
       "      <th>fecha</th>\n",
       "      <th>PAS</th>\n",
       "      <th>PAM</th>\n",
       "      <th>sistolica</th>\n",
       "      <th>bicarbonato</th>\n",
       "      <th>bilirrubina</th>\n",
       "      <th>creatinina</th>\n",
       "      <th>GCS</th>\n",
       "      <th>ritmo_cardiaco</th>\n",
       "      <th>plaquetas</th>\n",
       "      <th>potasio</th>\n",
       "      <th>ritmo_respiratorio</th>\n",
       "      <th>sodio</th>\n",
       "      <th>temperatura_F</th>\n",
       "      <th>urea</th>\n",
       "      <th>vancomicina</th>\n",
       "      <th>glucemia</th>\n",
       "      <th>pO2</th>\n",
       "    </tr>\n",
       "  </thead>\n",
       "  <tbody>\n",
       "    <tr>\n",
       "      <th>20</th>\n",
       "      <td>10006</td>\n",
       "      <td>2164-10-23</td>\n",
       "      <td>183.237113</td>\n",
       "      <td>76.860294</td>\n",
       "      <td>119.764706</td>\n",
       "      <td>29.0</td>\n",
       "      <td>1.000000</td>\n",
       "      <td>3.0</td>\n",
       "      <td>15.000000</td>\n",
       "      <td>104.000000</td>\n",
       "      <td>116.0</td>\n",
       "      <td>4.041221</td>\n",
       "      <td>25.000000</td>\n",
       "      <td>137.540984</td>\n",
       "      <td>98.180172</td>\n",
       "      <td>9.0</td>\n",
       "      <td>93.003509</td>\n",
       "      <td>3.1</td>\n",
       "      <td>126.520216</td>\n",
       "    </tr>\n",
       "    <tr>\n",
       "      <th>21</th>\n",
       "      <td>10006</td>\n",
       "      <td>2164-10-24</td>\n",
       "      <td>183.237113</td>\n",
       "      <td>76.860294</td>\n",
       "      <td>119.764706</td>\n",
       "      <td>31.0</td>\n",
       "      <td>9.406522</td>\n",
       "      <td>3.5</td>\n",
       "      <td>15.000000</td>\n",
       "      <td>96.000000</td>\n",
       "      <td>106.0</td>\n",
       "      <td>4.041221</td>\n",
       "      <td>20.000000</td>\n",
       "      <td>137.540984</td>\n",
       "      <td>98.180172</td>\n",
       "      <td>11.0</td>\n",
       "      <td>21.600000</td>\n",
       "      <td>3.1</td>\n",
       "      <td>126.520216</td>\n",
       "    </tr>\n",
       "    <tr>\n",
       "      <th>22</th>\n",
       "      <td>10006</td>\n",
       "      <td>2164-10-25</td>\n",
       "      <td>183.237113</td>\n",
       "      <td>76.860294</td>\n",
       "      <td>119.764706</td>\n",
       "      <td>29.0</td>\n",
       "      <td>9.406522</td>\n",
       "      <td>5.3</td>\n",
       "      <td>15.000000</td>\n",
       "      <td>87.000000</td>\n",
       "      <td>108.0</td>\n",
       "      <td>4.041221</td>\n",
       "      <td>20.000000</td>\n",
       "      <td>137.540984</td>\n",
       "      <td>98.180172</td>\n",
       "      <td>20.0</td>\n",
       "      <td>93.003509</td>\n",
       "      <td>3.1</td>\n",
       "      <td>126.520216</td>\n",
       "    </tr>\n",
       "    <tr>\n",
       "      <th>30</th>\n",
       "      <td>10006</td>\n",
       "      <td>2164-11-16</td>\n",
       "      <td>183.237113</td>\n",
       "      <td>76.860294</td>\n",
       "      <td>119.764706</td>\n",
       "      <td>31.0</td>\n",
       "      <td>9.406522</td>\n",
       "      <td>3.2</td>\n",
       "      <td>24.598726</td>\n",
       "      <td>93.028571</td>\n",
       "      <td>160.0</td>\n",
       "      <td>3.600000</td>\n",
       "      <td>19.801917</td>\n",
       "      <td>137.540984</td>\n",
       "      <td>98.180172</td>\n",
       "      <td>7.0</td>\n",
       "      <td>93.003509</td>\n",
       "      <td>3.1</td>\n",
       "      <td>94.000000</td>\n",
       "    </tr>\n",
       "    <tr>\n",
       "      <th>40</th>\n",
       "      <td>10006</td>\n",
       "      <td>2165-03-01</td>\n",
       "      <td>183.237113</td>\n",
       "      <td>76.860294</td>\n",
       "      <td>119.764706</td>\n",
       "      <td>25.0</td>\n",
       "      <td>0.300000</td>\n",
       "      <td>8.6</td>\n",
       "      <td>24.598726</td>\n",
       "      <td>93.028571</td>\n",
       "      <td>166.0</td>\n",
       "      <td>4.800000</td>\n",
       "      <td>19.801917</td>\n",
       "      <td>137.540984</td>\n",
       "      <td>98.180172</td>\n",
       "      <td>34.0</td>\n",
       "      <td>93.003509</td>\n",
       "      <td>3.1</td>\n",
       "      <td>126.520216</td>\n",
       "    </tr>\n",
       "  </tbody>\n",
       "</table>\n",
       "</div>"
      ],
      "text/plain": [
       "    paciente       fecha         PAS        PAM   sistolica  bicarbonato  \\\n",
       "20     10006  2164-10-23  183.237113  76.860294  119.764706         29.0   \n",
       "21     10006  2164-10-24  183.237113  76.860294  119.764706         31.0   \n",
       "22     10006  2164-10-25  183.237113  76.860294  119.764706         29.0   \n",
       "30     10006  2164-11-16  183.237113  76.860294  119.764706         31.0   \n",
       "40     10006  2165-03-01  183.237113  76.860294  119.764706         25.0   \n",
       "\n",
       "    bilirrubina  creatinina        GCS  ritmo_cardiaco  plaquetas   potasio  \\\n",
       "20     1.000000         3.0  15.000000      104.000000      116.0  4.041221   \n",
       "21     9.406522         3.5  15.000000       96.000000      106.0  4.041221   \n",
       "22     9.406522         5.3  15.000000       87.000000      108.0  4.041221   \n",
       "30     9.406522         3.2  24.598726       93.028571      160.0  3.600000   \n",
       "40     0.300000         8.6  24.598726       93.028571      166.0  4.800000   \n",
       "\n",
       "    ritmo_respiratorio       sodio  temperatura_F  urea  vancomicina  \\\n",
       "20           25.000000  137.540984      98.180172   9.0    93.003509   \n",
       "21           20.000000  137.540984      98.180172  11.0    21.600000   \n",
       "22           20.000000  137.540984      98.180172  20.0    93.003509   \n",
       "30           19.801917  137.540984      98.180172   7.0    93.003509   \n",
       "40           19.801917  137.540984      98.180172  34.0    93.003509   \n",
       "\n",
       "    glucemia         pO2  \n",
       "20       3.1  126.520216  \n",
       "21       3.1  126.520216  \n",
       "22       3.1  126.520216  \n",
       "30       3.1   94.000000  \n",
       "40       3.1  126.520216  "
      ]
     },
     "execution_count": 14,
     "metadata": {},
     "output_type": "execute_result"
    }
   ],
   "source": [
    "df.head()"
   ]
  },
  {
   "cell_type": "code",
   "execution_count": 15,
   "metadata": {},
   "outputs": [],
   "source": [
    "df.to_csv('df_selected.csv', index=False)"
   ]
  },
  {
   "attachments": {},
   "cell_type": "markdown",
   "metadata": {},
   "source": [
    "Entrenamiento de modelo de machine learning\n"
   ]
  },
  {
   "attachments": {},
   "cell_type": "markdown",
   "metadata": {},
   "source": [
    "Con modelo qSOFA"
   ]
  },
  {
   "cell_type": "code",
   "execution_count": 16,
   "metadata": {},
   "outputs": [
    {
     "name": "stdout",
     "output_type": "stream",
     "text": [
      "Train score: 1.000, Test score: 1.000\n"
     ]
    }
   ],
   "source": [
    "from sklearn.tree import DecisionTreeClassifier\n",
    "from sklearn.model_selection import train_test_split\n",
    "\n",
    "# Definir la variable objetivo 'sepsis'\n",
    "df['sepsis'] = ((df['ritmo_cardiaco'] >= 22) & \n",
    "                         (df['GCS'] < 15) &\n",
    "                         (df['PAS'] <= 100)).astype(int)\n",
    "\n",
    "# Seleccionar los signos vitales relevantes\n",
    "X = df[['ritmo_cardiaco', 'GCS', 'PAS']]\n",
    "y = df['sepsis']\n",
    "\n",
    "# Dividir los datos en conjuntos de entrenamiento y prueba\n",
    "X_train, X_test, y_train, y_test = train_test_split(X, y, test_size=0.2, random_state=42)\n",
    "\n",
    "# Crear y entrenar el modelo de árbol de decisión\n",
    "model = DecisionTreeClassifier(random_state=42)\n",
    "model.fit(X_train, y_train)\n",
    "\n",
    "# Evaluar el modelo\n",
    "train_score = model.score(X_train, y_train)\n",
    "test_score = model.score(X_test, y_test)\n",
    "print(f'Train score: {train_score:.3f}, Test score: {test_score:.3f}')"
   ]
  },
  {
   "attachments": {},
   "cell_type": "markdown",
   "metadata": {},
   "source": [
    "Pruebo el modelo con 3 valores"
   ]
  },
  {
   "cell_type": "code",
   "execution_count": 17,
   "metadata": {},
   "outputs": [
    {
     "name": "stdout",
     "output_type": "stream",
     "text": [
      "El paciente no tiene sepsis\n"
     ]
    },
    {
     "name": "stderr",
     "output_type": "stream",
     "text": [
      "c:\\Users\\rocio\\AppData\\Local\\Programs\\Python\\Python310\\lib\\site-packages\\sklearn\\base.py:439: UserWarning: X does not have valid feature names, but DecisionTreeClassifier was fitted with feature names\n",
      "  warnings.warn(\n"
     ]
    }
   ],
   "source": [
    "# Crear un conjunto de características con los signos vitales del paciente\n",
    "paciente = [[50, 50, 200]]\n",
    "\n",
    "# Obtener la predicción del modelo\n",
    "prediccion = model.predict(paciente)\n",
    "\n",
    "# Imprimir la predicción\n",
    "print(\"El paciente tiene sepsis\" if prediccion == 1 else \"El paciente no tiene sepsis\")\n"
   ]
  },
  {
   "attachments": {},
   "cell_type": "markdown",
   "metadata": {},
   "source": [
    "Meto el modelo en un archivo .pickle para poder hacer un deploy en Gradio + HuggingFace"
   ]
  },
  {
   "cell_type": "code",
   "execution_count": 18,
   "metadata": {},
   "outputs": [],
   "source": [
    "from sklearn.tree import DecisionTreeClassifier\n",
    "from sklearn.model_selection import train_test_split\n",
    "import gradio as gr\n",
    "import pandas as pd\n",
    "import numpy as np\n",
    "import pickle\n",
    "\n",
    "# Leer los datos\n",
    "df = pd.read_csv(\"df_selected.csv\")\n",
    "\n",
    "# Definir la variable objetivo 'sepsis'\n",
    "df['sepsis'] = ((df['ritmo_cardiaco'] >= 22) & \n",
    "                         (df['GCS'] < 15) &\n",
    "                         (df['PAS'] <= 100)).astype(int)\n",
    "\n",
    "# Seleccionar los signos vitales relevantes\n",
    "X = df[['ritmo_cardiaco', 'GCS', 'PAS']]\n",
    "y = df['sepsis']\n",
    "\n",
    "# Dividir los datos en conjuntos de entrenamiento y prueba\n",
    "X_train, X_test, y_train, y_test = train_test_split(X, y, test_size=0.2, random_state=42)\n",
    "\n",
    "# Crear y entrenar el modelo de árbol de decisión\n",
    "model = DecisionTreeClassifier(random_state=42)\n",
    "model.fit(X_train, y_train)\n",
    "\n",
    "# Guardar el modelo entrenado\n",
    "with open(\"sepsis_model.pkl\", \"wb\") as f:\n",
    "    pickle.dump(model, f)\n"
   ]
  },
  {
   "attachments": {},
   "cell_type": "markdown",
   "metadata": {},
   "source": [
    "Por último genero un archivo .py que contendrá la una función que llame al modelo guardado para desplegarlo en huggin face"
   ]
  },
  {
   "cell_type": "code",
   "execution_count": 19,
   "metadata": {},
   "outputs": [
    {
     "name": "stderr",
     "output_type": "stream",
     "text": [
      "c:\\Users\\rocio\\AppData\\Local\\Programs\\Python\\Python310\\lib\\site-packages\\gradio\\inputs.py:59: UserWarning: Usage of gradio.inputs is deprecated, and will not be supported in the future, please import your component from gradio.components\n",
      "  warnings.warn(\n",
      "c:\\Users\\rocio\\AppData\\Local\\Programs\\Python\\Python310\\lib\\site-packages\\gradio\\deprecation.py:40: UserWarning: `optional` parameter is deprecated, and it has no effect\n",
      "  warnings.warn(value)\n",
      "c:\\Users\\rocio\\AppData\\Local\\Programs\\Python\\Python310\\lib\\site-packages\\gradio\\outputs.py:22: UserWarning: Usage of gradio.outputs is deprecated, and will not be supported in the future, please import your components from gradio.components\n",
      "  warnings.warn(\n"
     ]
    },
    {
     "name": "stdout",
     "output_type": "stream",
     "text": [
      "Running on local URL:  http://127.0.0.1:7860\n",
      "Running on public URL: https://f6f269ae657cd6f713.gradio.live\n",
      "\n",
      "This share link expires in 72 hours. For free permanent hosting and GPU upgrades (NEW!), check out Spaces: https://huggingface.co/spaces\n"
     ]
    },
    {
     "data": {
      "text/html": [
       "<div><iframe src=\"https://f6f269ae657cd6f713.gradio.live\" width=\"100%\" height=\"500\" allow=\"autoplay; camera; microphone; clipboard-read; clipboard-write;\" frameborder=\"0\" allowfullscreen></iframe></div>"
      ],
      "text/plain": [
       "<IPython.core.display.HTML object>"
      ]
     },
     "metadata": {},
     "output_type": "display_data"
    },
    {
     "data": {
      "text/plain": []
     },
     "execution_count": 19,
     "metadata": {},
     "output_type": "execute_result"
    }
   ],
   "source": [
    "import pandas as pd\n",
    "import pickle\n",
    "import gradio as gr\n",
    "\n",
    "# Cargar el modelo desde un archivo\n",
    "with open('sepsis_model.pkl', 'rb') as archivo:\n",
    "    modelo = pickle.load(archivo)\n",
    "\n",
    "def predict_sepsis(ritmo_cardiaco, GCS, PAS):\n",
    "    \"\"\"\n",
    "    Esta función clasifica si un paciente tiene sepsis o no en base a los valores\n",
    "    de sus signos vitales: ritmo cardíaco, GCS y PAS.\n",
    "    \n",
    "    Args:\n",
    "    - ritmo_cardiaco (float): Ritmo cardíaco del paciente.\n",
    "    - GCS (float): Escala de Coma de Glasgow (GCS, por sus siglas en inglés) del paciente.\n",
    "    - PAS (float): Presión arterial sistólica (PAS) del paciente.\n",
    "    \n",
    "    Returns:\n",
    "    - str: Cadena que indica si el paciente tiene sepsis ('Sí') o no ('No').\n",
    "    \"\"\"\n",
    "    # Crear un DataFrame con los valores de los signos vitales\n",
    "    data = pd.DataFrame({\"ritmo_cardiaco\": [ritmo_cardiaco],\n",
    "                         \"GCS\": [GCS],\n",
    "                         \"PAS\": [PAS]})\n",
    "    \n",
    "    # Hacer la predicción de sepsis\n",
    "    pred = modelo.predict(data)[0]\n",
    "    \n",
    "    # Retornar la cadena correspondiente\n",
    "    if pred == 0:\n",
    "        return \"Negativo\"\n",
    "    else:\n",
    "        return \"Positivo\"\n",
    "\n",
    "# Crear la interfaz de Gradio\n",
    "inputs = [gr.inputs.Number(label=\"ritmo_cardiaco\"),\n",
    "          gr.inputs.Number(label=\"GCS\"),\n",
    "          gr.inputs.Number(label=\"PAS\")]\n",
    "output = gr.outputs.Textbox(label=\"Sepsis\")\n",
    "\n",
    "gr.Interface(fn=predict_sepsis, inputs=inputs, outputs=output).launch(share=True)\n"
   ]
  },
  {
   "attachments": {},
   "cell_type": "markdown",
   "metadata": {},
   "source": [
    "![Evaluación del modelo](\\validacion_modelos.jpg)"
   ]
  },
  {
   "attachments": {},
   "cell_type": "markdown",
   "metadata": {},
   "source": [
    "Evaluo el modelo de clasificación según: accuracy_Score"
   ]
  },
  {
   "cell_type": "code",
   "execution_count": 20,
   "metadata": {},
   "outputs": [],
   "source": [
    "from sklearn.metrics import accuracy_score"
   ]
  },
  {
   "cell_type": "code",
   "execution_count": 21,
   "metadata": {},
   "outputs": [
    {
     "name": "stdout",
     "output_type": "stream",
     "text": [
      "Accuracy: 1.0\n"
     ]
    }
   ],
   "source": [
    "# Realizar predicciones en el conjunto de prueba\n",
    "y_pred = model.predict(X_test)\n",
    "\n",
    "# Calcular el accuracy\n",
    "accuracy = accuracy_score(y_test, y_pred)\n",
    "print(\"Accuracy:\", accuracy)\n"
   ]
  },
  {
   "attachments": {},
   "cell_type": "markdown",
   "metadata": {},
   "source": [
    "Recall"
   ]
  },
  {
   "cell_type": "code",
   "execution_count": 22,
   "metadata": {},
   "outputs": [
    {
     "name": "stdout",
     "output_type": "stream",
     "text": [
      "Recall: 1.0\n"
     ]
    }
   ],
   "source": [
    "from sklearn.metrics import recall_score\n",
    "\n",
    "# Realizar predicciones en el conjunto de prueba\n",
    "y_pred = model.predict(X_test)\n",
    "\n",
    "# Calcular el recall\n",
    "recall = recall_score(y_test, y_pred)\n",
    "print(\"Recall:\", recall)\n"
   ]
  },
  {
   "attachments": {},
   "cell_type": "markdown",
   "metadata": {},
   "source": [
    "Matriz de confusión"
   ]
  },
  {
   "cell_type": "code",
   "execution_count": 23,
   "metadata": {},
   "outputs": [
    {
     "name": "stdout",
     "output_type": "stream",
     "text": [
      "Matriz de confusión:\n",
      "[[112   0]\n",
      " [  0   5]]\n"
     ]
    }
   ],
   "source": [
    "from sklearn.metrics import confusion_matrix\n",
    "\n",
    "# Realizar predicciones en el conjunto de prueba\n",
    "y_pred = model.predict(X_test)\n",
    "\n",
    "# Obtener la matriz de confusión\n",
    "conf_matrix = confusion_matrix(y_test, y_pred)\n",
    "print(\"Matriz de confusión:\")\n",
    "print(conf_matrix)\n"
   ]
  },
  {
   "cell_type": "code",
   "execution_count": 24,
   "metadata": {},
   "outputs": [
    {
     "data": {
      "image/png": "[encoded data removed]",
      "text/plain": [
       "<Figure size 640x480 with 2 Axes>"
      ]
     },
     "metadata": {},
     "output_type": "display_data"
    }
   ],
   "source": [
    "from sklearn.metrics import ConfusionMatrixDisplay\n",
    "import matplotlib.pyplot as plt\n",
    "\n",
    "# Realizar predicciones en el conjunto de prueba\n",
    "y_pred = model.predict(X_test)\n",
    "\n",
    "# Obtener la matriz de confusión\n",
    "conf_matrix = confusion_matrix(y_test, y_pred)\n",
    "\n",
    "# Graficar la matriz de confusión\n",
    "disp = ConfusionMatrixDisplay(confusion_matrix=conf_matrix, display_labels=model.classes_)\n",
    "disp.plot(cmap=plt.cm.Blues)\n",
    "disp.ax_.set_title(\"Matriz de confusión\")\n",
    "plt.show()\n",
    "\n"
   ]
  },
  {
   "attachments": {},
   "cell_type": "markdown",
   "metadata": {},
   "source": [
    "Por lo tanto, la matriz de confusión indica que el modelo de árbol de decisión clasificó correctamente 112 muestras que no tenían sepsis (verdaderos negativos) y 5 muestras que sí tenían sepsis (verdaderos positivos). También predijo incorrectamente 0 muestras sin sepsis como positivas (falsos positivos) y 0 muestras con sepsis como negativas (falsos negativos).\n",
    "\n",
    "El hecho de que no haya falsos positivos o falsos negativos indica que el modelo tiene un rendimiento perfecto en este conjunto de datos de prueba. Esto significa que el modelo fue capaz de clasificar correctamente todas las muestras en el conjunto de prueba. Es importante tener en cuenta que este resultado puede ser inusualmente bueno y que el modelo puede no tener un rendimiento tan bueno en otros conjuntos de datos."
   ]
  },
  {
   "attachments": {},
   "cell_type": "markdown",
   "metadata": {},
   "source": [
    "Ajusto el modelo\n",
    "\n",
    "1) Ajustando los hiperparámetros. En la primer sección utilicé 3 hiperparámetros y en esta segunda sección utilizaré 7 y también modifico la profundidad del árbol en vez de 3 a 7."
   ]
  },
  {
   "attachments": {},
   "cell_type": "markdown",
   "metadata": {},
   "source": [
    "Con modelo SOFA, sigo con el Árbol de decisión."
   ]
  },
  {
   "cell_type": "code",
   "execution_count": 25,
   "metadata": {},
   "outputs": [
    {
     "name": "stdout",
     "output_type": "stream",
     "text": [
      "Train score: 1.000, Test score: 1.000\n"
     ]
    }
   ],
   "source": [
    "from sklearn.tree import DecisionTreeClassifier\n",
    "from sklearn.model_selection import train_test_split\n",
    "\n",
    "# Definir la variable objetivo 'sepsis'\n",
    "df['sepsis'] =  ((df['ritmo_respiratorio'] > 100) & (df['plaquetas'] <20) & (df['bilirrubina'] > 12) & (df['PAM'] < 70) & (df['GCS'] < 6) & (df['creatinina'] > 5) & (df['pO2'] < 200)).astype(int)     \n",
    "\n",
    "# Seleccionar los signos vitales relevantes\n",
    "X = df[['ritmo_cardiaco', 'plaquetas', 'bilirrubina', 'PAM', 'GCS', 'creatinina', 'pO2']]\n",
    "y = df['sepsis']\n",
    "\n",
    "# Dividir los datos en conjuntos de entrenamiento y prueba\n",
    "X_train, X_test, y_train, y_test = train_test_split(X, y, test_size=0.2, random_state=42)\n",
    "\n",
    "# Crear y entrenar el modelo de árbol de decisión\n",
    "model = DecisionTreeClassifier(random_state=42)\n",
    "model.fit(X_train, y_train)\n",
    "\n",
    "# Evaluar el modelo\n",
    "train_score = model.score(X_train, y_train)\n",
    "test_score = model.score(X_test, y_test)\n",
    "print(f'Train score: {train_score:.3f}, Test score: {test_score:.3f}')\n",
    "# Guardar el modelo entrenado\n",
    "with open(\"sepsis_model_refinado.pkl\", \"wb\") as f:\n",
    "    pickle.dump(model, f)"
   ]
  },
  {
   "cell_type": "code",
   "execution_count": 26,
   "metadata": {},
   "outputs": [
    {
     "name": "stderr",
     "output_type": "stream",
     "text": [
      "c:\\Users\\rocio\\AppData\\Local\\Programs\\Python\\Python310\\lib\\site-packages\\gradio\\inputs.py:59: UserWarning: Usage of gradio.inputs is deprecated, and will not be supported in the future, please import your component from gradio.components\n",
      "  warnings.warn(\n",
      "c:\\Users\\rocio\\AppData\\Local\\Programs\\Python\\Python310\\lib\\site-packages\\gradio\\deprecation.py:40: UserWarning: `optional` parameter is deprecated, and it has no effect\n",
      "  warnings.warn(value)\n",
      "c:\\Users\\rocio\\AppData\\Local\\Programs\\Python\\Python310\\lib\\site-packages\\gradio\\outputs.py:22: UserWarning: Usage of gradio.outputs is deprecated, and will not be supported in the future, please import your components from gradio.components\n",
      "  warnings.warn(\n"
     ]
    },
    {
     "name": "stdout",
     "output_type": "stream",
     "text": [
      "Running on local URL:  http://127.0.0.1:7861\n",
      "\n",
      "To create a public link, set `share=True` in `launch()`.\n"
     ]
    },
    {
     "data": {
      "text/html": [
       "<div><iframe src=\"http://127.0.0.1:7861/\" width=\"100%\" height=\"500\" allow=\"autoplay; camera; microphone; clipboard-read; clipboard-write;\" frameborder=\"0\" allowfullscreen></iframe></div>"
      ],
      "text/plain": [
       "<IPython.core.display.HTML object>"
      ]
     },
     "metadata": {},
     "output_type": "display_data"
    },
    {
     "data": {
      "text/plain": []
     },
     "execution_count": 26,
     "metadata": {},
     "output_type": "execute_result"
    }
   ],
   "source": [
    "import pandas as pd\n",
    "import pickle\n",
    "import gradio as gr\n",
    "\n",
    "# Cargar el modelo desde un archivo\n",
    "with open('sepsis_model_refinado.pkl', 'rb') as archivo:\n",
    "    modelo = pickle.load(archivo)\n",
    "\n",
    "def predict_sepsis(ritmo_cardiaco, plaquetas, bilirrubina, PAM, GCS, creatinina, pO2):\n",
    "    \"\"\"\n",
    "    Esta función clasifica si un paciente tiene sepsis o no en base a los valores\n",
    "    de sus signos vitales: ritmo cardíaco, GCS y PAS.\n",
    "    \n",
    "    Args:\n",
    "    - ritmo_cardiaco (float): Ritmo cardíaco del paciente.\n",
    "    - GCS (float): Escala de Coma de Glasgow (GCS, por sus siglas en inglés) del paciente.\n",
    "    - PAS (float): Presión arterial sistólica (PAS) del paciente.\n",
    "    \n",
    "    Returns:\n",
    "    - str: Cadena que indica si el paciente tiene sepsis ('Sí') o no ('No').\n",
    "    \"\"\"\n",
    "    # Crear un DataFrame con los valores de los signos vitales\n",
    "    data = pd.DataFrame({\"ritmo_cardiaco\": [ritmo_cardiaco],\n",
    "                         \"plaquetas\":[plaquetas],\n",
    "                         \"bilirrubina\":[bilirrubina],\n",
    "                         \"PAM\":[PAM],\n",
    "                         \"GCS\": [GCS],\n",
    "                         \"creatinina\":[creatinina],\n",
    "                         \"pO2\": [pO2]})\n",
    "    \n",
    "    # Hacer la predicción de sepsis\n",
    "    pred = modelo.predict(data)[0]\n",
    "    \n",
    "    # Retornar la cadena correspondiente\n",
    "    if pred == 0:\n",
    "        return \"Negativo\"\n",
    "    else:\n",
    "        return \"Positivo\"\n",
    "\n",
    "# Crear la interfaz de Gradio\n",
    "inputs = [gr.inputs.Number(label=\"ritmo_cardiaco\"),\n",
    "          gr.inputs.Number(label=\"plaquetas\"),\n",
    "          gr.inputs.Number(label=\"bilirrubina\"),\n",
    "          gr.inputs.Number(label=\"PAM\"),\n",
    "          gr.inputs.Number(label=\"GCS\"),\n",
    "          gr.inputs.Number(label=\"creatinina\"),\n",
    "          gr.inputs.Number(label=\"pO2\")]\n",
    "\n",
    "\n",
    "output = gr.outputs.Textbox(label=\"Sepsis\")\n",
    "\n",
    "gr.Interface(fn=predict_sepsis, inputs=inputs, outputs=output).launch()"
   ]
  },
  {
   "attachments": {},
   "cell_type": "markdown",
   "metadata": {},
   "source": [
    "Pruebo el modelo"
   ]
  },
  {
   "cell_type": "code",
   "execution_count": 27,
   "metadata": {},
   "outputs": [
    {
     "name": "stdout",
     "output_type": "stream",
     "text": [
      "El paciente no tiene sepsis\n"
     ]
    },
    {
     "name": "stderr",
     "output_type": "stream",
     "text": [
      "c:\\Users\\rocio\\AppData\\Local\\Programs\\Python\\Python310\\lib\\site-packages\\sklearn\\base.py:439: UserWarning: X does not have valid feature names, but DecisionTreeClassifier was fitted with feature names\n",
      "  warnings.warn(\n"
     ]
    }
   ],
   "source": [
    "# Crear un conjunto de características con los signos vitales del paciente\n",
    "paciente = [[200, 300, 1, 100, 15, 1, 0]]\n",
    "\n",
    "# Obtener la predicción del modelo\n",
    "prediccion = model.predict(paciente)\n",
    "\n",
    "# Imprimir la predicción\n",
    "print(\"El paciente tiene sepsis\" if prediccion == 1 else \"El paciente no tiene sepsis\")"
   ]
  },
  {
   "cell_type": "code",
   "execution_count": 28,
   "metadata": {},
   "outputs": [
    {
     "name": "stdout",
     "output_type": "stream",
     "text": [
      "El paciente no tiene sepsis\n"
     ]
    },
    {
     "name": "stderr",
     "output_type": "stream",
     "text": [
      "c:\\Users\\rocio\\AppData\\Local\\Programs\\Python\\Python310\\lib\\site-packages\\sklearn\\base.py:439: UserWarning: X does not have valid feature names, but DecisionTreeClassifier was fitted with feature names\n",
      "  warnings.warn(\n"
     ]
    }
   ],
   "source": [
    "# Crear un conjunto de características con los signos vitales del paciente\n",
    "paciente = [[1, 30 , 15, 80, 5, 6, 100]]\n",
    "\n",
    "# Obtener la predicción del modelo\n",
    "prediccion = model.predict(paciente)\n",
    "\n",
    "# Imprimir la predicción\n",
    "print(\"El paciente tiene sepsis\" if prediccion == 1 else \"El paciente no tiene sepsis\")"
   ]
  },
  {
   "attachments": {},
   "cell_type": "markdown",
   "metadata": {},
   "source": [
    "2) Pruebo validación cruzada con otros modelos:"
   ]
  },
  {
   "cell_type": "code",
   "execution_count": 29,
   "metadata": {},
   "outputs": [
    {
     "ename": "ValueError",
     "evalue": "Setting a random_state has no effect since shuffle is False. You should leave random_state to its default (None), or set shuffle=True.",
     "output_type": "error",
     "traceback": [
      "\u001b[1;31m---------------------------------------------------------------------------\u001b[0m",
      "\u001b[1;31mValueError\u001b[0m                                Traceback (most recent call last)",
      "\u001b[1;32mc:\\Users\\rocio\\OneDrive\\Escritorio\\Cuidados_Intensivos\\Modelos_Machine_Learning\\Modelo1_Deteccion_Sepsis_Refinado\\Deteccion_de_Sepsis_Refinado.ipynb Cell 43\u001b[0m in \u001b[0;36m2\n\u001b[0;32m     <a href='vscode-notebook-cell:/c%3A/Users/rocio/OneDrive/Escritorio/Cuidados_Intensivos/Modelos_Machine_Learning/Modelo1_Deteccion_Sepsis_Refinado/Deteccion_de_Sepsis_Refinado.ipynb#X60sZmlsZQ%3D%3D?line=16'>17</a>\u001b[0m logistic_model \u001b[39m=\u001b[39m LogisticRegression(random_state\u001b[39m=\u001b[39m\u001b[39m42\u001b[39m)\n\u001b[0;32m     <a href='vscode-notebook-cell:/c%3A/Users/rocio/OneDrive/Escritorio/Cuidados_Intensivos/Modelos_Machine_Learning/Modelo1_Deteccion_Sepsis_Refinado/Deteccion_de_Sepsis_Refinado.ipynb#X60sZmlsZQ%3D%3D?line=18'>19</a>\u001b[0m \u001b[39m# Definir los valores para la validación cruzada\u001b[39;00m\n\u001b[1;32m---> <a href='vscode-notebook-cell:/c%3A/Users/rocio/OneDrive/Escritorio/Cuidados_Intensivos/Modelos_Machine_Learning/Modelo1_Deteccion_Sepsis_Refinado/Deteccion_de_Sepsis_Refinado.ipynb#X60sZmlsZQ%3D%3D?line=19'>20</a>\u001b[0m cv \u001b[39m=\u001b[39m KFold(n_splits\u001b[39m=\u001b[39;49m\u001b[39m10\u001b[39;49m, random_state\u001b[39m=\u001b[39;49m\u001b[39m42\u001b[39;49m)\n\u001b[0;32m     <a href='vscode-notebook-cell:/c%3A/Users/rocio/OneDrive/Escritorio/Cuidados_Intensivos/Modelos_Machine_Learning/Modelo1_Deteccion_Sepsis_Refinado/Deteccion_de_Sepsis_Refinado.ipynb#X60sZmlsZQ%3D%3D?line=21'>22</a>\u001b[0m \u001b[39m# Calcular la precisión de la validación cruzada para cada modelo\u001b[39;00m\n\u001b[0;32m     <a href='vscode-notebook-cell:/c%3A/Users/rocio/OneDrive/Escritorio/Cuidados_Intensivos/Modelos_Machine_Learning/Modelo1_Deteccion_Sepsis_Refinado/Deteccion_de_Sepsis_Refinado.ipynb#X60sZmlsZQ%3D%3D?line=22'>23</a>\u001b[0m tree_scores \u001b[39m=\u001b[39m cross_val_score(tree_model, X, y, cv\u001b[39m=\u001b[39mcv)\n",
      "File \u001b[1;32mc:\\Users\\rocio\\AppData\\Local\\Programs\\Python\\Python310\\lib\\site-packages\\sklearn\\model_selection\\_split.py:451\u001b[0m, in \u001b[0;36mKFold.__init__\u001b[1;34m(self, n_splits, shuffle, random_state)\u001b[0m\n\u001b[0;32m    450\u001b[0m \u001b[39mdef\u001b[39;00m \u001b[39m__init__\u001b[39m(\u001b[39mself\u001b[39m, n_splits\u001b[39m=\u001b[39m\u001b[39m5\u001b[39m, \u001b[39m*\u001b[39m, shuffle\u001b[39m=\u001b[39m\u001b[39mFalse\u001b[39;00m, random_state\u001b[39m=\u001b[39m\u001b[39mNone\u001b[39;00m):\n\u001b[1;32m--> 451\u001b[0m     \u001b[39msuper\u001b[39;49m()\u001b[39m.\u001b[39;49m\u001b[39m__init__\u001b[39;49m(n_splits\u001b[39m=\u001b[39;49mn_splits, shuffle\u001b[39m=\u001b[39;49mshuffle, random_state\u001b[39m=\u001b[39;49mrandom_state)\n",
      "File \u001b[1;32mc:\\Users\\rocio\\AppData\\Local\\Programs\\Python\\Python310\\lib\\site-packages\\sklearn\\model_selection\\_split.py:308\u001b[0m, in \u001b[0;36m_BaseKFold.__init__\u001b[1;34m(self, n_splits, shuffle, random_state)\u001b[0m\n\u001b[0;32m    305\u001b[0m     \u001b[39mraise\u001b[39;00m \u001b[39mTypeError\u001b[39;00m(\u001b[39m\"\u001b[39m\u001b[39mshuffle must be True or False; got \u001b[39m\u001b[39m{0}\u001b[39;00m\u001b[39m\"\u001b[39m\u001b[39m.\u001b[39mformat(shuffle))\n\u001b[0;32m    307\u001b[0m \u001b[39mif\u001b[39;00m \u001b[39mnot\u001b[39;00m shuffle \u001b[39mand\u001b[39;00m random_state \u001b[39mis\u001b[39;00m \u001b[39mnot\u001b[39;00m \u001b[39mNone\u001b[39;00m:  \u001b[39m# None is the default\u001b[39;00m\n\u001b[1;32m--> 308\u001b[0m     \u001b[39mraise\u001b[39;00m \u001b[39mValueError\u001b[39;00m(\n\u001b[0;32m    309\u001b[0m         \u001b[39m\"\u001b[39m\u001b[39mSetting a random_state has no effect since shuffle is \u001b[39m\u001b[39m\"\u001b[39m\n\u001b[0;32m    310\u001b[0m         \u001b[39m\"\u001b[39m\u001b[39mFalse. You should leave \u001b[39m\u001b[39m\"\u001b[39m\n\u001b[0;32m    311\u001b[0m         \u001b[39m\"\u001b[39m\u001b[39mrandom_state to its default (None), or set shuffle=True.\u001b[39m\u001b[39m\"\u001b[39m,\n\u001b[0;32m    312\u001b[0m     )\n\u001b[0;32m    314\u001b[0m \u001b[39mself\u001b[39m\u001b[39m.\u001b[39mn_splits \u001b[39m=\u001b[39m n_splits\n\u001b[0;32m    315\u001b[0m \u001b[39mself\u001b[39m\u001b[39m.\u001b[39mshuffle \u001b[39m=\u001b[39m shuffle\n",
      "\u001b[1;31mValueError\u001b[0m: Setting a random_state has no effect since shuffle is False. You should leave random_state to its default (None), or set shuffle=True."
     ]
    }
   ],
   "source": [
    "from sklearn.tree import DecisionTreeClassifier\n",
    "from sklearn.ensemble import RandomForestClassifier\n",
    "from sklearn.linear_model import LogisticRegression\n",
    "from sklearn.model_selection import cross_val_score\n",
    "from sklearn.model_selection import KFold\n",
    "\n",
    "# Definir la variable objetivo 'sepsis'\n",
    "df['sepsis'] =  ((df['ritmo_respiratorio'] > 100) & (df['plaquetas'] <20) & (df['bilirrubina'] > 12) & (df['PAM'] < 70) & (df['GCS'] < 6) & (df['creatinina'] > 5) & (df['pO2'] < 200)).astype(int)     \n",
    "\n",
    "# Seleccionar los signos vitales relevantes\n",
    "X = df[['ritmo_cardiaco', 'plaquetas', 'bilirrubina', 'PAM', 'GCS', 'creatinina', 'pO2']]\n",
    "y = df['sepsis']\n",
    "\n",
    "# Definir los modelos\n",
    "tree_model = DecisionTreeClassifier(random_state=42)\n",
    "forest_model = RandomForestClassifier(random_state=42)\n",
    "logistic_model = LogisticRegression(random_state=42)\n",
    "\n",
    "# Definir los valores para la validación cruzada\n",
    "cv = KFold(n_splits=10, random_state=42)\n",
    "\n",
    "# Calcular la precisión de la validación cruzada para cada modelo\n",
    "tree_scores = cross_val_score(tree_model, X, y, cv=cv)\n",
    "forest_scores = cross_val_score(forest_model, X, y, cv=cv)\n",
    "logistic_scores = cross_val_score(logistic_model, X, y, cv=cv)\n",
    "\n",
    "# Imprimir los resultados de la validación cruzada\n",
    "print(f'Precisión de árbol de decisión: {tree_scores.mean():.3f} +/- {tree_scores.std():.3f}')\n",
    "print(f'Precisión de bosque aleatorio: {forest_scores.mean():.3f} +/- {forest_scores.std():.3f}')\n",
    "print(f'Precisión de regresión logística: {logistic_scores.mean():.3f} +/- {logistic_scores.std():.3f}')\n",
    "\n",
    "\n"
   ]
  }
 ],
 "metadata": {
  "kernelspec": {
   "display_name": "Python 3",
   "language": "python",
   "name": "python3"
  },
  "language_info": {
   "codemirror_mode": {
    "name": "ipython",
    "version": 3
   },
   "file_extension": ".py",
   "mimetype": "text/x-python",
   "name": "python",
   "nbconvert_exporter": "python",
   "pygments_lexer": "ipython3",
   "version": "3.10.8"
  },
  "orig_nbformat": 4
 },
 "nbformat": 4,
 "nbformat_minor": 2
}
