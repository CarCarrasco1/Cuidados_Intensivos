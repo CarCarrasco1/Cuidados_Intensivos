{
 "cells": [
  {
   "cell_type": "code",
   "execution_count": 1,
   "metadata": {},
   "outputs": [],
   "source": [
    "import pandas as pd"
   ]
  },
  {
   "cell_type": "code",
   "execution_count": 2,
   "metadata": {},
   "outputs": [],
   "source": [
    "# Lectura del archivo CSV en un DataFrame de Pandas\n",
    "df = pd.read_csv(r'C:\\Users\\rocio\\OneDrive\\Escritorio\\Cuidados_Intensivos\\Modelos_Machine_Learning\\Modelo2_Prediccion_Mortalidad\\df_merge.csv', low_memory=False)"
   ]
  },
  {
   "cell_type": "code",
   "execution_count": 3,
   "metadata": {},
   "outputs": [
    {
     "name": "stdout",
     "output_type": "stream",
     "text": [
      "0         11\n",
      "1         11\n",
      "2         11\n",
      "3         13\n",
      "4         12\n",
      "          ..\n",
      "484857    10\n",
      "484858    11\n",
      "484859    11\n",
      "484860    11\n",
      "484861    13\n",
      "Length: 484862, dtype: int64\n"
     ]
    }
   ],
   "source": [
    "# Cuenta la cantidad de valores nulos en cada fila del DataFrame\n",
    "null_counts = df.isnull().sum(axis=1)\n",
    "\n",
    "# Imprime los resultados\n",
    "print(null_counts)"
   ]
  },
  {
   "cell_type": "code",
   "execution_count": 4,
   "metadata": {},
   "outputs": [],
   "source": [
    "#Reemplazo los nulos y NaN que quedaron por la media de cada columna\n",
    "# reemplazar los valores nulos y NaN por cero\n",
    "df = df.fillna(0)"
   ]
  },
  {
   "cell_type": "code",
   "execution_count": 5,
   "metadata": {},
   "outputs": [
    {
     "name": "stdout",
     "output_type": "stream",
     "text": [
      "0         0\n",
      "1         0\n",
      "2         0\n",
      "3         0\n",
      "4         0\n",
      "         ..\n",
      "484857    0\n",
      "484858    0\n",
      "484859    0\n",
      "484860    0\n",
      "484861    0\n",
      "Length: 484862, dtype: int64\n"
     ]
    }
   ],
   "source": [
    "# Cuenta la cantidad de valores nulos en cada fila del DataFrame\n",
    "null_counts = df.isnull().sum(axis=1)\n",
    "\n",
    "# Imprime los resultados\n",
    "print(null_counts)"
   ]
  },
  {
   "cell_type": "code",
   "execution_count": 6,
   "metadata": {},
   "outputs": [
    {
     "name": "stdout",
     "output_type": "stream",
     "text": [
      "Train score: 1.000, Test score: 1.000\n"
     ]
    }
   ],
   "source": [
    "from sklearn.tree import DecisionTreeClassifier\n",
    "from sklearn.model_selection import train_test_split\n",
    "import pickle\n",
    "\n",
    "# Definir la variable objetivo 'sepsis'\n",
    "df['sepsis'] =  ((df['ritmo_respiratorio'] > 100) & (df['plaquetas'] <20) & (df['bilirrubina'] > 12) & (df['PAM'] < 70) & (df['GCS'] < 6) & (df['creatinina'] > 5) & (df['pO2'] < 200) & (df['charlson_puntaje'] > 3)) \n",
    "  \n",
    "\n",
    "# Seleccionar los signos vitales relevantes\n",
    "X = df[['ritmo_cardiaco', 'plaquetas', 'bilirrubina', 'PAM', 'GCS', 'creatinina', 'pO2', 'charlson_puntaje']]\n",
    "y = df['sepsis']\n",
    "\n",
    "# Dividir los datos en conjuntos de entrenamiento y prueba\n",
    "X_train, X_test, y_train, y_test = train_test_split(X, y, test_size=0.2, random_state=42)\n",
    "\n",
    "# Crear y entrenar el modelo de árbol de decisión\n",
    "model = DecisionTreeClassifier(random_state=42)\n",
    "model.fit(X_train, y_train)\n",
    "\n",
    "# Evaluar el modelo\n",
    "train_score = model.score(X_train, y_train)\n",
    "test_score = model.score(X_test, y_test)\n",
    "print(f'Train score: {train_score:.3f}, Test score: {test_score:.3f}')\n",
    "# Guardar el modelo entrenado\n",
    "with open(\"prediccion_mortalidad.pkl\", \"wb\") as f:\n",
    "    pickle.dump(model, f)"
   ]
  },
  {
   "cell_type": "code",
   "execution_count": null,
   "metadata": {},
   "outputs": [],
   "source": [
    "from sklearn.metrics import accuracy_score"
   ]
  },
  {
   "cell_type": "code",
   "execution_count": null,
   "metadata": {},
   "outputs": [],
   "source": [
    "# Realizar predicciones en el conjunto de prueba\n",
    "y_pred = model.predict(X_test)\n",
    "\n",
    "# Calcular el accuracy\n",
    "accuracy = accuracy_score(y_test, y_pred)\n",
    "print(\"Accuracy:\", accuracy)"
   ]
  },
  {
   "cell_type": "code",
   "execution_count": null,
   "metadata": {},
   "outputs": [],
   "source": [
    "from sklearn.metrics import recall_score\n",
    "\n",
    "# Realizar predicciones en el conjunto de prueba\n",
    "y_pred = model.predict(X_test)\n",
    "\n",
    "# Calcular el recall\n",
    "recall = recall_score(y_test, y_pred)\n",
    "print(\"Recall:\", recall)"
   ]
  },
  {
   "cell_type": "code",
   "execution_count": null,
   "metadata": {},
   "outputs": [],
   "source": [
    "from sklearn.metrics import confusion_matrix\n",
    "\n",
    "# Realizar predicciones en el conjunto de prueba\n",
    "y_pred = model.predict(X_test)\n",
    "\n",
    "# Obtener la matriz de confusión\n",
    "conf_matrix = confusion_matrix(y_test, y_pred)\n",
    "print(\"Matriz de confusión:\")\n",
    "print(conf_matrix)"
   ]
  },
  {
   "cell_type": "code",
   "execution_count": null,
   "metadata": {},
   "outputs": [],
   "source": [
    "from sklearn.metrics import ConfusionMatrixDisplay\n",
    "import matplotlib.pyplot as plt\n",
    "\n",
    "# Realizar predicciones en el conjunto de prueba\n",
    "y_pred = model.predict(X_test)\n",
    "\n",
    "# Obtener la matriz de confusión\n",
    "conf_matrix = confusion_matrix(y_test, y_pred)\n",
    "\n",
    "# Graficar la matriz de confusión\n",
    "disp = ConfusionMatrixDisplay(confusion_matrix=conf_matrix, display_labels=model.classes_)\n",
    "disp.plot(cmap=plt.cm.Blues)\n",
    "disp.ax_.set_title(\"Matriz de confusión\")\n",
    "plt.show()"
   ]
  },
  {
   "cell_type": "code",
   "execution_count": 15,
   "metadata": {},
   "outputs": [
    {
     "name": "stdout",
     "output_type": "stream",
     "text": [
      "El paciente tiene una taza de mortalidad de 28% \n"
     ]
    },
    {
     "name": "stderr",
     "output_type": "stream",
     "text": [
      "c:\\Users\\rocio\\AppData\\Local\\Programs\\Python\\Python310\\lib\\site-packages\\sklearn\\base.py:439: UserWarning: X does not have valid feature names, but DecisionTreeClassifier was fitted with feature names\n",
      "  warnings.warn(\n"
     ]
    }
   ],
   "source": [
    "# Crear un conjunto de características con los signos vitales del paciente\n",
    "paciente = [[1, 1, 20, 10, 5, 5, 5, 6]]\n",
    "\n",
    "# Obtener la predicción del modelo\n",
    "prediccion = model.predict(paciente)\n",
    "\n",
    "# Imprimir la predicción\n",
    "print(\"El paciente tiene una taza de mortalidad de 10-14%\" if prediccion == 1 else \"El paciente tiene una taza de mortalidad de 28% \")"
   ]
  },
  {
   "cell_type": "code",
   "execution_count": 20,
   "metadata": {},
   "outputs": [
    {
     "name": "stderr",
     "output_type": "stream",
     "text": [
      "c:\\Users\\rocio\\AppData\\Local\\Programs\\Python\\Python310\\lib\\site-packages\\gradio\\inputs.py:59: UserWarning: Usage of gradio.inputs is deprecated, and will not be supported in the future, please import your component from gradio.components\n",
      "  warnings.warn(\n",
      "c:\\Users\\rocio\\AppData\\Local\\Programs\\Python\\Python310\\lib\\site-packages\\gradio\\deprecation.py:40: UserWarning: `optional` parameter is deprecated, and it has no effect\n",
      "  warnings.warn(value)\n",
      "c:\\Users\\rocio\\AppData\\Local\\Programs\\Python\\Python310\\lib\\site-packages\\gradio\\outputs.py:22: UserWarning: Usage of gradio.outputs is deprecated, and will not be supported in the future, please import your components from gradio.components\n",
      "  warnings.warn(\n"
     ]
    },
    {
     "name": "stdout",
     "output_type": "stream",
     "text": [
      "Running on local URL:  http://127.0.0.1:7860\n",
      "\n",
      "To create a public link, set `share=True` in `launch()`.\n"
     ]
    },
    {
     "data": {
      "text/html": [
       "<div><iframe src=\"http://127.0.0.1:7860/\" width=\"100%\" height=\"500\" allow=\"autoplay; camera; microphone; clipboard-read; clipboard-write;\" frameborder=\"0\" allowfullscreen></iframe></div>"
      ],
      "text/plain": [
       "<IPython.core.display.HTML object>"
      ]
     },
     "metadata": {},
     "output_type": "display_data"
    },
    {
     "data": {
      "text/plain": []
     },
     "execution_count": 20,
     "metadata": {},
     "output_type": "execute_result"
    }
   ],
   "source": [
    "import pandas as pd\n",
    "import pickle\n",
    "import gradio as gr\n",
    "\n",
    "# Cargar el modelo desde un archivo\n",
    "with open('prediccion_mortalidad.pkl', 'rb') as archivo:\n",
    "    modelo = pickle.load(archivo)\n",
    "\n",
    "def predict_sepsis(ritmo_cardiaco, plaquetas, bilirrubina, PAM, GCS, creatinina, pO2, charlson_puntaje ):\n",
    "    \"\"\"\n",
    "    Esta función clasifica si un paciente tiene una taza de mortalidad elevada o bajo, en base a los valores\n",
    "    de sus signos vitales: ritmo cardíaco, GCS y PAS, etc  y el índice de Charlson.\n",
    "    \n",
    "    Args:\n",
    "    - ritmo_cardiaco (float): Ritmo cardíaco del paciente.\n",
    "    - GCS (float): Escala de Coma de Glasgow (GCS, por sus siglas en inglés) del paciente.\n",
    "    - PAS (float): Presión arterial sistólica (PAS) del paciente.\n",
    "    -etc\n",
    "    \n",
    "    Returns:\n",
    "    - str: Cadena que indica si el paciente tiene una bajo o alto nivel de mortalidad.\n",
    "    \"\"\"\n",
    "    # Crear un DataFrame con los valores de los signos vitales\n",
    "    data = pd.DataFrame({\"ritmo_cardiaco\": [ritmo_cardiaco],\n",
    "                         \"plaquetas\":[plaquetas],\n",
    "                         \"bilirrubina\":[bilirrubina],\n",
    "                         \"PAM\":[PAM],\n",
    "                         \"GCS\": [GCS],\n",
    "                         \"creatinina\":[creatinina],\n",
    "                         \"pO2\": [pO2],\n",
    "                         \"charlson_puntaje\": [charlson_puntaje]})\n",
    "    \n",
    "    # Hacer la predicción de sepsis\n",
    "    pred = modelo.predict(data)[0]\n",
    "    \n",
    "    # Retornar la cadena correspondiente\n",
    "    if pred == 0:\n",
    "        return \"El paciente tiene una taza de mortalidad de 10-14%\"\n",
    "    else:\n",
    "        return \"El paciente tiene una taza de mortalidad de 28%\"\n",
    "\n",
    "# Crear la interfaz de Gradio\n",
    "inputs = [gr.inputs.Number(label=\"ritmo_cardiaco\"),\n",
    "          gr.inputs.Number(label=\"plaquetas\"),\n",
    "          gr.inputs.Number(label=\"bilirrubina\"),\n",
    "          gr.inputs.Number(label=\"PAM\"),\n",
    "          gr.inputs.Number(label=\"GCS\"),\n",
    "          gr.inputs.Number(label=\"creatinina\"),\n",
    "          gr.inputs.Number(label=\"pO2\"),\n",
    "          gr.inputs.Number(label=\"charlson_puntaje\")]\n",
    "output = gr.outputs.Textbox(label=\"Mortalidad\")\n",
    "\n",
    "gr.Interface(fn=predict_sepsis, inputs=inputs, outputs=output).launch()"
   ]
  }
 ],
 "metadata": {
  "kernelspec": {
   "display_name": "Python 3",
   "language": "python",
   "name": "python3"
  },
  "language_info": {
   "codemirror_mode": {
    "name": "ipython",
    "version": 3
   },
   "file_extension": ".py",
   "mimetype": "text/x-python",
   "name": "python",
   "nbconvert_exporter": "python",
   "pygments_lexer": "ipython3",
   "version": "3.10.8"
  },
  "orig_nbformat": 4
 },
 "nbformat": 4,
 "nbformat_minor": 2
}
