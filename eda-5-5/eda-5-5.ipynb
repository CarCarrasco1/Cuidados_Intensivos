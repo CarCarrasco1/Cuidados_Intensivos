{
 "cells": [
  {
   "cell_type": "code",
   "execution_count": 2,
   "metadata": {},
   "outputs": [],
   "source": [
    "#Librerias requeridas:\n",
    "import pandas as pd\n"
   ]
  },
  {
   "cell_type": "code",
   "execution_count": 9,
   "metadata": {},
   "outputs": [],
   "source": [
    "#Instanciamos los archivos en dataframes\n",
    "df_pro_eve_mv = pd.read_csv('C:/Users/rodri/Downloads/datasets/PROCEDUREEVENTS_MV.csv')\n",
    "df_pro_icd = pd.read_csv('C:/Users/rodri/Downloads/datasets/PROCEDURES_ICD.csv')\n",
    "df_ser = pd.read_csv('C:/Users/rodri/Downloads/datasets/SERVICES.csv')\n",
    "df_tra = pd.read_csv('C:/Users/rodri/Downloads/datasets/TRANSFERS.csv')"
   ]
  },
  {
   "attachments": {},
   "cell_type": "markdown",
   "metadata": {},
   "source": [
    "PROCEDUREEVENTS_MV"
   ]
  },
  {
   "attachments": {},
   "cell_type": "markdown",
   "metadata": {},
   "source": [
    "Procedimientos de pacientes para el subconjunto de pacientes que fueron monitoreados por el sistema iMDSoft Metavision"
   ]
  },
  {
   "cell_type": "code",
   "execution_count": 23,
   "metadata": {},
   "outputs": [
    {
     "name": "stdout",
     "output_type": "stream",
     "text": [
      "['row_id', 'subject_id', 'hadm_id', 'icustay_id', 'starttime', 'endtime', 'itemid', 'value', 'valueuom', 'location', 'locationcategory', 'storetime', 'cgid', 'orderid', 'linkorderid', 'ordercategoryname', 'secondaryordercategoryname', 'ordercategorydescription', 'isopenbag', 'continueinnextdept', 'cancelreason', 'statusdescription', 'comments_editedby', 'comments_canceledby', 'comments_date']\n"
     ]
    }
   ],
   "source": [
    "\n",
    "print(df_pro_eve_mv.columns.tolist())"
   ]
  },
  {
   "cell_type": "code",
   "execution_count": 35,
   "metadata": {},
   "outputs": [
    {
     "data": {
      "text/plain": [
       "50"
      ]
     },
     "execution_count": 35,
     "metadata": {},
     "output_type": "execute_result"
    }
   ],
   "source": [
    "df_pro_eve_mv.subject_id.nunique()"
   ]
  },
  {
   "cell_type": "code",
   "execution_count": 11,
   "metadata": {},
   "outputs": [
    {
     "data": {
      "text/plain": [
       "(753, 25)"
      ]
     },
     "execution_count": 11,
     "metadata": {},
     "output_type": "execute_result"
    }
   ],
   "source": [
    "df_pro_eve_mv.shape"
   ]
  },
  {
   "cell_type": "code",
   "execution_count": 32,
   "metadata": {},
   "outputs": [
    {
     "name": "stdout",
     "output_type": "stream",
     "text": [
      "row_id                          0\n",
      "subject_id                      0\n",
      "hadm_id                         0\n",
      "icustay_id                      0\n",
      "starttime                       0\n",
      "endtime                         0\n",
      "itemid                          0\n",
      "value                           0\n",
      "valueuom                        0\n",
      "location                      635\n",
      "locationcategory              635\n",
      "storetime                       0\n",
      "cgid                            0\n",
      "orderid                         0\n",
      "linkorderid                     0\n",
      "ordercategoryname               0\n",
      "secondaryordercategoryname    753\n",
      "ordercategorydescription        0\n",
      "isopenbag                       0\n",
      "continueinnextdept              0\n",
      "cancelreason                    0\n",
      "statusdescription               0\n",
      "comments_editedby             749\n",
      "comments_canceledby           734\n",
      "comments_date                 730\n",
      "dtype: int64\n"
     ]
    }
   ],
   "source": [
    "print(df_pro_eve_mv.isnull().sum())"
   ]
  },
  {
   "cell_type": "code",
   "execution_count": 40,
   "metadata": {},
   "outputs": [
    {
     "name": "stdout",
     "output_type": "stream",
     "text": [
      "row_id                          int64\n",
      "subject_id                      int64\n",
      "hadm_id                         int64\n",
      "icustay_id                      int64\n",
      "starttime                      object\n",
      "endtime                        object\n",
      "itemid                          int64\n",
      "value                           int64\n",
      "valueuom                       object\n",
      "location                       object\n",
      "locationcategory               object\n",
      "storetime                      object\n",
      "cgid                            int64\n",
      "orderid                         int64\n",
      "linkorderid                     int64\n",
      "ordercategoryname              object\n",
      "secondaryordercategoryname    float64\n",
      "ordercategorydescription       object\n",
      "isopenbag                       int64\n",
      "continueinnextdept              int64\n",
      "cancelreason                    int64\n",
      "statusdescription              object\n",
      "comments_editedby              object\n",
      "comments_canceledby            object\n",
      "comments_date                  object\n",
      "dtype: object\n"
     ]
    }
   ],
   "source": [
    "print(df_pro_eve_mv.dtypes)"
   ]
  },
  {
   "attachments": {},
   "cell_type": "markdown",
   "metadata": {},
   "source": [
    "PROCEDURES_ICD"
   ]
  },
  {
   "attachments": {},
   "cell_type": "markdown",
   "metadata": {},
   "source": [
    "Procedimientos de los pacientes usando el ICD"
   ]
  },
  {
   "cell_type": "code",
   "execution_count": 12,
   "metadata": {},
   "outputs": [
    {
     "data": {
      "text/plain": [
       "(506, 5)"
      ]
     },
     "execution_count": 12,
     "metadata": {},
     "output_type": "execute_result"
    }
   ],
   "source": [
    "df_pro_icd.shape"
   ]
  },
  {
   "cell_type": "code",
   "execution_count": 33,
   "metadata": {},
   "outputs": [
    {
     "name": "stdout",
     "output_type": "stream",
     "text": [
      "row_id        0\n",
      "subject_id    0\n",
      "hadm_id       0\n",
      "seq_num       0\n",
      "icd9_code     0\n",
      "dtype: int64\n"
     ]
    }
   ],
   "source": [
    "print(df_pro_icd.isnull().sum())"
   ]
  },
  {
   "cell_type": "code",
   "execution_count": 36,
   "metadata": {},
   "outputs": [
    {
     "data": {
      "text/plain": [
       "88"
      ]
     },
     "execution_count": 36,
     "metadata": {},
     "output_type": "execute_result"
    }
   ],
   "source": [
    "df_pro_icd.subject_id.nunique()"
   ]
  },
  {
   "cell_type": "code",
   "execution_count": 41,
   "metadata": {},
   "outputs": [
    {
     "name": "stdout",
     "output_type": "stream",
     "text": [
      "row_id        int64\n",
      "subject_id    int64\n",
      "hadm_id       int64\n",
      "seq_num       int64\n",
      "icd9_code     int64\n",
      "dtype: object\n"
     ]
    }
   ],
   "source": [
    "print(df_pro_icd.dtypes)"
   ]
  },
  {
   "attachments": {},
   "cell_type": "markdown",
   "metadata": {},
   "source": [
    "SERVICES"
   ]
  },
  {
   "attachments": {},
   "cell_type": "markdown",
   "metadata": {},
   "source": [
    "El servicio bajo el cual los pacientes están inscriptos"
   ]
  },
  {
   "cell_type": "code",
   "execution_count": 13,
   "metadata": {},
   "outputs": [
    {
     "data": {
      "text/plain": [
       "(163, 6)"
      ]
     },
     "execution_count": 13,
     "metadata": {},
     "output_type": "execute_result"
    }
   ],
   "source": [
    "df_ser.shape"
   ]
  },
  {
   "cell_type": "code",
   "execution_count": 34,
   "metadata": {},
   "outputs": [
    {
     "name": "stdout",
     "output_type": "stream",
     "text": [
      "row_id            0\n",
      "subject_id        0\n",
      "hadm_id           0\n",
      "transfertime      0\n",
      "prev_service    129\n",
      "curr_service      0\n",
      "dtype: int64\n"
     ]
    }
   ],
   "source": [
    "print(df_ser.isnull().sum())"
   ]
  },
  {
   "cell_type": "code",
   "execution_count": 37,
   "metadata": {},
   "outputs": [
    {
     "data": {
      "text/plain": [
       "100"
      ]
     },
     "execution_count": 37,
     "metadata": {},
     "output_type": "execute_result"
    }
   ],
   "source": [
    "df_ser.subject_id.nunique()"
   ]
  },
  {
   "cell_type": "code",
   "execution_count": 42,
   "metadata": {},
   "outputs": [
    {
     "name": "stdout",
     "output_type": "stream",
     "text": [
      "row_id           int64\n",
      "subject_id       int64\n",
      "hadm_id          int64\n",
      "transfertime    object\n",
      "prev_service    object\n",
      "curr_service    object\n",
      "dtype: object\n"
     ]
    }
   ],
   "source": [
    "print(df_ser.dtypes)"
   ]
  },
  {
   "attachments": {},
   "cell_type": "markdown",
   "metadata": {},
   "source": [
    "TRANSFERS"
   ]
  },
  {
   "attachments": {},
   "cell_type": "markdown",
   "metadata": {},
   "source": [
    "Traslado de pacientes de una cama a otra dentro del hospital"
   ]
  },
  {
   "cell_type": "code",
   "execution_count": 14,
   "metadata": {},
   "outputs": [
    {
     "data": {
      "text/plain": [
       "(524, 13)"
      ]
     },
     "execution_count": 14,
     "metadata": {},
     "output_type": "execute_result"
    }
   ],
   "source": [
    "df_tra.shape"
   ]
  },
  {
   "cell_type": "code",
   "execution_count": 38,
   "metadata": {},
   "outputs": [
    {
     "name": "stdout",
     "output_type": "stream",
     "text": [
      "row_id             0\n",
      "subject_id         0\n",
      "hadm_id            0\n",
      "icustay_id       357\n",
      "dbsource           0\n",
      "eventtype          0\n",
      "prev_careunit    357\n",
      "curr_careunit    357\n",
      "prev_wardid      129\n",
      "curr_wardid      129\n",
      "intime             0\n",
      "outtime          129\n",
      "los              129\n",
      "dtype: int64\n"
     ]
    }
   ],
   "source": [
    "print(df_tra.isnull().sum())"
   ]
  },
  {
   "cell_type": "code",
   "execution_count": 39,
   "metadata": {},
   "outputs": [
    {
     "data": {
      "text/plain": [
       "100"
      ]
     },
     "execution_count": 39,
     "metadata": {},
     "output_type": "execute_result"
    }
   ],
   "source": [
    "df_tra.subject_id.nunique()"
   ]
  },
  {
   "cell_type": "code",
   "execution_count": 43,
   "metadata": {},
   "outputs": [
    {
     "name": "stdout",
     "output_type": "stream",
     "text": [
      "row_id             int64\n",
      "subject_id         int64\n",
      "hadm_id            int64\n",
      "icustay_id       float64\n",
      "dbsource          object\n",
      "eventtype         object\n",
      "prev_careunit     object\n",
      "curr_careunit     object\n",
      "prev_wardid      float64\n",
      "curr_wardid      float64\n",
      "intime            object\n",
      "outtime           object\n",
      "los              float64\n",
      "dtype: object\n"
     ]
    }
   ],
   "source": [
    "print(df_tra.dtypes)"
   ]
  }
 ],
 "metadata": {
  "kernelspec": {
   "display_name": "Henry_Numpy",
   "language": "python",
   "name": "python3"
  },
  "language_info": {
   "codemirror_mode": {
    "name": "ipython",
    "version": 3
   },
   "file_extension": ".py",
   "mimetype": "text/x-python",
   "name": "python",
   "nbconvert_exporter": "python",
   "pygments_lexer": "ipython3",
   "version": "3.9.13"
  },
  "orig_nbformat": 4,
  "vscode": {
   "interpreter": {
    "hash": "b77b9f924beb731cacec7ceb993caf9ebf76be383c8b2febf1bdd551e083fcdb"
   }
  }
 },
 "nbformat": 4,
 "nbformat_minor": 2
}
