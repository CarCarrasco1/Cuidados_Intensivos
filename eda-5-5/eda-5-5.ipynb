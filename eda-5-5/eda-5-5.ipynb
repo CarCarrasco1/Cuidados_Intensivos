{
 "cells": [
  {
   "cell_type": "code",
   "execution_count": null,
   "metadata": {},
   "outputs": [],
   "source": []
  }
 ],
 "metadata": {
  "kernelspec": {
   "display_name": "Henry_Numpy",
   "language": "python",
   "name": "python3"
  },
  "language_info": {
   "name": "python",
   "version": "3.9.13"
  },
  "orig_nbformat": 4,
  "vscode": {
   "interpreter": {
    "hash": "b77b9f924beb731cacec7ceb993caf9ebf76be383c8b2febf1bdd551e083fcdb"
   }
  }
 },
 "nbformat": 4,
 "nbformat_minor": 2
}
