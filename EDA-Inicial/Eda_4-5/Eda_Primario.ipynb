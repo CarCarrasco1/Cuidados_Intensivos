{
 "cells": [
  {
   "cell_type": "code",
   "execution_count": 5,
   "metadata": {},
   "outputs": [],
   "source": [
    "import pandas as pd\n",
    "import numpy as np"
   ]
  },
  {
   "cell_type": "code",
   "execution_count": 6,
   "metadata": {},
   "outputs": [],
   "source": [
    "NOTEEVENTS=pd.read_csv('C:/Users/fabi/Desktop/Cuidados_medicos/NOTEEVENTS.csv')\n",
    "OUTPUTEVENTS=pd.read_csv('C:/Users/fabi/Desktop/Cuidados_medicos/OUTPUTEVENTS.csv')\n",
    "PATIENTS=pd.read_csv('C:/Users/fabi/Desktop/Cuidados_medicos/PATIENTS.csv')\n",
    "PRESCRIPTIONS=pd.read_csv('C:/Users/fabi/Desktop/Cuidados_medicos/PRESCRIPTIONS.csv')"
   ]
  },
  {
   "attachments": {},
   "cell_type": "markdown",
   "metadata": {},
   "source": [
    "El dataset NOTEEVENTS se encuentra vacios"
   ]
  },
  {
   "cell_type": "code",
   "execution_count": 7,
   "metadata": {},
   "outputs": [
    {
     "data": {
      "text/html": [
       "<div>\n",
       "<style scoped>\n",
       "    .dataframe tbody tr th:only-of-type {\n",
       "        vertical-align: middle;\n",
       "    }\n",
       "\n",
       "    .dataframe tbody tr th {\n",
       "        vertical-align: top;\n",
       "    }\n",
       "\n",
       "    .dataframe thead th {\n",
       "        text-align: right;\n",
       "    }\n",
       "</style>\n",
       "<table border=\"1\" class=\"dataframe\">\n",
       "  <thead>\n",
       "    <tr style=\"text-align: right;\">\n",
       "      <th></th>\n",
       "      <th>row_id</th>\n",
       "      <th>subject_id</th>\n",
       "      <th>hadm_id</th>\n",
       "      <th>chartdate</th>\n",
       "      <th>charttime</th>\n",
       "      <th>storetime</th>\n",
       "      <th>category</th>\n",
       "      <th>description</th>\n",
       "      <th>cgid</th>\n",
       "      <th>iserror</th>\n",
       "      <th>text</th>\n",
       "    </tr>\n",
       "  </thead>\n",
       "  <tbody>\n",
       "  </tbody>\n",
       "</table>\n",
       "</div>"
      ],
      "text/plain": [
       "Empty DataFrame\n",
       "Columns: [row_id, subject_id, hadm_id, chartdate, charttime, storetime, category, description, cgid, iserror, text]\n",
       "Index: []"
      ]
     },
     "execution_count": 7,
     "metadata": {},
     "output_type": "execute_result"
    }
   ],
   "source": [
    "NOTEEVENTS.head(5)"
   ]
  },
  {
   "cell_type": "code",
   "execution_count": 8,
   "metadata": {},
   "outputs": [
    {
     "data": {
      "text/plain": [
       "(11320, 13)"
      ]
     },
     "execution_count": 8,
     "metadata": {},
     "output_type": "execute_result"
    }
   ],
   "source": [
    "OUTPUTEVENTS.shape"
   ]
  },
  {
   "cell_type": "code",
   "execution_count": 9,
   "metadata": {},
   "outputs": [
    {
     "data": {
      "text/plain": [
       "row_id            0\n",
       "subject_id        0\n",
       "hadm_id           0\n",
       "icustay_id        1\n",
       "charttime         0\n",
       "itemid            0\n",
       "value           160\n",
       "valueuom         47\n",
       "storetime         0\n",
       "cgid              0\n",
       "stopped       11320\n",
       "newbottle     11320\n",
       "iserror       11320\n",
       "dtype: int64"
      ]
     },
     "execution_count": 9,
     "metadata": {},
     "output_type": "execute_result"
    }
   ],
   "source": [
    "OUTPUTEVENTS.isnull().sum()\n"
   ]
  },
  {
   "cell_type": "code",
   "execution_count": 10,
   "metadata": {},
   "outputs": [
    {
     "data": {
      "text/plain": [
       "row_id          int64\n",
       "subject_id      int64\n",
       "hadm_id         int64\n",
       "icustay_id    float64\n",
       "charttime      object\n",
       "itemid          int64\n",
       "value         float64\n",
       "valueuom       object\n",
       "storetime      object\n",
       "cgid            int64\n",
       "stopped       float64\n",
       "newbottle     float64\n",
       "iserror       float64\n",
       "dtype: object"
      ]
     },
     "execution_count": 10,
     "metadata": {},
     "output_type": "execute_result"
    }
   ],
   "source": [
    "OUTPUTEVENTS.dtypes"
   ]
  },
  {
   "cell_type": "code",
   "execution_count": 11,
   "metadata": {},
   "outputs": [
    {
     "data": {
      "text/html": [
       "<div>\n",
       "<style scoped>\n",
       "    .dataframe tbody tr th:only-of-type {\n",
       "        vertical-align: middle;\n",
       "    }\n",
       "\n",
       "    .dataframe tbody tr th {\n",
       "        vertical-align: top;\n",
       "    }\n",
       "\n",
       "    .dataframe thead th {\n",
       "        text-align: right;\n",
       "    }\n",
       "</style>\n",
       "<table border=\"1\" class=\"dataframe\">\n",
       "  <thead>\n",
       "    <tr style=\"text-align: right;\">\n",
       "      <th></th>\n",
       "      <th>row_id</th>\n",
       "      <th>subject_id</th>\n",
       "      <th>hadm_id</th>\n",
       "      <th>icustay_id</th>\n",
       "      <th>charttime</th>\n",
       "      <th>itemid</th>\n",
       "      <th>value</th>\n",
       "      <th>valueuom</th>\n",
       "      <th>storetime</th>\n",
       "      <th>cgid</th>\n",
       "      <th>stopped</th>\n",
       "      <th>newbottle</th>\n",
       "      <th>iserror</th>\n",
       "    </tr>\n",
       "  </thead>\n",
       "  <tbody>\n",
       "    <tr>\n",
       "      <th>0</th>\n",
       "      <td>6540</td>\n",
       "      <td>10114</td>\n",
       "      <td>167957</td>\n",
       "      <td>234989.0</td>\n",
       "      <td>2171-10-30 20:00:00</td>\n",
       "      <td>40055</td>\n",
       "      <td>39.0</td>\n",
       "      <td>ml</td>\n",
       "      <td>2171-10-30 20:38:00</td>\n",
       "      <td>15029</td>\n",
       "      <td>NaN</td>\n",
       "      <td>NaN</td>\n",
       "      <td>NaN</td>\n",
       "    </tr>\n",
       "    <tr>\n",
       "      <th>1</th>\n",
       "      <td>6541</td>\n",
       "      <td>10114</td>\n",
       "      <td>167957</td>\n",
       "      <td>234989.0</td>\n",
       "      <td>2171-10-30 21:00:00</td>\n",
       "      <td>40055</td>\n",
       "      <td>35.0</td>\n",
       "      <td>ml</td>\n",
       "      <td>2171-10-30 21:18:00</td>\n",
       "      <td>15029</td>\n",
       "      <td>NaN</td>\n",
       "      <td>NaN</td>\n",
       "      <td>NaN</td>\n",
       "    </tr>\n",
       "    <tr>\n",
       "      <th>2</th>\n",
       "      <td>6542</td>\n",
       "      <td>10114</td>\n",
       "      <td>167957</td>\n",
       "      <td>234989.0</td>\n",
       "      <td>2171-10-30 23:00:00</td>\n",
       "      <td>40055</td>\n",
       "      <td>100.0</td>\n",
       "      <td>ml</td>\n",
       "      <td>2171-10-30 23:31:00</td>\n",
       "      <td>15029</td>\n",
       "      <td>NaN</td>\n",
       "      <td>NaN</td>\n",
       "      <td>NaN</td>\n",
       "    </tr>\n",
       "    <tr>\n",
       "      <th>3</th>\n",
       "      <td>6543</td>\n",
       "      <td>10114</td>\n",
       "      <td>167957</td>\n",
       "      <td>234989.0</td>\n",
       "      <td>2171-10-31 00:00:00</td>\n",
       "      <td>40055</td>\n",
       "      <td>45.0</td>\n",
       "      <td>ml</td>\n",
       "      <td>2171-10-31 00:24:00</td>\n",
       "      <td>15029</td>\n",
       "      <td>NaN</td>\n",
       "      <td>NaN</td>\n",
       "      <td>NaN</td>\n",
       "    </tr>\n",
       "    <tr>\n",
       "      <th>4</th>\n",
       "      <td>6544</td>\n",
       "      <td>10114</td>\n",
       "      <td>167957</td>\n",
       "      <td>234989.0</td>\n",
       "      <td>2171-10-31 02:00:00</td>\n",
       "      <td>40055</td>\n",
       "      <td>80.0</td>\n",
       "      <td>ml</td>\n",
       "      <td>2171-10-31 02:02:00</td>\n",
       "      <td>15029</td>\n",
       "      <td>NaN</td>\n",
       "      <td>NaN</td>\n",
       "      <td>NaN</td>\n",
       "    </tr>\n",
       "  </tbody>\n",
       "</table>\n",
       "</div>"
      ],
      "text/plain": [
       "   row_id  subject_id  hadm_id  icustay_id            charttime  itemid  \\\n",
       "0    6540       10114   167957    234989.0  2171-10-30 20:00:00   40055   \n",
       "1    6541       10114   167957    234989.0  2171-10-30 21:00:00   40055   \n",
       "2    6542       10114   167957    234989.0  2171-10-30 23:00:00   40055   \n",
       "3    6543       10114   167957    234989.0  2171-10-31 00:00:00   40055   \n",
       "4    6544       10114   167957    234989.0  2171-10-31 02:00:00   40055   \n",
       "\n",
       "   value valueuom            storetime   cgid  stopped  newbottle  iserror  \n",
       "0   39.0       ml  2171-10-30 20:38:00  15029      NaN        NaN      NaN  \n",
       "1   35.0       ml  2171-10-30 21:18:00  15029      NaN        NaN      NaN  \n",
       "2  100.0       ml  2171-10-30 23:31:00  15029      NaN        NaN      NaN  \n",
       "3   45.0       ml  2171-10-31 00:24:00  15029      NaN        NaN      NaN  \n",
       "4   80.0       ml  2171-10-31 02:02:00  15029      NaN        NaN      NaN  "
      ]
     },
     "execution_count": 11,
     "metadata": {},
     "output_type": "execute_result"
    }
   ],
   "source": [
    "OUTPUTEVENTS.head(5)"
   ]
  },
  {
   "cell_type": "code",
   "execution_count": 22,
   "metadata": {},
   "outputs": [
    {
     "data": {
      "text/plain": [
       "<bound method DataFrame.info of         row_id  subject_id  hadm_id  icustay_id            charttime  itemid  \\\n",
       "0         6540       10114   167957    234989.0  2171-10-30 20:00:00   40055   \n",
       "1         6541       10114   167957    234989.0  2171-10-30 21:00:00   40055   \n",
       "2         6542       10114   167957    234989.0  2171-10-30 23:00:00   40055   \n",
       "3         6543       10114   167957    234989.0  2171-10-31 00:00:00   40055   \n",
       "4         6544       10114   167957    234989.0  2171-10-31 02:00:00   40055   \n",
       "...        ...         ...      ...         ...                  ...     ...   \n",
       "11315  4226038       41976   145024    291067.0  2202-05-02 12:00:00  226559   \n",
       "11316  4226039       41976   145024    291067.0  2202-05-02 16:00:00  226559   \n",
       "11317  4226040       41976   145024    291067.0  2202-05-02 19:00:00  226559   \n",
       "11318  4226041       41976   145024    291067.0  2202-05-02 20:00:00  226559   \n",
       "11319  4226042       41976   145024    291067.0  2202-05-01 23:30:00  226582   \n",
       "\n",
       "       value valueuom            storetime   cgid  stopped  newbottle  iserror  \n",
       "0       39.0       ml  2171-10-30 20:38:00  15029      NaN        NaN      NaN  \n",
       "1       35.0       ml  2171-10-30 21:18:00  15029      NaN        NaN      NaN  \n",
       "2      100.0       ml  2171-10-30 23:31:00  15029      NaN        NaN      NaN  \n",
       "3       45.0       ml  2171-10-31 00:24:00  15029      NaN        NaN      NaN  \n",
       "4       80.0       ml  2171-10-31 02:02:00  15029      NaN        NaN      NaN  \n",
       "...      ...      ...                  ...    ...      ...        ...      ...  \n",
       "11315    5.0       mL  2202-05-02 12:59:00  16617      NaN        NaN      NaN  \n",
       "11316  100.0       mL  2202-05-02 16:26:00  16617      NaN        NaN      NaN  \n",
       "11317  200.0       mL  2202-05-02 18:55:00  16617      NaN        NaN      NaN  \n",
       "11318  100.0       mL  2202-05-02 19:54:00  21108      NaN        NaN      NaN  \n",
       "11319   15.0       mL  2202-05-02 00:08:00  14605      NaN        NaN      NaN  \n",
       "\n",
       "[11320 rows x 13 columns]>"
      ]
     },
     "execution_count": 22,
     "metadata": {},
     "output_type": "execute_result"
    }
   ],
   "source": [
    "OUTPUTEVENTS.info"
   ]
  },
  {
   "cell_type": "code",
   "execution_count": 12,
   "metadata": {},
   "outputs": [
    {
     "data": {
      "text/plain": [
       "(100, 8)"
      ]
     },
     "execution_count": 12,
     "metadata": {},
     "output_type": "execute_result"
    }
   ],
   "source": [
    "PATIENTS.shape"
   ]
  },
  {
   "cell_type": "code",
   "execution_count": 13,
   "metadata": {},
   "outputs": [
    {
     "data": {
      "text/plain": [
       "row_id          0\n",
       "subject_id      0\n",
       "gender          0\n",
       "dob             0\n",
       "dod             0\n",
       "dod_hosp       30\n",
       "dod_ssn        23\n",
       "expire_flag     0\n",
       "dtype: int64"
      ]
     },
     "execution_count": 13,
     "metadata": {},
     "output_type": "execute_result"
    }
   ],
   "source": [
    "PATIENTS.isnull().sum()"
   ]
  },
  {
   "cell_type": "code",
   "execution_count": 14,
   "metadata": {},
   "outputs": [
    {
     "data": {
      "text/plain": [
       "row_id          int64\n",
       "subject_id      int64\n",
       "gender         object\n",
       "dob            object\n",
       "dod            object\n",
       "dod_hosp       object\n",
       "dod_ssn        object\n",
       "expire_flag     int64\n",
       "dtype: object"
      ]
     },
     "execution_count": 14,
     "metadata": {},
     "output_type": "execute_result"
    }
   ],
   "source": [
    "PATIENTS.dtypes"
   ]
  },
  {
   "cell_type": "code",
   "execution_count": 17,
   "metadata": {},
   "outputs": [
    {
     "data": {
      "text/html": [
       "<div>\n",
       "<style scoped>\n",
       "    .dataframe tbody tr th:only-of-type {\n",
       "        vertical-align: middle;\n",
       "    }\n",
       "\n",
       "    .dataframe tbody tr th {\n",
       "        vertical-align: top;\n",
       "    }\n",
       "\n",
       "    .dataframe thead th {\n",
       "        text-align: right;\n",
       "    }\n",
       "</style>\n",
       "<table border=\"1\" class=\"dataframe\">\n",
       "  <thead>\n",
       "    <tr style=\"text-align: right;\">\n",
       "      <th></th>\n",
       "      <th>row_id</th>\n",
       "      <th>subject_id</th>\n",
       "      <th>gender</th>\n",
       "      <th>dob</th>\n",
       "      <th>dod</th>\n",
       "      <th>dod_hosp</th>\n",
       "      <th>dod_ssn</th>\n",
       "      <th>expire_flag</th>\n",
       "    </tr>\n",
       "  </thead>\n",
       "  <tbody>\n",
       "    <tr>\n",
       "      <th>0</th>\n",
       "      <td>9467</td>\n",
       "      <td>10006</td>\n",
       "      <td>F</td>\n",
       "      <td>2094-03-05 00:00:00</td>\n",
       "      <td>2165-08-12 00:00:00</td>\n",
       "      <td>2165-08-12 00:00:00</td>\n",
       "      <td>2165-08-12 00:00:00</td>\n",
       "      <td>1</td>\n",
       "    </tr>\n",
       "    <tr>\n",
       "      <th>1</th>\n",
       "      <td>9472</td>\n",
       "      <td>10011</td>\n",
       "      <td>F</td>\n",
       "      <td>2090-06-05 00:00:00</td>\n",
       "      <td>2126-08-28 00:00:00</td>\n",
       "      <td>2126-08-28 00:00:00</td>\n",
       "      <td>NaN</td>\n",
       "      <td>1</td>\n",
       "    </tr>\n",
       "    <tr>\n",
       "      <th>2</th>\n",
       "      <td>9474</td>\n",
       "      <td>10013</td>\n",
       "      <td>F</td>\n",
       "      <td>2038-09-03 00:00:00</td>\n",
       "      <td>2125-10-07 00:00:00</td>\n",
       "      <td>2125-10-07 00:00:00</td>\n",
       "      <td>2125-10-07 00:00:00</td>\n",
       "      <td>1</td>\n",
       "    </tr>\n",
       "    <tr>\n",
       "      <th>3</th>\n",
       "      <td>9478</td>\n",
       "      <td>10017</td>\n",
       "      <td>F</td>\n",
       "      <td>2075-09-21 00:00:00</td>\n",
       "      <td>2152-09-12 00:00:00</td>\n",
       "      <td>NaN</td>\n",
       "      <td>2152-09-12 00:00:00</td>\n",
       "      <td>1</td>\n",
       "    </tr>\n",
       "    <tr>\n",
       "      <th>4</th>\n",
       "      <td>9479</td>\n",
       "      <td>10019</td>\n",
       "      <td>M</td>\n",
       "      <td>2114-06-20 00:00:00</td>\n",
       "      <td>2163-05-15 00:00:00</td>\n",
       "      <td>2163-05-15 00:00:00</td>\n",
       "      <td>2163-05-15 00:00:00</td>\n",
       "      <td>1</td>\n",
       "    </tr>\n",
       "  </tbody>\n",
       "</table>\n",
       "</div>"
      ],
      "text/plain": [
       "   row_id  subject_id gender                  dob                  dod  \\\n",
       "0    9467       10006      F  2094-03-05 00:00:00  2165-08-12 00:00:00   \n",
       "1    9472       10011      F  2090-06-05 00:00:00  2126-08-28 00:00:00   \n",
       "2    9474       10013      F  2038-09-03 00:00:00  2125-10-07 00:00:00   \n",
       "3    9478       10017      F  2075-09-21 00:00:00  2152-09-12 00:00:00   \n",
       "4    9479       10019      M  2114-06-20 00:00:00  2163-05-15 00:00:00   \n",
       "\n",
       "              dod_hosp              dod_ssn  expire_flag  \n",
       "0  2165-08-12 00:00:00  2165-08-12 00:00:00            1  \n",
       "1  2126-08-28 00:00:00                  NaN            1  \n",
       "2  2125-10-07 00:00:00  2125-10-07 00:00:00            1  \n",
       "3                  NaN  2152-09-12 00:00:00            1  \n",
       "4  2163-05-15 00:00:00  2163-05-15 00:00:00            1  "
      ]
     },
     "execution_count": 17,
     "metadata": {},
     "output_type": "execute_result"
    }
   ],
   "source": [
    "PATIENTS.head(5)"
   ]
  },
  {
   "cell_type": "code",
   "execution_count": 21,
   "metadata": {},
   "outputs": [
    {
     "data": {
      "text/plain": [
       "<bound method DataFrame.info of     row_id  subject_id gender                  dob                  dod  \\\n",
       "0     9467       10006      F  2094-03-05 00:00:00  2165-08-12 00:00:00   \n",
       "1     9472       10011      F  2090-06-05 00:00:00  2126-08-28 00:00:00   \n",
       "2     9474       10013      F  2038-09-03 00:00:00  2125-10-07 00:00:00   \n",
       "3     9478       10017      F  2075-09-21 00:00:00  2152-09-12 00:00:00   \n",
       "4     9479       10019      M  2114-06-20 00:00:00  2163-05-15 00:00:00   \n",
       "..     ...         ...    ...                  ...                  ...   \n",
       "95   31838       44083      M  2057-11-15 00:00:00  2114-02-20 00:00:00   \n",
       "96   31853       44154      M  1878-05-14 00:00:00  2178-05-15 00:00:00   \n",
       "97   31867       44212      F  2078-06-16 00:00:00  2124-01-29 00:00:00   \n",
       "98   31870       44222      M  2107-06-27 00:00:00  2182-08-03 00:00:00   \n",
       "99   31872       44228      F  2112-10-22 00:00:00  2171-04-14 00:00:00   \n",
       "\n",
       "               dod_hosp              dod_ssn  expire_flag  \n",
       "0   2165-08-12 00:00:00  2165-08-12 00:00:00            1  \n",
       "1   2126-08-28 00:00:00                  NaN            1  \n",
       "2   2125-10-07 00:00:00  2125-10-07 00:00:00            1  \n",
       "3                   NaN  2152-09-12 00:00:00            1  \n",
       "4   2163-05-15 00:00:00  2163-05-15 00:00:00            1  \n",
       "..                  ...                  ...          ...  \n",
       "95  2114-02-20 00:00:00  2114-02-20 00:00:00            1  \n",
       "96  2178-05-15 00:00:00  2178-05-15 00:00:00            1  \n",
       "97                  NaN  2124-01-29 00:00:00            1  \n",
       "98  2182-08-03 00:00:00                  NaN            1  \n",
       "99  2171-04-14 00:00:00                  NaN            1  \n",
       "\n",
       "[100 rows x 8 columns]>"
      ]
     },
     "execution_count": 21,
     "metadata": {},
     "output_type": "execute_result"
    }
   ],
   "source": [
    "PATIENTS.info"
   ]
  },
  {
   "cell_type": "code",
   "execution_count": 15,
   "metadata": {},
   "outputs": [
    {
     "data": {
      "text/plain": [
       "(10398, 19)"
      ]
     },
     "execution_count": 15,
     "metadata": {},
     "output_type": "execute_result"
    }
   ],
   "source": [
    "PRESCRIPTIONS.shape"
   ]
  },
  {
   "cell_type": "code",
   "execution_count": 16,
   "metadata": {},
   "outputs": [
    {
     "data": {
      "text/plain": [
       "row_id                  0\n",
       "subject_id              0\n",
       "hadm_id                 0\n",
       "icustay_id           3352\n",
       "startdate               0\n",
       "enddate                 1\n",
       "drug_type               0\n",
       "drug                    0\n",
       "drug_name_poe        4632\n",
       "drug_name_generic    4626\n",
       "formulary_drug_cd       1\n",
       "gsn                  1276\n",
       "ndc                     1\n",
       "prod_strength           0\n",
       "dose_val_rx             0\n",
       "dose_unit_rx            0\n",
       "form_val_disp           0\n",
       "form_unit_disp          1\n",
       "route                   0\n",
       "dtype: int64"
      ]
     },
     "execution_count": 16,
     "metadata": {},
     "output_type": "execute_result"
    }
   ],
   "source": [
    "PRESCRIPTIONS.isnull().sum()"
   ]
  },
  {
   "cell_type": "code",
   "execution_count": 18,
   "metadata": {},
   "outputs": [
    {
     "data": {
      "text/plain": [
       "row_id                 int64\n",
       "subject_id             int64\n",
       "hadm_id                int64\n",
       "icustay_id           float64\n",
       "startdate             object\n",
       "enddate               object\n",
       "drug_type             object\n",
       "drug                  object\n",
       "drug_name_poe         object\n",
       "drug_name_generic     object\n",
       "formulary_drug_cd     object\n",
       "gsn                  float64\n",
       "ndc                  float64\n",
       "prod_strength         object\n",
       "dose_val_rx           object\n",
       "dose_unit_rx          object\n",
       "form_val_disp         object\n",
       "form_unit_disp        object\n",
       "route                 object\n",
       "dtype: object"
      ]
     },
     "execution_count": 18,
     "metadata": {},
     "output_type": "execute_result"
    }
   ],
   "source": [
    "PRESCRIPTIONS.dtypes"
   ]
  },
  {
   "cell_type": "code",
   "execution_count": 19,
   "metadata": {},
   "outputs": [
    {
     "data": {
      "text/html": [
       "<div>\n",
       "<style scoped>\n",
       "    .dataframe tbody tr th:only-of-type {\n",
       "        vertical-align: middle;\n",
       "    }\n",
       "\n",
       "    .dataframe tbody tr th {\n",
       "        vertical-align: top;\n",
       "    }\n",
       "\n",
       "    .dataframe thead th {\n",
       "        text-align: right;\n",
       "    }\n",
       "</style>\n",
       "<table border=\"1\" class=\"dataframe\">\n",
       "  <thead>\n",
       "    <tr style=\"text-align: right;\">\n",
       "      <th></th>\n",
       "      <th>row_id</th>\n",
       "      <th>subject_id</th>\n",
       "      <th>hadm_id</th>\n",
       "      <th>icustay_id</th>\n",
       "      <th>startdate</th>\n",
       "      <th>enddate</th>\n",
       "      <th>drug_type</th>\n",
       "      <th>drug</th>\n",
       "      <th>drug_name_poe</th>\n",
       "      <th>drug_name_generic</th>\n",
       "      <th>formulary_drug_cd</th>\n",
       "      <th>gsn</th>\n",
       "      <th>ndc</th>\n",
       "      <th>prod_strength</th>\n",
       "      <th>dose_val_rx</th>\n",
       "      <th>dose_unit_rx</th>\n",
       "      <th>form_val_disp</th>\n",
       "      <th>form_unit_disp</th>\n",
       "      <th>route</th>\n",
       "    </tr>\n",
       "  </thead>\n",
       "  <tbody>\n",
       "    <tr>\n",
       "      <th>0</th>\n",
       "      <td>32600</td>\n",
       "      <td>42458</td>\n",
       "      <td>159647</td>\n",
       "      <td>NaN</td>\n",
       "      <td>2146-07-21 00:00:00</td>\n",
       "      <td>2146-07-22 00:00:00</td>\n",
       "      <td>MAIN</td>\n",
       "      <td>Pneumococcal Vac Polyvalent</td>\n",
       "      <td>Pneumococcal Vac Polyvalent</td>\n",
       "      <td>PNEUMOcoccal Vac Polyvalent</td>\n",
       "      <td>PNEU25I</td>\n",
       "      <td>48548.0</td>\n",
       "      <td>6494300.0</td>\n",
       "      <td>25mcg/0.5mL Vial</td>\n",
       "      <td>0.5</td>\n",
       "      <td>mL</td>\n",
       "      <td>1</td>\n",
       "      <td>VIAL</td>\n",
       "      <td>IM</td>\n",
       "    </tr>\n",
       "    <tr>\n",
       "      <th>1</th>\n",
       "      <td>32601</td>\n",
       "      <td>42458</td>\n",
       "      <td>159647</td>\n",
       "      <td>NaN</td>\n",
       "      <td>2146-07-21 00:00:00</td>\n",
       "      <td>2146-07-22 00:00:00</td>\n",
       "      <td>MAIN</td>\n",
       "      <td>Bisacodyl</td>\n",
       "      <td>Bisacodyl</td>\n",
       "      <td>Bisacodyl</td>\n",
       "      <td>BISA5</td>\n",
       "      <td>2947.0</td>\n",
       "      <td>536338101.0</td>\n",
       "      <td>5 mg Tab</td>\n",
       "      <td>10</td>\n",
       "      <td>mg</td>\n",
       "      <td>2</td>\n",
       "      <td>TAB</td>\n",
       "      <td>PO</td>\n",
       "    </tr>\n",
       "    <tr>\n",
       "      <th>2</th>\n",
       "      <td>32602</td>\n",
       "      <td>42458</td>\n",
       "      <td>159647</td>\n",
       "      <td>NaN</td>\n",
       "      <td>2146-07-21 00:00:00</td>\n",
       "      <td>2146-07-22 00:00:00</td>\n",
       "      <td>MAIN</td>\n",
       "      <td>Bisacodyl</td>\n",
       "      <td>Bisacodyl</td>\n",
       "      <td>Bisacodyl (Rectal)</td>\n",
       "      <td>BISA10R</td>\n",
       "      <td>2944.0</td>\n",
       "      <td>574705050.0</td>\n",
       "      <td>10mg Suppository</td>\n",
       "      <td>10</td>\n",
       "      <td>mg</td>\n",
       "      <td>1</td>\n",
       "      <td>SUPP</td>\n",
       "      <td>PR</td>\n",
       "    </tr>\n",
       "    <tr>\n",
       "      <th>3</th>\n",
       "      <td>32603</td>\n",
       "      <td>42458</td>\n",
       "      <td>159647</td>\n",
       "      <td>NaN</td>\n",
       "      <td>2146-07-21 00:00:00</td>\n",
       "      <td>2146-07-22 00:00:00</td>\n",
       "      <td>MAIN</td>\n",
       "      <td>Senna</td>\n",
       "      <td>Senna</td>\n",
       "      <td>Senna</td>\n",
       "      <td>SENN187</td>\n",
       "      <td>19964.0</td>\n",
       "      <td>904516561.0</td>\n",
       "      <td>1 Tablet</td>\n",
       "      <td>1</td>\n",
       "      <td>TAB</td>\n",
       "      <td>1</td>\n",
       "      <td>TAB</td>\n",
       "      <td>PO</td>\n",
       "    </tr>\n",
       "    <tr>\n",
       "      <th>4</th>\n",
       "      <td>32604</td>\n",
       "      <td>42458</td>\n",
       "      <td>159647</td>\n",
       "      <td>NaN</td>\n",
       "      <td>2146-07-21 00:00:00</td>\n",
       "      <td>2146-07-21 00:00:00</td>\n",
       "      <td>MAIN</td>\n",
       "      <td>Docusate Sodium (Liquid)</td>\n",
       "      <td>Docusate Sodium (Liquid)</td>\n",
       "      <td>Docusate Sodium (Liquid)</td>\n",
       "      <td>DOCU100L</td>\n",
       "      <td>3017.0</td>\n",
       "      <td>121054410.0</td>\n",
       "      <td>100mg UD Cup</td>\n",
       "      <td>100</td>\n",
       "      <td>mg</td>\n",
       "      <td>1</td>\n",
       "      <td>UDCUP</td>\n",
       "      <td>PO</td>\n",
       "    </tr>\n",
       "  </tbody>\n",
       "</table>\n",
       "</div>"
      ],
      "text/plain": [
       "   row_id  subject_id  hadm_id  icustay_id            startdate  \\\n",
       "0   32600       42458   159647         NaN  2146-07-21 00:00:00   \n",
       "1   32601       42458   159647         NaN  2146-07-21 00:00:00   \n",
       "2   32602       42458   159647         NaN  2146-07-21 00:00:00   \n",
       "3   32603       42458   159647         NaN  2146-07-21 00:00:00   \n",
       "4   32604       42458   159647         NaN  2146-07-21 00:00:00   \n",
       "\n",
       "               enddate drug_type                         drug  \\\n",
       "0  2146-07-22 00:00:00      MAIN  Pneumococcal Vac Polyvalent   \n",
       "1  2146-07-22 00:00:00      MAIN                    Bisacodyl   \n",
       "2  2146-07-22 00:00:00      MAIN                    Bisacodyl   \n",
       "3  2146-07-22 00:00:00      MAIN                        Senna   \n",
       "4  2146-07-21 00:00:00      MAIN     Docusate Sodium (Liquid)   \n",
       "\n",
       "                 drug_name_poe            drug_name_generic formulary_drug_cd  \\\n",
       "0  Pneumococcal Vac Polyvalent  PNEUMOcoccal Vac Polyvalent           PNEU25I   \n",
       "1                    Bisacodyl                    Bisacodyl             BISA5   \n",
       "2                    Bisacodyl           Bisacodyl (Rectal)           BISA10R   \n",
       "3                        Senna                        Senna           SENN187   \n",
       "4     Docusate Sodium (Liquid)     Docusate Sodium (Liquid)          DOCU100L   \n",
       "\n",
       "       gsn          ndc     prod_strength dose_val_rx dose_unit_rx  \\\n",
       "0  48548.0    6494300.0  25mcg/0.5mL Vial         0.5           mL   \n",
       "1   2947.0  536338101.0          5 mg Tab          10           mg   \n",
       "2   2944.0  574705050.0  10mg Suppository          10           mg   \n",
       "3  19964.0  904516561.0          1 Tablet           1          TAB   \n",
       "4   3017.0  121054410.0      100mg UD Cup         100           mg   \n",
       "\n",
       "  form_val_disp form_unit_disp route  \n",
       "0             1           VIAL    IM  \n",
       "1             2            TAB    PO  \n",
       "2             1           SUPP    PR  \n",
       "3             1            TAB    PO  \n",
       "4             1          UDCUP    PO  "
      ]
     },
     "execution_count": 19,
     "metadata": {},
     "output_type": "execute_result"
    }
   ],
   "source": [
    "PRESCRIPTIONS.head(5)"
   ]
  },
  {
   "cell_type": "code",
   "execution_count": 20,
   "metadata": {},
   "outputs": [
    {
     "data": {
      "text/plain": [
       "<bound method DataFrame.info of         row_id  subject_id  hadm_id  icustay_id            startdate  \\\n",
       "0        32600       42458   159647         NaN  2146-07-21 00:00:00   \n",
       "1        32601       42458   159647         NaN  2146-07-21 00:00:00   \n",
       "2        32602       42458   159647         NaN  2146-07-21 00:00:00   \n",
       "3        32603       42458   159647         NaN  2146-07-21 00:00:00   \n",
       "4        32604       42458   159647         NaN  2146-07-21 00:00:00   \n",
       "...        ...         ...      ...         ...                  ...   \n",
       "10393  3609913       42430   100969    210474.0  2142-11-29 00:00:00   \n",
       "10394  3609914       42430   100969    210474.0  2142-11-30 00:00:00   \n",
       "10395  3609915       42430   100969         NaN  2142-11-26 00:00:00   \n",
       "10396  3609916       42430   100969         NaN  2142-11-26 00:00:00   \n",
       "10397  3609917       42430   100969         NaN  2142-11-26 00:00:00   \n",
       "\n",
       "                   enddate drug_type                         drug  \\\n",
       "0      2146-07-22 00:00:00      MAIN  Pneumococcal Vac Polyvalent   \n",
       "1      2146-07-22 00:00:00      MAIN                    Bisacodyl   \n",
       "2      2146-07-22 00:00:00      MAIN                    Bisacodyl   \n",
       "3      2146-07-22 00:00:00      MAIN                        Senna   \n",
       "4      2146-07-21 00:00:00      MAIN     Docusate Sodium (Liquid)   \n",
       "...                    ...       ...                          ...   \n",
       "10393  2142-11-30 00:00:00      MAIN  Sodium Chloride 0.9%  Flush   \n",
       "10394  2142-11-30 00:00:00      MAIN                Acetaminophen   \n",
       "10395  2142-11-27 00:00:00      BASE         0.9% Sodium Chloride   \n",
       "10396  2142-11-27 00:00:00      BASE                          D5W   \n",
       "10397  2142-11-28 00:00:00      BASE        0.83% Sodium Chloride   \n",
       "\n",
       "                     drug_name_poe            drug_name_generic  \\\n",
       "0      Pneumococcal Vac Polyvalent  PNEUMOcoccal Vac Polyvalent   \n",
       "1                        Bisacodyl                    Bisacodyl   \n",
       "2                        Bisacodyl           Bisacodyl (Rectal)   \n",
       "3                            Senna                        Senna   \n",
       "4         Docusate Sodium (Liquid)     Docusate Sodium (Liquid)   \n",
       "...                            ...                          ...   \n",
       "10393  Sodium Chloride 0.9%  Flush  Sodium Chloride 0.9%  Flush   \n",
       "10394                Acetaminophen       Acetaminophen (Rectal)   \n",
       "10395                          NaN                          NaN   \n",
       "10396                          NaN                          NaN   \n",
       "10397                          NaN                          NaN   \n",
       "\n",
       "      formulary_drug_cd      gsn          ndc     prod_strength dose_val_rx  \\\n",
       "0               PNEU25I  48548.0    6494300.0  25mcg/0.5mL Vial         0.5   \n",
       "1                 BISA5   2947.0  536338101.0          5 mg Tab          10   \n",
       "2               BISA10R   2944.0  574705050.0  10mg Suppository          10   \n",
       "3               SENN187  19964.0  904516561.0          1 Tablet           1   \n",
       "4              DOCU100L   3017.0  121054410.0      100mg UD Cup         100   \n",
       "...                 ...      ...          ...               ...         ...   \n",
       "10393         NACLFLUSH      NaN          0.0           Syringe           3   \n",
       "10394          ACET650R   4478.0  713016550.0        650mg Supp         650   \n",
       "10395            NS1000   1210.0  338004904.0        1000mL Bag        1000   \n",
       "10396           HEPBASE      NaN          0.0      HEPARIN BASE         250   \n",
       "10397     NICABAGSODCHL      NaN          0.0        200 mL Bag         200   \n",
       "\n",
       "      dose_unit_rx form_val_disp form_unit_disp    route  \n",
       "0               mL             1           VIAL       IM  \n",
       "1               mg             2            TAB       PO  \n",
       "2               mg             1           SUPP       PR  \n",
       "3              TAB             1            TAB       PO  \n",
       "4               mg             1          UDCUP       PO  \n",
       "...            ...           ...            ...      ...  \n",
       "10393           mL           0.6            SYR       IV  \n",
       "10394           mg             1           SUPP       PR  \n",
       "10395           mL             1            BAG       IV  \n",
       "10396           mL           250             mL       IV  \n",
       "10397           mL             1            BAG  IV DRIP  \n",
       "\n",
       "[10398 rows x 19 columns]>"
      ]
     },
     "execution_count": 20,
     "metadata": {},
     "output_type": "execute_result"
    }
   ],
   "source": [
    "PRESCRIPTIONS.info"
   ]
  }
 ],
 "metadata": {
  "kernelspec": {
   "display_name": "base",
   "language": "python",
   "name": "python3"
  },
  "language_info": {
   "codemirror_mode": {
    "name": "ipython",
    "version": 3
   },
   "file_extension": ".py",
   "mimetype": "text/x-python",
   "name": "python",
   "nbconvert_exporter": "python",
   "pygments_lexer": "ipython3",
   "version": "3.9.13"
  },
  "orig_nbformat": 4
 },
 "nbformat": 4,
 "nbformat_minor": 2
}
