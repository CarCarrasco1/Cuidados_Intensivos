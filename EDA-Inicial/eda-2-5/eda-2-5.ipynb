{
 "cells": [
  {
   "attachments": {},
   "cell_type": "markdown",
   "metadata": {},
   "source": [
    "`EDA`"
   ]
  },
  {
   "attachments": {},
   "cell_type": "markdown",
   "metadata": {},
   "source": [
    "![Imagen1](imagen1.jpg)\n"
   ]
  },
  {
   "attachments": {},
   "cell_type": "markdown",
   "metadata": {},
   "source": [
    "ICD International Classification of Diseases - Clasificación internacional de enfermedades\n",
    "\n",
    "ICD-9-CM es el sistema oficial de asignación de códigos para diagnosticar y procedimientos asociados con los usos del hospital en los Estados Unidos. Cuyo fin es clasificar las enfermedades, afecciones y causas externas de enfermedades y traumatismos, con objeto de recopilar información sanitaria útil relacionada con defunciones, enfermedades y traumatismos (mortalidad y morbilidad)\n"
   ]
  },
  {
   "cell_type": "code",
   "execution_count": 45,
   "metadata": {},
   "outputs": [],
   "source": [
    "import pandas as pd"
   ]
  },
  {
   "cell_type": "code",
   "execution_count": 46,
   "metadata": {},
   "outputs": [],
   "source": [
    "df = pd.read_csv('D_ICD_DIAGNOSES.csv')\n"
   ]
  },
  {
   "cell_type": "code",
   "execution_count": 47,
   "metadata": {},
   "outputs": [
    {
     "data": {
      "text/html": [
       "<div>\n",
       "<style scoped>\n",
       "    .dataframe tbody tr th:only-of-type {\n",
       "        vertical-align: middle;\n",
       "    }\n",
       "\n",
       "    .dataframe tbody tr th {\n",
       "        vertical-align: top;\n",
       "    }\n",
       "\n",
       "    .dataframe thead th {\n",
       "        text-align: right;\n",
       "    }\n",
       "</style>\n",
       "<table border=\"1\" class=\"dataframe\">\n",
       "  <thead>\n",
       "    <tr style=\"text-align: right;\">\n",
       "      <th></th>\n",
       "      <th>row_id</th>\n",
       "      <th>icd9_code</th>\n",
       "      <th>short_title</th>\n",
       "      <th>long_title</th>\n",
       "    </tr>\n",
       "  </thead>\n",
       "  <tbody>\n",
       "    <tr>\n",
       "      <th>0</th>\n",
       "      <td>1</td>\n",
       "      <td>01716</td>\n",
       "      <td>Erythem nod tb-oth test</td>\n",
       "      <td>Erythema nodosum with hypersensitivity reactio...</td>\n",
       "    </tr>\n",
       "    <tr>\n",
       "      <th>1</th>\n",
       "      <td>2</td>\n",
       "      <td>01720</td>\n",
       "      <td>TB periph lymph-unspec</td>\n",
       "      <td>Tuberculosis of peripheral lymph nodes, unspec...</td>\n",
       "    </tr>\n",
       "    <tr>\n",
       "      <th>2</th>\n",
       "      <td>3</td>\n",
       "      <td>01721</td>\n",
       "      <td>TB periph lymph-no exam</td>\n",
       "      <td>Tuberculosis of peripheral lymph nodes, bacter...</td>\n",
       "    </tr>\n",
       "    <tr>\n",
       "      <th>3</th>\n",
       "      <td>4</td>\n",
       "      <td>01722</td>\n",
       "      <td>TB periph lymph-exam unk</td>\n",
       "      <td>Tuberculosis of peripheral lymph nodes, bacter...</td>\n",
       "    </tr>\n",
       "    <tr>\n",
       "      <th>4</th>\n",
       "      <td>5</td>\n",
       "      <td>01723</td>\n",
       "      <td>TB periph lymph-micro dx</td>\n",
       "      <td>Tuberculosis of peripheral lymph nodes, tuberc...</td>\n",
       "    </tr>\n",
       "    <tr>\n",
       "      <th>5</th>\n",
       "      <td>6</td>\n",
       "      <td>01724</td>\n",
       "      <td>TB periph lymph-cult dx</td>\n",
       "      <td>Tuberculosis of peripheral lymph nodes, tuberc...</td>\n",
       "    </tr>\n",
       "    <tr>\n",
       "      <th>6</th>\n",
       "      <td>7</td>\n",
       "      <td>01725</td>\n",
       "      <td>TB periph lymph-histo dx</td>\n",
       "      <td>Tuberculosis of peripheral lymph nodes, tuberc...</td>\n",
       "    </tr>\n",
       "    <tr>\n",
       "      <th>7</th>\n",
       "      <td>8</td>\n",
       "      <td>01726</td>\n",
       "      <td>TB periph lymph-oth test</td>\n",
       "      <td>Tuberculosis of peripheral lymph nodes, tuberc...</td>\n",
       "    </tr>\n",
       "    <tr>\n",
       "      <th>8</th>\n",
       "      <td>9</td>\n",
       "      <td>01730</td>\n",
       "      <td>TB of eye-unspec</td>\n",
       "      <td>Tuberculosis of eye, unspecified</td>\n",
       "    </tr>\n",
       "    <tr>\n",
       "      <th>9</th>\n",
       "      <td>10</td>\n",
       "      <td>01731</td>\n",
       "      <td>TB of eye-no exam</td>\n",
       "      <td>Tuberculosis of eye, bacteriological or histol...</td>\n",
       "    </tr>\n",
       "  </tbody>\n",
       "</table>\n",
       "</div>"
      ],
      "text/plain": [
       "   row_id icd9_code               short_title  \\\n",
       "0       1     01716   Erythem nod tb-oth test   \n",
       "1       2     01720    TB periph lymph-unspec   \n",
       "2       3     01721   TB periph lymph-no exam   \n",
       "3       4     01722  TB periph lymph-exam unk   \n",
       "4       5     01723  TB periph lymph-micro dx   \n",
       "5       6     01724   TB periph lymph-cult dx   \n",
       "6       7     01725  TB periph lymph-histo dx   \n",
       "7       8     01726  TB periph lymph-oth test   \n",
       "8       9     01730          TB of eye-unspec   \n",
       "9      10     01731         TB of eye-no exam   \n",
       "\n",
       "                                          long_title  \n",
       "0  Erythema nodosum with hypersensitivity reactio...  \n",
       "1  Tuberculosis of peripheral lymph nodes, unspec...  \n",
       "2  Tuberculosis of peripheral lymph nodes, bacter...  \n",
       "3  Tuberculosis of peripheral lymph nodes, bacter...  \n",
       "4  Tuberculosis of peripheral lymph nodes, tuberc...  \n",
       "5  Tuberculosis of peripheral lymph nodes, tuberc...  \n",
       "6  Tuberculosis of peripheral lymph nodes, tuberc...  \n",
       "7  Tuberculosis of peripheral lymph nodes, tuberc...  \n",
       "8                   Tuberculosis of eye, unspecified  \n",
       "9  Tuberculosis of eye, bacteriological or histol...  "
      ]
     },
     "execution_count": 47,
     "metadata": {},
     "output_type": "execute_result"
    }
   ],
   "source": [
    "# Muestra las primeras 5 filas del dataframe\n",
    "df.head(10)"
   ]
  },
  {
   "attachments": {},
   "cell_type": "markdown",
   "metadata": {},
   "source": [
    "`Se comprueba que estan todos los códigos en el df y que se encuentran como valores unicos.`"
   ]
  },
  {
   "cell_type": "code",
   "execution_count": 48,
   "metadata": {},
   "outputs": [
    {
     "data": {
      "text/plain": [
       "(14567, 4)"
      ]
     },
     "execution_count": 48,
     "metadata": {},
     "output_type": "execute_result"
    }
   ],
   "source": [
    "df.shape"
   ]
  },
  {
   "cell_type": "code",
   "execution_count": 49,
   "metadata": {},
   "outputs": [
    {
     "data": {
      "text/plain": [
       "row_id         0\n",
       "icd9_code      0\n",
       "short_title    0\n",
       "long_title     0\n",
       "dtype: int64"
      ]
     },
     "execution_count": 49,
     "metadata": {},
     "output_type": "execute_result"
    }
   ],
   "source": [
    "#Cuento cantidad de valores nulos por columnas\n",
    "df.isnull().sum()"
   ]
  },
  {
   "cell_type": "code",
   "execution_count": 50,
   "metadata": {},
   "outputs": [
    {
     "data": {
      "text/plain": [
       "0"
      ]
     },
     "execution_count": 50,
     "metadata": {},
     "output_type": "execute_result"
    }
   ],
   "source": [
    "#Cuento cantidad total de valores nulos en todo el dataframe\n",
    "df.isnull().sum().sum()"
   ]
  },
  {
   "cell_type": "code",
   "execution_count": 51,
   "metadata": {},
   "outputs": [
    {
     "data": {
      "text/plain": [
       "row_id          int64\n",
       "icd9_code      object\n",
       "short_title    object\n",
       "long_title     object\n",
       "dtype: object"
      ]
     },
     "execution_count": 51,
     "metadata": {},
     "output_type": "execute_result"
    }
   ],
   "source": [
    "df.dtypes"
   ]
  },
  {
   "cell_type": "code",
   "execution_count": 52,
   "metadata": {},
   "outputs": [
    {
     "name": "stdout",
     "output_type": "stream",
     "text": [
      "Todos los valores son únicos\n"
     ]
    }
   ],
   "source": [
    "if df[\"icd9_code\"].nunique() == len(df[\"icd9_code\"]):\n",
    "    print(\"Todos los valores son únicos\")\n",
    "else:\n",
    "    print(\"Hay valores duplicados\")\n"
   ]
  },
  {
   "attachments": {},
   "cell_type": "markdown",
   "metadata": {},
   "source": [
    "Se podria analizar:\n",
    "\n",
    "La frecuencia con la que aparecen ciertos códigos ICD-9 en el DataFrame. Esto te puede ayudar a identificar las condiciones médicas más comunes o importantes registradas en tus datos.\n",
    "\n",
    "Buscar patrones de diagnóstico o procedimientos quirúrgicos utilizando los códigos ICD-9. Puedes agrupar los códigos por categorías o subcategorías relevantes para tu análisis y ver qué patrones emergen.\n",
    "\n",
    "Comparar los códigos ICD-9 con otras variables en el DataFrame, como la edad, el género o los resultados de laboratorio. Esto puede ayudarte a identificar asociaciones entre las condiciones médicas y otros factores.\n",
    "\n",
    "Realizar análisis de tendencias a lo largo del tiempo, evaluando cómo cambia la frecuencia de ciertos códigos ICD-9 a lo largo de los años. Esto puede ayudarte a identificar tendencias en la salud y la atención médica."
   ]
  },
  {
   "cell_type": "code",
   "execution_count": 53,
   "metadata": {},
   "outputs": [],
   "source": [
    "df2 = pd.read_csv('D_ICD_PROCEDURES.csv')"
   ]
  },
  {
   "cell_type": "code",
   "execution_count": 54,
   "metadata": {},
   "outputs": [
    {
     "data": {
      "text/html": [
       "<div>\n",
       "<style scoped>\n",
       "    .dataframe tbody tr th:only-of-type {\n",
       "        vertical-align: middle;\n",
       "    }\n",
       "\n",
       "    .dataframe tbody tr th {\n",
       "        vertical-align: top;\n",
       "    }\n",
       "\n",
       "    .dataframe thead th {\n",
       "        text-align: right;\n",
       "    }\n",
       "</style>\n",
       "<table border=\"1\" class=\"dataframe\">\n",
       "  <thead>\n",
       "    <tr style=\"text-align: right;\">\n",
       "      <th></th>\n",
       "      <th>row_id</th>\n",
       "      <th>icd9_code</th>\n",
       "      <th>short_title</th>\n",
       "      <th>long_title</th>\n",
       "    </tr>\n",
       "  </thead>\n",
       "  <tbody>\n",
       "    <tr>\n",
       "      <th>0</th>\n",
       "      <td>1</td>\n",
       "      <td>1423</td>\n",
       "      <td>Chorioret les xenon coag</td>\n",
       "      <td>Destruction of chorioretinal lesion by xenon a...</td>\n",
       "    </tr>\n",
       "    <tr>\n",
       "      <th>1</th>\n",
       "      <td>2</td>\n",
       "      <td>1424</td>\n",
       "      <td>Chorioret les laser coag</td>\n",
       "      <td>Destruction of chorioretinal lesion by laser p...</td>\n",
       "    </tr>\n",
       "    <tr>\n",
       "      <th>2</th>\n",
       "      <td>3</td>\n",
       "      <td>1425</td>\n",
       "      <td>Chorioret les p/coag NOS</td>\n",
       "      <td>Destruction of chorioretinal lesion by photoco...</td>\n",
       "    </tr>\n",
       "    <tr>\n",
       "      <th>3</th>\n",
       "      <td>4</td>\n",
       "      <td>1426</td>\n",
       "      <td>Chorioret les radiother</td>\n",
       "      <td>Destruction of chorioretinal lesion by radiati...</td>\n",
       "    </tr>\n",
       "    <tr>\n",
       "      <th>4</th>\n",
       "      <td>5</td>\n",
       "      <td>1427</td>\n",
       "      <td>Chorioret les rad implan</td>\n",
       "      <td>Destruction of chorioretinal lesion by implant...</td>\n",
       "    </tr>\n",
       "    <tr>\n",
       "      <th>5</th>\n",
       "      <td>6</td>\n",
       "      <td>1429</td>\n",
       "      <td>Chorioret les destr NEC</td>\n",
       "      <td>Other destruction of chorioretinal lesion</td>\n",
       "    </tr>\n",
       "    <tr>\n",
       "      <th>6</th>\n",
       "      <td>7</td>\n",
       "      <td>1431</td>\n",
       "      <td>Retinal tear diathermy</td>\n",
       "      <td>Repair of retinal tear by diathermy</td>\n",
       "    </tr>\n",
       "    <tr>\n",
       "      <th>7</th>\n",
       "      <td>8</td>\n",
       "      <td>1432</td>\n",
       "      <td>Retinal tear cryotherapy</td>\n",
       "      <td>Repair of retinal tear by cryotherapy</td>\n",
       "    </tr>\n",
       "    <tr>\n",
       "      <th>8</th>\n",
       "      <td>9</td>\n",
       "      <td>1433</td>\n",
       "      <td>Retinal tear xenon coag</td>\n",
       "      <td>Repair of retinal tear by xenon arc photocoagu...</td>\n",
       "    </tr>\n",
       "    <tr>\n",
       "      <th>9</th>\n",
       "      <td>10</td>\n",
       "      <td>1434</td>\n",
       "      <td>Retinal tear laser coag</td>\n",
       "      <td>Repair of retinal tear by laser photocoagulation</td>\n",
       "    </tr>\n",
       "  </tbody>\n",
       "</table>\n",
       "</div>"
      ],
      "text/plain": [
       "   row_id  icd9_code               short_title  \\\n",
       "0       1       1423  Chorioret les xenon coag   \n",
       "1       2       1424  Chorioret les laser coag   \n",
       "2       3       1425  Chorioret les p/coag NOS   \n",
       "3       4       1426   Chorioret les radiother   \n",
       "4       5       1427  Chorioret les rad implan   \n",
       "5       6       1429   Chorioret les destr NEC   \n",
       "6       7       1431    Retinal tear diathermy   \n",
       "7       8       1432  Retinal tear cryotherapy   \n",
       "8       9       1433   Retinal tear xenon coag   \n",
       "9      10       1434   Retinal tear laser coag   \n",
       "\n",
       "                                          long_title  \n",
       "0  Destruction of chorioretinal lesion by xenon a...  \n",
       "1  Destruction of chorioretinal lesion by laser p...  \n",
       "2  Destruction of chorioretinal lesion by photoco...  \n",
       "3  Destruction of chorioretinal lesion by radiati...  \n",
       "4  Destruction of chorioretinal lesion by implant...  \n",
       "5          Other destruction of chorioretinal lesion  \n",
       "6                Repair of retinal tear by diathermy  \n",
       "7              Repair of retinal tear by cryotherapy  \n",
       "8  Repair of retinal tear by xenon arc photocoagu...  \n",
       "9   Repair of retinal tear by laser photocoagulation  "
      ]
     },
     "execution_count": 54,
     "metadata": {},
     "output_type": "execute_result"
    }
   ],
   "source": [
    "df2.head(10)"
   ]
  },
  {
   "attachments": {},
   "cell_type": "markdown",
   "metadata": {},
   "source": [
    "`Trae las cantidades totales 3882. El 10 trae el doble 8000`"
   ]
  },
  {
   "cell_type": "code",
   "execution_count": 55,
   "metadata": {},
   "outputs": [
    {
     "data": {
      "text/plain": [
       "(3882, 4)"
      ]
     },
     "execution_count": 55,
     "metadata": {},
     "output_type": "execute_result"
    }
   ],
   "source": [
    "df2.shape"
   ]
  },
  {
   "cell_type": "code",
   "execution_count": 56,
   "metadata": {},
   "outputs": [
    {
     "data": {
      "text/plain": [
       "row_id         0\n",
       "icd9_code      0\n",
       "short_title    0\n",
       "long_title     0\n",
       "dtype: int64"
      ]
     },
     "execution_count": 56,
     "metadata": {},
     "output_type": "execute_result"
    }
   ],
   "source": [
    "#Cuento cantidad de valores nulos por columnas\n",
    "df2.isnull().sum()"
   ]
  },
  {
   "cell_type": "code",
   "execution_count": 57,
   "metadata": {},
   "outputs": [
    {
     "data": {
      "text/plain": [
       "0"
      ]
     },
     "execution_count": 57,
     "metadata": {},
     "output_type": "execute_result"
    }
   ],
   "source": [
    "#Cuento cantidad total de valores nulos en todo el dataframe\n",
    "df2.isnull().sum().sum()"
   ]
  },
  {
   "cell_type": "code",
   "execution_count": 58,
   "metadata": {},
   "outputs": [
    {
     "data": {
      "text/plain": [
       "row_id          int64\n",
       "icd9_code       int64\n",
       "short_title    object\n",
       "long_title     object\n",
       "dtype: object"
      ]
     },
     "execution_count": 58,
     "metadata": {},
     "output_type": "execute_result"
    }
   ],
   "source": [
    "df2.dtypes"
   ]
  },
  {
   "cell_type": "code",
   "execution_count": 88,
   "metadata": {},
   "outputs": [
    {
     "name": "stdout",
     "output_type": "stream",
     "text": [
      "La cantidad de registros duplicados en la columna 'icd9_code' es: 146\n"
     ]
    }
   ],
   "source": [
    "#Verifico duplicados en el codigo\n",
    "\n",
    "# Utilizamos el método duplicated() para identificar los registros duplicados en la columna 'icd9_code'\n",
    "duplicados = df2.duplicated(subset=['icd9_code'], keep=False)\n",
    "\n",
    "# Obtenemos el número total de registros duplicados\n",
    "cantidad_duplicados = duplicados.sum()\n",
    "\n",
    "print(f\"La cantidad de registros duplicados en la columna 'icd9_code' es: {cantidad_duplicados}\")\n"
   ]
  },
  {
   "cell_type": "code",
   "execution_count": 92,
   "metadata": {},
   "outputs": [
    {
     "data": {
      "application/vnd.plotly.v1+json": {
       "config": {
        "plotlyServerURL": "https://plot.ly"
       },
       "data": [
        {
         "alignmentgroup": "True",
         "hovertemplate": "cantidad=%{marker.color}<br>icd9_code=%{y}<extra></extra>",
         "legendgroup": "",
         "marker": {
          "color": [
           2,
           2,
           2,
           2,
           2,
           2,
           2,
           2,
           2,
           2,
           2,
           2,
           2,
           2,
           2,
           2,
           2,
           2,
           2,
           2,
           2,
           2,
           2,
           2,
           2,
           2,
           2,
           2,
           2,
           2,
           2,
           2,
           2,
           2,
           2,
           2,
           2,
           2,
           2,
           2,
           2,
           2,
           2,
           2,
           2,
           2,
           2,
           2,
           2,
           2,
           2,
           2,
           2,
           2,
           2,
           2,
           2,
           2,
           2,
           2,
           2,
           2,
           2,
           2,
           2,
           2,
           2,
           2,
           2,
           2,
           2,
           2,
           2
          ],
          "coloraxis": "coloraxis",
          "pattern": {
           "shape": ""
          }
         },
         "name": "",
         "offsetgroup": "",
         "orientation": "h",
         "showlegend": false,
         "text": [
          2,
          2,
          2,
          2,
          2,
          2,
          2,
          2,
          2,
          2,
          2,
          2,
          2,
          2,
          2,
          2,
          2,
          2,
          2,
          2,
          2,
          2,
          2,
          2,
          2,
          2,
          2,
          2,
          2,
          2,
          2,
          2,
          2,
          2,
          2,
          2,
          2,
          2,
          2,
          2,
          2,
          2,
          2,
          2,
          2,
          2,
          2,
          2,
          2,
          2,
          2,
          2,
          2,
          2,
          2,
          2,
          2,
          2,
          2,
          2,
          2,
          2,
          2,
          2,
          2,
          2,
          2,
          2,
          2,
          2,
          2,
          2,
          2
         ],
         "textposition": "auto",
         "type": "bar",
         "x": [
          2,
          2,
          2,
          2,
          2,
          2,
          2,
          2,
          2,
          2,
          2,
          2,
          2,
          2,
          2,
          2,
          2,
          2,
          2,
          2,
          2,
          2,
          2,
          2,
          2,
          2,
          2,
          2,
          2,
          2,
          2,
          2,
          2,
          2,
          2,
          2,
          2,
          2,
          2,
          2,
          2,
          2,
          2,
          2,
          2,
          2,
          2,
          2,
          2,
          2,
          2,
          2,
          2,
          2,
          2,
          2,
          2,
          2,
          2,
          2,
          2,
          2,
          2,
          2,
          2,
          2,
          2,
          2,
          2,
          2,
          2,
          2,
          2
         ],
         "xaxis": "x",
         "y": [
          16,
          31,
          34,
          42,
          43,
          45,
          46,
          50,
          59,
          62,
          64,
          66,
          67,
          73,
          93,
          96,
          101,
          110,
          111,
          132,
          153,
          159,
          201,
          211,
          214,
          222,
          232,
          233,
          235,
          242,
          292,
          294,
          301,
          321,
          329,
          331,
          390,
          391,
          403,
          411,
          412,
          472,
          480,
          481,
          523,
          524,
          539,
          581,
          612,
          613,
          631,
          689,
          693,
          700,
          713,
          714,
          715,
          719,
          721,
          729,
          741,
          742,
          743,
          744,
          751,
          752,
          754,
          762,
          765,
          835,
          843,
          863,
          864
         ],
         "yaxis": "y"
        }
       ],
       "layout": {
        "barmode": "relative",
        "coloraxis": {
         "colorbar": {
          "title": {
           "text": "cantidad"
          }
         },
         "colorscale": [
          [
           0,
           "#0d0887"
          ],
          [
           0.1111111111111111,
           "#46039f"
          ],
          [
           0.2222222222222222,
           "#7201a8"
          ],
          [
           0.3333333333333333,
           "#9c179e"
          ],
          [
           0.4444444444444444,
           "#bd3786"
          ],
          [
           0.5555555555555556,
           "#d8576b"
          ],
          [
           0.6666666666666666,
           "#ed7953"
          ],
          [
           0.7777777777777778,
           "#fb9f3a"
          ],
          [
           0.8888888888888888,
           "#fdca26"
          ],
          [
           1,
           "#f0f921"
          ]
         ]
        },
        "height": 600,
        "legend": {
         "title": {
          "text": "Cantidad"
         },
         "tracegroupgap": 0
        },
        "margin": {
         "t": 60
        },
        "template": {
         "data": {
          "bar": [
           {
            "error_x": {
             "color": "#2a3f5f"
            },
            "error_y": {
             "color": "#2a3f5f"
            },
            "marker": {
             "line": {
              "color": "#E5ECF6",
              "width": 0.5
             },
             "pattern": {
              "fillmode": "overlay",
              "size": 10,
              "solidity": 0.2
             }
            },
            "type": "bar"
           }
          ],
          "barpolar": [
           {
            "marker": {
             "line": {
              "color": "#E5ECF6",
              "width": 0.5
             },
             "pattern": {
              "fillmode": "overlay",
              "size": 10,
              "solidity": 0.2
             }
            },
            "type": "barpolar"
           }
          ],
          "carpet": [
           {
            "aaxis": {
             "endlinecolor": "#2a3f5f",
             "gridcolor": "white",
             "linecolor": "white",
             "minorgridcolor": "white",
             "startlinecolor": "#2a3f5f"
            },
            "baxis": {
             "endlinecolor": "#2a3f5f",
             "gridcolor": "white",
             "linecolor": "white",
             "minorgridcolor": "white",
             "startlinecolor": "#2a3f5f"
            },
            "type": "carpet"
           }
          ],
          "choropleth": [
           {
            "colorbar": {
             "outlinewidth": 0,
             "ticks": ""
            },
            "type": "choropleth"
           }
          ],
          "contour": [
           {
            "colorbar": {
             "outlinewidth": 0,
             "ticks": ""
            },
            "colorscale": [
             [
              0,
              "#0d0887"
             ],
             [
              0.1111111111111111,
              "#46039f"
             ],
             [
              0.2222222222222222,
              "#7201a8"
             ],
             [
              0.3333333333333333,
              "#9c179e"
             ],
             [
              0.4444444444444444,
              "#bd3786"
             ],
             [
              0.5555555555555556,
              "#d8576b"
             ],
             [
              0.6666666666666666,
              "#ed7953"
             ],
             [
              0.7777777777777778,
              "#fb9f3a"
             ],
             [
              0.8888888888888888,
              "#fdca26"
             ],
             [
              1,
              "#f0f921"
             ]
            ],
            "type": "contour"
           }
          ],
          "contourcarpet": [
           {
            "colorbar": {
             "outlinewidth": 0,
             "ticks": ""
            },
            "type": "contourcarpet"
           }
          ],
          "heatmap": [
           {
            "colorbar": {
             "outlinewidth": 0,
             "ticks": ""
            },
            "colorscale": [
             [
              0,
              "#0d0887"
             ],
             [
              0.1111111111111111,
              "#46039f"
             ],
             [
              0.2222222222222222,
              "#7201a8"
             ],
             [
              0.3333333333333333,
              "#9c179e"
             ],
             [
              0.4444444444444444,
              "#bd3786"
             ],
             [
              0.5555555555555556,
              "#d8576b"
             ],
             [
              0.6666666666666666,
              "#ed7953"
             ],
             [
              0.7777777777777778,
              "#fb9f3a"
             ],
             [
              0.8888888888888888,
              "#fdca26"
             ],
             [
              1,
              "#f0f921"
             ]
            ],
            "type": "heatmap"
           }
          ],
          "heatmapgl": [
           {
            "colorbar": {
             "outlinewidth": 0,
             "ticks": ""
            },
            "colorscale": [
             [
              0,
              "#0d0887"
             ],
             [
              0.1111111111111111,
              "#46039f"
             ],
             [
              0.2222222222222222,
              "#7201a8"
             ],
             [
              0.3333333333333333,
              "#9c179e"
             ],
             [
              0.4444444444444444,
              "#bd3786"
             ],
             [
              0.5555555555555556,
              "#d8576b"
             ],
             [
              0.6666666666666666,
              "#ed7953"
             ],
             [
              0.7777777777777778,
              "#fb9f3a"
             ],
             [
              0.8888888888888888,
              "#fdca26"
             ],
             [
              1,
              "#f0f921"
             ]
            ],
            "type": "heatmapgl"
           }
          ],
          "histogram": [
           {
            "marker": {
             "pattern": {
              "fillmode": "overlay",
              "size": 10,
              "solidity": 0.2
             }
            },
            "type": "histogram"
           }
          ],
          "histogram2d": [
           {
            "colorbar": {
             "outlinewidth": 0,
             "ticks": ""
            },
            "colorscale": [
             [
              0,
              "#0d0887"
             ],
             [
              0.1111111111111111,
              "#46039f"
             ],
             [
              0.2222222222222222,
              "#7201a8"
             ],
             [
              0.3333333333333333,
              "#9c179e"
             ],
             [
              0.4444444444444444,
              "#bd3786"
             ],
             [
              0.5555555555555556,
              "#d8576b"
             ],
             [
              0.6666666666666666,
              "#ed7953"
             ],
             [
              0.7777777777777778,
              "#fb9f3a"
             ],
             [
              0.8888888888888888,
              "#fdca26"
             ],
             [
              1,
              "#f0f921"
             ]
            ],
            "type": "histogram2d"
           }
          ],
          "histogram2dcontour": [
           {
            "colorbar": {
             "outlinewidth": 0,
             "ticks": ""
            },
            "colorscale": [
             [
              0,
              "#0d0887"
             ],
             [
              0.1111111111111111,
              "#46039f"
             ],
             [
              0.2222222222222222,
              "#7201a8"
             ],
             [
              0.3333333333333333,
              "#9c179e"
             ],
             [
              0.4444444444444444,
              "#bd3786"
             ],
             [
              0.5555555555555556,
              "#d8576b"
             ],
             [
              0.6666666666666666,
              "#ed7953"
             ],
             [
              0.7777777777777778,
              "#fb9f3a"
             ],
             [
              0.8888888888888888,
              "#fdca26"
             ],
             [
              1,
              "#f0f921"
             ]
            ],
            "type": "histogram2dcontour"
           }
          ],
          "mesh3d": [
           {
            "colorbar": {
             "outlinewidth": 0,
             "ticks": ""
            },
            "type": "mesh3d"
           }
          ],
          "parcoords": [
           {
            "line": {
             "colorbar": {
              "outlinewidth": 0,
              "ticks": ""
             }
            },
            "type": "parcoords"
           }
          ],
          "pie": [
           {
            "automargin": true,
            "type": "pie"
           }
          ],
          "scatter": [
           {
            "fillpattern": {
             "fillmode": "overlay",
             "size": 10,
             "solidity": 0.2
            },
            "type": "scatter"
           }
          ],
          "scatter3d": [
           {
            "line": {
             "colorbar": {
              "outlinewidth": 0,
              "ticks": ""
             }
            },
            "marker": {
             "colorbar": {
              "outlinewidth": 0,
              "ticks": ""
             }
            },
            "type": "scatter3d"
           }
          ],
          "scattercarpet": [
           {
            "marker": {
             "colorbar": {
              "outlinewidth": 0,
              "ticks": ""
             }
            },
            "type": "scattercarpet"
           }
          ],
          "scattergeo": [
           {
            "marker": {
             "colorbar": {
              "outlinewidth": 0,
              "ticks": ""
             }
            },
            "type": "scattergeo"
           }
          ],
          "scattergl": [
           {
            "marker": {
             "colorbar": {
              "outlinewidth": 0,
              "ticks": ""
             }
            },
            "type": "scattergl"
           }
          ],
          "scattermapbox": [
           {
            "marker": {
             "colorbar": {
              "outlinewidth": 0,
              "ticks": ""
             }
            },
            "type": "scattermapbox"
           }
          ],
          "scatterpolar": [
           {
            "marker": {
             "colorbar": {
              "outlinewidth": 0,
              "ticks": ""
             }
            },
            "type": "scatterpolar"
           }
          ],
          "scatterpolargl": [
           {
            "marker": {
             "colorbar": {
              "outlinewidth": 0,
              "ticks": ""
             }
            },
            "type": "scatterpolargl"
           }
          ],
          "scatterternary": [
           {
            "marker": {
             "colorbar": {
              "outlinewidth": 0,
              "ticks": ""
             }
            },
            "type": "scatterternary"
           }
          ],
          "surface": [
           {
            "colorbar": {
             "outlinewidth": 0,
             "ticks": ""
            },
            "colorscale": [
             [
              0,
              "#0d0887"
             ],
             [
              0.1111111111111111,
              "#46039f"
             ],
             [
              0.2222222222222222,
              "#7201a8"
             ],
             [
              0.3333333333333333,
              "#9c179e"
             ],
             [
              0.4444444444444444,
              "#bd3786"
             ],
             [
              0.5555555555555556,
              "#d8576b"
             ],
             [
              0.6666666666666666,
              "#ed7953"
             ],
             [
              0.7777777777777778,
              "#fb9f3a"
             ],
             [
              0.8888888888888888,
              "#fdca26"
             ],
             [
              1,
              "#f0f921"
             ]
            ],
            "type": "surface"
           }
          ],
          "table": [
           {
            "cells": {
             "fill": {
              "color": "#EBF0F8"
             },
             "line": {
              "color": "white"
             }
            },
            "header": {
             "fill": {
              "color": "#C8D4E3"
             },
             "line": {
              "color": "white"
             }
            },
            "type": "table"
           }
          ]
         },
         "layout": {
          "annotationdefaults": {
           "arrowcolor": "#2a3f5f",
           "arrowhead": 0,
           "arrowwidth": 1
          },
          "autotypenumbers": "strict",
          "coloraxis": {
           "colorbar": {
            "outlinewidth": 0,
            "ticks": ""
           }
          },
          "colorscale": {
           "diverging": [
            [
             0,
             "#8e0152"
            ],
            [
             0.1,
             "#c51b7d"
            ],
            [
             0.2,
             "#de77ae"
            ],
            [
             0.3,
             "#f1b6da"
            ],
            [
             0.4,
             "#fde0ef"
            ],
            [
             0.5,
             "#f7f7f7"
            ],
            [
             0.6,
             "#e6f5d0"
            ],
            [
             0.7,
             "#b8e186"
            ],
            [
             0.8,
             "#7fbc41"
            ],
            [
             0.9,
             "#4d9221"
            ],
            [
             1,
             "#276419"
            ]
           ],
           "sequential": [
            [
             0,
             "#0d0887"
            ],
            [
             0.1111111111111111,
             "#46039f"
            ],
            [
             0.2222222222222222,
             "#7201a8"
            ],
            [
             0.3333333333333333,
             "#9c179e"
            ],
            [
             0.4444444444444444,
             "#bd3786"
            ],
            [
             0.5555555555555556,
             "#d8576b"
            ],
            [
             0.6666666666666666,
             "#ed7953"
            ],
            [
             0.7777777777777778,
             "#fb9f3a"
            ],
            [
             0.8888888888888888,
             "#fdca26"
            ],
            [
             1,
             "#f0f921"
            ]
           ],
           "sequentialminus": [
            [
             0,
             "#0d0887"
            ],
            [
             0.1111111111111111,
             "#46039f"
            ],
            [
             0.2222222222222222,
             "#7201a8"
            ],
            [
             0.3333333333333333,
             "#9c179e"
            ],
            [
             0.4444444444444444,
             "#bd3786"
            ],
            [
             0.5555555555555556,
             "#d8576b"
            ],
            [
             0.6666666666666666,
             "#ed7953"
            ],
            [
             0.7777777777777778,
             "#fb9f3a"
            ],
            [
             0.8888888888888888,
             "#fdca26"
            ],
            [
             1,
             "#f0f921"
            ]
           ]
          },
          "colorway": [
           "#636efa",
           "#EF553B",
           "#00cc96",
           "#ab63fa",
           "#FFA15A",
           "#19d3f3",
           "#FF6692",
           "#B6E880",
           "#FF97FF",
           "#FECB52"
          ],
          "font": {
           "color": "#2a3f5f"
          },
          "geo": {
           "bgcolor": "white",
           "lakecolor": "white",
           "landcolor": "#E5ECF6",
           "showlakes": true,
           "showland": true,
           "subunitcolor": "white"
          },
          "hoverlabel": {
           "align": "left"
          },
          "hovermode": "closest",
          "mapbox": {
           "style": "light"
          },
          "paper_bgcolor": "white",
          "plot_bgcolor": "#E5ECF6",
          "polar": {
           "angularaxis": {
            "gridcolor": "white",
            "linecolor": "white",
            "ticks": ""
           },
           "bgcolor": "#E5ECF6",
           "radialaxis": {
            "gridcolor": "white",
            "linecolor": "white",
            "ticks": ""
           }
          },
          "scene": {
           "xaxis": {
            "backgroundcolor": "#E5ECF6",
            "gridcolor": "white",
            "gridwidth": 2,
            "linecolor": "white",
            "showbackground": true,
            "ticks": "",
            "zerolinecolor": "white"
           },
           "yaxis": {
            "backgroundcolor": "#E5ECF6",
            "gridcolor": "white",
            "gridwidth": 2,
            "linecolor": "white",
            "showbackground": true,
            "ticks": "",
            "zerolinecolor": "white"
           },
           "zaxis": {
            "backgroundcolor": "#E5ECF6",
            "gridcolor": "white",
            "gridwidth": 2,
            "linecolor": "white",
            "showbackground": true,
            "ticks": "",
            "zerolinecolor": "white"
           }
          },
          "shapedefaults": {
           "line": {
            "color": "#2a3f5f"
           }
          },
          "ternary": {
           "aaxis": {
            "gridcolor": "white",
            "linecolor": "white",
            "ticks": ""
           },
           "baxis": {
            "gridcolor": "white",
            "linecolor": "white",
            "ticks": ""
           },
           "bgcolor": "#E5ECF6",
           "caxis": {
            "gridcolor": "white",
            "linecolor": "white",
            "ticks": ""
           }
          },
          "title": {
           "x": 0.05
          },
          "xaxis": {
           "automargin": true,
           "gridcolor": "white",
           "linecolor": "white",
           "ticks": "",
           "title": {
            "standoff": 15
           },
           "zerolinecolor": "white",
           "zerolinewidth": 2
          },
          "yaxis": {
           "automargin": true,
           "gridcolor": "white",
           "linecolor": "white",
           "ticks": "",
           "title": {
            "standoff": 15
           },
           "zerolinecolor": "white",
           "zerolinewidth": 2
          }
         }
        },
        "title": {
         "text": "Cantidad de registros duplicados en la columna icd9_code"
        },
        "xaxis": {
         "anchor": "y",
         "domain": [
          0,
          1
         ],
         "title": {
          "text": "Cantidad de registros duplicados"
         }
        },
        "yaxis": {
         "anchor": "x",
         "domain": [
          0,
          1
         ],
         "title": {
          "text": "Valor de icd9_code"
         }
        }
       }
      }
     },
     "metadata": {},
     "output_type": "display_data"
    }
   ],
   "source": [
    "import plotly.express as px\n",
    "\n",
    "# Identificamos las filas que están duplicadas en la columna 'icd9_code'\n",
    "duplicados = df2.duplicated(subset=['icd9_code'], keep=False)\n",
    "\n",
    "# Filtramos las filas duplicadas usando el método loc()\n",
    "filas_duplicadas = df2.loc[duplicados]\n",
    "\n",
    "# Contamos la cantidad de veces que aparece cada valor duplicado\n",
    "conteo = filas_duplicadas.groupby('icd9_code').size().reset_index(name='cantidad')\n",
    "\n",
    "# Creamos un diagrama de barras horizontales agrupados con Plotly\n",
    "fig = px.bar(conteo, x='cantidad', y='icd9_code', orientation='h', \n",
    "             color='cantidad', text='cantidad')\n",
    "\n",
    "# Personalizamos el diseño del gráfico\n",
    "fig.update_layout(title='Cantidad de registros duplicados en la columna icd9_code',\n",
    "                  xaxis_title='Cantidad de registros duplicados',\n",
    "                  yaxis_title='Valor de icd9_code',\n",
    "                  legend_title='Cantidad',\n",
    "                  height=600)\n",
    "\n",
    "# Mostramos el gráfico\n",
    "fig.show()\n",
    "\n"
   ]
  },
  {
   "cell_type": "code",
   "execution_count": 63,
   "metadata": {},
   "outputs": [],
   "source": [
    "df3 = pd.read_csv('D_ITEMS.csv')"
   ]
  },
  {
   "cell_type": "code",
   "execution_count": 64,
   "metadata": {},
   "outputs": [
    {
     "data": {
      "text/html": [
       "<div>\n",
       "<style scoped>\n",
       "    .dataframe tbody tr th:only-of-type {\n",
       "        vertical-align: middle;\n",
       "    }\n",
       "\n",
       "    .dataframe tbody tr th {\n",
       "        vertical-align: top;\n",
       "    }\n",
       "\n",
       "    .dataframe thead th {\n",
       "        text-align: right;\n",
       "    }\n",
       "</style>\n",
       "<table border=\"1\" class=\"dataframe\">\n",
       "  <thead>\n",
       "    <tr style=\"text-align: right;\">\n",
       "      <th></th>\n",
       "      <th>row_id</th>\n",
       "      <th>itemid</th>\n",
       "      <th>label</th>\n",
       "      <th>abbreviation</th>\n",
       "      <th>dbsource</th>\n",
       "      <th>linksto</th>\n",
       "      <th>category</th>\n",
       "      <th>unitname</th>\n",
       "      <th>param_type</th>\n",
       "      <th>conceptid</th>\n",
       "    </tr>\n",
       "  </thead>\n",
       "  <tbody>\n",
       "    <tr>\n",
       "      <th>0</th>\n",
       "      <td>1</td>\n",
       "      <td>1435</td>\n",
       "      <td>Sustained Nystamus</td>\n",
       "      <td>NaN</td>\n",
       "      <td>carevue</td>\n",
       "      <td>chartevents</td>\n",
       "      <td>NaN</td>\n",
       "      <td>NaN</td>\n",
       "      <td>NaN</td>\n",
       "      <td>NaN</td>\n",
       "    </tr>\n",
       "    <tr>\n",
       "      <th>1</th>\n",
       "      <td>2</td>\n",
       "      <td>1436</td>\n",
       "      <td>Tactile Disturbances</td>\n",
       "      <td>NaN</td>\n",
       "      <td>carevue</td>\n",
       "      <td>chartevents</td>\n",
       "      <td>NaN</td>\n",
       "      <td>NaN</td>\n",
       "      <td>NaN</td>\n",
       "      <td>NaN</td>\n",
       "    </tr>\n",
       "    <tr>\n",
       "      <th>2</th>\n",
       "      <td>3</td>\n",
       "      <td>1437</td>\n",
       "      <td>Tremor</td>\n",
       "      <td>NaN</td>\n",
       "      <td>carevue</td>\n",
       "      <td>chartevents</td>\n",
       "      <td>NaN</td>\n",
       "      <td>NaN</td>\n",
       "      <td>NaN</td>\n",
       "      <td>NaN</td>\n",
       "    </tr>\n",
       "    <tr>\n",
       "      <th>3</th>\n",
       "      <td>4</td>\n",
       "      <td>1438</td>\n",
       "      <td>Ulnar Pulse [Right]</td>\n",
       "      <td>NaN</td>\n",
       "      <td>carevue</td>\n",
       "      <td>chartevents</td>\n",
       "      <td>NaN</td>\n",
       "      <td>NaN</td>\n",
       "      <td>NaN</td>\n",
       "      <td>NaN</td>\n",
       "    </tr>\n",
       "    <tr>\n",
       "      <th>4</th>\n",
       "      <td>5</td>\n",
       "      <td>1439</td>\n",
       "      <td>Visual Disturbances</td>\n",
       "      <td>NaN</td>\n",
       "      <td>carevue</td>\n",
       "      <td>chartevents</td>\n",
       "      <td>NaN</td>\n",
       "      <td>NaN</td>\n",
       "      <td>NaN</td>\n",
       "      <td>NaN</td>\n",
       "    </tr>\n",
       "    <tr>\n",
       "      <th>5</th>\n",
       "      <td>6</td>\n",
       "      <td>1447</td>\n",
       "      <td>Transpulmonary Pres</td>\n",
       "      <td>NaN</td>\n",
       "      <td>carevue</td>\n",
       "      <td>chartevents</td>\n",
       "      <td>NaN</td>\n",
       "      <td>NaN</td>\n",
       "      <td>NaN</td>\n",
       "      <td>NaN</td>\n",
       "    </tr>\n",
       "    <tr>\n",
       "      <th>6</th>\n",
       "      <td>7</td>\n",
       "      <td>1448</td>\n",
       "      <td>Vd/Vt:</td>\n",
       "      <td>NaN</td>\n",
       "      <td>carevue</td>\n",
       "      <td>chartevents</td>\n",
       "      <td>NaN</td>\n",
       "      <td>NaN</td>\n",
       "      <td>NaN</td>\n",
       "      <td>NaN</td>\n",
       "    </tr>\n",
       "    <tr>\n",
       "      <th>7</th>\n",
       "      <td>8</td>\n",
       "      <td>1449</td>\n",
       "      <td>Arterial BP(Rad)</td>\n",
       "      <td>NaN</td>\n",
       "      <td>carevue</td>\n",
       "      <td>chartevents</td>\n",
       "      <td>NaN</td>\n",
       "      <td>NaN</td>\n",
       "      <td>NaN</td>\n",
       "      <td>NaN</td>\n",
       "    </tr>\n",
       "    <tr>\n",
       "      <th>8</th>\n",
       "      <td>9</td>\n",
       "      <td>1450</td>\n",
       "      <td>level one</td>\n",
       "      <td>NaN</td>\n",
       "      <td>carevue</td>\n",
       "      <td>chartevents</td>\n",
       "      <td>NaN</td>\n",
       "      <td>NaN</td>\n",
       "      <td>NaN</td>\n",
       "      <td>NaN</td>\n",
       "    </tr>\n",
       "    <tr>\n",
       "      <th>9</th>\n",
       "      <td>10</td>\n",
       "      <td>1451</td>\n",
       "      <td>L girth size</td>\n",
       "      <td>NaN</td>\n",
       "      <td>carevue</td>\n",
       "      <td>chartevents</td>\n",
       "      <td>NaN</td>\n",
       "      <td>NaN</td>\n",
       "      <td>NaN</td>\n",
       "      <td>NaN</td>\n",
       "    </tr>\n",
       "  </tbody>\n",
       "</table>\n",
       "</div>"
      ],
      "text/plain": [
       "   row_id  itemid                 label abbreviation dbsource      linksto  \\\n",
       "0       1    1435    Sustained Nystamus          NaN  carevue  chartevents   \n",
       "1       2    1436  Tactile Disturbances          NaN  carevue  chartevents   \n",
       "2       3    1437                Tremor          NaN  carevue  chartevents   \n",
       "3       4    1438   Ulnar Pulse [Right]          NaN  carevue  chartevents   \n",
       "4       5    1439   Visual Disturbances          NaN  carevue  chartevents   \n",
       "5       6    1447   Transpulmonary Pres          NaN  carevue  chartevents   \n",
       "6       7    1448                Vd/Vt:          NaN  carevue  chartevents   \n",
       "7       8    1449      Arterial BP(Rad)          NaN  carevue  chartevents   \n",
       "8       9    1450             level one          NaN  carevue  chartevents   \n",
       "9      10    1451          L girth size          NaN  carevue  chartevents   \n",
       "\n",
       "  category unitname param_type  conceptid  \n",
       "0      NaN      NaN        NaN        NaN  \n",
       "1      NaN      NaN        NaN        NaN  \n",
       "2      NaN      NaN        NaN        NaN  \n",
       "3      NaN      NaN        NaN        NaN  \n",
       "4      NaN      NaN        NaN        NaN  \n",
       "5      NaN      NaN        NaN        NaN  \n",
       "6      NaN      NaN        NaN        NaN  \n",
       "7      NaN      NaN        NaN        NaN  \n",
       "8      NaN      NaN        NaN        NaN  \n",
       "9      NaN      NaN        NaN        NaN  "
      ]
     },
     "execution_count": 64,
     "metadata": {},
     "output_type": "execute_result"
    }
   ],
   "source": [
    "df3.head(10)"
   ]
  },
  {
   "cell_type": "code",
   "execution_count": 65,
   "metadata": {},
   "outputs": [
    {
     "data": {
      "text/plain": [
       "(12487, 10)"
      ]
     },
     "execution_count": 65,
     "metadata": {},
     "output_type": "execute_result"
    }
   ],
   "source": [
    "df3.shape"
   ]
  },
  {
   "cell_type": "code",
   "execution_count": 66,
   "metadata": {},
   "outputs": [
    {
     "data": {
      "text/plain": [
       "row_id              0\n",
       "itemid              0\n",
       "label               4\n",
       "abbreviation     9495\n",
       "dbsource            0\n",
       "linksto             0\n",
       "category         6438\n",
       "unitname        11253\n",
       "param_type       9495\n",
       "conceptid       12487\n",
       "dtype: int64"
      ]
     },
     "execution_count": 66,
     "metadata": {},
     "output_type": "execute_result"
    }
   ],
   "source": [
    "#Cuento cantidad de valores nulos por columnas\n",
    "df3.isnull().sum()"
   ]
  },
  {
   "cell_type": "code",
   "execution_count": 67,
   "metadata": {},
   "outputs": [
    {
     "data": {
      "text/plain": [
       "49172"
      ]
     },
     "execution_count": 67,
     "metadata": {},
     "output_type": "execute_result"
    }
   ],
   "source": [
    "#Cuento cantidad total de valores nulos en todo el dataframe\n",
    "df3.isnull().sum().sum()"
   ]
  },
  {
   "cell_type": "code",
   "execution_count": 68,
   "metadata": {},
   "outputs": [
    {
     "data": {
      "text/plain": [
       "row_id            int64\n",
       "itemid            int64\n",
       "label            object\n",
       "abbreviation     object\n",
       "dbsource         object\n",
       "linksto          object\n",
       "category         object\n",
       "unitname         object\n",
       "param_type       object\n",
       "conceptid       float64\n",
       "dtype: object"
      ]
     },
     "execution_count": 68,
     "metadata": {},
     "output_type": "execute_result"
    }
   ],
   "source": [
    "df3.dtypes"
   ]
  },
  {
   "cell_type": "code",
   "execution_count": 93,
   "metadata": {},
   "outputs": [],
   "source": [
    "#verifico duplicados en la columna itemid\n",
    "duplicados = df3['itemid'].duplicated()\n"
   ]
  },
  {
   "cell_type": "code",
   "execution_count": 96,
   "metadata": {},
   "outputs": [
    {
     "name": "stdout",
     "output_type": "stream",
     "text": [
      "Todos los valores son únicos\n"
     ]
    }
   ],
   "source": [
    "if df3[\"itemid\"].nunique() == len(df3[\"itemid\"]):\n",
    "    print(\"Todos los valores son únicos\")\n",
    "else:\n",
    "    print(\"Hay valores duplicados\")"
   ]
  },
  {
   "cell_type": "code",
   "execution_count": 69,
   "metadata": {},
   "outputs": [],
   "source": [
    "df4 = pd.read_csv('D_LABITEMS.csv')"
   ]
  },
  {
   "cell_type": "code",
   "execution_count": 70,
   "metadata": {},
   "outputs": [
    {
     "data": {
      "text/html": [
       "<div>\n",
       "<style scoped>\n",
       "    .dataframe tbody tr th:only-of-type {\n",
       "        vertical-align: middle;\n",
       "    }\n",
       "\n",
       "    .dataframe tbody tr th {\n",
       "        vertical-align: top;\n",
       "    }\n",
       "\n",
       "    .dataframe thead th {\n",
       "        text-align: right;\n",
       "    }\n",
       "</style>\n",
       "<table border=\"1\" class=\"dataframe\">\n",
       "  <thead>\n",
       "    <tr style=\"text-align: right;\">\n",
       "      <th></th>\n",
       "      <th>row_id</th>\n",
       "      <th>itemid</th>\n",
       "      <th>label</th>\n",
       "      <th>fluid</th>\n",
       "      <th>category</th>\n",
       "      <th>loinc_code</th>\n",
       "    </tr>\n",
       "  </thead>\n",
       "  <tbody>\n",
       "    <tr>\n",
       "      <th>0</th>\n",
       "      <td>1</td>\n",
       "      <td>50800</td>\n",
       "      <td>SPECIMEN TYPE</td>\n",
       "      <td>BLOOD</td>\n",
       "      <td>BLOOD GAS</td>\n",
       "      <td>NaN</td>\n",
       "    </tr>\n",
       "    <tr>\n",
       "      <th>1</th>\n",
       "      <td>2</td>\n",
       "      <td>50801</td>\n",
       "      <td>Alveolar-arterial Gradient</td>\n",
       "      <td>Blood</td>\n",
       "      <td>Blood Gas</td>\n",
       "      <td>19991-9</td>\n",
       "    </tr>\n",
       "    <tr>\n",
       "      <th>2</th>\n",
       "      <td>3</td>\n",
       "      <td>50802</td>\n",
       "      <td>Base Excess</td>\n",
       "      <td>Blood</td>\n",
       "      <td>Blood Gas</td>\n",
       "      <td>11555-0</td>\n",
       "    </tr>\n",
       "    <tr>\n",
       "      <th>3</th>\n",
       "      <td>4</td>\n",
       "      <td>50803</td>\n",
       "      <td>Calculated Bicarbonate, Whole Blood</td>\n",
       "      <td>Blood</td>\n",
       "      <td>Blood Gas</td>\n",
       "      <td>1959-6</td>\n",
       "    </tr>\n",
       "    <tr>\n",
       "      <th>4</th>\n",
       "      <td>5</td>\n",
       "      <td>50804</td>\n",
       "      <td>Calculated Total CO2</td>\n",
       "      <td>Blood</td>\n",
       "      <td>Blood Gas</td>\n",
       "      <td>34728-6</td>\n",
       "    </tr>\n",
       "    <tr>\n",
       "      <th>5</th>\n",
       "      <td>6</td>\n",
       "      <td>50805</td>\n",
       "      <td>Carboxyhemoglobin</td>\n",
       "      <td>Blood</td>\n",
       "      <td>Blood Gas</td>\n",
       "      <td>20563-3</td>\n",
       "    </tr>\n",
       "    <tr>\n",
       "      <th>6</th>\n",
       "      <td>7</td>\n",
       "      <td>50806</td>\n",
       "      <td>Chloride, Whole Blood</td>\n",
       "      <td>Blood</td>\n",
       "      <td>Blood Gas</td>\n",
       "      <td>2069-3</td>\n",
       "    </tr>\n",
       "    <tr>\n",
       "      <th>7</th>\n",
       "      <td>8</td>\n",
       "      <td>50807</td>\n",
       "      <td>Comments</td>\n",
       "      <td>Blood</td>\n",
       "      <td>Blood Gas</td>\n",
       "      <td>NaN</td>\n",
       "    </tr>\n",
       "    <tr>\n",
       "      <th>8</th>\n",
       "      <td>9</td>\n",
       "      <td>50808</td>\n",
       "      <td>Free Calcium</td>\n",
       "      <td>Blood</td>\n",
       "      <td>Blood Gas</td>\n",
       "      <td>1994-3</td>\n",
       "    </tr>\n",
       "    <tr>\n",
       "      <th>9</th>\n",
       "      <td>10</td>\n",
       "      <td>50809</td>\n",
       "      <td>Glucose</td>\n",
       "      <td>Blood</td>\n",
       "      <td>Blood Gas</td>\n",
       "      <td>2339-0</td>\n",
       "    </tr>\n",
       "  </tbody>\n",
       "</table>\n",
       "</div>"
      ],
      "text/plain": [
       "   row_id  itemid                                label  fluid   category  \\\n",
       "0       1   50800                        SPECIMEN TYPE  BLOOD  BLOOD GAS   \n",
       "1       2   50801           Alveolar-arterial Gradient  Blood  Blood Gas   \n",
       "2       3   50802                          Base Excess  Blood  Blood Gas   \n",
       "3       4   50803  Calculated Bicarbonate, Whole Blood  Blood  Blood Gas   \n",
       "4       5   50804                 Calculated Total CO2  Blood  Blood Gas   \n",
       "5       6   50805                    Carboxyhemoglobin  Blood  Blood Gas   \n",
       "6       7   50806                Chloride, Whole Blood  Blood  Blood Gas   \n",
       "7       8   50807                             Comments  Blood  Blood Gas   \n",
       "8       9   50808                         Free Calcium  Blood  Blood Gas   \n",
       "9      10   50809                              Glucose  Blood  Blood Gas   \n",
       "\n",
       "  loinc_code  \n",
       "0        NaN  \n",
       "1    19991-9  \n",
       "2    11555-0  \n",
       "3     1959-6  \n",
       "4    34728-6  \n",
       "5    20563-3  \n",
       "6     2069-3  \n",
       "7        NaN  \n",
       "8     1994-3  \n",
       "9     2339-0  "
      ]
     },
     "execution_count": 70,
     "metadata": {},
     "output_type": "execute_result"
    }
   ],
   "source": [
    "df4.head(10)"
   ]
  },
  {
   "cell_type": "code",
   "execution_count": 71,
   "metadata": {},
   "outputs": [
    {
     "data": {
      "text/plain": [
       "(753, 6)"
      ]
     },
     "execution_count": 71,
     "metadata": {},
     "output_type": "execute_result"
    }
   ],
   "source": [
    "df4.shape"
   ]
  },
  {
   "cell_type": "code",
   "execution_count": 72,
   "metadata": {},
   "outputs": [
    {
     "data": {
      "text/plain": [
       "row_id          0\n",
       "itemid          0\n",
       "label           0\n",
       "fluid           0\n",
       "category        0\n",
       "loinc_code    168\n",
       "dtype: int64"
      ]
     },
     "execution_count": 72,
     "metadata": {},
     "output_type": "execute_result"
    }
   ],
   "source": [
    "#Cuento cantidad de valores nulos por columnas\n",
    "df4.isnull().sum()"
   ]
  },
  {
   "cell_type": "code",
   "execution_count": 73,
   "metadata": {},
   "outputs": [
    {
     "data": {
      "text/plain": [
       "168"
      ]
     },
     "execution_count": 73,
     "metadata": {},
     "output_type": "execute_result"
    }
   ],
   "source": [
    "#Cuento cantidad total de valores nulos en todo el dataframe\n",
    "df4.isnull().sum().sum()"
   ]
  },
  {
   "cell_type": "code",
   "execution_count": 74,
   "metadata": {},
   "outputs": [
    {
     "data": {
      "text/plain": [
       "row_id         int64\n",
       "itemid         int64\n",
       "label         object\n",
       "fluid         object\n",
       "category      object\n",
       "loinc_code    object\n",
       "dtype: object"
      ]
     },
     "execution_count": 74,
     "metadata": {},
     "output_type": "execute_result"
    }
   ],
   "source": [
    "df4.dtypes"
   ]
  },
  {
   "cell_type": "code",
   "execution_count": 97,
   "metadata": {},
   "outputs": [
    {
     "name": "stdout",
     "output_type": "stream",
     "text": [
      "Todos los valores son únicos\n"
     ]
    }
   ],
   "source": [
    "#duplicados en itemid\n",
    "if df4[\"itemid\"].nunique() == len(df4[\"itemid\"]):\n",
    "    print(\"Todos los valores son únicos\")\n",
    "else:\n",
    "    print(\"Hay valores duplicados\")"
   ]
  },
  {
   "cell_type": "code",
   "execution_count": 75,
   "metadata": {},
   "outputs": [],
   "source": [
    "df5 = pd.read_csv('DATETIMEEVENTS.csv')"
   ]
  },
  {
   "cell_type": "code",
   "execution_count": 76,
   "metadata": {},
   "outputs": [
    {
     "data": {
      "text/html": [
       "<div>\n",
       "<style scoped>\n",
       "    .dataframe tbody tr th:only-of-type {\n",
       "        vertical-align: middle;\n",
       "    }\n",
       "\n",
       "    .dataframe tbody tr th {\n",
       "        vertical-align: top;\n",
       "    }\n",
       "\n",
       "    .dataframe thead th {\n",
       "        text-align: right;\n",
       "    }\n",
       "</style>\n",
       "<table border=\"1\" class=\"dataframe\">\n",
       "  <thead>\n",
       "    <tr style=\"text-align: right;\">\n",
       "      <th></th>\n",
       "      <th>row_id</th>\n",
       "      <th>subject_id</th>\n",
       "      <th>hadm_id</th>\n",
       "      <th>icustay_id</th>\n",
       "      <th>itemid</th>\n",
       "      <th>charttime</th>\n",
       "      <th>storetime</th>\n",
       "      <th>cgid</th>\n",
       "      <th>value</th>\n",
       "      <th>valueuom</th>\n",
       "      <th>warning</th>\n",
       "      <th>error</th>\n",
       "      <th>resultstatus</th>\n",
       "      <th>stopped</th>\n",
       "    </tr>\n",
       "  </thead>\n",
       "  <tbody>\n",
       "    <tr>\n",
       "      <th>0</th>\n",
       "      <td>208474</td>\n",
       "      <td>10076</td>\n",
       "      <td>198503</td>\n",
       "      <td>201006.0</td>\n",
       "      <td>5684</td>\n",
       "      <td>2107-03-25 04:00:00</td>\n",
       "      <td>2107-03-25 04:34:00</td>\n",
       "      <td>20482</td>\n",
       "      <td>2107-03-24 00:00:00</td>\n",
       "      <td>Date</td>\n",
       "      <td>NaN</td>\n",
       "      <td>NaN</td>\n",
       "      <td>NaN</td>\n",
       "      <td>NotStopd</td>\n",
       "    </tr>\n",
       "    <tr>\n",
       "      <th>1</th>\n",
       "      <td>208475</td>\n",
       "      <td>10076</td>\n",
       "      <td>198503</td>\n",
       "      <td>201006.0</td>\n",
       "      <td>5684</td>\n",
       "      <td>2107-03-25 07:00:00</td>\n",
       "      <td>2107-03-25 07:06:00</td>\n",
       "      <td>15004</td>\n",
       "      <td>2107-03-24 00:00:00</td>\n",
       "      <td>Date</td>\n",
       "      <td>NaN</td>\n",
       "      <td>NaN</td>\n",
       "      <td>NaN</td>\n",
       "      <td>NotStopd</td>\n",
       "    </tr>\n",
       "    <tr>\n",
       "      <th>2</th>\n",
       "      <td>208836</td>\n",
       "      <td>10076</td>\n",
       "      <td>198503</td>\n",
       "      <td>201006.0</td>\n",
       "      <td>5684</td>\n",
       "      <td>2107-03-26 04:00:00</td>\n",
       "      <td>2107-03-26 05:31:00</td>\n",
       "      <td>20834</td>\n",
       "      <td>2107-03-24 00:00:00</td>\n",
       "      <td>Date</td>\n",
       "      <td>NaN</td>\n",
       "      <td>NaN</td>\n",
       "      <td>NaN</td>\n",
       "      <td>NotStopd</td>\n",
       "    </tr>\n",
       "    <tr>\n",
       "      <th>3</th>\n",
       "      <td>208837</td>\n",
       "      <td>10076</td>\n",
       "      <td>198503</td>\n",
       "      <td>201006.0</td>\n",
       "      <td>5684</td>\n",
       "      <td>2107-03-26 08:00:00</td>\n",
       "      <td>2107-03-26 08:33:00</td>\n",
       "      <td>17480</td>\n",
       "      <td>2107-03-24 00:00:00</td>\n",
       "      <td>Date</td>\n",
       "      <td>NaN</td>\n",
       "      <td>NaN</td>\n",
       "      <td>NaN</td>\n",
       "      <td>NotStopd</td>\n",
       "    </tr>\n",
       "    <tr>\n",
       "      <th>4</th>\n",
       "      <td>208838</td>\n",
       "      <td>10076</td>\n",
       "      <td>198503</td>\n",
       "      <td>201006.0</td>\n",
       "      <td>5684</td>\n",
       "      <td>2107-03-26 16:00:00</td>\n",
       "      <td>2107-03-26 16:08:00</td>\n",
       "      <td>17480</td>\n",
       "      <td>2107-03-24 00:00:00</td>\n",
       "      <td>Date</td>\n",
       "      <td>NaN</td>\n",
       "      <td>NaN</td>\n",
       "      <td>NaN</td>\n",
       "      <td>NotStopd</td>\n",
       "    </tr>\n",
       "    <tr>\n",
       "      <th>5</th>\n",
       "      <td>208839</td>\n",
       "      <td>10076</td>\n",
       "      <td>198503</td>\n",
       "      <td>201006.0</td>\n",
       "      <td>5684</td>\n",
       "      <td>2107-03-27 00:00:00</td>\n",
       "      <td>2107-03-27 00:48:00</td>\n",
       "      <td>19085</td>\n",
       "      <td>2107-03-24 00:00:00</td>\n",
       "      <td>Date</td>\n",
       "      <td>NaN</td>\n",
       "      <td>NaN</td>\n",
       "      <td>NaN</td>\n",
       "      <td>NotStopd</td>\n",
       "    </tr>\n",
       "    <tr>\n",
       "      <th>6</th>\n",
       "      <td>209230</td>\n",
       "      <td>10036</td>\n",
       "      <td>189483</td>\n",
       "      <td>227834.0</td>\n",
       "      <td>5684</td>\n",
       "      <td>2185-03-26 04:00:00</td>\n",
       "      <td>2185-03-26 04:36:00</td>\n",
       "      <td>14204</td>\n",
       "      <td>2185-03-24 00:00:00</td>\n",
       "      <td>Date</td>\n",
       "      <td>NaN</td>\n",
       "      <td>NaN</td>\n",
       "      <td>NaN</td>\n",
       "      <td>NotStopd</td>\n",
       "    </tr>\n",
       "    <tr>\n",
       "      <th>7</th>\n",
       "      <td>209468</td>\n",
       "      <td>10076</td>\n",
       "      <td>198503</td>\n",
       "      <td>201006.0</td>\n",
       "      <td>5684</td>\n",
       "      <td>2107-03-24 18:00:00</td>\n",
       "      <td>2107-03-24 18:26:00</td>\n",
       "      <td>20053</td>\n",
       "      <td>2107-03-24 00:00:00</td>\n",
       "      <td>Date</td>\n",
       "      <td>NaN</td>\n",
       "      <td>NaN</td>\n",
       "      <td>NaN</td>\n",
       "      <td>NotStopd</td>\n",
       "    </tr>\n",
       "    <tr>\n",
       "      <th>8</th>\n",
       "      <td>209469</td>\n",
       "      <td>10076</td>\n",
       "      <td>198503</td>\n",
       "      <td>201006.0</td>\n",
       "      <td>5684</td>\n",
       "      <td>2107-03-24 21:00:00</td>\n",
       "      <td>2107-03-24 20:49:00</td>\n",
       "      <td>20482</td>\n",
       "      <td>2107-03-24 00:00:00</td>\n",
       "      <td>Date</td>\n",
       "      <td>NaN</td>\n",
       "      <td>NaN</td>\n",
       "      <td>NaN</td>\n",
       "      <td>NotStopd</td>\n",
       "    </tr>\n",
       "    <tr>\n",
       "      <th>9</th>\n",
       "      <td>209470</td>\n",
       "      <td>10076</td>\n",
       "      <td>198503</td>\n",
       "      <td>201006.0</td>\n",
       "      <td>5684</td>\n",
       "      <td>2107-03-25 00:00:00</td>\n",
       "      <td>2107-03-25 00:16:00</td>\n",
       "      <td>20482</td>\n",
       "      <td>2107-03-24 00:00:00</td>\n",
       "      <td>Date</td>\n",
       "      <td>NaN</td>\n",
       "      <td>NaN</td>\n",
       "      <td>NaN</td>\n",
       "      <td>NotStopd</td>\n",
       "    </tr>\n",
       "  </tbody>\n",
       "</table>\n",
       "</div>"
      ],
      "text/plain": [
       "   row_id  subject_id  hadm_id  icustay_id  itemid            charttime  \\\n",
       "0  208474       10076   198503    201006.0    5684  2107-03-25 04:00:00   \n",
       "1  208475       10076   198503    201006.0    5684  2107-03-25 07:00:00   \n",
       "2  208836       10076   198503    201006.0    5684  2107-03-26 04:00:00   \n",
       "3  208837       10076   198503    201006.0    5684  2107-03-26 08:00:00   \n",
       "4  208838       10076   198503    201006.0    5684  2107-03-26 16:00:00   \n",
       "5  208839       10076   198503    201006.0    5684  2107-03-27 00:00:00   \n",
       "6  209230       10036   189483    227834.0    5684  2185-03-26 04:00:00   \n",
       "7  209468       10076   198503    201006.0    5684  2107-03-24 18:00:00   \n",
       "8  209469       10076   198503    201006.0    5684  2107-03-24 21:00:00   \n",
       "9  209470       10076   198503    201006.0    5684  2107-03-25 00:00:00   \n",
       "\n",
       "             storetime   cgid                value valueuom  warning  error  \\\n",
       "0  2107-03-25 04:34:00  20482  2107-03-24 00:00:00     Date      NaN    NaN   \n",
       "1  2107-03-25 07:06:00  15004  2107-03-24 00:00:00     Date      NaN    NaN   \n",
       "2  2107-03-26 05:31:00  20834  2107-03-24 00:00:00     Date      NaN    NaN   \n",
       "3  2107-03-26 08:33:00  17480  2107-03-24 00:00:00     Date      NaN    NaN   \n",
       "4  2107-03-26 16:08:00  17480  2107-03-24 00:00:00     Date      NaN    NaN   \n",
       "5  2107-03-27 00:48:00  19085  2107-03-24 00:00:00     Date      NaN    NaN   \n",
       "6  2185-03-26 04:36:00  14204  2185-03-24 00:00:00     Date      NaN    NaN   \n",
       "7  2107-03-24 18:26:00  20053  2107-03-24 00:00:00     Date      NaN    NaN   \n",
       "8  2107-03-24 20:49:00  20482  2107-03-24 00:00:00     Date      NaN    NaN   \n",
       "9  2107-03-25 00:16:00  20482  2107-03-24 00:00:00     Date      NaN    NaN   \n",
       "\n",
       "   resultstatus   stopped  \n",
       "0           NaN  NotStopd  \n",
       "1           NaN  NotStopd  \n",
       "2           NaN  NotStopd  \n",
       "3           NaN  NotStopd  \n",
       "4           NaN  NotStopd  \n",
       "5           NaN  NotStopd  \n",
       "6           NaN  NotStopd  \n",
       "7           NaN  NotStopd  \n",
       "8           NaN  NotStopd  \n",
       "9           NaN  NotStopd  "
      ]
     },
     "execution_count": 76,
     "metadata": {},
     "output_type": "execute_result"
    }
   ],
   "source": [
    "df5.head(10)"
   ]
  },
  {
   "cell_type": "code",
   "execution_count": 77,
   "metadata": {},
   "outputs": [
    {
     "data": {
      "text/plain": [
       "(15551, 14)"
      ]
     },
     "execution_count": 77,
     "metadata": {},
     "output_type": "execute_result"
    }
   ],
   "source": [
    "df5.shape"
   ]
  },
  {
   "cell_type": "code",
   "execution_count": 78,
   "metadata": {},
   "outputs": [
    {
     "data": {
      "text/plain": [
       "row_id              0\n",
       "subject_id          0\n",
       "hadm_id             0\n",
       "icustay_id         12\n",
       "itemid              0\n",
       "charttime           0\n",
       "storetime           0\n",
       "cgid                0\n",
       "value              84\n",
       "valueuom            0\n",
       "warning          4637\n",
       "error            4637\n",
       "resultstatus    15551\n",
       "stopped         10914\n",
       "dtype: int64"
      ]
     },
     "execution_count": 78,
     "metadata": {},
     "output_type": "execute_result"
    }
   ],
   "source": [
    "#Cuento cantidad de valores nulos por columnas\n",
    "df5.isnull().sum()"
   ]
  },
  {
   "cell_type": "code",
   "execution_count": 79,
   "metadata": {},
   "outputs": [
    {
     "data": {
      "text/plain": [
       "35835"
      ]
     },
     "execution_count": 79,
     "metadata": {},
     "output_type": "execute_result"
    }
   ],
   "source": [
    "#Cuento cantidad total de valores nulos en todo el dataframe\n",
    "df5.isnull().sum().sum()"
   ]
  },
  {
   "cell_type": "code",
   "execution_count": 80,
   "metadata": {},
   "outputs": [
    {
     "data": {
      "text/plain": [
       "row_id            int64\n",
       "subject_id        int64\n",
       "hadm_id           int64\n",
       "icustay_id      float64\n",
       "itemid            int64\n",
       "charttime        object\n",
       "storetime        object\n",
       "cgid              int64\n",
       "value            object\n",
       "valueuom         object\n",
       "warning         float64\n",
       "error           float64\n",
       "resultstatus    float64\n",
       "stopped          object\n",
       "dtype: object"
      ]
     },
     "execution_count": 80,
     "metadata": {},
     "output_type": "execute_result"
    }
   ],
   "source": [
    "df5.dtypes"
   ]
  },
  {
   "cell_type": "code",
   "execution_count": 100,
   "metadata": {},
   "outputs": [
    {
     "name": "stdout",
     "output_type": "stream",
     "text": [
      "Todos los valores son únicos\n"
     ]
    }
   ],
   "source": [
    "#duplicados en row_id\n",
    "if df5[\"row_id\"].nunique() == len(df5[\"row_id\"]):\n",
    "    print(\"Todos los valores son únicos\")\n",
    "else:\n",
    "    print(\"Hay valores duplicados\")"
   ]
  },
  {
   "cell_type": "code",
   "execution_count": 81,
   "metadata": {},
   "outputs": [],
   "source": [
    "df6 = pd.read_csv('DIAGNOSES_ICD.csv')"
   ]
  },
  {
   "cell_type": "code",
   "execution_count": 82,
   "metadata": {},
   "outputs": [
    {
     "data": {
      "text/html": [
       "<div>\n",
       "<style scoped>\n",
       "    .dataframe tbody tr th:only-of-type {\n",
       "        vertical-align: middle;\n",
       "    }\n",
       "\n",
       "    .dataframe tbody tr th {\n",
       "        vertical-align: top;\n",
       "    }\n",
       "\n",
       "    .dataframe thead th {\n",
       "        text-align: right;\n",
       "    }\n",
       "</style>\n",
       "<table border=\"1\" class=\"dataframe\">\n",
       "  <thead>\n",
       "    <tr style=\"text-align: right;\">\n",
       "      <th></th>\n",
       "      <th>row_id</th>\n",
       "      <th>subject_id</th>\n",
       "      <th>hadm_id</th>\n",
       "      <th>seq_num</th>\n",
       "      <th>icd9_code</th>\n",
       "    </tr>\n",
       "  </thead>\n",
       "  <tbody>\n",
       "    <tr>\n",
       "      <th>0</th>\n",
       "      <td>112344</td>\n",
       "      <td>10006</td>\n",
       "      <td>142345</td>\n",
       "      <td>1</td>\n",
       "      <td>99591</td>\n",
       "    </tr>\n",
       "    <tr>\n",
       "      <th>1</th>\n",
       "      <td>112345</td>\n",
       "      <td>10006</td>\n",
       "      <td>142345</td>\n",
       "      <td>2</td>\n",
       "      <td>99662</td>\n",
       "    </tr>\n",
       "    <tr>\n",
       "      <th>2</th>\n",
       "      <td>112346</td>\n",
       "      <td>10006</td>\n",
       "      <td>142345</td>\n",
       "      <td>3</td>\n",
       "      <td>5672</td>\n",
       "    </tr>\n",
       "    <tr>\n",
       "      <th>3</th>\n",
       "      <td>112347</td>\n",
       "      <td>10006</td>\n",
       "      <td>142345</td>\n",
       "      <td>4</td>\n",
       "      <td>40391</td>\n",
       "    </tr>\n",
       "    <tr>\n",
       "      <th>4</th>\n",
       "      <td>112348</td>\n",
       "      <td>10006</td>\n",
       "      <td>142345</td>\n",
       "      <td>5</td>\n",
       "      <td>42731</td>\n",
       "    </tr>\n",
       "    <tr>\n",
       "      <th>5</th>\n",
       "      <td>112349</td>\n",
       "      <td>10006</td>\n",
       "      <td>142345</td>\n",
       "      <td>6</td>\n",
       "      <td>4280</td>\n",
       "    </tr>\n",
       "    <tr>\n",
       "      <th>6</th>\n",
       "      <td>112350</td>\n",
       "      <td>10006</td>\n",
       "      <td>142345</td>\n",
       "      <td>7</td>\n",
       "      <td>4241</td>\n",
       "    </tr>\n",
       "    <tr>\n",
       "      <th>7</th>\n",
       "      <td>112351</td>\n",
       "      <td>10006</td>\n",
       "      <td>142345</td>\n",
       "      <td>8</td>\n",
       "      <td>4240</td>\n",
       "    </tr>\n",
       "    <tr>\n",
       "      <th>8</th>\n",
       "      <td>112352</td>\n",
       "      <td>10006</td>\n",
       "      <td>142345</td>\n",
       "      <td>9</td>\n",
       "      <td>2874</td>\n",
       "    </tr>\n",
       "    <tr>\n",
       "      <th>9</th>\n",
       "      <td>112353</td>\n",
       "      <td>10006</td>\n",
       "      <td>142345</td>\n",
       "      <td>10</td>\n",
       "      <td>03819</td>\n",
       "    </tr>\n",
       "  </tbody>\n",
       "</table>\n",
       "</div>"
      ],
      "text/plain": [
       "   row_id  subject_id  hadm_id  seq_num icd9_code\n",
       "0  112344       10006   142345        1     99591\n",
       "1  112345       10006   142345        2     99662\n",
       "2  112346       10006   142345        3      5672\n",
       "3  112347       10006   142345        4     40391\n",
       "4  112348       10006   142345        5     42731\n",
       "5  112349       10006   142345        6      4280\n",
       "6  112350       10006   142345        7      4241\n",
       "7  112351       10006   142345        8      4240\n",
       "8  112352       10006   142345        9      2874\n",
       "9  112353       10006   142345       10     03819"
      ]
     },
     "execution_count": 82,
     "metadata": {},
     "output_type": "execute_result"
    }
   ],
   "source": [
    "df6.head(10)"
   ]
  },
  {
   "cell_type": "code",
   "execution_count": 83,
   "metadata": {},
   "outputs": [
    {
     "data": {
      "text/plain": [
       "(1761, 5)"
      ]
     },
     "execution_count": 83,
     "metadata": {},
     "output_type": "execute_result"
    }
   ],
   "source": [
    "df6.shape"
   ]
  },
  {
   "cell_type": "code",
   "execution_count": 84,
   "metadata": {},
   "outputs": [
    {
     "data": {
      "text/plain": [
       "row_id        0\n",
       "subject_id    0\n",
       "hadm_id       0\n",
       "seq_num       0\n",
       "icd9_code     0\n",
       "dtype: int64"
      ]
     },
     "execution_count": 84,
     "metadata": {},
     "output_type": "execute_result"
    }
   ],
   "source": [
    "#Cuento cantidad de valores nulos por columnas\n",
    "df6.isnull().sum()"
   ]
  },
  {
   "cell_type": "code",
   "execution_count": 85,
   "metadata": {},
   "outputs": [
    {
     "data": {
      "text/plain": [
       "0"
      ]
     },
     "execution_count": 85,
     "metadata": {},
     "output_type": "execute_result"
    }
   ],
   "source": [
    "#Cuento cantidad total de valores nulos en todo el dataframe\n",
    "df6.isnull().sum().sum()"
   ]
  },
  {
   "cell_type": "code",
   "execution_count": 86,
   "metadata": {},
   "outputs": [
    {
     "data": {
      "text/plain": [
       "row_id         int64\n",
       "subject_id     int64\n",
       "hadm_id        int64\n",
       "seq_num        int64\n",
       "icd9_code     object\n",
       "dtype: object"
      ]
     },
     "execution_count": 86,
     "metadata": {},
     "output_type": "execute_result"
    }
   ],
   "source": [
    "df6.dtypes"
   ]
  },
  {
   "cell_type": "code",
   "execution_count": 99,
   "metadata": {},
   "outputs": [
    {
     "name": "stdout",
     "output_type": "stream",
     "text": [
      "Todos los valores son únicos\n"
     ]
    }
   ],
   "source": [
    "#duplicados en row_id\n",
    "if df6[\"row_id\"].nunique() == len(df6[\"row_id\"]):\n",
    "    print(\"Todos los valores son únicos\")\n",
    "else:\n",
    "    print(\"Hay valores duplicados\")"
   ]
  }
 ],
 "metadata": {
  "kernelspec": {
   "display_name": "Python 3",
   "language": "python",
   "name": "python3"
  },
  "language_info": {
   "codemirror_mode": {
    "name": "ipython",
    "version": 3
   },
   "file_extension": ".py",
   "mimetype": "text/x-python",
   "name": "python",
   "nbconvert_exporter": "python",
   "pygments_lexer": "ipython3",
   "version": "3.10.8"
  },
  "orig_nbformat": 4
 },
 "nbformat": 4,
 "nbformat_minor": 2
}
