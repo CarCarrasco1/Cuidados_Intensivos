{
 "cells": [
  {
   "cell_type": "code",
   "execution_count": 1,
   "metadata": {},
   "outputs": [],
   "source": [
    "import pandas as pd\n",
    "import numpy as np"
   ]
  },
  {
   "attachments": {},
   "cell_type": "markdown",
   "metadata": {},
   "source": [
    "Eda 3-5"
   ]
  },
  {
   "cell_type": "code",
   "execution_count": 9,
   "metadata": {},
   "outputs": [],
   "source": [
    "DRGCODES = pd.read_csv(\"C:/Users/W10/Desktop/ProjectFinal/Cuidados_Intensivos/dataset/DRGCODES.csv\")"
   ]
  },
  {
   "cell_type": "code",
   "execution_count": 17,
   "metadata": {},
   "outputs": [
    {
     "data": {
      "text/plain": [
       "(297, 8)"
      ]
     },
     "execution_count": 17,
     "metadata": {},
     "output_type": "execute_result"
    }
   ],
   "source": [
    "DRGCODES.shape"
   ]
  },
  {
   "cell_type": "code",
   "execution_count": 16,
   "metadata": {},
   "outputs": [
    {
     "data": {
      "text/plain": [
       "row_id             0\n",
       "subject_id         0\n",
       "hadm_id            0\n",
       "drg_type           0\n",
       "drg_code           0\n",
       "description        0\n",
       "drg_severity     129\n",
       "drg_mortality    129\n",
       "dtype: int64"
      ]
     },
     "execution_count": 16,
     "metadata": {},
     "output_type": "execute_result"
    }
   ],
   "source": [
    "DRGCODES.isnull().sum()"
   ]
  },
  {
   "cell_type": "code",
   "execution_count": 18,
   "metadata": {},
   "outputs": [
    {
     "name": "stdout",
     "output_type": "stream",
     "text": [
      "<class 'pandas.core.frame.DataFrame'>\n",
      "RangeIndex: 297 entries, 0 to 296\n",
      "Data columns (total 8 columns):\n",
      " #   Column         Non-Null Count  Dtype  \n",
      "---  ------         --------------  -----  \n",
      " 0   row_id         297 non-null    int64  \n",
      " 1   subject_id     297 non-null    int64  \n",
      " 2   hadm_id        297 non-null    int64  \n",
      " 3   drg_type       297 non-null    object \n",
      " 4   drg_code       297 non-null    int64  \n",
      " 5   description    297 non-null    object \n",
      " 6   drg_severity   168 non-null    float64\n",
      " 7   drg_mortality  168 non-null    float64\n",
      "dtypes: float64(2), int64(4), object(2)\n",
      "memory usage: 18.7+ KB\n"
     ]
    }
   ],
   "source": [
    "DRGCODES.info()"
   ]
  },
  {
   "cell_type": "code",
   "execution_count": 28,
   "metadata": {},
   "outputs": [
    {
     "data": {
      "text/plain": [
       "100"
      ]
     },
     "execution_count": 28,
     "metadata": {},
     "output_type": "execute_result"
    }
   ],
   "source": [
    "DRGCODES.subject_id.nunique()"
   ]
  },
  {
   "cell_type": "code",
   "execution_count": 19,
   "metadata": {},
   "outputs": [
    {
     "data": {
      "text/html": [
       "<div>\n",
       "<style scoped>\n",
       "    .dataframe tbody tr th:only-of-type {\n",
       "        vertical-align: middle;\n",
       "    }\n",
       "\n",
       "    .dataframe tbody tr th {\n",
       "        vertical-align: top;\n",
       "    }\n",
       "\n",
       "    .dataframe thead th {\n",
       "        text-align: right;\n",
       "    }\n",
       "</style>\n",
       "<table border=\"1\" class=\"dataframe\">\n",
       "  <thead>\n",
       "    <tr style=\"text-align: right;\">\n",
       "      <th></th>\n",
       "      <th>row_id</th>\n",
       "      <th>subject_id</th>\n",
       "      <th>hadm_id</th>\n",
       "      <th>drg_type</th>\n",
       "      <th>drg_code</th>\n",
       "      <th>description</th>\n",
       "      <th>drg_severity</th>\n",
       "      <th>drg_mortality</th>\n",
       "    </tr>\n",
       "  </thead>\n",
       "  <tbody>\n",
       "    <tr>\n",
       "      <th>0</th>\n",
       "      <td>1338</td>\n",
       "      <td>10130</td>\n",
       "      <td>156668</td>\n",
       "      <td>HCFA</td>\n",
       "      <td>148</td>\n",
       "      <td>MAJOR SMALL &amp; LARGE BOWEL PROCEDURES WITH COMP...</td>\n",
       "      <td>NaN</td>\n",
       "      <td>NaN</td>\n",
       "    </tr>\n",
       "    <tr>\n",
       "      <th>1</th>\n",
       "      <td>2188</td>\n",
       "      <td>10114</td>\n",
       "      <td>167957</td>\n",
       "      <td>HCFA</td>\n",
       "      <td>518</td>\n",
       "      <td>PERCUTANEOUS CARDIOVASCULAR PROCEDURES WITHOUT...</td>\n",
       "      <td>NaN</td>\n",
       "      <td>NaN</td>\n",
       "    </tr>\n",
       "    <tr>\n",
       "      <th>2</th>\n",
       "      <td>2599</td>\n",
       "      <td>10117</td>\n",
       "      <td>187023</td>\n",
       "      <td>HCFA</td>\n",
       "      <td>185</td>\n",
       "      <td>DENTAL &amp; ORAL DIS EXCEPT EXTRACTIONS &amp; RESTORA...</td>\n",
       "      <td>NaN</td>\n",
       "      <td>NaN</td>\n",
       "    </tr>\n",
       "    <tr>\n",
       "      <th>3</th>\n",
       "      <td>2703</td>\n",
       "      <td>10046</td>\n",
       "      <td>133110</td>\n",
       "      <td>HCFA</td>\n",
       "      <td>1</td>\n",
       "      <td>CRANIOTOMY AGE &gt;17 EXCEPT FOR TRAUMA</td>\n",
       "      <td>NaN</td>\n",
       "      <td>NaN</td>\n",
       "    </tr>\n",
       "    <tr>\n",
       "      <th>4</th>\n",
       "      <td>3020</td>\n",
       "      <td>10011</td>\n",
       "      <td>105331</td>\n",
       "      <td>HCFA</td>\n",
       "      <td>205</td>\n",
       "      <td>DISORDERS OF LIVER EXCEPT MALIGNANCY, CIRRHOSI...</td>\n",
       "      <td>NaN</td>\n",
       "      <td>NaN</td>\n",
       "    </tr>\n",
       "  </tbody>\n",
       "</table>\n",
       "</div>"
      ],
      "text/plain": [
       "   row_id  subject_id  hadm_id drg_type  drg_code  \\\n",
       "0    1338       10130   156668     HCFA       148   \n",
       "1    2188       10114   167957     HCFA       518   \n",
       "2    2599       10117   187023     HCFA       185   \n",
       "3    2703       10046   133110     HCFA         1   \n",
       "4    3020       10011   105331     HCFA       205   \n",
       "\n",
       "                                         description  drg_severity  \\\n",
       "0  MAJOR SMALL & LARGE BOWEL PROCEDURES WITH COMP...           NaN   \n",
       "1  PERCUTANEOUS CARDIOVASCULAR PROCEDURES WITHOUT...           NaN   \n",
       "2  DENTAL & ORAL DIS EXCEPT EXTRACTIONS & RESTORA...           NaN   \n",
       "3               CRANIOTOMY AGE >17 EXCEPT FOR TRAUMA           NaN   \n",
       "4  DISORDERS OF LIVER EXCEPT MALIGNANCY, CIRRHOSI...           NaN   \n",
       "\n",
       "   drg_mortality  \n",
       "0            NaN  \n",
       "1            NaN  \n",
       "2            NaN  \n",
       "3            NaN  \n",
       "4            NaN  "
      ]
     },
     "execution_count": 19,
     "metadata": {},
     "output_type": "execute_result"
    }
   ],
   "source": [
    "DRGCODES.head()"
   ]
  },
  {
   "cell_type": "code",
   "execution_count": 10,
   "metadata": {},
   "outputs": [],
   "source": [
    "ICUSTAYS = pd.read_csv(\"C:/Users/W10/Desktop/ProjectFinal/Cuidados_Intensivos/dataset/ICUSTAYS.csv\")"
   ]
  },
  {
   "cell_type": "code",
   "execution_count": 20,
   "metadata": {},
   "outputs": [
    {
     "data": {
      "text/plain": [
       "(136, 12)"
      ]
     },
     "execution_count": 20,
     "metadata": {},
     "output_type": "execute_result"
    }
   ],
   "source": [
    "ICUSTAYS.shape"
   ]
  },
  {
   "cell_type": "code",
   "execution_count": 21,
   "metadata": {},
   "outputs": [
    {
     "data": {
      "text/plain": [
       "row_id            0\n",
       "subject_id        0\n",
       "hadm_id           0\n",
       "icustay_id        0\n",
       "dbsource          0\n",
       "first_careunit    0\n",
       "last_careunit     0\n",
       "first_wardid      0\n",
       "last_wardid       0\n",
       "intime            0\n",
       "outtime           0\n",
       "los               0\n",
       "dtype: int64"
      ]
     },
     "execution_count": 21,
     "metadata": {},
     "output_type": "execute_result"
    }
   ],
   "source": [
    "ICUSTAYS.isnull().sum()"
   ]
  },
  {
   "cell_type": "code",
   "execution_count": 22,
   "metadata": {},
   "outputs": [
    {
     "name": "stdout",
     "output_type": "stream",
     "text": [
      "<class 'pandas.core.frame.DataFrame'>\n",
      "RangeIndex: 136 entries, 0 to 135\n",
      "Data columns (total 12 columns):\n",
      " #   Column          Non-Null Count  Dtype  \n",
      "---  ------          --------------  -----  \n",
      " 0   row_id          136 non-null    int64  \n",
      " 1   subject_id      136 non-null    int64  \n",
      " 2   hadm_id         136 non-null    int64  \n",
      " 3   icustay_id      136 non-null    int64  \n",
      " 4   dbsource        136 non-null    object \n",
      " 5   first_careunit  136 non-null    object \n",
      " 6   last_careunit   136 non-null    object \n",
      " 7   first_wardid    136 non-null    int64  \n",
      " 8   last_wardid     136 non-null    int64  \n",
      " 9   intime          136 non-null    object \n",
      " 10  outtime         136 non-null    object \n",
      " 11  los             136 non-null    float64\n",
      "dtypes: float64(1), int64(6), object(5)\n",
      "memory usage: 12.9+ KB\n"
     ]
    }
   ],
   "source": [
    "ICUSTAYS.info()"
   ]
  },
  {
   "cell_type": "code",
   "execution_count": 29,
   "metadata": {},
   "outputs": [
    {
     "data": {
      "text/plain": [
       "100"
      ]
     },
     "execution_count": 29,
     "metadata": {},
     "output_type": "execute_result"
    }
   ],
   "source": [
    "ICUSTAYS.subject_id.nunique()"
   ]
  },
  {
   "cell_type": "code",
   "execution_count": 23,
   "metadata": {},
   "outputs": [
    {
     "data": {
      "text/html": [
       "<div>\n",
       "<style scoped>\n",
       "    .dataframe tbody tr th:only-of-type {\n",
       "        vertical-align: middle;\n",
       "    }\n",
       "\n",
       "    .dataframe tbody tr th {\n",
       "        vertical-align: top;\n",
       "    }\n",
       "\n",
       "    .dataframe thead th {\n",
       "        text-align: right;\n",
       "    }\n",
       "</style>\n",
       "<table border=\"1\" class=\"dataframe\">\n",
       "  <thead>\n",
       "    <tr style=\"text-align: right;\">\n",
       "      <th></th>\n",
       "      <th>row_id</th>\n",
       "      <th>subject_id</th>\n",
       "      <th>hadm_id</th>\n",
       "      <th>icustay_id</th>\n",
       "      <th>dbsource</th>\n",
       "      <th>first_careunit</th>\n",
       "      <th>last_careunit</th>\n",
       "      <th>first_wardid</th>\n",
       "      <th>last_wardid</th>\n",
       "      <th>intime</th>\n",
       "      <th>outtime</th>\n",
       "      <th>los</th>\n",
       "    </tr>\n",
       "  </thead>\n",
       "  <tbody>\n",
       "    <tr>\n",
       "      <th>0</th>\n",
       "      <td>12742</td>\n",
       "      <td>10006</td>\n",
       "      <td>142345</td>\n",
       "      <td>206504</td>\n",
       "      <td>carevue</td>\n",
       "      <td>MICU</td>\n",
       "      <td>MICU</td>\n",
       "      <td>52</td>\n",
       "      <td>52</td>\n",
       "      <td>2164-10-23 21:10:15</td>\n",
       "      <td>2164-10-25 12:21:07</td>\n",
       "      <td>1.6325</td>\n",
       "    </tr>\n",
       "    <tr>\n",
       "      <th>1</th>\n",
       "      <td>12747</td>\n",
       "      <td>10011</td>\n",
       "      <td>105331</td>\n",
       "      <td>232110</td>\n",
       "      <td>carevue</td>\n",
       "      <td>MICU</td>\n",
       "      <td>MICU</td>\n",
       "      <td>15</td>\n",
       "      <td>15</td>\n",
       "      <td>2126-08-14 22:34:00</td>\n",
       "      <td>2126-08-28 18:59:00</td>\n",
       "      <td>13.8507</td>\n",
       "    </tr>\n",
       "    <tr>\n",
       "      <th>2</th>\n",
       "      <td>12749</td>\n",
       "      <td>10013</td>\n",
       "      <td>165520</td>\n",
       "      <td>264446</td>\n",
       "      <td>carevue</td>\n",
       "      <td>MICU</td>\n",
       "      <td>MICU</td>\n",
       "      <td>15</td>\n",
       "      <td>15</td>\n",
       "      <td>2125-10-04 23:38:00</td>\n",
       "      <td>2125-10-07 15:13:52</td>\n",
       "      <td>2.6499</td>\n",
       "    </tr>\n",
       "    <tr>\n",
       "      <th>3</th>\n",
       "      <td>12754</td>\n",
       "      <td>10017</td>\n",
       "      <td>199207</td>\n",
       "      <td>204881</td>\n",
       "      <td>carevue</td>\n",
       "      <td>CCU</td>\n",
       "      <td>CCU</td>\n",
       "      <td>7</td>\n",
       "      <td>7</td>\n",
       "      <td>2149-05-29 18:52:29</td>\n",
       "      <td>2149-05-31 22:19:17</td>\n",
       "      <td>2.1436</td>\n",
       "    </tr>\n",
       "    <tr>\n",
       "      <th>4</th>\n",
       "      <td>12755</td>\n",
       "      <td>10019</td>\n",
       "      <td>177759</td>\n",
       "      <td>228977</td>\n",
       "      <td>carevue</td>\n",
       "      <td>MICU</td>\n",
       "      <td>MICU</td>\n",
       "      <td>15</td>\n",
       "      <td>15</td>\n",
       "      <td>2163-05-14 20:43:56</td>\n",
       "      <td>2163-05-16 03:47:04</td>\n",
       "      <td>1.2938</td>\n",
       "    </tr>\n",
       "  </tbody>\n",
       "</table>\n",
       "</div>"
      ],
      "text/plain": [
       "   row_id  subject_id  hadm_id  icustay_id dbsource first_careunit  \\\n",
       "0   12742       10006   142345      206504  carevue           MICU   \n",
       "1   12747       10011   105331      232110  carevue           MICU   \n",
       "2   12749       10013   165520      264446  carevue           MICU   \n",
       "3   12754       10017   199207      204881  carevue            CCU   \n",
       "4   12755       10019   177759      228977  carevue           MICU   \n",
       "\n",
       "  last_careunit  first_wardid  last_wardid               intime  \\\n",
       "0          MICU            52           52  2164-10-23 21:10:15   \n",
       "1          MICU            15           15  2126-08-14 22:34:00   \n",
       "2          MICU            15           15  2125-10-04 23:38:00   \n",
       "3           CCU             7            7  2149-05-29 18:52:29   \n",
       "4          MICU            15           15  2163-05-14 20:43:56   \n",
       "\n",
       "               outtime      los  \n",
       "0  2164-10-25 12:21:07   1.6325  \n",
       "1  2126-08-28 18:59:00  13.8507  \n",
       "2  2125-10-07 15:13:52   2.6499  \n",
       "3  2149-05-31 22:19:17   2.1436  \n",
       "4  2163-05-16 03:47:04   1.2938  "
      ]
     },
     "execution_count": 23,
     "metadata": {},
     "output_type": "execute_result"
    }
   ],
   "source": [
    "ICUSTAYS.head()"
   ]
  },
  {
   "cell_type": "code",
   "execution_count": 15,
   "metadata": {},
   "outputs": [],
   "source": [
    "INPUTEVENTS_CV = pd.read_csv(\"C:/Users/W10/Desktop/ProjectFinal/Cuidados_Intensivos/dataset/INPUTEVENTS_CV.csv\", low_memory=False)"
   ]
  },
  {
   "cell_type": "code",
   "execution_count": 24,
   "metadata": {},
   "outputs": [
    {
     "data": {
      "text/plain": [
       "(34799, 22)"
      ]
     },
     "execution_count": 24,
     "metadata": {},
     "output_type": "execute_result"
    }
   ],
   "source": [
    "INPUTEVENTS_CV.shape"
   ]
  },
  {
   "cell_type": "code",
   "execution_count": 25,
   "metadata": {},
   "outputs": [
    {
     "data": {
      "text/plain": [
       "row_id                   0\n",
       "subject_id               0\n",
       "hadm_id                  0\n",
       "icustay_id               0\n",
       "charttime                0\n",
       "itemid                   0\n",
       "amount               10061\n",
       "amountuom             9796\n",
       "rate                 25337\n",
       "rateuom              25251\n",
       "storetime                0\n",
       "cgid                   541\n",
       "orderid                  0\n",
       "linkorderid              0\n",
       "stopped              33989\n",
       "newbottle            34277\n",
       "originalamount       13585\n",
       "originalamountuom     9565\n",
       "originalroute           17\n",
       "originalrate         23288\n",
       "originalrateuom      23284\n",
       "originalsite         34793\n",
       "dtype: int64"
      ]
     },
     "execution_count": 25,
     "metadata": {},
     "output_type": "execute_result"
    }
   ],
   "source": [
    "INPUTEVENTS_CV.isnull().sum()"
   ]
  },
  {
   "cell_type": "code",
   "execution_count": 26,
   "metadata": {},
   "outputs": [
    {
     "name": "stdout",
     "output_type": "stream",
     "text": [
      "<class 'pandas.core.frame.DataFrame'>\n",
      "RangeIndex: 34799 entries, 0 to 34798\n",
      "Data columns (total 22 columns):\n",
      " #   Column             Non-Null Count  Dtype  \n",
      "---  ------             --------------  -----  \n",
      " 0   row_id             34799 non-null  int64  \n",
      " 1   subject_id         34799 non-null  int64  \n",
      " 2   hadm_id            34799 non-null  int64  \n",
      " 3   icustay_id         34799 non-null  int64  \n",
      " 4   charttime          34799 non-null  object \n",
      " 5   itemid             34799 non-null  int64  \n",
      " 6   amount             24738 non-null  float64\n",
      " 7   amountuom          25003 non-null  object \n",
      " 8   rate               9462 non-null   float64\n",
      " 9   rateuom            9548 non-null   object \n",
      " 10  storetime          34799 non-null  object \n",
      " 11  cgid               34258 non-null  float64\n",
      " 12  orderid            34799 non-null  int64  \n",
      " 13  linkorderid        34799 non-null  int64  \n",
      " 14  stopped            810 non-null    object \n",
      " 15  newbottle          522 non-null    float64\n",
      " 16  originalamount     21214 non-null  float64\n",
      " 17  originalamountuom  25234 non-null  object \n",
      " 18  originalroute      34782 non-null  object \n",
      " 19  originalrate       11511 non-null  float64\n",
      " 20  originalrateuom    11515 non-null  object \n",
      " 21  originalsite       6 non-null      object \n",
      "dtypes: float64(6), int64(7), object(9)\n",
      "memory usage: 5.8+ MB\n"
     ]
    }
   ],
   "source": [
    "INPUTEVENTS_CV.info()"
   ]
  },
  {
   "cell_type": "code",
   "execution_count": 27,
   "metadata": {},
   "outputs": [
    {
     "data": {
      "text/plain": [
       "48"
      ]
     },
     "execution_count": 27,
     "metadata": {},
     "output_type": "execute_result"
    }
   ],
   "source": [
    "INPUTEVENTS_CV.subject_id.nunique()"
   ]
  },
  {
   "cell_type": "code",
   "execution_count": 30,
   "metadata": {},
   "outputs": [
    {
     "data": {
      "text/html": [
       "<div>\n",
       "<style scoped>\n",
       "    .dataframe tbody tr th:only-of-type {\n",
       "        vertical-align: middle;\n",
       "    }\n",
       "\n",
       "    .dataframe tbody tr th {\n",
       "        vertical-align: top;\n",
       "    }\n",
       "\n",
       "    .dataframe thead th {\n",
       "        text-align: right;\n",
       "    }\n",
       "</style>\n",
       "<table border=\"1\" class=\"dataframe\">\n",
       "  <thead>\n",
       "    <tr style=\"text-align: right;\">\n",
       "      <th></th>\n",
       "      <th>row_id</th>\n",
       "      <th>subject_id</th>\n",
       "      <th>hadm_id</th>\n",
       "      <th>icustay_id</th>\n",
       "      <th>charttime</th>\n",
       "      <th>itemid</th>\n",
       "      <th>amount</th>\n",
       "      <th>amountuom</th>\n",
       "      <th>rate</th>\n",
       "      <th>rateuom</th>\n",
       "      <th>...</th>\n",
       "      <th>orderid</th>\n",
       "      <th>linkorderid</th>\n",
       "      <th>stopped</th>\n",
       "      <th>newbottle</th>\n",
       "      <th>originalamount</th>\n",
       "      <th>originalamountuom</th>\n",
       "      <th>originalroute</th>\n",
       "      <th>originalrate</th>\n",
       "      <th>originalrateuom</th>\n",
       "      <th>originalsite</th>\n",
       "    </tr>\n",
       "  </thead>\n",
       "  <tbody>\n",
       "    <tr>\n",
       "      <th>0</th>\n",
       "      <td>1184</td>\n",
       "      <td>10114</td>\n",
       "      <td>167957</td>\n",
       "      <td>234989</td>\n",
       "      <td>2171-11-03 15:00:00</td>\n",
       "      <td>30056</td>\n",
       "      <td>400.0</td>\n",
       "      <td>ml</td>\n",
       "      <td>NaN</td>\n",
       "      <td>NaN</td>\n",
       "      <td>...</td>\n",
       "      <td>2557279</td>\n",
       "      <td>2557279</td>\n",
       "      <td>NaN</td>\n",
       "      <td>NaN</td>\n",
       "      <td>NaN</td>\n",
       "      <td>ml</td>\n",
       "      <td>Oral</td>\n",
       "      <td>NaN</td>\n",
       "      <td>NaN</td>\n",
       "      <td>NaN</td>\n",
       "    </tr>\n",
       "    <tr>\n",
       "      <th>1</th>\n",
       "      <td>1185</td>\n",
       "      <td>10114</td>\n",
       "      <td>167957</td>\n",
       "      <td>234989</td>\n",
       "      <td>2171-11-03 20:00:00</td>\n",
       "      <td>30056</td>\n",
       "      <td>120.0</td>\n",
       "      <td>ml</td>\n",
       "      <td>NaN</td>\n",
       "      <td>NaN</td>\n",
       "      <td>...</td>\n",
       "      <td>7828849</td>\n",
       "      <td>2557279</td>\n",
       "      <td>NaN</td>\n",
       "      <td>NaN</td>\n",
       "      <td>NaN</td>\n",
       "      <td>ml</td>\n",
       "      <td>Oral</td>\n",
       "      <td>NaN</td>\n",
       "      <td>NaN</td>\n",
       "      <td>NaN</td>\n",
       "    </tr>\n",
       "    <tr>\n",
       "      <th>2</th>\n",
       "      <td>1186</td>\n",
       "      <td>10114</td>\n",
       "      <td>167957</td>\n",
       "      <td>234989</td>\n",
       "      <td>2171-11-03 23:00:00</td>\n",
       "      <td>30056</td>\n",
       "      <td>120.0</td>\n",
       "      <td>ml</td>\n",
       "      <td>NaN</td>\n",
       "      <td>NaN</td>\n",
       "      <td>...</td>\n",
       "      <td>2744159</td>\n",
       "      <td>2557279</td>\n",
       "      <td>NaN</td>\n",
       "      <td>NaN</td>\n",
       "      <td>NaN</td>\n",
       "      <td>ml</td>\n",
       "      <td>Oral</td>\n",
       "      <td>NaN</td>\n",
       "      <td>NaN</td>\n",
       "      <td>NaN</td>\n",
       "    </tr>\n",
       "    <tr>\n",
       "      <th>3</th>\n",
       "      <td>1187</td>\n",
       "      <td>10114</td>\n",
       "      <td>167957</td>\n",
       "      <td>234989</td>\n",
       "      <td>2171-11-04 02:00:00</td>\n",
       "      <td>30056</td>\n",
       "      <td>120.0</td>\n",
       "      <td>ml</td>\n",
       "      <td>NaN</td>\n",
       "      <td>NaN</td>\n",
       "      <td>...</td>\n",
       "      <td>8475006</td>\n",
       "      <td>2557279</td>\n",
       "      <td>NaN</td>\n",
       "      <td>NaN</td>\n",
       "      <td>NaN</td>\n",
       "      <td>ml</td>\n",
       "      <td>Oral</td>\n",
       "      <td>NaN</td>\n",
       "      <td>NaN</td>\n",
       "      <td>NaN</td>\n",
       "    </tr>\n",
       "    <tr>\n",
       "      <th>4</th>\n",
       "      <td>1188</td>\n",
       "      <td>10114</td>\n",
       "      <td>167957</td>\n",
       "      <td>234989</td>\n",
       "      <td>2171-11-04 05:00:00</td>\n",
       "      <td>30056</td>\n",
       "      <td>120.0</td>\n",
       "      <td>ml</td>\n",
       "      <td>NaN</td>\n",
       "      <td>NaN</td>\n",
       "      <td>...</td>\n",
       "      <td>11183474</td>\n",
       "      <td>2557279</td>\n",
       "      <td>NaN</td>\n",
       "      <td>NaN</td>\n",
       "      <td>NaN</td>\n",
       "      <td>ml</td>\n",
       "      <td>Oral</td>\n",
       "      <td>NaN</td>\n",
       "      <td>NaN</td>\n",
       "      <td>NaN</td>\n",
       "    </tr>\n",
       "  </tbody>\n",
       "</table>\n",
       "<p>5 rows × 22 columns</p>\n",
       "</div>"
      ],
      "text/plain": [
       "   row_id  subject_id  hadm_id  icustay_id            charttime  itemid  \\\n",
       "0    1184       10114   167957      234989  2171-11-03 15:00:00   30056   \n",
       "1    1185       10114   167957      234989  2171-11-03 20:00:00   30056   \n",
       "2    1186       10114   167957      234989  2171-11-03 23:00:00   30056   \n",
       "3    1187       10114   167957      234989  2171-11-04 02:00:00   30056   \n",
       "4    1188       10114   167957      234989  2171-11-04 05:00:00   30056   \n",
       "\n",
       "   amount amountuom  rate rateuom  ...   orderid  linkorderid  stopped  \\\n",
       "0   400.0        ml   NaN     NaN  ...   2557279      2557279      NaN   \n",
       "1   120.0        ml   NaN     NaN  ...   7828849      2557279      NaN   \n",
       "2   120.0        ml   NaN     NaN  ...   2744159      2557279      NaN   \n",
       "3   120.0        ml   NaN     NaN  ...   8475006      2557279      NaN   \n",
       "4   120.0        ml   NaN     NaN  ...  11183474      2557279      NaN   \n",
       "\n",
       "   newbottle originalamount  originalamountuom  originalroute originalrate  \\\n",
       "0        NaN            NaN                 ml           Oral          NaN   \n",
       "1        NaN            NaN                 ml           Oral          NaN   \n",
       "2        NaN            NaN                 ml           Oral          NaN   \n",
       "3        NaN            NaN                 ml           Oral          NaN   \n",
       "4        NaN            NaN                 ml           Oral          NaN   \n",
       "\n",
       "  originalrateuom  originalsite  \n",
       "0             NaN           NaN  \n",
       "1             NaN           NaN  \n",
       "2             NaN           NaN  \n",
       "3             NaN           NaN  \n",
       "4             NaN           NaN  \n",
       "\n",
       "[5 rows x 22 columns]"
      ]
     },
     "execution_count": 30,
     "metadata": {},
     "output_type": "execute_result"
    }
   ],
   "source": [
    "INPUTEVENTS_CV.head()"
   ]
  },
  {
   "cell_type": "code",
   "execution_count": 12,
   "metadata": {},
   "outputs": [],
   "source": [
    "INPUTEVENTS_MV = pd.read_csv(\"C:/Users/W10/Desktop/ProjectFinal/Cuidados_Intensivos/dataset/INPUTEVENTS_MV.csv\")"
   ]
  },
  {
   "cell_type": "code",
   "execution_count": 31,
   "metadata": {},
   "outputs": [
    {
     "data": {
      "text/plain": [
       "(13224, 31)"
      ]
     },
     "execution_count": 31,
     "metadata": {},
     "output_type": "execute_result"
    }
   ],
   "source": [
    "INPUTEVENTS_MV.shape"
   ]
  },
  {
   "cell_type": "code",
   "execution_count": 33,
   "metadata": {},
   "outputs": [
    {
     "data": {
      "text/plain": [
       "row_id                               0\n",
       "subject_id                           0\n",
       "hadm_id                              0\n",
       "icustay_id                           0\n",
       "starttime                            0\n",
       "endtime                              0\n",
       "itemid                               0\n",
       "amount                               0\n",
       "amountuom                            0\n",
       "rate                              5889\n",
       "rateuom                           5889\n",
       "storetime                            0\n",
       "cgid                                 0\n",
       "orderid                              0\n",
       "linkorderid                          0\n",
       "ordercategoryname                    0\n",
       "secondaryordercategoryname        3385\n",
       "ordercomponenttypedescription        0\n",
       "ordercategorydescription             0\n",
       "patientweight                        0\n",
       "totalamount                       1440\n",
       "totalamountuom                    1433\n",
       "isopenbag                            0\n",
       "continueinnextdept                   0\n",
       "cancelreason                         0\n",
       "statusdescription                    0\n",
       "comments_editedby                11959\n",
       "comments_canceledby              12745\n",
       "comments_date                    11480\n",
       "originalamount                       0\n",
       "originalrate                         0\n",
       "dtype: int64"
      ]
     },
     "execution_count": 33,
     "metadata": {},
     "output_type": "execute_result"
    }
   ],
   "source": [
    "INPUTEVENTS_MV.isnull().sum()"
   ]
  },
  {
   "cell_type": "code",
   "execution_count": 34,
   "metadata": {},
   "outputs": [
    {
     "name": "stdout",
     "output_type": "stream",
     "text": [
      "<class 'pandas.core.frame.DataFrame'>\n",
      "RangeIndex: 13224 entries, 0 to 13223\n",
      "Data columns (total 31 columns):\n",
      " #   Column                         Non-Null Count  Dtype  \n",
      "---  ------                         --------------  -----  \n",
      " 0   row_id                         13224 non-null  int64  \n",
      " 1   subject_id                     13224 non-null  int64  \n",
      " 2   hadm_id                        13224 non-null  int64  \n",
      " 3   icustay_id                     13224 non-null  int64  \n",
      " 4   starttime                      13224 non-null  object \n",
      " 5   endtime                        13224 non-null  object \n",
      " 6   itemid                         13224 non-null  int64  \n",
      " 7   amount                         13224 non-null  float64\n",
      " 8   amountuom                      13224 non-null  object \n",
      " 9   rate                           7335 non-null   float64\n",
      " 10  rateuom                        7335 non-null   object \n",
      " 11  storetime                      13224 non-null  object \n",
      " 12  cgid                           13224 non-null  int64  \n",
      " 13  orderid                        13224 non-null  int64  \n",
      " 14  linkorderid                    13224 non-null  int64  \n",
      " 15  ordercategoryname              13224 non-null  object \n",
      " 16  secondaryordercategoryname     9839 non-null   object \n",
      " 17  ordercomponenttypedescription  13224 non-null  object \n",
      " 18  ordercategorydescription       13224 non-null  object \n",
      " 19  patientweight                  13224 non-null  float64\n",
      " 20  totalamount                    11784 non-null  float64\n",
      " 21  totalamountuom                 11791 non-null  object \n",
      " 22  isopenbag                      13224 non-null  int64  \n",
      " 23  continueinnextdept             13224 non-null  int64  \n",
      " 24  cancelreason                   13224 non-null  int64  \n",
      " 25  statusdescription              13224 non-null  object \n",
      " 26  comments_editedby              1265 non-null   object \n",
      " 27  comments_canceledby            479 non-null    object \n",
      " 28  comments_date                  1744 non-null   object \n",
      " 29  originalamount                 13224 non-null  float64\n",
      " 30  originalrate                   13224 non-null  float64\n",
      "dtypes: float64(6), int64(11), object(14)\n",
      "memory usage: 3.1+ MB\n"
     ]
    }
   ],
   "source": [
    "INPUTEVENTS_MV.info()"
   ]
  },
  {
   "cell_type": "code",
   "execution_count": 35,
   "metadata": {},
   "outputs": [
    {
     "data": {
      "text/plain": [
       "50"
      ]
     },
     "execution_count": 35,
     "metadata": {},
     "output_type": "execute_result"
    }
   ],
   "source": [
    "INPUTEVENTS_MV.subject_id.nunique()"
   ]
  },
  {
   "cell_type": "code",
   "execution_count": 36,
   "metadata": {},
   "outputs": [
    {
     "data": {
      "text/html": [
       "<div>\n",
       "<style scoped>\n",
       "    .dataframe tbody tr th:only-of-type {\n",
       "        vertical-align: middle;\n",
       "    }\n",
       "\n",
       "    .dataframe tbody tr th {\n",
       "        vertical-align: top;\n",
       "    }\n",
       "\n",
       "    .dataframe thead th {\n",
       "        text-align: right;\n",
       "    }\n",
       "</style>\n",
       "<table border=\"1\" class=\"dataframe\">\n",
       "  <thead>\n",
       "    <tr style=\"text-align: right;\">\n",
       "      <th></th>\n",
       "      <th>row_id</th>\n",
       "      <th>subject_id</th>\n",
       "      <th>hadm_id</th>\n",
       "      <th>icustay_id</th>\n",
       "      <th>starttime</th>\n",
       "      <th>endtime</th>\n",
       "      <th>itemid</th>\n",
       "      <th>amount</th>\n",
       "      <th>amountuom</th>\n",
       "      <th>rate</th>\n",
       "      <th>...</th>\n",
       "      <th>totalamountuom</th>\n",
       "      <th>isopenbag</th>\n",
       "      <th>continueinnextdept</th>\n",
       "      <th>cancelreason</th>\n",
       "      <th>statusdescription</th>\n",
       "      <th>comments_editedby</th>\n",
       "      <th>comments_canceledby</th>\n",
       "      <th>comments_date</th>\n",
       "      <th>originalamount</th>\n",
       "      <th>originalrate</th>\n",
       "    </tr>\n",
       "  </thead>\n",
       "  <tbody>\n",
       "    <tr>\n",
       "      <th>0</th>\n",
       "      <td>118897</td>\n",
       "      <td>42367</td>\n",
       "      <td>139932</td>\n",
       "      <td>250305</td>\n",
       "      <td>2147-10-29 16:45:00</td>\n",
       "      <td>2147-10-29 16:46:00</td>\n",
       "      <td>225799</td>\n",
       "      <td>60.000000</td>\n",
       "      <td>ml</td>\n",
       "      <td>NaN</td>\n",
       "      <td>...</td>\n",
       "      <td>ml</td>\n",
       "      <td>0</td>\n",
       "      <td>0</td>\n",
       "      <td>0</td>\n",
       "      <td>FinishedRunning</td>\n",
       "      <td>NaN</td>\n",
       "      <td>NaN</td>\n",
       "      <td>NaN</td>\n",
       "      <td>60.0</td>\n",
       "      <td>60.000000</td>\n",
       "    </tr>\n",
       "    <tr>\n",
       "      <th>1</th>\n",
       "      <td>118898</td>\n",
       "      <td>42367</td>\n",
       "      <td>139932</td>\n",
       "      <td>250305</td>\n",
       "      <td>2147-10-20 13:17:00</td>\n",
       "      <td>2147-10-20 13:18:00</td>\n",
       "      <td>223258</td>\n",
       "      <td>10.000000</td>\n",
       "      <td>units</td>\n",
       "      <td>NaN</td>\n",
       "      <td>...</td>\n",
       "      <td>NaN</td>\n",
       "      <td>0</td>\n",
       "      <td>0</td>\n",
       "      <td>1</td>\n",
       "      <td>Rewritten</td>\n",
       "      <td>NaN</td>\n",
       "      <td>RN</td>\n",
       "      <td>2147-10-20 13:18:00</td>\n",
       "      <td>10.0</td>\n",
       "      <td>10.000000</td>\n",
       "    </tr>\n",
       "    <tr>\n",
       "      <th>2</th>\n",
       "      <td>118899</td>\n",
       "      <td>42367</td>\n",
       "      <td>139932</td>\n",
       "      <td>250305</td>\n",
       "      <td>2147-10-29 03:23:00</td>\n",
       "      <td>2147-10-29 03:53:00</td>\n",
       "      <td>226089</td>\n",
       "      <td>99.999999</td>\n",
       "      <td>ml</td>\n",
       "      <td>199.999998</td>\n",
       "      <td>...</td>\n",
       "      <td>ml</td>\n",
       "      <td>0</td>\n",
       "      <td>0</td>\n",
       "      <td>0</td>\n",
       "      <td>FinishedRunning</td>\n",
       "      <td>NaN</td>\n",
       "      <td>NaN</td>\n",
       "      <td>NaN</td>\n",
       "      <td>100.0</td>\n",
       "      <td>200.000000</td>\n",
       "    </tr>\n",
       "    <tr>\n",
       "      <th>3</th>\n",
       "      <td>118900</td>\n",
       "      <td>42367</td>\n",
       "      <td>139932</td>\n",
       "      <td>250305</td>\n",
       "      <td>2147-10-22 22:00:00</td>\n",
       "      <td>2147-10-22 22:01:00</td>\n",
       "      <td>225799</td>\n",
       "      <td>40.000000</td>\n",
       "      <td>ml</td>\n",
       "      <td>NaN</td>\n",
       "      <td>...</td>\n",
       "      <td>ml</td>\n",
       "      <td>0</td>\n",
       "      <td>0</td>\n",
       "      <td>0</td>\n",
       "      <td>FinishedRunning</td>\n",
       "      <td>NaN</td>\n",
       "      <td>NaN</td>\n",
       "      <td>NaN</td>\n",
       "      <td>40.0</td>\n",
       "      <td>40.000000</td>\n",
       "    </tr>\n",
       "    <tr>\n",
       "      <th>4</th>\n",
       "      <td>118901</td>\n",
       "      <td>42367</td>\n",
       "      <td>139932</td>\n",
       "      <td>250305</td>\n",
       "      <td>2147-10-16 06:21:00</td>\n",
       "      <td>2147-10-17 06:10:00</td>\n",
       "      <td>225936</td>\n",
       "      <td>1309.899995</td>\n",
       "      <td>ml</td>\n",
       "      <td>54.999300</td>\n",
       "      <td>...</td>\n",
       "      <td>ml</td>\n",
       "      <td>0</td>\n",
       "      <td>0</td>\n",
       "      <td>0</td>\n",
       "      <td>FinishedRunning</td>\n",
       "      <td>NaN</td>\n",
       "      <td>NaN</td>\n",
       "      <td>NaN</td>\n",
       "      <td>1309.9</td>\n",
       "      <td>54.999298</td>\n",
       "    </tr>\n",
       "  </tbody>\n",
       "</table>\n",
       "<p>5 rows × 31 columns</p>\n",
       "</div>"
      ],
      "text/plain": [
       "   row_id  subject_id  hadm_id  icustay_id            starttime  \\\n",
       "0  118897       42367   139932      250305  2147-10-29 16:45:00   \n",
       "1  118898       42367   139932      250305  2147-10-20 13:17:00   \n",
       "2  118899       42367   139932      250305  2147-10-29 03:23:00   \n",
       "3  118900       42367   139932      250305  2147-10-22 22:00:00   \n",
       "4  118901       42367   139932      250305  2147-10-16 06:21:00   \n",
       "\n",
       "               endtime  itemid       amount amountuom        rate  ...  \\\n",
       "0  2147-10-29 16:46:00  225799    60.000000        ml         NaN  ...   \n",
       "1  2147-10-20 13:18:00  223258    10.000000     units         NaN  ...   \n",
       "2  2147-10-29 03:53:00  226089    99.999999        ml  199.999998  ...   \n",
       "3  2147-10-22 22:01:00  225799    40.000000        ml         NaN  ...   \n",
       "4  2147-10-17 06:10:00  225936  1309.899995        ml   54.999300  ...   \n",
       "\n",
       "  totalamountuom isopenbag  continueinnextdept  cancelreason  \\\n",
       "0             ml         0                   0             0   \n",
       "1            NaN         0                   0             1   \n",
       "2             ml         0                   0             0   \n",
       "3             ml         0                   0             0   \n",
       "4             ml         0                   0             0   \n",
       "\n",
       "   statusdescription comments_editedby comments_canceledby  \\\n",
       "0    FinishedRunning               NaN                 NaN   \n",
       "1          Rewritten               NaN                  RN   \n",
       "2    FinishedRunning               NaN                 NaN   \n",
       "3    FinishedRunning               NaN                 NaN   \n",
       "4    FinishedRunning               NaN                 NaN   \n",
       "\n",
       "         comments_date originalamount  originalrate  \n",
       "0                  NaN           60.0     60.000000  \n",
       "1  2147-10-20 13:18:00           10.0     10.000000  \n",
       "2                  NaN          100.0    200.000000  \n",
       "3                  NaN           40.0     40.000000  \n",
       "4                  NaN         1309.9     54.999298  \n",
       "\n",
       "[5 rows x 31 columns]"
      ]
     },
     "execution_count": 36,
     "metadata": {},
     "output_type": "execute_result"
    }
   ],
   "source": [
    "INPUTEVENTS_MV.head()"
   ]
  },
  {
   "cell_type": "code",
   "execution_count": 13,
   "metadata": {},
   "outputs": [],
   "source": [
    "LABEVENTS = pd.read_csv(\"C:/Users/W10/Desktop/ProjectFinal/Cuidados_Intensivos/dataset/LABEVENTS.csv\")"
   ]
  },
  {
   "cell_type": "code",
   "execution_count": 37,
   "metadata": {},
   "outputs": [
    {
     "data": {
      "text/plain": [
       "(76074, 9)"
      ]
     },
     "execution_count": 37,
     "metadata": {},
     "output_type": "execute_result"
    }
   ],
   "source": [
    "LABEVENTS.shape"
   ]
  },
  {
   "cell_type": "code",
   "execution_count": 38,
   "metadata": {},
   "outputs": [
    {
     "data": {
      "text/plain": [
       "row_id            0\n",
       "subject_id        0\n",
       "hadm_id       14262\n",
       "itemid            0\n",
       "charttime         0\n",
       "value             4\n",
       "valuenum       9044\n",
       "valueuom       9405\n",
       "flag          46337\n",
       "dtype: int64"
      ]
     },
     "execution_count": 38,
     "metadata": {},
     "output_type": "execute_result"
    }
   ],
   "source": [
    "LABEVENTS.isnull().sum()"
   ]
  },
  {
   "cell_type": "code",
   "execution_count": 39,
   "metadata": {},
   "outputs": [
    {
     "name": "stdout",
     "output_type": "stream",
     "text": [
      "<class 'pandas.core.frame.DataFrame'>\n",
      "RangeIndex: 76074 entries, 0 to 76073\n",
      "Data columns (total 9 columns):\n",
      " #   Column      Non-Null Count  Dtype  \n",
      "---  ------      --------------  -----  \n",
      " 0   row_id      76074 non-null  int64  \n",
      " 1   subject_id  76074 non-null  int64  \n",
      " 2   hadm_id     61812 non-null  float64\n",
      " 3   itemid      76074 non-null  int64  \n",
      " 4   charttime   76074 non-null  object \n",
      " 5   value       76070 non-null  object \n",
      " 6   valuenum    67030 non-null  float64\n",
      " 7   valueuom    66669 non-null  object \n",
      " 8   flag        29737 non-null  object \n",
      "dtypes: float64(2), int64(3), object(4)\n",
      "memory usage: 5.2+ MB\n"
     ]
    }
   ],
   "source": [
    "LABEVENTS.info()"
   ]
  },
  {
   "cell_type": "code",
   "execution_count": 40,
   "metadata": {},
   "outputs": [
    {
     "data": {
      "text/plain": [
       "100"
      ]
     },
     "execution_count": 40,
     "metadata": {},
     "output_type": "execute_result"
    }
   ],
   "source": [
    "LABEVENTS.subject_id.nunique()"
   ]
  },
  {
   "cell_type": "code",
   "execution_count": 41,
   "metadata": {},
   "outputs": [
    {
     "data": {
      "text/html": [
       "<div>\n",
       "<style scoped>\n",
       "    .dataframe tbody tr th:only-of-type {\n",
       "        vertical-align: middle;\n",
       "    }\n",
       "\n",
       "    .dataframe tbody tr th {\n",
       "        vertical-align: top;\n",
       "    }\n",
       "\n",
       "    .dataframe thead th {\n",
       "        text-align: right;\n",
       "    }\n",
       "</style>\n",
       "<table border=\"1\" class=\"dataframe\">\n",
       "  <thead>\n",
       "    <tr style=\"text-align: right;\">\n",
       "      <th></th>\n",
       "      <th>row_id</th>\n",
       "      <th>subject_id</th>\n",
       "      <th>hadm_id</th>\n",
       "      <th>itemid</th>\n",
       "      <th>charttime</th>\n",
       "      <th>value</th>\n",
       "      <th>valuenum</th>\n",
       "      <th>valueuom</th>\n",
       "      <th>flag</th>\n",
       "    </tr>\n",
       "  </thead>\n",
       "  <tbody>\n",
       "    <tr>\n",
       "      <th>0</th>\n",
       "      <td>6244563</td>\n",
       "      <td>10006</td>\n",
       "      <td>NaN</td>\n",
       "      <td>50868</td>\n",
       "      <td>2164-09-24 20:21:00</td>\n",
       "      <td>19</td>\n",
       "      <td>19.0</td>\n",
       "      <td>mEq/L</td>\n",
       "      <td>NaN</td>\n",
       "    </tr>\n",
       "    <tr>\n",
       "      <th>1</th>\n",
       "      <td>6244564</td>\n",
       "      <td>10006</td>\n",
       "      <td>NaN</td>\n",
       "      <td>50882</td>\n",
       "      <td>2164-09-24 20:21:00</td>\n",
       "      <td>27</td>\n",
       "      <td>27.0</td>\n",
       "      <td>mEq/L</td>\n",
       "      <td>NaN</td>\n",
       "    </tr>\n",
       "    <tr>\n",
       "      <th>2</th>\n",
       "      <td>6244565</td>\n",
       "      <td>10006</td>\n",
       "      <td>NaN</td>\n",
       "      <td>50893</td>\n",
       "      <td>2164-09-24 20:21:00</td>\n",
       "      <td>10.0</td>\n",
       "      <td>10.0</td>\n",
       "      <td>mg/dL</td>\n",
       "      <td>NaN</td>\n",
       "    </tr>\n",
       "    <tr>\n",
       "      <th>3</th>\n",
       "      <td>6244566</td>\n",
       "      <td>10006</td>\n",
       "      <td>NaN</td>\n",
       "      <td>50902</td>\n",
       "      <td>2164-09-24 20:21:00</td>\n",
       "      <td>97</td>\n",
       "      <td>97.0</td>\n",
       "      <td>mEq/L</td>\n",
       "      <td>NaN</td>\n",
       "    </tr>\n",
       "    <tr>\n",
       "      <th>4</th>\n",
       "      <td>6244567</td>\n",
       "      <td>10006</td>\n",
       "      <td>NaN</td>\n",
       "      <td>50912</td>\n",
       "      <td>2164-09-24 20:21:00</td>\n",
       "      <td>7.0</td>\n",
       "      <td>7.0</td>\n",
       "      <td>mg/dL</td>\n",
       "      <td>abnormal</td>\n",
       "    </tr>\n",
       "  </tbody>\n",
       "</table>\n",
       "</div>"
      ],
      "text/plain": [
       "    row_id  subject_id  hadm_id  itemid            charttime value  valuenum  \\\n",
       "0  6244563       10006      NaN   50868  2164-09-24 20:21:00    19      19.0   \n",
       "1  6244564       10006      NaN   50882  2164-09-24 20:21:00    27      27.0   \n",
       "2  6244565       10006      NaN   50893  2164-09-24 20:21:00  10.0      10.0   \n",
       "3  6244566       10006      NaN   50902  2164-09-24 20:21:00    97      97.0   \n",
       "4  6244567       10006      NaN   50912  2164-09-24 20:21:00   7.0       7.0   \n",
       "\n",
       "  valueuom      flag  \n",
       "0    mEq/L       NaN  \n",
       "1    mEq/L       NaN  \n",
       "2    mg/dL       NaN  \n",
       "3    mEq/L       NaN  \n",
       "4    mg/dL  abnormal  "
      ]
     },
     "execution_count": 41,
     "metadata": {},
     "output_type": "execute_result"
    }
   ],
   "source": [
    "LABEVENTS.head()"
   ]
  },
  {
   "cell_type": "code",
   "execution_count": 14,
   "metadata": {},
   "outputs": [],
   "source": [
    "MICROBIOLOGYEVENTS = pd.read_csv(\"C:/Users/W10/Desktop/ProjectFinal/Cuidados_Intensivos/dataset/MICROBIOLOGYEVENTS.csv\")"
   ]
  },
  {
   "cell_type": "code",
   "execution_count": 42,
   "metadata": {},
   "outputs": [
    {
     "data": {
      "text/plain": [
       "(2003, 16)"
      ]
     },
     "execution_count": 42,
     "metadata": {},
     "output_type": "execute_result"
    }
   ],
   "source": [
    "MICROBIOLOGYEVENTS.shape"
   ]
  },
  {
   "cell_type": "code",
   "execution_count": 43,
   "metadata": {},
   "outputs": [
    {
     "data": {
      "text/plain": [
       "row_id                    0\n",
       "subject_id                0\n",
       "hadm_id                   0\n",
       "chartdate                 0\n",
       "charttime                91\n",
       "spec_itemid               0\n",
       "spec_type_desc            0\n",
       "org_itemid              866\n",
       "org_name                866\n",
       "isolate_num             866\n",
       "ab_itemid              1032\n",
       "ab_name                1032\n",
       "dilution_text          1064\n",
       "dilution_comparison    1065\n",
       "dilution_value         1065\n",
       "interpretation         1032\n",
       "dtype: int64"
      ]
     },
     "execution_count": 43,
     "metadata": {},
     "output_type": "execute_result"
    }
   ],
   "source": [
    "MICROBIOLOGYEVENTS.isnull().sum()"
   ]
  },
  {
   "cell_type": "code",
   "execution_count": 44,
   "metadata": {},
   "outputs": [
    {
     "name": "stdout",
     "output_type": "stream",
     "text": [
      "<class 'pandas.core.frame.DataFrame'>\n",
      "RangeIndex: 2003 entries, 0 to 2002\n",
      "Data columns (total 16 columns):\n",
      " #   Column               Non-Null Count  Dtype  \n",
      "---  ------               --------------  -----  \n",
      " 0   row_id               2003 non-null   int64  \n",
      " 1   subject_id           2003 non-null   int64  \n",
      " 2   hadm_id              2003 non-null   int64  \n",
      " 3   chartdate            2003 non-null   object \n",
      " 4   charttime            1912 non-null   object \n",
      " 5   spec_itemid          2003 non-null   int64  \n",
      " 6   spec_type_desc       2003 non-null   object \n",
      " 7   org_itemid           1137 non-null   float64\n",
      " 8   org_name             1137 non-null   object \n",
      " 9   isolate_num          1137 non-null   float64\n",
      " 10  ab_itemid            971 non-null    float64\n",
      " 11  ab_name              971 non-null    object \n",
      " 12  dilution_text        939 non-null    object \n",
      " 13  dilution_comparison  938 non-null    object \n",
      " 14  dilution_value       938 non-null    float64\n",
      " 15  interpretation       971 non-null    object \n",
      "dtypes: float64(4), int64(4), object(8)\n",
      "memory usage: 250.5+ KB\n"
     ]
    }
   ],
   "source": [
    "MICROBIOLOGYEVENTS.info()"
   ]
  },
  {
   "cell_type": "code",
   "execution_count": 45,
   "metadata": {},
   "outputs": [
    {
     "data": {
      "text/plain": [
       "91"
      ]
     },
     "execution_count": 45,
     "metadata": {},
     "output_type": "execute_result"
    }
   ],
   "source": [
    "MICROBIOLOGYEVENTS.subject_id.nunique()"
   ]
  },
  {
   "cell_type": "code",
   "execution_count": 46,
   "metadata": {},
   "outputs": [
    {
     "data": {
      "text/html": [
       "<div>\n",
       "<style scoped>\n",
       "    .dataframe tbody tr th:only-of-type {\n",
       "        vertical-align: middle;\n",
       "    }\n",
       "\n",
       "    .dataframe tbody tr th {\n",
       "        vertical-align: top;\n",
       "    }\n",
       "\n",
       "    .dataframe thead th {\n",
       "        text-align: right;\n",
       "    }\n",
       "</style>\n",
       "<table border=\"1\" class=\"dataframe\">\n",
       "  <thead>\n",
       "    <tr style=\"text-align: right;\">\n",
       "      <th></th>\n",
       "      <th>row_id</th>\n",
       "      <th>subject_id</th>\n",
       "      <th>hadm_id</th>\n",
       "      <th>chartdate</th>\n",
       "      <th>charttime</th>\n",
       "      <th>spec_itemid</th>\n",
       "      <th>spec_type_desc</th>\n",
       "      <th>org_itemid</th>\n",
       "      <th>org_name</th>\n",
       "      <th>isolate_num</th>\n",
       "      <th>ab_itemid</th>\n",
       "      <th>ab_name</th>\n",
       "      <th>dilution_text</th>\n",
       "      <th>dilution_comparison</th>\n",
       "      <th>dilution_value</th>\n",
       "      <th>interpretation</th>\n",
       "    </tr>\n",
       "  </thead>\n",
       "  <tbody>\n",
       "    <tr>\n",
       "      <th>0</th>\n",
       "      <td>134694</td>\n",
       "      <td>10006</td>\n",
       "      <td>142345</td>\n",
       "      <td>2164-10-23 00:00:00</td>\n",
       "      <td>2164-10-23 15:30:00</td>\n",
       "      <td>70012</td>\n",
       "      <td>BLOOD CULTURE</td>\n",
       "      <td>80155.0</td>\n",
       "      <td>STAPHYLOCOCCUS, COAGULASE NEGATIVE</td>\n",
       "      <td>2.0</td>\n",
       "      <td>NaN</td>\n",
       "      <td>NaN</td>\n",
       "      <td>NaN</td>\n",
       "      <td>NaN</td>\n",
       "      <td>NaN</td>\n",
       "      <td>NaN</td>\n",
       "    </tr>\n",
       "    <tr>\n",
       "      <th>1</th>\n",
       "      <td>134695</td>\n",
       "      <td>10006</td>\n",
       "      <td>142345</td>\n",
       "      <td>2164-10-23 00:00:00</td>\n",
       "      <td>2164-10-23 15:30:00</td>\n",
       "      <td>70012</td>\n",
       "      <td>BLOOD CULTURE</td>\n",
       "      <td>80155.0</td>\n",
       "      <td>STAPHYLOCOCCUS, COAGULASE NEGATIVE</td>\n",
       "      <td>1.0</td>\n",
       "      <td>90015.0</td>\n",
       "      <td>VANCOMYCIN</td>\n",
       "      <td>2</td>\n",
       "      <td>=</td>\n",
       "      <td>2.0</td>\n",
       "      <td>S</td>\n",
       "    </tr>\n",
       "    <tr>\n",
       "      <th>2</th>\n",
       "      <td>134696</td>\n",
       "      <td>10006</td>\n",
       "      <td>142345</td>\n",
       "      <td>2164-10-23 00:00:00</td>\n",
       "      <td>2164-10-23 15:30:00</td>\n",
       "      <td>70012</td>\n",
       "      <td>BLOOD CULTURE</td>\n",
       "      <td>80155.0</td>\n",
       "      <td>STAPHYLOCOCCUS, COAGULASE NEGATIVE</td>\n",
       "      <td>1.0</td>\n",
       "      <td>90012.0</td>\n",
       "      <td>GENTAMICIN</td>\n",
       "      <td>&lt;=0.5</td>\n",
       "      <td>&lt;=</td>\n",
       "      <td>1.0</td>\n",
       "      <td>S</td>\n",
       "    </tr>\n",
       "    <tr>\n",
       "      <th>3</th>\n",
       "      <td>134697</td>\n",
       "      <td>10006</td>\n",
       "      <td>142345</td>\n",
       "      <td>2164-10-23 00:00:00</td>\n",
       "      <td>2164-10-23 15:30:00</td>\n",
       "      <td>70012</td>\n",
       "      <td>BLOOD CULTURE</td>\n",
       "      <td>80155.0</td>\n",
       "      <td>STAPHYLOCOCCUS, COAGULASE NEGATIVE</td>\n",
       "      <td>1.0</td>\n",
       "      <td>90025.0</td>\n",
       "      <td>LEVOFLOXACIN</td>\n",
       "      <td>4</td>\n",
       "      <td>=</td>\n",
       "      <td>4.0</td>\n",
       "      <td>I</td>\n",
       "    </tr>\n",
       "    <tr>\n",
       "      <th>4</th>\n",
       "      <td>134698</td>\n",
       "      <td>10006</td>\n",
       "      <td>142345</td>\n",
       "      <td>2164-10-23 00:00:00</td>\n",
       "      <td>2164-10-23 15:30:00</td>\n",
       "      <td>70012</td>\n",
       "      <td>BLOOD CULTURE</td>\n",
       "      <td>80155.0</td>\n",
       "      <td>STAPHYLOCOCCUS, COAGULASE NEGATIVE</td>\n",
       "      <td>1.0</td>\n",
       "      <td>90016.0</td>\n",
       "      <td>OXACILLIN</td>\n",
       "      <td>=&gt;4</td>\n",
       "      <td>=&gt;</td>\n",
       "      <td>4.0</td>\n",
       "      <td>R</td>\n",
       "    </tr>\n",
       "  </tbody>\n",
       "</table>\n",
       "</div>"
      ],
      "text/plain": [
       "   row_id  subject_id  hadm_id            chartdate            charttime  \\\n",
       "0  134694       10006   142345  2164-10-23 00:00:00  2164-10-23 15:30:00   \n",
       "1  134695       10006   142345  2164-10-23 00:00:00  2164-10-23 15:30:00   \n",
       "2  134696       10006   142345  2164-10-23 00:00:00  2164-10-23 15:30:00   \n",
       "3  134697       10006   142345  2164-10-23 00:00:00  2164-10-23 15:30:00   \n",
       "4  134698       10006   142345  2164-10-23 00:00:00  2164-10-23 15:30:00   \n",
       "\n",
       "   spec_itemid spec_type_desc  org_itemid                            org_name  \\\n",
       "0        70012  BLOOD CULTURE     80155.0  STAPHYLOCOCCUS, COAGULASE NEGATIVE   \n",
       "1        70012  BLOOD CULTURE     80155.0  STAPHYLOCOCCUS, COAGULASE NEGATIVE   \n",
       "2        70012  BLOOD CULTURE     80155.0  STAPHYLOCOCCUS, COAGULASE NEGATIVE   \n",
       "3        70012  BLOOD CULTURE     80155.0  STAPHYLOCOCCUS, COAGULASE NEGATIVE   \n",
       "4        70012  BLOOD CULTURE     80155.0  STAPHYLOCOCCUS, COAGULASE NEGATIVE   \n",
       "\n",
       "   isolate_num  ab_itemid       ab_name dilution_text dilution_comparison  \\\n",
       "0          2.0        NaN           NaN           NaN                 NaN   \n",
       "1          1.0    90015.0    VANCOMYCIN             2                   =   \n",
       "2          1.0    90012.0    GENTAMICIN         <=0.5                  <=   \n",
       "3          1.0    90025.0  LEVOFLOXACIN             4                   =   \n",
       "4          1.0    90016.0     OXACILLIN           =>4                  =>   \n",
       "\n",
       "   dilution_value interpretation  \n",
       "0             NaN            NaN  \n",
       "1             2.0              S  \n",
       "2             1.0              S  \n",
       "3             4.0              I  \n",
       "4             4.0              R  "
      ]
     },
     "execution_count": 46,
     "metadata": {},
     "output_type": "execute_result"
    }
   ],
   "source": [
    "MICROBIOLOGYEVENTS.head()"
   ]
  }
 ],
 "metadata": {
  "kernelspec": {
   "display_name": "Bootcamp",
   "language": "python",
   "name": "python3"
  },
  "language_info": {
   "codemirror_mode": {
    "name": "ipython",
    "version": 3
   },
   "file_extension": ".py",
   "mimetype": "text/x-python",
   "name": "python",
   "nbconvert_exporter": "python",
   "pygments_lexer": "ipython3",
   "version": "3.9.16"
  },
  "orig_nbformat": 4,
  "vscode": {
   "interpreter": {
    "hash": "90bc16d2446d5ed5188fd8e8125c71a7a7194c8fd566a2384aa4b6df7cdd4cf0"
   }
  }
 },
 "nbformat": 4,
 "nbformat_minor": 2
}
